{
 "cells": [
  {
   "cell_type": "markdown",
   "metadata": {},
   "source": [
    "# Introduction to Python - Basics"
   ]
  },
  {
   "cell_type": "code",
   "execution_count": 1,
   "metadata": {
    "collapsed": false
   },
   "outputs": [
    {
     "name": "stdout",
     "output_type": "stream",
     "text": [
      "Last update: 2017-04-05 11:49:35.467006\n"
     ]
    }
   ],
   "source": [
    "# Author: Alex Schmitt (schmitt@ifo.de)\n",
    "\n",
    "import datetime\n",
    "print('Last update: ' + str(datetime.datetime.today()))"
   ]
  },
  {
   "cell_type": "markdown",
   "metadata": {},
   "source": [
    "\"*Some readers may disagree, but to me **computers and mathematics are like beer and potato chips: two fine tastes that are best enjoyed together**. Mathematics provide the foundations of our models and of the algorithms we use to solve them. Computers are the engines that run these algorithms. They are also invaluable for simulation and visualization. Simulation and visualization build intuition, and intuition completes the loop by feeding into better mathematics*\" (Stachurski, *Economic Dynamics*, 2009)"
   ]
  },
  {
   "cell_type": "markdown",
   "metadata": {},
   "source": [
    "This is a primer to the Python programming language. It is based and draws heavily upon the excellent introduction to Python on the Quant-Econ webside. To get there, execute the following cell (press *Shift + Enter* or click the *Play* button in the toolbar above)."
   ]
  },
  {
   "cell_type": "code",
   "execution_count": 2,
   "metadata": {
    "collapsed": false
   },
   "outputs": [
    {
     "data": {
      "text/plain": [
       "True"
      ]
     },
     "execution_count": 2,
     "metadata": {},
     "output_type": "execute_result"
    }
   ],
   "source": [
    "import webbrowser\n",
    "# Test\n",
    "# generate an URL\n",
    "url = 'http://quant-econ.net/py/index.html'\n",
    "webbrowser.open(url)"
   ]
  },
  {
   "cell_type": "markdown",
   "metadata": {},
   "source": [
    "## Documentation"
   ]
  },
  {
   "cell_type": "markdown",
   "metadata": {},
   "source": [
    "Documentation for the Python 3 standard library can be found here:"
   ]
  },
  {
   "cell_type": "code",
   "execution_count": 3,
   "metadata": {
    "collapsed": false
   },
   "outputs": [
    {
     "data": {
      "text/plain": [
       "True"
      ]
     },
     "execution_count": 3,
     "metadata": {},
     "output_type": "execute_result"
    }
   ],
   "source": [
    "url = 'https://docs.python.org/3/library/'\n",
    "webbrowser.open(url)"
   ]
  },
  {
   "cell_type": "markdown",
   "metadata": {},
   "source": [
    "Documentation for external packages such as Numpy or Matplotlib is separate, but can be found easily by googling the name of the package. In general, most (if not all) problems you may run into when programming in Python have already been encountered by someone else, so Google should be the first place to go when you are stuck somewhere. \n",
    "\n",
    "In case you want to apply and practice your Python skills in other areas, MOOC (*massive open online courses*) sites like Coursera or Udacity have great free-of-charge courses on Python, both for beginners and more advanced programmers. "
   ]
  },
  {
   "cell_type": "markdown",
   "metadata": {},
   "source": [
    "## Jupyter Notebook\n",
    "This environment is a *Jupyter notebook*. It basically provides a *browser-based* interface to Python, allowing you to run all your Python code and get the output from your code in a browser window. What's more, you can add text cells like this one, and even include mathematical formulas (as you will see below), based on the Latex syntax. In addition, you can also incoporate images. This not only makes a notebook a great tool for *writing and documenting code*, it is also great for teaching. That's why we will make heavy use of Jupyter notebooks in this course.  \n",
    "\n",
    "Moreover, note that you don't even have to have Python and Jupyter installed on your computer to read the notebooks that I have created for this course. Jupyter notebooks that are stored on Github can be viewed through the website nbviewer.jupyter.org. Run the following piece of code to see what notebooks are available for this course (if it does not work, make sure to run the code above that imports the webbrowser module):"
   ]
  },
  {
   "cell_type": "code",
   "execution_count": 4,
   "metadata": {
    "collapsed": false
   },
   "outputs": [
    {
     "data": {
      "text/plain": [
       "True"
      ]
     },
     "execution_count": 4,
     "metadata": {},
     "output_type": "execute_result"
    }
   ],
   "source": [
    "url = 'http://nbviewer.jupyter.org/github/Moony2D/Python-Intro-Ifo'\n",
    "webbrowser.open(url)"
   ]
  },
  {
   "cell_type": "markdown",
   "metadata": {},
   "source": [
    "To start a Jupyter notebook, open up a terminal and type \"jupyter notebook\". This should open up a new window on your default browser (recommended: Chrome or Firefox). You should see the Jupyter dashboard, which contains a list of all files in your current directory. If there is a Jupyter notebook in your directory (with suffix .ipynb), you can open it by clicking on it. Otherwise, you can open an empty notebook by clicking on *New* at top right and select Python 3.\n",
    "\n",
    "As you may have already realized, a Jupyter notebook has two types of cells. A cell can be made into a *text cell* like this one by choosing \"Markdown\" in the drop-down menu above in the toolbar (*Markdown* is a type of text format). A new cell is by a default a *code cell*. In contrast to a text cell, it has some blue writing (\"In [ ]:\") to the left of it. Once you run it, a number appears in the bracket. You can run any cell by either clicking the *Play* button in the toolbar above or by pressing *Shift + Enter*. Running a cell processes its output: for a text cell, it just formats the text. For a code cell, it executes the code and prints the output below. Jupyter then either creates a new code cell below or (if already there) jumps to the next cell.     "
   ]
  },
  {
   "cell_type": "markdown",
   "metadata": {},
   "source": [
    "## \"Vanilla Python\"\n",
    "\n",
    "The core package (or \"Vanilla Python\") contains the Python Standard Library, a collection of many basic *built-in* modules and functions. In other words, it comprises all the functionalities in Python that you can use without installing any external packages (more on that in the next lecture).\n",
    "\n",
    "Functions in Python are used by calling their name and their argument(s) in parenthesis. A frequently used function from the Standard Library is **print()**. As the name indicates, it displays output on screen, in Jupyter below a code cell: "
   ]
  },
  {
   "cell_type": "code",
   "execution_count": 5,
   "metadata": {
    "collapsed": false
   },
   "outputs": [
    {
     "name": "stdout",
     "output_type": "stream",
     "text": [
      "Hello ifo\n"
     ]
    }
   ],
   "source": [
    "print(\"Hello ifo\")"
   ]
  },
  {
   "cell_type": "code",
   "execution_count": 6,
   "metadata": {
    "collapsed": false
   },
   "outputs": [
    {
     "name": "stdout",
     "output_type": "stream",
     "text": [
      "4\n"
     ]
    }
   ],
   "source": [
    "print(2 + 2)"
   ]
  },
  {
   "cell_type": "markdown",
   "metadata": {},
   "source": [
    "Note that Jupyter also displays output from the last line in a code cell. Compare the following examples:"
   ]
  },
  {
   "cell_type": "code",
   "execution_count": 7,
   "metadata": {
    "collapsed": false
   },
   "outputs": [
    {
     "name": "stdout",
     "output_type": "stream",
     "text": [
      "Hello Westeros\n"
     ]
    },
    {
     "data": {
      "text/plain": [
       "'Westeros'"
      ]
     },
     "execution_count": 7,
     "metadata": {},
     "output_type": "execute_result"
    }
   ],
   "source": [
    "\"Hello\"\n",
    "print(\"Hello Westeros\")\n",
    "\"Westeros\""
   ]
  },
  {
   "cell_type": "code",
   "execution_count": 8,
   "metadata": {
    "collapsed": false
   },
   "outputs": [
    {
     "name": "stdout",
     "output_type": "stream",
     "text": [
      "4\n"
     ]
    },
    {
     "data": {
      "text/plain": [
       "6"
      ]
     },
     "execution_count": 8,
     "metadata": {},
     "output_type": "execute_result"
    }
   ],
   "source": [
    "1 + 1\n",
    "print(2 + 2)\n",
    "3 + 3"
   ]
  },
  {
   "cell_type": "markdown",
   "metadata": {},
   "source": [
    "As a general rule, use **print** whenever you wanna see some output shown on screen. "
   ]
  },
  {
   "cell_type": "markdown",
   "metadata": {},
   "source": [
    "## Assigning a name to an object\n",
    "\n",
    "Since we don't just want to use Python as a glorified calculator that prints calculations to the screen, we typically work with *variables* when using programming languages. A variable in Python is essentially a *name* or a *label* that refers to an *object*. An object in Python is a collection of data stored in computer memory that consists of\n",
    "- a type\n",
    "- some content\n",
    "- a unique identity\n",
    "- (zero or more methods)\n",
    "\n",
    "To be more concrete, let's look at an example:"
   ]
  },
  {
   "cell_type": "code",
   "execution_count": 9,
   "metadata": {
    "collapsed": true
   },
   "outputs": [],
   "source": [
    "S = \"Hello ifo\""
   ]
  },
  {
   "cell_type": "markdown",
   "metadata": {},
   "source": [
    "In this statement, we assign the name **S** to the object **\"Hello ifo\"**. This object is a *string* -- a sequence of letters --, which is its type. The content of the object is a sequence of nine characters (note that space is also a character). Its identity is just an internal index that Python uses to access the object in computer memory. It can be checked using the **id** function: "
   ]
  },
  {
   "cell_type": "code",
   "execution_count": 10,
   "metadata": {
    "collapsed": false
   },
   "outputs": [
    {
     "name": "stdout",
     "output_type": "stream",
     "text": [
      "4420002544\n"
     ]
    }
   ],
   "source": [
    "print(id(S))"
   ]
  },
  {
   "cell_type": "markdown",
   "metadata": {},
   "source": [
    "Consider another example. Below I assign the name **A** to the *integer* 2. Whenever I call **A** later on, it will refer to this object."
   ]
  },
  {
   "cell_type": "code",
   "execution_count": 11,
   "metadata": {
    "collapsed": false
   },
   "outputs": [
    {
     "name": "stdout",
     "output_type": "stream",
     "text": [
      "2\n"
     ]
    }
   ],
   "source": [
    "A = 2\n",
    "print(A)"
   ]
  },
  {
   "cell_type": "markdown",
   "metadata": {},
   "source": [
    "Internally, Python uses some type of registry, where it keeps track of the names we have defined and the objects they point to. Note that more than one name can point to the same object. In the following, I assign the name **B** to the object that is already referred to by the name **A**. Hence, calling **B** prints out the same value; moreover, we can use the **id** function to verify that they really refer to the same object:"
   ]
  },
  {
   "cell_type": "code",
   "execution_count": 12,
   "metadata": {
    "collapsed": false
   },
   "outputs": [
    {
     "name": "stdout",
     "output_type": "stream",
     "text": [
      "2\n",
      "4375677504\n",
      "4375677504\n"
     ]
    }
   ],
   "source": [
    "B = A\n",
    "print(B)\n",
    "print(id(A))\n",
    "print(id(B))"
   ]
  },
  {
   "cell_type": "markdown",
   "metadata": {},
   "source": [
    "It is straightforward to reassign a name to another object, as seen below. **A** now refers to a different object -- the integer 3 -- while **B** still points to the same object - the integer 2 - as before:"
   ]
  },
  {
   "cell_type": "code",
   "execution_count": 13,
   "metadata": {
    "collapsed": false
   },
   "outputs": [
    {
     "name": "stdout",
     "output_type": "stream",
     "text": [
      "3\n",
      "2\n",
      "4375677536\n",
      "4375677504\n"
     ]
    }
   ],
   "source": [
    "A = 3\n",
    "print(A)\n",
    "print(B)\n",
    "print(id(A))\n",
    "print(id(B))"
   ]
  },
  {
   "cell_type": "markdown",
   "metadata": {},
   "source": [
    "Finally, note that you can assign names not only to integers and strings, but to various types of objects. The next section will go through the most important ones."
   ]
  },
  {
   "cell_type": "markdown",
   "metadata": {},
   "source": [
    "## Object Types\n",
    "\n",
    "The most important data types in Vanilla Python are:\n",
    "- integers ('int') and floats ('float') for numbers\n",
    "- strings ('str') for text\n",
    "- booleans, which can have two values, *True* or *False*\n",
    "- arrays or containers, such as lists, sets, and dictionaries\n",
    "In addition, external packages (such as Pandas and Numpy which we will use later on) often use their own object types.\n",
    "\n",
    "To check the type of an object, you can use the **type()** function: "
   ]
  },
  {
   "cell_type": "code",
   "execution_count": 14,
   "metadata": {
    "collapsed": false
   },
   "outputs": [
    {
     "name": "stdout",
     "output_type": "stream",
     "text": [
      "<class 'int'>\n"
     ]
    }
   ],
   "source": [
    "a = 2\n",
    "print(type(a))"
   ]
  },
  {
   "cell_type": "markdown",
   "metadata": {},
   "source": [
    "The type of an object matters for what operations can be used with that type. If you try to use an operation on a type for which it is not defined, Python will return an error message. For example, you can use the standard arithmetic operations (+, -, *, /) on integers and floats. Trying to use division on strings, however, will not work. Moreover, some operations do different things for different types. Adding two numbers returns the sum, while adding two strings concatenates them. "
   ]
  },
  {
   "cell_type": "markdown",
   "metadata": {},
   "source": [
    "### Integers and Floats"
   ]
  },
  {
   "cell_type": "code",
   "execution_count": 15,
   "metadata": {
    "collapsed": false,
    "scrolled": true
   },
   "outputs": [
    {
     "name": "stdout",
     "output_type": "stream",
     "text": [
      "<class 'int'>\n",
      "<class 'float'>\n",
      "3.5\n",
      "3.0\n",
      "1.3333333333333333\n",
      "2.25\n"
     ]
    }
   ],
   "source": [
    "a = 2\n",
    "b = 1.5\n",
    "print(type(a))\n",
    "print(type(b))\n",
    "\n",
    "# you can use the standard arithmetic operations on integers and floats and assign a new name to the result\n",
    "c = a + b\n",
    "print(c)\n",
    "print(a * b)\n",
    "print(a / b)\n",
    "# to take b to the power of a, use '**\"\n",
    "print(b**a)"
   ]
  },
  {
   "cell_type": "markdown",
   "metadata": {},
   "source": [
    "Note: if you use Python 2.7 (rather than Python 3.5), division of two *integers* returns only the integer part! "
   ]
  },
  {
   "cell_type": "code",
   "execution_count": 127,
   "metadata": {
    "collapsed": false
   },
   "outputs": [
    {
     "name": "stdout",
     "output_type": "stream",
     "text": [
      "1.5\n"
     ]
    }
   ],
   "source": [
    "# in Python 2.7, the following would return 1 instead of 1.5\n",
    "print(3 / 2)"
   ]
  },
  {
   "cell_type": "markdown",
   "metadata": {},
   "source": [
    "### Strings\n",
    "\n",
    "To distinguish strings from assigned object names, they must be set in quotation marks, either single or double:"
   ]
  },
  {
   "cell_type": "code",
   "execution_count": 16,
   "metadata": {
    "collapsed": false
   },
   "outputs": [
    {
     "name": "stdout",
     "output_type": "stream",
     "text": [
      "<class 'str'>\n",
      "Tyrion\n",
      "<class 'str'>\n"
     ]
    }
   ],
   "source": [
    "# strings\n",
    "c = \"T\"\n",
    "d = 'yrion'\n",
    "print(type(c))\n",
    "# using + on two strings concatenates them \n",
    "print(c + d)\n",
    "print(type(c + d))\n",
    "\n",
    "# division on two strings (or a number and a string) throws an error\n",
    "# print(c / d)"
   ]
  },
  {
   "cell_type": "markdown",
   "metadata": {},
   "source": [
    "### Booleans"
   ]
  },
  {
   "cell_type": "code",
   "execution_count": 17,
   "metadata": {
    "collapsed": false
   },
   "outputs": [
    {
     "name": "stdout",
     "output_type": "stream",
     "text": [
      "True\n",
      "False\n",
      "False\n",
      "<class 'bool'>\n",
      "True\n",
      "1\n",
      "0\n"
     ]
    },
    {
     "data": {
      "text/plain": [
       "bool"
      ]
     },
     "execution_count": 17,
     "metadata": {},
     "output_type": "execute_result"
    }
   ],
   "source": [
    "# booleans: can either be true or false\n",
    "print(4 > 3)\n",
    "print(4 > 5)\n",
    "e = (4 == 5)\n",
    "f = (6 > 5)\n",
    "print(e)\n",
    "print(type(e))\n",
    "print(f)\n",
    "# using arithmetic operations on two booleans treats True as 1 and False as 0\n",
    "print(e + f)\n",
    "print(e * f)\n",
    "type(f)"
   ]
  },
  {
   "cell_type": "markdown",
   "metadata": {},
   "source": [
    "### Lists\n",
    "Vanilla Python has different types of arrays or \"containers\". The most important are probably lists, sets and dictionaries (we will get to the latter two in the next lecture). Lists are defined similar to row vectors in Matlab. However, note that they behave differently. In particular, vectorized operations (e.g. elementwise summation) does not work with lists (we will see a different type of array which you can use for vectorized operations later on). Instead, \"summing up\" two lists will concatenate them. All types of arrays can be used with the **len()** function, that gives the length of the array."
   ]
  },
  {
   "cell_type": "code",
   "execution_count": 18,
   "metadata": {
    "collapsed": false
   },
   "outputs": [
    {
     "name": "stdout",
     "output_type": "stream",
     "text": [
      "[1, 2, 3, 4, 5]\n",
      "<class 'list'>\n",
      "[1, 2, 3, 4, 5, 6, 7, 8]\n",
      "3\n"
     ]
    }
   ],
   "source": [
    "# lists\n",
    "a = [1,2,3,4,5]\n",
    "b = [6,7,8]\n",
    "print(a)\n",
    "print(type(b))\n",
    "print(a + b)\n",
    "\n",
    "print(len(b))"
   ]
  },
  {
   "cell_type": "markdown",
   "metadata": {},
   "source": [
    "Indexing works different from Matlab in two ways. First, it starts at zero; in other words, the first element of a list Q is Q[0]. Second, when you want to access multiple elements, say the second element (indexed by [1]) and the third (indexed by [2]), the notation would be Q[1:3]. The semi-colon here stands for \"from 1 to 3, but excluding 3\". In other words, the range starts at the first element and stops at the index of the first element *which is not included*. This is sometimes referred to as *slicing* a list. In addition, the index [-1] is used for the last element in an array. "
   ]
  },
  {
   "cell_type": "code",
   "execution_count": 19,
   "metadata": {
    "collapsed": false
   },
   "outputs": [
    {
     "name": "stdout",
     "output_type": "stream",
     "text": [
      "1\n",
      "[2, 3]\n",
      "[2, 3, 4, 5]\n",
      "[1, 2, 3, 4]\n",
      "[5, 4, 3, 2, 1]\n"
     ]
    }
   ],
   "source": [
    "print(a[0])   # accesses the first element of list a\n",
    "print(a[1:3]) # indexes the second and third element of list\n",
    "print(a[1:])  # indexes all elements starting with the second\n",
    "print(a[:-1]) # indexes all elements except the last\n",
    "print(a[::-1])# indexes all elements in backwards order"
   ]
  },
  {
   "cell_type": "markdown",
   "metadata": {},
   "source": [
    "One thing that can be a bit confusing about Python is that different variable names can refer to the same object. In the following example, both b and c refer to the same list. Changing an element in b also changes c."
   ]
  },
  {
   "cell_type": "code",
   "execution_count": 21,
   "metadata": {
    "collapsed": false
   },
   "outputs": [
    {
     "name": "stdout",
     "output_type": "stream",
     "text": [
      "[6, 7, 8]\n",
      "True\n",
      "[9, 7, 8]\n",
      "True\n"
     ]
    }
   ],
   "source": [
    "b = [6,7,8]\n",
    "c = b\n",
    "print(c)\n",
    "print(id(b) == id(c))\n",
    "\n",
    "b[0] = 9\n",
    "print(c)\n",
    "print(id(b) == id(c))\n"
   ]
  },
  {
   "cell_type": "markdown",
   "metadata": {},
   "source": [
    "To get a list of integers, you can also use the *list* and the *range* functions. *list(range(x))* creates a list of all integers from 0 to x-1, hence again excluding the last element x. *list(range(x,y))* creates a list of all integers from x to y-1."
   ]
  },
  {
   "cell_type": "code",
   "execution_count": 133,
   "metadata": {
    "collapsed": false
   },
   "outputs": [
    {
     "name": "stdout",
     "output_type": "stream",
     "text": [
      "[0, 1, 2, 3, 4, 5, 6, 7, 8, 9]\n",
      "[1, 2, 3, 4, 5, 6, 7, 8, 9]\n",
      "[10, 9, 8, 7, 6, 5, 4, 3, 2]\n"
     ]
    }
   ],
   "source": [
    "print(list(range(10)))   # list from 0 to 9\n",
    "print(list(range(1,10))) # list from 1 to 9\n",
    "print(list(range(10,1,-1))) # list from 10 to 2 (going backwards)"
   ]
  },
  {
   "cell_type": "markdown",
   "metadata": {},
   "source": [
    "### Tuples\n",
    "\n",
    "Note that lists are \"mutable\", which means they can be changed, as we have seen above. The \"immutable\" equivalent to lists are called *tuples*. We can use the same index notation as for lists in order to access its elements. However, trying to assign a new value to them throws an error."
   ]
  },
  {
   "cell_type": "code",
   "execution_count": 139,
   "metadata": {
    "collapsed": false
   },
   "outputs": [
    {
     "name": "stdout",
     "output_type": "stream",
     "text": [
      "3\n",
      "9\n"
     ]
    }
   ],
   "source": [
    "d = (9, 10, 11)\n",
    "print(len(d)) \n",
    "print(d[0])  # accesses the first element of d\n",
    "# d[0] = 12  # will throw an error"
   ]
  },
  {
   "cell_type": "markdown",
   "metadata": {},
   "source": [
    "A side note: a string behaves similar to a tuple of text, in the sense that you can access each letter by an index and that it is immutable."
   ]
  },
  {
   "cell_type": "code",
   "execution_count": 142,
   "metadata": {
    "collapsed": false
   },
   "outputs": [
    {
     "name": "stdout",
     "output_type": "stream",
     "text": [
      "y\n",
      "6\n"
     ]
    }
   ],
   "source": [
    "string = 'Tyrion'\n",
    "print(string[1])  # accesses the second letter of string\n",
    "print(len(string))\n",
    "# string[1] = 'x'  # will throw an error"
   ]
  },
  {
   "cell_type": "markdown",
   "metadata": {},
   "source": [
    "## Loops\n",
    "Iterating - applying the same action to a sequence of data - is an extremely important task in computation. Therefore, *loops* are an essential feature of every programming language. In Python, we will mainly use the **for** loop."
   ]
  },
  {
   "cell_type": "code",
   "execution_count": 28,
   "metadata": {
    "collapsed": false
   },
   "outputs": [
    {
     "name": "stdout",
     "output_type": "stream",
     "text": [
      "Daenerys\n",
      "Tyrion\n",
      "Bran\n",
      "1\n",
      "4\n",
      "9\n",
      "16\n",
      "25\n",
      "36\n",
      "49\n",
      "64\n",
      "81\n",
      "100\n",
      "1\n",
      "4\n",
      "9\n",
      "16\n",
      "25\n",
      "36\n",
      "49\n",
      "64\n",
      "81\n",
      "100\n"
     ]
    }
   ],
   "source": [
    "# iterating over a list of strings\n",
    "text = ['Daenerys', 'Tyrion', 'Bran']\n",
    "for item in text:\n",
    "    print(item)  \n",
    "\n",
    "# iterating over a list of integers\n",
    "values = list(range(1,11))\n",
    "for item in values:\n",
    "    print(item**2)\n",
    "\n",
    "# alternative: use range function (cp. above)  \n",
    "for index in range(1,11):\n",
    "    A = index**2\n",
    "    print(A)"
   ]
  },
  {
   "cell_type": "markdown",
   "metadata": {},
   "source": [
    "Some comments about the syntax of a for-loop:\n",
    "1. A for-loop starts with the keyword **for**, followed by the name for what I will call an *index*. This is followed by **in** and a *sequence of data*. Often, this sequence is a list or another type of array. \n",
    "2. The first line ends with semi-colon (**:**). This is mandatory and will cause an error message if omitted. In case you are used to other programming languages like MATLAB which do not use semi-colons in analogous expressions, expect this to happen often in the beginning :).\n",
    "3. The line(s) following the semi-colon comprise the *code block* that we are looping over. As you can see above, these lines are indented. This is very important, since Python knows the extent of the code block only from indentation, unlike other languages like MATLAB, which mark the end of a code block by an \"end\" statement. If you do not indent the lines in a for-loop or if the number of lines you indent is not the same for all the lines in a code block, you will get an error message. \n",
    "\n",
    "Note the following about indentation:\n",
    "- It is a convention among Python programmers to indent lines in a code block by 4 spaces. In fact, many programs used to write Python code (such as Jupyter or many text editors) will automatically indent the line by 4 spaces when you press Enter after a semi-colon. Moreover, in Jupyter you can also use the tab key to indent by 4 spaces.\n",
    "- If you have a code block within a code block, you need to indent by 8 spaces etc (see example below). In other words, indent 4 spaces after every semi-colon. \n",
    "- Why using indentation? While it can take some time to get used to (in particular when you have experience in languages which do not use this concept), clean and consistent indentation improves readability and avoids clutter, such as the brackets or end statements used in other languages. \n",
    "\n",
    "A side note: in Python, \"readability\" of code is extremely important and a dominant principle that guides both the design of the language and the way Python programmers should write code. There are countless style guides and guidelines that I encourage you to read. Just as an illustration of the philosophy underlying Python, you can read the \"Zen of Python\":  "
   ]
  },
  {
   "cell_type": "code",
   "execution_count": 149,
   "metadata": {
    "collapsed": false
   },
   "outputs": [
    {
     "name": "stdout",
     "output_type": "stream",
     "text": [
      "The Zen of Python, by Tim Peters\n",
      "\n",
      "Beautiful is better than ugly.\n",
      "Explicit is better than implicit.\n",
      "Simple is better than complex.\n",
      "Complex is better than complicated.\n",
      "Flat is better than nested.\n",
      "Sparse is better than dense.\n",
      "Readability counts.\n",
      "Special cases aren't special enough to break the rules.\n",
      "Although practicality beats purity.\n",
      "Errors should never pass silently.\n",
      "Unless explicitly silenced.\n",
      "In the face of ambiguity, refuse the temptation to guess.\n",
      "There should be one-- and preferably only one --obvious way to do it.\n",
      "Although that way may not be obvious at first unless you're Dutch.\n",
      "Now is better than never.\n",
      "Although never is often better than *right* now.\n",
      "If the implementation is hard to explain, it's a bad idea.\n",
      "If the implementation is easy to explain, it may be a good idea.\n",
      "Namespaces are one honking great idea -- let's do more of those!\n"
     ]
    }
   ],
   "source": [
    "import this"
   ]
  },
  {
   "cell_type": "markdown",
   "metadata": {},
   "source": [
    "Two useful functions when iterating in Python are *enumerate()* and *zip()*. *enumerate()* loops through a list while returning an index for each element. *zip()* is useful when stepping through pairs from two sequences."
   ]
  },
  {
   "cell_type": "code",
   "execution_count": 29,
   "metadata": {
    "collapsed": false
   },
   "outputs": [
    {
     "name": "stdout",
     "output_type": "stream",
     "text": [
      "letter_list[0] = 'a'\n",
      "letter_list[1] = 'b'\n",
      "letter_list[2] = 'c'\n",
      "{'Tyrion': 'Lannister', 'Samwell': 'Tarly', 'Arya': 'Stark', 'Daenerys': 'Targaryen'}\n",
      "{'Tyrion': 'Lannister', 'Samwell': 'Tarly', 'Arya': 'Stark', 'Daenerys': 'Targaryen'}\n",
      "{'Tyrion': 'Lannister', 'Samwell': 'Tarly', 'Arya': 'Stark', 'Daenerys': 'Targaryen'}\n"
     ]
    }
   ],
   "source": [
    "letter_list = ['a', 'b', 'c']\n",
    "for index, letter in enumerate(letter_list):\n",
    "    print(\"letter_list[{0}] = '{1}'\".format(index, letter))\n",
    "    \n",
    "# use enumerate to get a dictionary from two lists\n",
    "names = ['Daenerys', 'Tyrion', 'Arya', 'Samwell']\n",
    "houses = ['Targaryen', 'Lannister', 'Stark', 'Tarly']\n",
    "D = dict()\n",
    "for (index, name) in enumerate(names):\n",
    "    D[name] = houses[index]\n",
    "print(D)    \n",
    "\n",
    "\n",
    "# the same can be done using zip()\n",
    "E = dict()\n",
    "for (name, house) in zip(names, houses):\n",
    "    E[name] = house\n",
    "print(E)    \n",
    "\n",
    "# in fact, we don't even have to use a loop\n",
    "F = dict(zip(names, houses))\n",
    "print(F)\n"
   ]
  },
  {
   "cell_type": "markdown",
   "metadata": {},
   "source": [
    "## Comparisons and *if*-statements\n",
    "\n",
    "We have already seen comparisons above when talking about booleans. A reminder:"
   ]
  },
  {
   "cell_type": "code",
   "execution_count": 20,
   "metadata": {
    "collapsed": false
   },
   "outputs": [
    {
     "name": "stdout",
     "output_type": "stream",
     "text": [
      "False\n",
      "<class 'bool'>\n",
      "True\n",
      "False\n",
      "True\n"
     ]
    }
   ],
   "source": [
    "e = (4 == 5)   # e is a boolean with value False, since 4 does not equal 5\n",
    "print(e)\n",
    "print(type(e))\n",
    "\n",
    "f = 1\n",
    "g = 2\n",
    "print(f <= g)\n",
    "print(f > g)\n",
    "\n",
    "# chain inequalities \n",
    "print(1 < 2 < 3)"
   ]
  },
  {
   "cell_type": "markdown",
   "metadata": {},
   "source": [
    "Comparisons include **<, >, <=, >=, ==, !=**. The last one (**!=**) stands for 'not equal'. As seen above, you can also compare more than two elements. Moreover, you can combine different comparisons or booleans by using the keywords **and** and **or**. Expressions linked by **and** will only be evaluated as **True** if *all* expressions are true. Expressions linked by **or** will be evaluated as **True** if at least one expression is **True**:"
   ]
  },
  {
   "cell_type": "code",
   "execution_count": 29,
   "metadata": {
    "collapsed": false
   },
   "outputs": [
    {
     "name": "stdout",
     "output_type": "stream",
     "text": [
      "False\n",
      "True\n",
      "True\n",
      "True\n"
     ]
    }
   ],
   "source": [
    "print(4 == 5 and 5 < 6)  # False, since first expression is False\n",
    "print(4 == 5 or 5 < 6)   # True, since second expression is True\n",
    "\n",
    "A = True  # boolean       \n",
    "print(A and 5 < 6)    # True, since both expressions are True\n",
    "\n",
    "B = False\n",
    "print(A or B)         # True, since A is True           "
   ]
  },
  {
   "cell_type": "markdown",
   "metadata": {},
   "source": [
    "Comparisons and Booleans are frequently used for *conditional statements* aka *if-statements*. The idea is that a code block is executed only if a given condition is true. This condition can consist of a comparison or a Boolean - in other words, of anything that can be evaluated as True or False. "
   ]
  },
  {
   "cell_type": "code",
   "execution_count": 33,
   "metadata": {
    "collapsed": false
   },
   "outputs": [
    {
     "name": "stdout",
     "output_type": "stream",
     "text": [
      "x is positive\n"
     ]
    }
   ],
   "source": [
    "x = 3\n",
    "if x > 0:                   # condition using a comparison (here True)\n",
    "    print('x is positive')  # code block that is executed only if the condition is met  \n",
    "\n",
    "B = False    \n",
    "if B:                                # condition using a comparison (here False)\n",
    "    print('Programming is boring!')  # code block will not be executed if B is False\n",
    "    "
   ]
  },
  {
   "cell_type": "markdown",
   "metadata": {},
   "source": [
    "As it was the case for for-loops, the first line of an if-statement ends with a semi-colon and the code block must be indented. That being said, sometimes if-statements can also be expressed in one line.\n",
    "\n",
    "You can also specify code to be implemented if the condition does not hold, using **else**. If there more than two alternatives, you can distinguish the different cases with **elif**:"
   ]
  },
  {
   "cell_type": "code",
   "execution_count": 24,
   "metadata": {
    "collapsed": false
   },
   "outputs": [
    {
     "name": "stdout",
     "output_type": "stream",
     "text": [
      "x is negative\n",
      "s is not a (real) number\n"
     ]
    }
   ],
   "source": [
    "## two alternatives\n",
    "x = - 5\n",
    "if x > 0:                   # condition\n",
    "    print('x is positive')  # code block that is executed only if the condition is met\n",
    "else:\n",
    "    print('x is negative')\n",
    "\n",
    "## three alternatives  \n",
    "s = 'Arya'\n",
    "if type(s) == int:\n",
    "    print('s is an integer')\n",
    "elif type(s) == float:\n",
    "    print('s is a float')\n",
    "else:\n",
    "    print('s is not a (real) number')"
   ]
  },
  {
   "cell_type": "markdown",
   "metadata": {},
   "source": [
    "The last expressions could have also written without the **elif** part, by combining the two conditions using **or**:"
   ]
  },
  {
   "cell_type": "code",
   "execution_count": 32,
   "metadata": {
    "collapsed": false
   },
   "outputs": [
    {
     "name": "stdout",
     "output_type": "stream",
     "text": [
      "s is an integer\n"
     ]
    }
   ],
   "source": [
    "s = 4\n",
    "if (type(s) == int) or (type(s) == float):\n",
    "    print('s is an integer')\n",
    "else:\n",
    "    print('s is not a (real) number')"
   ]
  }
 ],
 "metadata": {
  "anaconda-cloud": {},
  "kernelspec": {
   "display_name": "Python 3",
   "language": "python",
   "name": "python3"
  },
  "language_info": {
   "codemirror_mode": {
    "name": "ipython",
    "version": 3
   },
   "file_extension": ".py",
   "mimetype": "text/x-python",
   "name": "python",
   "nbconvert_exporter": "python",
   "pygments_lexer": "ipython3",
   "version": "3.5.3"
  }
 },
 "nbformat": 4,
 "nbformat_minor": 0
}
