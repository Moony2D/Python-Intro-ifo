{
 "cells": [
  {
   "cell_type": "markdown",
   "metadata": {},
   "source": [
    "## Applied Example"
   ]
  },
  {
   "cell_type": "code",
   "execution_count": 41,
   "metadata": {
    "collapsed": true
   },
   "outputs": [],
   "source": [
    "import numpy as np\n",
    "import pandas as pd\n",
    "import matplotlib.pyplot as plt\n",
    "%matplotlib inline\n",
    "import seaborn\n",
    "\n",
    "import statsmodels.api as sm\n",
    "\n",
    "import sys\n",
    "from importlib import reload\n",
    "sys.path.append('../Dropbox/Research/data/WB')\n",
    "import wb_prepare\n",
    "\n"
   ]
  },
  {
   "cell_type": "code",
   "execution_count": 9,
   "metadata": {
    "collapsed": false
   },
   "outputs": [
    {
     "name": "stdout",
     "output_type": "stream",
     "text": [
      "\n",
      "This script loads data from the World Bank for 264 countries and aggregates from 1960 to 2015, retrieved on January 24, 2017. \n",
      "Running the script returns a dictionary with the following keys and values\n",
      "    - 'gdp': a pandas data frame containing real GDP (in 2010 USD) for each country and year\n",
      "    - 'gcf': a pandas data frame containing gross capital formation (in 2010 USD) for each country and year\n",
      "    - 'goc': a pandas data frame containing government consumption expenditures (in 2010 USD) for each country and year\n",
      "    - 'hhc': a pandas data frame containing household consumption expenditures (in 2010 USD) for each country and year\n",
      "    - 'exp': a pandas data frame containing exports (in 2010 USD) for each country and year\n",
      "    - 'imp': a pandas data frame containing imports (in 2010 USD) for each country and year\n",
      "\n",
      "THIS VERSION: 07/02/2017\n",
      "\n",
      "dict_keys(['gdp', 'pop', 'hhc', 'gcf', 'co2', 'emp'])\n",
      "<class 'pandas.core.frame.DataFrame'>\n",
      "Int64Index: 56 entries, 1960 to 2015\n",
      "Columns: 264 entries, IND to ZWE\n",
      "dtypes: float64(264)\n",
      "memory usage: 115.9 KB\n"
     ]
    }
   ],
   "source": [
    "## import raw data\n",
    "D, L = wb_prepare.prepare_data(hhc = True, gcf = True, pop = True, emp = True, co2 = True, code = True)\n",
    "print(wb_prepare.__doc__)\n",
    "print(D.keys())\n",
    "D['gdp'].info()"
   ]
  },
  {
   "cell_type": "code",
   "execution_count": 38,
   "metadata": {
    "collapsed": false
   },
   "outputs": [],
   "source": [
    "start_year, end_year = 1973, 2013\n",
    "\n",
    "## slice out data for defined time period and convert monetary data to trillion USD \n",
    "Y = D['gdp'].loc[start_year:end_year] * 1e-12\n",
    "C = D['hhc'].loc[start_year:end_year] * 1e-12\n",
    "I = D['gcf'].loc[start_year:end_year] * 1e-12\n",
    "H = D['pop'].loc[start_year:end_year] * 1e-9  ## convert population to billion\n",
    "E = D['co2'].loc[start_year:end_year] * 1e-6  ## convert emissions to Gt"
   ]
  },
  {
   "cell_type": "code",
   "execution_count": 39,
   "metadata": {
    "collapsed": true
   },
   "outputs": [],
   "source": [
    "## compute capital stock using the perpetual inventory method\n",
    "delta = 0.08\n",
    "K = I.copy()\n",
    "T = len(I)\n",
    "for country in K:\n",
    "    k0 = (D['gcf'][country].loc[1992:1995]/D['gdp'][country].loc[1992:1995]).mean() / delta \\\n",
    "            * D['gdp'][country].loc[1992] * 1e-12\n",
    "        \n",
    "    K[country].iloc[0] = k0\n",
    "    for t in range(T-1):\n",
    "         K[country].iloc[t+1] = (1 - delta) * K[country].iloc[t] + I[country].iloc[t]"
   ]
  },
  {
   "cell_type": "code",
   "execution_count": 31,
   "metadata": {
    "collapsed": false
   },
   "outputs": [
    {
     "data": {
      "text/html": [
       "<div>\n",
       "<table border=\"1\" class=\"dataframe\">\n",
       "  <thead>\n",
       "    <tr style=\"text-align: right;\">\n",
       "      <th>level_1</th>\n",
       "      <th>IND</th>\n",
       "      <th>BGD</th>\n",
       "      <th>PAK</th>\n",
       "      <th>MEX</th>\n",
       "      <th>VNM</th>\n",
       "      <th>PER</th>\n",
       "      <th>COL</th>\n",
       "      <th>PHL</th>\n",
       "      <th>NPL</th>\n",
       "      <th>BRA</th>\n",
       "      <th>...</th>\n",
       "      <th>URY</th>\n",
       "      <th>UZB</th>\n",
       "      <th>VUT</th>\n",
       "      <th>VEN</th>\n",
       "      <th>VIR</th>\n",
       "      <th>WBG</th>\n",
       "      <th>WLD</th>\n",
       "      <th>YEM</th>\n",
       "      <th>ZMB</th>\n",
       "      <th>ZWE</th>\n",
       "    </tr>\n",
       "  </thead>\n",
       "  <tbody>\n",
       "    <tr>\n",
       "      <th>count</th>\n",
       "      <td>19.000000</td>\n",
       "      <td>19.000000</td>\n",
       "      <td>19.000000</td>\n",
       "      <td>19.000000</td>\n",
       "      <td>19.000000</td>\n",
       "      <td>19.000000</td>\n",
       "      <td>19.000000</td>\n",
       "      <td>19.000000</td>\n",
       "      <td>19.000000</td>\n",
       "      <td>19.000000</td>\n",
       "      <td>...</td>\n",
       "      <td>19.000000</td>\n",
       "      <td>19.000000</td>\n",
       "      <td>19.000000</td>\n",
       "      <td>19.000000</td>\n",
       "      <td>0.0</td>\n",
       "      <td>19.000000</td>\n",
       "      <td>19.000000</td>\n",
       "      <td>19.000000</td>\n",
       "      <td>19.000000</td>\n",
       "      <td>19.000000</td>\n",
       "    </tr>\n",
       "    <tr>\n",
       "      <th>mean</th>\n",
       "      <td>1.147653</td>\n",
       "      <td>0.087065</td>\n",
       "      <td>0.143627</td>\n",
       "      <td>0.935364</td>\n",
       "      <td>0.083973</td>\n",
       "      <td>0.111558</td>\n",
       "      <td>0.235870</td>\n",
       "      <td>0.156767</td>\n",
       "      <td>0.012801</td>\n",
       "      <td>1.799498</td>\n",
       "      <td>...</td>\n",
       "      <td>0.032903</td>\n",
       "      <td>0.027955</td>\n",
       "      <td>0.000573</td>\n",
       "      <td>0.337369</td>\n",
       "      <td>NaN</td>\n",
       "      <td>0.007468</td>\n",
       "      <td>56.091991</td>\n",
       "      <td>0.023448</td>\n",
       "      <td>0.014077</td>\n",
       "      <td>0.012318</td>\n",
       "    </tr>\n",
       "    <tr>\n",
       "      <th>std</th>\n",
       "      <td>0.440817</td>\n",
       "      <td>0.026708</td>\n",
       "      <td>0.032313</td>\n",
       "      <td>0.134304</td>\n",
       "      <td>0.029292</td>\n",
       "      <td>0.032433</td>\n",
       "      <td>0.050260</td>\n",
       "      <td>0.039866</td>\n",
       "      <td>0.002873</td>\n",
       "      <td>0.340583</td>\n",
       "      <td>...</td>\n",
       "      <td>0.006231</td>\n",
       "      <td>0.010468</td>\n",
       "      <td>0.000102</td>\n",
       "      <td>0.063186</td>\n",
       "      <td>NaN</td>\n",
       "      <td>0.001894</td>\n",
       "      <td>9.320434</td>\n",
       "      <td>0.004608</td>\n",
       "      <td>0.005189</td>\n",
       "      <td>0.002685</td>\n",
       "    </tr>\n",
       "    <tr>\n",
       "      <th>min</th>\n",
       "      <td>0.604258</td>\n",
       "      <td>0.052934</td>\n",
       "      <td>0.100147</td>\n",
       "      <td>0.687208</td>\n",
       "      <td>0.043696</td>\n",
       "      <td>0.075482</td>\n",
       "      <td>0.181270</td>\n",
       "      <td>0.105213</td>\n",
       "      <td>0.008624</td>\n",
       "      <td>1.383636</td>\n",
       "      <td>...</td>\n",
       "      <td>0.025943</td>\n",
       "      <td>0.016593</td>\n",
       "      <td>0.000442</td>\n",
       "      <td>0.251580</td>\n",
       "      <td>NaN</td>\n",
       "      <td>0.003879</td>\n",
       "      <td>41.905236</td>\n",
       "      <td>0.015819</td>\n",
       "      <td>0.008274</td>\n",
       "      <td>0.007982</td>\n",
       "    </tr>\n",
       "    <tr>\n",
       "      <th>25%</th>\n",
       "      <td>0.796538</td>\n",
       "      <td>0.065329</td>\n",
       "      <td>0.115154</td>\n",
       "      <td>0.856051</td>\n",
       "      <td>0.059203</td>\n",
       "      <td>0.084652</td>\n",
       "      <td>0.192462</td>\n",
       "      <td>0.122700</td>\n",
       "      <td>0.010582</td>\n",
       "      <td>1.504331</td>\n",
       "      <td>...</td>\n",
       "      <td>0.028399</td>\n",
       "      <td>0.019679</td>\n",
       "      <td>0.000495</td>\n",
       "      <td>0.284262</td>\n",
       "      <td>NaN</td>\n",
       "      <td>0.006475</td>\n",
       "      <td>48.574692</td>\n",
       "      <td>0.019754</td>\n",
       "      <td>0.009697</td>\n",
       "      <td>0.010243</td>\n",
       "    </tr>\n",
       "    <tr>\n",
       "      <th>50%</th>\n",
       "      <td>1.027931</td>\n",
       "      <td>0.080593</td>\n",
       "      <td>0.139309</td>\n",
       "      <td>0.927362</td>\n",
       "      <td>0.079362</td>\n",
       "      <td>0.099505</td>\n",
       "      <td>0.219601</td>\n",
       "      <td>0.149721</td>\n",
       "      <td>0.012445</td>\n",
       "      <td>1.719723</td>\n",
       "      <td>...</td>\n",
       "      <td>0.030472</td>\n",
       "      <td>0.024379</td>\n",
       "      <td>0.000526</td>\n",
       "      <td>0.299230</td>\n",
       "      <td>NaN</td>\n",
       "      <td>0.007573</td>\n",
       "      <td>55.577792</td>\n",
       "      <td>0.023678</td>\n",
       "      <td>0.012450</td>\n",
       "      <td>0.011737</td>\n",
       "    </tr>\n",
       "    <tr>\n",
       "      <th>75%</th>\n",
       "      <td>1.443694</td>\n",
       "      <td>0.106573</td>\n",
       "      <td>0.172198</td>\n",
       "      <td>1.042103</td>\n",
       "      <td>0.106145</td>\n",
       "      <td>0.135410</td>\n",
       "      <td>0.273811</td>\n",
       "      <td>0.184385</td>\n",
       "      <td>0.014936</td>\n",
       "      <td>2.055512</td>\n",
       "      <td>...</td>\n",
       "      <td>0.036608</td>\n",
       "      <td>0.034893</td>\n",
       "      <td>0.000679</td>\n",
       "      <td>0.396777</td>\n",
       "      <td>NaN</td>\n",
       "      <td>0.008556</td>\n",
       "      <td>63.445542</td>\n",
       "      <td>0.027300</td>\n",
       "      <td>0.017598</td>\n",
       "      <td>0.015181</td>\n",
       "    </tr>\n",
       "    <tr>\n",
       "      <th>max</th>\n",
       "      <td>1.989650</td>\n",
       "      <td>0.138597</td>\n",
       "      <td>0.196970</td>\n",
       "      <td>1.153059</td>\n",
       "      <td>0.136658</td>\n",
       "      <td>0.176195</td>\n",
       "      <td>0.333817</td>\n",
       "      <td>0.236316</td>\n",
       "      <td>0.018058</td>\n",
       "      <td>2.409740</td>\n",
       "      <td>...</td>\n",
       "      <td>0.045897</td>\n",
       "      <td>0.049778</td>\n",
       "      <td>0.000736</td>\n",
       "      <td>0.439149</td>\n",
       "      <td>NaN</td>\n",
       "      <td>0.011009</td>\n",
       "      <td>71.058906</td>\n",
       "      <td>0.030907</td>\n",
       "      <td>0.024183</td>\n",
       "      <td>0.015913</td>\n",
       "    </tr>\n",
       "  </tbody>\n",
       "</table>\n",
       "<p>8 rows × 264 columns</p>\n",
       "</div>"
      ],
      "text/plain": [
       "level_1        IND        BGD        PAK        MEX        VNM        PER  \\\n",
       "count    19.000000  19.000000  19.000000  19.000000  19.000000  19.000000   \n",
       "mean      1.147653   0.087065   0.143627   0.935364   0.083973   0.111558   \n",
       "std       0.440817   0.026708   0.032313   0.134304   0.029292   0.032433   \n",
       "min       0.604258   0.052934   0.100147   0.687208   0.043696   0.075482   \n",
       "25%       0.796538   0.065329   0.115154   0.856051   0.059203   0.084652   \n",
       "50%       1.027931   0.080593   0.139309   0.927362   0.079362   0.099505   \n",
       "75%       1.443694   0.106573   0.172198   1.042103   0.106145   0.135410   \n",
       "max       1.989650   0.138597   0.196970   1.153059   0.136658   0.176195   \n",
       "\n",
       "level_1        COL        PHL        NPL        BRA    ...            URY  \\\n",
       "count    19.000000  19.000000  19.000000  19.000000    ...      19.000000   \n",
       "mean      0.235870   0.156767   0.012801   1.799498    ...       0.032903   \n",
       "std       0.050260   0.039866   0.002873   0.340583    ...       0.006231   \n",
       "min       0.181270   0.105213   0.008624   1.383636    ...       0.025943   \n",
       "25%       0.192462   0.122700   0.010582   1.504331    ...       0.028399   \n",
       "50%       0.219601   0.149721   0.012445   1.719723    ...       0.030472   \n",
       "75%       0.273811   0.184385   0.014936   2.055512    ...       0.036608   \n",
       "max       0.333817   0.236316   0.018058   2.409740    ...       0.045897   \n",
       "\n",
       "level_1        UZB        VUT        VEN  VIR        WBG        WLD  \\\n",
       "count    19.000000  19.000000  19.000000  0.0  19.000000  19.000000   \n",
       "mean      0.027955   0.000573   0.337369  NaN   0.007468  56.091991   \n",
       "std       0.010468   0.000102   0.063186  NaN   0.001894   9.320434   \n",
       "min       0.016593   0.000442   0.251580  NaN   0.003879  41.905236   \n",
       "25%       0.019679   0.000495   0.284262  NaN   0.006475  48.574692   \n",
       "50%       0.024379   0.000526   0.299230  NaN   0.007573  55.577792   \n",
       "75%       0.034893   0.000679   0.396777  NaN   0.008556  63.445542   \n",
       "max       0.049778   0.000736   0.439149  NaN   0.011009  71.058906   \n",
       "\n",
       "level_1        YEM        ZMB        ZWE  \n",
       "count    19.000000  19.000000  19.000000  \n",
       "mean      0.023448   0.014077   0.012318  \n",
       "std       0.004608   0.005189   0.002685  \n",
       "min       0.015819   0.008274   0.007982  \n",
       "25%       0.019754   0.009697   0.010243  \n",
       "50%       0.023678   0.012450   0.011737  \n",
       "75%       0.027300   0.017598   0.015181  \n",
       "max       0.030907   0.024183   0.015913  \n",
       "\n",
       "[8 rows x 264 columns]"
      ]
     },
     "execution_count": 31,
     "metadata": {},
     "output_type": "execute_result"
    }
   ],
   "source": [
    "Y.describe()"
   ]
  },
  {
   "cell_type": "code",
   "execution_count": 20,
   "metadata": {
    "collapsed": false
   },
   "outputs": [
    {
     "name": "stdout",
     "output_type": "stream",
     "text": [
      "False False False False\n"
     ]
    }
   ],
   "source": [
    "## check for NaNs\n",
    "print(Y.notnull().all().all(), C.notnull().all().all(), H.notnull().all().all(), I.notnull().all().all())"
   ]
  },
  {
   "cell_type": "markdown",
   "metadata": {},
   "source": [
    "#### Visualizing Data"
   ]
  },
  {
   "cell_type": "code",
   "execution_count": 50,
   "metadata": {
    "collapsed": false
   },
   "outputs": [
    {
     "data": {
      "image/png": "[encoded data removed]",
      "text/plain": [
       "<matplotlib.figure.Figure at 0x11a9d6940>"
      ]
     },
     "metadata": {},
     "output_type": "display_data"
    }
   ],
   "source": [
    "fig, ax1 = plt.subplots()\n",
    "ax1.plot(Y['WLD'], color = 'b', label = \"GDP\")\n",
    "ax2 = ax1.twinx()\n",
    "ax2.plot(E['WLD'], color = 'r', label = 'CO2 Emissions')\n",
    "\n",
    "ax1.set_xlabel('Year')\n",
    "# Make the y-axis label, ticks and tick labels match the line color.\n",
    "ax1.set_ylabel('tr USD (2010)', color='b')\n",
    "ax1.tick_params('y', colors='b')\n",
    "\n",
    "ax2.set_ylabel('GtCO2', color='r')\n",
    "ax2.tick_params('y', colors='r')\n",
    "ax1.legend(loc = 'upper left')\n",
    "ax2.legend()\n",
    "plt.show()\n"
   ]
  },
  {
   "cell_type": "code",
   "execution_count": 60,
   "metadata": {
    "collapsed": false
   },
   "outputs": [
    {
     "name": "stdout",
     "output_type": "stream",
     "text": [
      "                            OLS Regression Results                            \n",
      "==============================================================================\n",
      "Dep. Variable:                    WLD   R-squared:                       0.997\n",
      "Model:                            OLS   Adj. R-squared:                  0.997\n",
      "Method:                 Least Squares   F-statistic:                     7392.\n",
      "Date:                Wed, 19 Apr 2017   Prob (F-statistic):           5.87e-50\n",
      "Time:                        15:39:34   Log-Likelihood:                 107.09\n",
      "No. Observations:                  41   AIC:                            -208.2\n",
      "Df Residuals:                      38   BIC:                            -203.0\n",
      "Df Model:                           2                                         \n",
      "Covariance Type:            nonrobust                                         \n",
      "==============================================================================\n",
      "                 coef    std err          t      P>|t|      [95.0% Conf. Int.]\n",
      "------------------------------------------------------------------------------\n",
      "const         -0.3555      0.098     -3.627      0.001        -0.554    -0.157\n",
      "x1             0.2161      0.027      8.096      0.000         0.162     0.270\n",
      "x2             1.7913      0.024     74.118      0.000         1.742     1.840\n",
      "==============================================================================\n",
      "Omnibus:                        2.473   Durbin-Watson:                   0.576\n",
      "Prob(Omnibus):                  0.290   Jarque-Bera (JB):                1.864\n",
      "Skew:                           0.351   Prob(JB):                        0.394\n",
      "Kurtosis:                       2.226   Cond. No.                         180.\n",
      "==============================================================================\n",
      "\n",
      "Warnings:\n",
      "[1] Standard Errors assume that the covariance matrix of the errors is correctly specified.\n"
     ]
    }
   ],
   "source": [
    "## convert data to np array\n",
    "\n",
    "X = np.column_stack( ( np.log(K['WLD']), np.log(H['WLD']) ) )\n",
    "X = sm.add_constant(X)\n",
    "y = np.log(Y['WLD'])\n",
    "\n",
    "res = sm.OLS(y, X).fit()\n",
    "print(res.summary())"
   ]
  },
  {
   "cell_type": "code",
   "execution_count": 63,
   "metadata": {
    "collapsed": false
   },
   "outputs": [
    {
     "name": "stdout",
     "output_type": "stream",
     "text": [
      "                            OLS Regression Results                            \n",
      "==============================================================================\n",
      "Dep. Variable:                    WLD   R-squared:                       0.991\n",
      "Model:                            OLS   Adj. R-squared:                  0.991\n",
      "Method:                 Least Squares   F-statistic:                     2092.\n",
      "Date:                Wed, 19 Apr 2017   Prob (F-statistic):           1.35e-39\n",
      "Time:                        15:43:14   Log-Likelihood:                 110.63\n",
      "No. Observations:                  41   AIC:                            -215.3\n",
      "Df Residuals:                      38   BIC:                            -210.1\n",
      "Df Model:                           2                                         \n",
      "Covariance Type:            nonrobust                                         \n",
      "==============================================================================\n",
      "                 coef    std err          t      P>|t|      [95.0% Conf. Int.]\n",
      "------------------------------------------------------------------------------\n",
      "const          1.4126      0.073     19.450      0.000         1.266     1.560\n",
      "x1             0.0960      0.024      4.068      0.000         0.048     0.144\n",
      "x2             0.0148      0.000     60.666      0.000         0.014     0.015\n",
      "==============================================================================\n",
      "Omnibus:                        2.542   Durbin-Watson:                   0.654\n",
      "Prob(Omnibus):                  0.281   Jarque-Bera (JB):                2.302\n",
      "Skew:                           0.495   Prob(JB):                        0.316\n",
      "Kurtosis:                       2.394   Cond. No.                         676.\n",
      "==============================================================================\n",
      "\n",
      "Warnings:\n",
      "[1] Standard Errors assume that the covariance matrix of the errors is correctly specified.\n"
     ]
    }
   ],
   "source": [
    "y = np.log(Y['WLD']) - np.log(H['WLD'])\n",
    "\n",
    "t = np.array(range(len(y)))\n",
    "X = np.column_stack( (np.log(K['WLD']) - np.log(H['WLD']), t) )\n",
    "X = sm.add_constant(X)\n",
    "\n",
    "res = sm.OLS(y, X).fit()\n",
    "print(res.summary())"
   ]
  },
  {
   "cell_type": "code",
   "execution_count": 64,
   "metadata": {
    "collapsed": false
   },
   "outputs": [
    {
     "name": "stdout",
     "output_type": "stream",
     "text": [
      "                            OLS Regression Results                            \n",
      "==============================================================================\n",
      "Dep. Variable:                    WLD   R-squared:                       0.995\n",
      "Model:                            OLS   Adj. R-squared:                  0.995\n",
      "Method:                 Least Squares   F-statistic:                     2617.\n",
      "Date:                Wed, 19 Apr 2017   Prob (F-statistic):           4.10e-43\n",
      "Time:                        15:45:07   Log-Likelihood:                 123.99\n",
      "No. Observations:                  41   AIC:                            -240.0\n",
      "Df Residuals:                      37   BIC:                            -233.1\n",
      "Df Model:                           3                                         \n",
      "Covariance Type:            nonrobust                                         \n",
      "==============================================================================\n",
      "                 coef    std err          t      P>|t|      [95.0% Conf. Int.]\n",
      "------------------------------------------------------------------------------\n",
      "const          1.3344      0.055     24.348      0.000         1.223     1.445\n",
      "x1            -0.0248      0.027     -0.920      0.363        -0.080     0.030\n",
      "x2             0.3203      0.055      5.830      0.000         0.209     0.432\n",
      "x3             0.0134      0.000     44.607      0.000         0.013     0.014\n",
      "==============================================================================\n",
      "Omnibus:                        2.659   Durbin-Watson:                   0.652\n",
      "Prob(Omnibus):                  0.265   Jarque-Bera (JB):                2.334\n",
      "Skew:                           0.575   Prob(JB):                        0.311\n",
      "Kurtosis:                       2.787   Cond. No.                         748.\n",
      "==============================================================================\n",
      "\n",
      "Warnings:\n",
      "[1] Standard Errors assume that the covariance matrix of the errors is correctly specified.\n"
     ]
    }
   ],
   "source": [
    "y = np.log(Y['WLD']) - np.log(H['WLD'])\n",
    "\n",
    "t = np.array(range(len(y)))\n",
    "X = np.column_stack( (np.log(K['WLD']) - np.log(H['WLD']), np.log(E['WLD']) - np.log(H['WLD']), t) )\n",
    "X = sm.add_constant(X)\n",
    "\n",
    "res = sm.OLS(y, X).fit()\n",
    "print(res.summary())"
   ]
  },
  {
   "cell_type": "code",
   "execution_count": null,
   "metadata": {
    "collapsed": true
   },
   "outputs": [],
   "source": []
  }
 ],
 "metadata": {
  "kernelspec": {
   "display_name": "Python 3",
   "language": "python",
   "name": "python3"
  },
  "language_info": {
   "codemirror_mode": {
    "name": "ipython",
    "version": 3
   },
   "file_extension": ".py",
   "mimetype": "text/x-python",
   "name": "python",
   "nbconvert_exporter": "python",
   "pygments_lexer": "ipython3",
   "version": "3.5.3"
  }
 },
 "nbformat": 4,
 "nbformat_minor": 0
}
