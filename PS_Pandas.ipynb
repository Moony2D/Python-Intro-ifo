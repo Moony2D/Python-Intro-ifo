{
 "cells": [
  {
   "cell_type": "markdown",
   "metadata": {},
   "source": [
    "# Introduction to Python - Data Analysis with Pandas \n",
    "\n",
    "## Problem Set"
   ]
  },
  {
   "cell_type": "code",
   "execution_count": 37,
   "metadata": {
    "collapsed": false
   },
   "outputs": [
    {
     "name": "stdout",
     "output_type": "stream",
     "text": [
      "Last update: 2017-04-18 12:05:38.601296\n"
     ]
    }
   ],
   "source": [
    "# Author: Alex Schmitt (schmitt@ifo.de)\n",
    "\n",
    "import datetime\n",
    "print('Last update: ' + str(datetime.datetime.today()))"
   ]
  },
  {
   "cell_type": "markdown",
   "metadata": {},
   "source": [
    "## Question 1\n",
    "\n",
    "The dataset used in this question comes from baseball, which may be a less-than exciting sport, but also one that generates a lot of data and is therefore very popular among (North American) data scientists. The file 'baseball_stats.csv' contains information on more than 18,000 players that have played in the US baseball league MLB at some point. The data includes the name, height and weight of a player, moreover its \"handedness\" (whether he bats with his left or right hand or both), his batting average (the percentage of at-bats in which he recorded a hit) and the number of home runs.\n",
    "\n",
    "(a) Import the Pandas package and read the data in a Pandas dataframe. Use the **info** or the **head** method to make sure the data has been stored properly. \n",
    "\n",
    "(b) Find the player with the most homeruns in the history of the MLB. \n",
    "\n",
    "(c) How many players were recorded to be \"switch hitters\", i.e. to bat both left-handed or right-handed? Who has scored the most homeruns among this group?\n",
    "\n",
    "(d) How often does an MLB player hit the ball on average? Using the **describe** method, you can see that the mean batting average is about 0.17. However, this includes a lot of players with an average of 0. Compute the mean batting average among those players who have actually hit something, i.e. with an average *greater than zero*.\n",
    "\n",
    "(e) A popular question among baseball fans and analysts is whether there is a inherent difference in the batting performance between left- or right-handed batters. We can use a t-test to check the hypothesis that both groups come from the same population, i.e. that there is no systematic difference and all observed difference is due to sampling. Use the **ttest_ind** function in Scipy's **scipy.stats** module to compute a t-statistic under the null hypothesis\n",
    "\\begin{equation}\n",
    "    \\text{avg}_{LH} - \\text{avg}_{RH} = 0.\n",
    "\\end{equation}\n",
    "What can you conclude?\n"
   ]
  },
  {
   "cell_type": "code",
   "execution_count": 10,
   "metadata": {
    "collapsed": false
   },
   "outputs": [
    {
     "name": "stdout",
     "output_type": "stream",
     "text": [
      "<class 'pandas.core.frame.DataFrame'>\n",
      "RangeIndex: 18177 entries, 0 to 18176\n",
      "Data columns (total 6 columns):\n",
      "name          18177 non-null object\n",
      "handedness    16974 non-null object\n",
      "height        18177 non-null object\n",
      "weight        18177 non-null object\n",
      "avg           18177 non-null float64\n",
      "HR            18177 non-null int64\n",
      "dtypes: float64(1), int64(1), object(4)\n",
      "memory usage: 852.1+ KB\n",
      "None\n",
      "           name handedness height weight    avg   HR\n",
      "0  Brandon Hyde          R     75    210  0.000    0\n",
      "1   Carey Selph          R     69    175  0.277    0\n",
      "2  Philip Nastu          L     74    180  0.040    0\n",
      "3    Kent Hrbek          L     76    200  0.282  293\n",
      "4   Bill Risley          R     74    215  0.000    0\n"
     ]
    }
   ],
   "source": [
    "## Question (a)\n",
    "\n",
    "# import pandas as pd\n",
    "\n",
    "df = pd.read_csv('data/baseball_stats.csv')\n",
    "print(df.info())\n",
    "print(df.head())"
   ]
  },
  {
   "cell_type": "code",
   "execution_count": 24,
   "metadata": {
    "collapsed": false
   },
   "outputs": [
    {
     "name": "stdout",
     "output_type": "stream",
     "text": [
      "The player with the most HRs in the history of baseball is Barry Bonds.\n",
      "1121 players were switch hitters.\n",
      "Among those, the player with the most HRs is Mickey Mantle.\n"
     ]
    }
   ],
   "source": [
    "## Question (b)\n",
    "\n",
    "df.sort_values(by = 'HR', ascending = False, inplace = True)\n",
    "print('The player with the most HRs in the history of baseball is {}.'.format(df['name'].iloc[0]) )\n",
    "\n",
    "## Question (c)\n",
    "\n",
    "switch = df['handedness'] == 'B'\n",
    "## create a data set consisting of switch hitters only\n",
    "df_switch = df.loc[switch]\n",
    "print('{} players were switch hitters.'.format( len(df_switch) ) )\n",
    "print('Among those, the player with the most HRs is {}.'.format(df_switch['name'].iloc[0]) )"
   ]
  },
  {
   "cell_type": "code",
   "execution_count": 31,
   "metadata": {
    "collapsed": false
   },
   "outputs": [
    {
     "name": "stdout",
     "output_type": "stream",
     "text": [
      "Among players with a non-zero batting average, the mean average is 0.223.\n"
     ]
    }
   ],
   "source": [
    "## Question (d)\n",
    "\n",
    "index = df['avg'] > 0\n",
    "print('Among players with a non-zero batting average, the mean average is {:.3}.'.format(df['avg'].loc[index].mean()) )"
   ]
  },
  {
   "cell_type": "code",
   "execution_count": 36,
   "metadata": {
    "collapsed": false
   },
   "outputs": [
    {
     "name": "stdout",
     "output_type": "stream",
     "text": [
      "Ttest_indResult(statistic=-9.9357022262421069, pvalue=3.8102742258882745e-23)\n"
     ]
    }
   ],
   "source": [
    "## Question (e)\n",
    "\n",
    "# from scipy.stats import ttest_ind\n",
    "\n",
    "## sample of batting averages for right-handed batters \n",
    "y0 = df['avg'].loc[df['handedness'].map(lambda x: x == 'R')]\n",
    "## sample of batting averages for left-handed batters \n",
    "y1 = df['avg'].loc[df['handedness'].map(lambda x: x == 'L')]\n",
    "\n",
    "\n",
    "stat = ttest_ind(y0, y1, equal_var = False)\n",
    "print(stat)\n"
   ]
  }
 ],
 "metadata": {
  "kernelspec": {
   "display_name": "Python 3",
   "language": "python",
   "name": "python3"
  },
  "language_info": {
   "codemirror_mode": {
    "name": "ipython",
    "version": 3
   },
   "file_extension": ".py",
   "mimetype": "text/x-python",
   "name": "python",
   "nbconvert_exporter": "python",
   "pygments_lexer": "ipython3",
   "version": "3.5.3"
  }
 },
 "nbformat": 4,
 "nbformat_minor": 0
}
