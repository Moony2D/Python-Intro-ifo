{
 "cells": [
  {
   "cell_type": "markdown",
   "metadata": {},
   "source": [
    "# Introduction to Python - Data Analysis with Pandas \n",
    "\n",
    "## Problem Set"
   ]
  },
  {
   "cell_type": "code",
   "execution_count": 1,
   "metadata": {
    "collapsed": false
   },
   "outputs": [
    {
     "name": "stdout",
     "output_type": "stream",
     "text": [
      "Last update: 2017-05-29 11:15:54.550773\n"
     ]
    }
   ],
   "source": [
    "# Author: Alex Schmitt (schmitt@ifo.de)\n",
    "\n",
    "import datetime\n",
    "print('Last update: ' + str(datetime.datetime.today()))"
   ]
  },
  {
   "cell_type": "markdown",
   "metadata": {},
   "source": [
    "## Question 1\n",
    "\n",
    "Run the following cell from the lecture to load the data on Bundesliga champions into a Pandas Series."
   ]
  },
  {
   "cell_type": "code",
   "execution_count": 69,
   "metadata": {
    "collapsed": false
   },
   "outputs": [
    {
     "ename": "OSError",
     "evalue": "File b'data/champions.csv' does not exist",
     "output_type": "error",
     "traceback": [
      "\u001b[0;31m---------------------------------------------------------------------------\u001b[0m",
      "\u001b[0;31mOSError\u001b[0m                                   Traceback (most recent call last)",
      "\u001b[0;32m<ipython-input-69-60308272affa>\u001b[0m in \u001b[0;36m<module>\u001b[0;34m()\u001b[0m\n\u001b[1;32m      3\u001b[0m \u001b[1;32mimport\u001b[0m \u001b[0mnumpy\u001b[0m \u001b[1;32mas\u001b[0m \u001b[0mnp\u001b[0m\u001b[1;33m\u001b[0m\u001b[0m\n\u001b[1;32m      4\u001b[0m \u001b[1;32mimport\u001b[0m \u001b[0mstatsmodels\u001b[0m\u001b[1;33m.\u001b[0m\u001b[0mapi\u001b[0m \u001b[1;32mas\u001b[0m \u001b[0msm\u001b[0m\u001b[1;33m\u001b[0m\u001b[0m\n\u001b[0;32m----> 5\u001b[0;31m \u001b[0mDf\u001b[0m \u001b[1;33m=\u001b[0m \u001b[0mpd\u001b[0m\u001b[1;33m.\u001b[0m\u001b[0mread_csv\u001b[0m\u001b[1;33m(\u001b[0m\u001b[1;34m'data/champions.csv'\u001b[0m\u001b[1;33m)\u001b[0m\u001b[1;33m\u001b[0m\u001b[0m\n\u001b[0m\u001b[1;32m      6\u001b[0m \u001b[0mts\u001b[0m \u001b[1;33m=\u001b[0m \u001b[0mDf\u001b[0m\u001b[1;33m[\u001b[0m\u001b[1;34m'Club'\u001b[0m\u001b[1;33m]\u001b[0m\u001b[1;33m\u001b[0m\u001b[0m\n",
      "\u001b[0;32mC:\\Users\\huber\\AppData\\Local\\Continuum\\Anaconda3\\lib\\site-packages\\pandas\\io\\parsers.py\u001b[0m in \u001b[0;36mparser_f\u001b[0;34m(filepath_or_buffer, sep, delimiter, header, names, index_col, usecols, squeeze, prefix, mangle_dupe_cols, dtype, engine, converters, true_values, false_values, skipinitialspace, skiprows, skipfooter, nrows, na_values, keep_default_na, na_filter, verbose, skip_blank_lines, parse_dates, infer_datetime_format, keep_date_col, date_parser, dayfirst, iterator, chunksize, compression, thousands, decimal, lineterminator, quotechar, quoting, escapechar, comment, encoding, dialect, tupleize_cols, error_bad_lines, warn_bad_lines, skip_footer, doublequote, delim_whitespace, as_recarray, compact_ints, use_unsigned, low_memory, buffer_lines, memory_map, float_precision)\u001b[0m\n\u001b[1;32m    560\u001b[0m                     skip_blank_lines=skip_blank_lines)\n\u001b[1;32m    561\u001b[0m \u001b[1;33m\u001b[0m\u001b[0m\n\u001b[0;32m--> 562\u001b[0;31m         \u001b[1;32mreturn\u001b[0m \u001b[0m_read\u001b[0m\u001b[1;33m(\u001b[0m\u001b[0mfilepath_or_buffer\u001b[0m\u001b[1;33m,\u001b[0m \u001b[0mkwds\u001b[0m\u001b[1;33m)\u001b[0m\u001b[1;33m\u001b[0m\u001b[0m\n\u001b[0m\u001b[1;32m    563\u001b[0m \u001b[1;33m\u001b[0m\u001b[0m\n\u001b[1;32m    564\u001b[0m     \u001b[0mparser_f\u001b[0m\u001b[1;33m.\u001b[0m\u001b[0m__name__\u001b[0m \u001b[1;33m=\u001b[0m \u001b[0mname\u001b[0m\u001b[1;33m\u001b[0m\u001b[0m\n",
      "\u001b[0;32mC:\\Users\\huber\\AppData\\Local\\Continuum\\Anaconda3\\lib\\site-packages\\pandas\\io\\parsers.py\u001b[0m in \u001b[0;36m_read\u001b[0;34m(filepath_or_buffer, kwds)\u001b[0m\n\u001b[1;32m    313\u001b[0m \u001b[1;33m\u001b[0m\u001b[0m\n\u001b[1;32m    314\u001b[0m     \u001b[1;31m# Create the parser.\u001b[0m\u001b[1;33m\u001b[0m\u001b[1;33m\u001b[0m\u001b[0m\n\u001b[0;32m--> 315\u001b[0;31m     \u001b[0mparser\u001b[0m \u001b[1;33m=\u001b[0m \u001b[0mTextFileReader\u001b[0m\u001b[1;33m(\u001b[0m\u001b[0mfilepath_or_buffer\u001b[0m\u001b[1;33m,\u001b[0m \u001b[1;33m**\u001b[0m\u001b[0mkwds\u001b[0m\u001b[1;33m)\u001b[0m\u001b[1;33m\u001b[0m\u001b[0m\n\u001b[0m\u001b[1;32m    316\u001b[0m \u001b[1;33m\u001b[0m\u001b[0m\n\u001b[1;32m    317\u001b[0m     \u001b[1;32mif\u001b[0m \u001b[1;33m(\u001b[0m\u001b[0mnrows\u001b[0m \u001b[1;32mis\u001b[0m \u001b[1;32mnot\u001b[0m \u001b[1;32mNone\u001b[0m\u001b[1;33m)\u001b[0m \u001b[1;32mand\u001b[0m \u001b[1;33m(\u001b[0m\u001b[0mchunksize\u001b[0m \u001b[1;32mis\u001b[0m \u001b[1;32mnot\u001b[0m \u001b[1;32mNone\u001b[0m\u001b[1;33m)\u001b[0m\u001b[1;33m:\u001b[0m\u001b[1;33m\u001b[0m\u001b[0m\n",
      "\u001b[0;32mC:\\Users\\huber\\AppData\\Local\\Continuum\\Anaconda3\\lib\\site-packages\\pandas\\io\\parsers.py\u001b[0m in \u001b[0;36m__init__\u001b[0;34m(self, f, engine, **kwds)\u001b[0m\n\u001b[1;32m    643\u001b[0m             \u001b[0mself\u001b[0m\u001b[1;33m.\u001b[0m\u001b[0moptions\u001b[0m\u001b[1;33m[\u001b[0m\u001b[1;34m'has_index_names'\u001b[0m\u001b[1;33m]\u001b[0m \u001b[1;33m=\u001b[0m \u001b[0mkwds\u001b[0m\u001b[1;33m[\u001b[0m\u001b[1;34m'has_index_names'\u001b[0m\u001b[1;33m]\u001b[0m\u001b[1;33m\u001b[0m\u001b[0m\n\u001b[1;32m    644\u001b[0m \u001b[1;33m\u001b[0m\u001b[0m\n\u001b[0;32m--> 645\u001b[0;31m         \u001b[0mself\u001b[0m\u001b[1;33m.\u001b[0m\u001b[0m_make_engine\u001b[0m\u001b[1;33m(\u001b[0m\u001b[0mself\u001b[0m\u001b[1;33m.\u001b[0m\u001b[0mengine\u001b[0m\u001b[1;33m)\u001b[0m\u001b[1;33m\u001b[0m\u001b[0m\n\u001b[0m\u001b[1;32m    646\u001b[0m \u001b[1;33m\u001b[0m\u001b[0m\n\u001b[1;32m    647\u001b[0m     \u001b[1;32mdef\u001b[0m \u001b[0mclose\u001b[0m\u001b[1;33m(\u001b[0m\u001b[0mself\u001b[0m\u001b[1;33m)\u001b[0m\u001b[1;33m:\u001b[0m\u001b[1;33m\u001b[0m\u001b[0m\n",
      "\u001b[0;32mC:\\Users\\huber\\AppData\\Local\\Continuum\\Anaconda3\\lib\\site-packages\\pandas\\io\\parsers.py\u001b[0m in \u001b[0;36m_make_engine\u001b[0;34m(self, engine)\u001b[0m\n\u001b[1;32m    797\u001b[0m     \u001b[1;32mdef\u001b[0m \u001b[0m_make_engine\u001b[0m\u001b[1;33m(\u001b[0m\u001b[0mself\u001b[0m\u001b[1;33m,\u001b[0m \u001b[0mengine\u001b[0m\u001b[1;33m=\u001b[0m\u001b[1;34m'c'\u001b[0m\u001b[1;33m)\u001b[0m\u001b[1;33m:\u001b[0m\u001b[1;33m\u001b[0m\u001b[0m\n\u001b[1;32m    798\u001b[0m         \u001b[1;32mif\u001b[0m \u001b[0mengine\u001b[0m \u001b[1;33m==\u001b[0m \u001b[1;34m'c'\u001b[0m\u001b[1;33m:\u001b[0m\u001b[1;33m\u001b[0m\u001b[0m\n\u001b[0;32m--> 799\u001b[0;31m             \u001b[0mself\u001b[0m\u001b[1;33m.\u001b[0m\u001b[0m_engine\u001b[0m \u001b[1;33m=\u001b[0m \u001b[0mCParserWrapper\u001b[0m\u001b[1;33m(\u001b[0m\u001b[0mself\u001b[0m\u001b[1;33m.\u001b[0m\u001b[0mf\u001b[0m\u001b[1;33m,\u001b[0m \u001b[1;33m**\u001b[0m\u001b[0mself\u001b[0m\u001b[1;33m.\u001b[0m\u001b[0moptions\u001b[0m\u001b[1;33m)\u001b[0m\u001b[1;33m\u001b[0m\u001b[0m\n\u001b[0m\u001b[1;32m    800\u001b[0m         \u001b[1;32melse\u001b[0m\u001b[1;33m:\u001b[0m\u001b[1;33m\u001b[0m\u001b[0m\n\u001b[1;32m    801\u001b[0m             \u001b[1;32mif\u001b[0m \u001b[0mengine\u001b[0m \u001b[1;33m==\u001b[0m \u001b[1;34m'python'\u001b[0m\u001b[1;33m:\u001b[0m\u001b[1;33m\u001b[0m\u001b[0m\n",
      "\u001b[0;32mC:\\Users\\huber\\AppData\\Local\\Continuum\\Anaconda3\\lib\\site-packages\\pandas\\io\\parsers.py\u001b[0m in \u001b[0;36m__init__\u001b[0;34m(self, src, **kwds)\u001b[0m\n\u001b[1;32m   1211\u001b[0m         \u001b[0mkwds\u001b[0m\u001b[1;33m[\u001b[0m\u001b[1;34m'allow_leading_cols'\u001b[0m\u001b[1;33m]\u001b[0m \u001b[1;33m=\u001b[0m \u001b[0mself\u001b[0m\u001b[1;33m.\u001b[0m\u001b[0mindex_col\u001b[0m \u001b[1;32mis\u001b[0m \u001b[1;32mnot\u001b[0m \u001b[1;32mFalse\u001b[0m\u001b[1;33m\u001b[0m\u001b[0m\n\u001b[1;32m   1212\u001b[0m \u001b[1;33m\u001b[0m\u001b[0m\n\u001b[0;32m-> 1213\u001b[0;31m         \u001b[0mself\u001b[0m\u001b[1;33m.\u001b[0m\u001b[0m_reader\u001b[0m \u001b[1;33m=\u001b[0m \u001b[0m_parser\u001b[0m\u001b[1;33m.\u001b[0m\u001b[0mTextReader\u001b[0m\u001b[1;33m(\u001b[0m\u001b[0msrc\u001b[0m\u001b[1;33m,\u001b[0m \u001b[1;33m**\u001b[0m\u001b[0mkwds\u001b[0m\u001b[1;33m)\u001b[0m\u001b[1;33m\u001b[0m\u001b[0m\n\u001b[0m\u001b[1;32m   1214\u001b[0m \u001b[1;33m\u001b[0m\u001b[0m\n\u001b[1;32m   1215\u001b[0m         \u001b[1;31m# XXX\u001b[0m\u001b[1;33m\u001b[0m\u001b[1;33m\u001b[0m\u001b[0m\n",
      "\u001b[0;32mpandas\\parser.pyx\u001b[0m in \u001b[0;36mpandas.parser.TextReader.__cinit__ (pandas\\parser.c:3427)\u001b[0;34m()\u001b[0m\n",
      "\u001b[0;32mpandas\\parser.pyx\u001b[0m in \u001b[0;36mpandas.parser.TextReader._setup_parser_source (pandas\\parser.c:6861)\u001b[0;34m()\u001b[0m\n",
      "\u001b[0;31mOSError\u001b[0m: File b'data/champions.csv' does not exist"
     ]
    }
   ],
   "source": [
    "import pandas as pd\n",
    "import seaborn\n",
    "import numpy as np\n",
    "import statsmodels.api as sm\n",
    "Df = pd.read_csv('data/champions.csv')\n",
    "ts = Df['Club']"
   ]
  },
  {
   "cell_type": "markdown",
   "metadata": {},
   "source": [
    "(a) How many clubs became champion at least once? How often was Bayern Munich champion?\n",
    "\n",
    "(b) Use a Pandas command to see the first year in the data set. \n",
    "\n",
    "(c) Write a function that takes the data set and a year as arguments and prints the champion in this particular year. Which club won the championship in 1998? \n",
    "\n",
    "(d) Print out all clubs that were champions more than three times.\n",
    "\n",
    "(e) Write a function that takes a series and returns the club that has won the second-most championships since 1964. Hint: Useful for this question are the **value_counts** and **argmax** methods, and logical arrays.\n",
    "\n",
    "(f) Generate a bar chart with all champions since 1963/64, analogous to the one in the lecture. \n",
    "\n",
    "Bonus challenge: Answer question (f) *without using Pandas' plot method*. Compare the lecture notebook for help. You will need to find a way to get a list of all clubs in the data set, with each club appearing only once."
   ]
  },
  {
   "cell_type": "code",
   "execution_count": 70,
   "metadata": {
    "collapsed": false
   },
   "outputs": [
    {
     "ename": "NameError",
     "evalue": "name 'ts' is not defined",
     "output_type": "error",
     "traceback": [
      "\u001b[0;31m---------------------------------------------------------------------------\u001b[0m",
      "\u001b[0;31mNameError\u001b[0m                                 Traceback (most recent call last)",
      "\u001b[0;32m<ipython-input-70-90824a90a0e4>\u001b[0m in \u001b[0;36m<module>\u001b[0;34m()\u001b[0m\n\u001b[1;32m      1\u001b[0m \u001b[1;31m## (a): This information is provided in the describe method; alternatively, you can use the value_counts method\u001b[0m\u001b[1;33m\u001b[0m\u001b[1;33m\u001b[0m\u001b[0m\n\u001b[0;32m----> 2\u001b[0;31m \u001b[0mprint\u001b[0m\u001b[1;33m(\u001b[0m\u001b[0mts\u001b[0m\u001b[1;33m.\u001b[0m\u001b[0mdescribe\u001b[0m\u001b[1;33m(\u001b[0m\u001b[1;33m)\u001b[0m\u001b[1;33m)\u001b[0m\u001b[1;33m\u001b[0m\u001b[0m\n\u001b[0m\u001b[1;32m      3\u001b[0m \u001b[0mprint\u001b[0m\u001b[1;33m(\u001b[0m\u001b[1;34m''\u001b[0m\u001b[1;33m)\u001b[0m\u001b[1;33m\u001b[0m\u001b[0m\n\u001b[1;32m      4\u001b[0m \u001b[1;33m\u001b[0m\u001b[0m\n\u001b[1;32m      5\u001b[0m \u001b[1;31m## (b)\u001b[0m\u001b[1;33m\u001b[0m\u001b[1;33m\u001b[0m\u001b[0m\n",
      "\u001b[0;31mNameError\u001b[0m: name 'ts' is not defined"
     ]
    }
   ],
   "source": [
    "## (a): This information is provided in the describe method; alternatively, you can use the value_counts method\n",
    "print(ts.describe())\n",
    "print('')\n",
    "\n",
    "## (b) \n",
    "print('The first observation is from {}.'.format(ts.index[0]) )\n",
    "print('')\n",
    "\n",
    "## (c)\n",
    "def get_champ(ts, year):\n",
    "    print('In {}, {} was Bundesliga champion.'.format(year, ts[year]) )\n",
    "\n",
    "get_champ(ts, 1998)    \n",
    "print('')\n",
    "\n",
    "## (d)\n",
    "first = ts.value_counts()\n",
    "print(first.loc[ first > 3 ])\n",
    "print('')\n",
    "\n",
    "## (e)\n",
    "def second_most(series):\n",
    "    s_max = series.max()\n",
    "    return series[ series < s_max ].argmax()\n",
    "\n",
    "print('{} has won the second-most championships since 1964.'.format(second_most(first) ) )\n"
   ]
  },
  {
   "cell_type": "code",
   "execution_count": null,
   "metadata": {
    "collapsed": false
   },
   "outputs": [],
   "source": [
    "## question (d)\n",
    "first = ts.value_counts()\n",
    "first.plot(kind = 'bar', title = 'Number of Bundesliga Championships Since 1963/64')"
   ]
  },
  {
   "cell_type": "code",
   "execution_count": null,
   "metadata": {
    "collapsed": false
   },
   "outputs": [],
   "source": [
    "import matplotlib.pyplot as plt\n",
    "%matplotlib inline\n",
    "\n",
    "names = list(set(ts))\n",
    "ts_num = ts.replace(names, range(0,len(names)))\n",
    "count = ts_num.value_counts()\n",
    "\n",
    "fig, ax = plt.subplots()\n",
    "ax.bar(count.index, count)\n",
    "ax.set_xticks(range(len(names)))\n",
    "ax.set_xticklabels(names)\n",
    "ax.set_title('Number of Bundesliga Championships Since 1963/64')"
   ]
  },
  {
   "cell_type": "markdown",
   "metadata": {},
   "source": [
    "As an aside, if you don't the overlapping labels in the graph above, you can replace the names with abbreviations. here's a way to do this:"
   ]
  },
  {
   "cell_type": "code",
   "execution_count": null,
   "metadata": {
    "collapsed": false
   },
   "outputs": [],
   "source": [
    "labels = {'FC Bayern München': 'FCB', 'Hamburger SV': 'HSV', 'Borussia Mönchengladbach': 'BMG', \\\n",
    "          'Werder Bremen': 'SVW', '1. FC Kaiserslautern': 'FCK', 'VfL Wolfsburg': 'WOL', \\\n",
    "          'Borussia Dortmund': 'BVB', 'TSV 1860 München': '1860', '1. FC Köln': '1FC', '1. FC Nürnberg': 'FCN', \\\n",
    "          'Eintracht Braunschweig': 'EBR', 'VfB Stuttgart': 'VfB'}\n",
    "label_names = [labels[name] for name in names]\n",
    "\n",
    "fig, ax = plt.subplots()\n",
    "ax.bar(count.index, count)\n",
    "ax.set_xticks(range(len(names)))\n",
    "ax.set_xticklabels(label_names, fontsize=10)\n",
    "ax.set_title('Number of Bundesliga Championships Since 1963/64')"
   ]
  },
  {
   "cell_type": "markdown",
   "metadata": {},
   "source": [
    "## Question 2\n",
    "\n",
    "Run the cell below which imports the data set on Bundesliga players and performs an operation similar to the one in the lecture, to get a column with last names and a column with first names."
   ]
  },
  {
   "cell_type": "code",
   "execution_count": null,
   "metadata": {
    "collapsed": false
   },
   "outputs": [],
   "source": [
    "df = pd.read_csv('data/BundesligaData.csv', sep = ';')\n",
    "\n",
    "def reverse_name(name):\n",
    "    L = name.split(\" \")\n",
    "    try:\n",
    "        S = L[1] + \" \" + L[0]\n",
    "    except:\n",
    "        S = L[0]\n",
    "    \n",
    "    return S\n",
    "\n",
    "df['name'] = df['name'].apply(reverse_name)\n",
    "names = df['name'].str.split(expand=True)\n",
    "# replace column 'name'\n",
    "df['name'] = names[0]\n",
    "## add column 'first name'\n",
    "df['first_name'] = names[1]\n",
    "## make name the index\n",
    "df.set_index('name', drop = True, inplace = True)"
   ]
  },
  {
   "cell_type": "markdown",
   "metadata": {},
   "source": [
    "(a) Who got the most scorer points in the 2016/17 season, and how many points did he get? A scorer point is awarded for both a goal and an assist.\n",
    "\n",
    "(b) Are there any players in the data set that are younger than 25 and have scored more than 10 goals?\n",
    "\n",
    "(c) At which positions do the players with the most red cards, the most yellow cards, and the most aerials won play?\n",
    "\n",
    "(d) For the first five players, update the **'goals'** column with the the number of goals they scored on the matchday 34, namely {'Lewandowski' : 0, 'Aubameyang': 2, 'Mueller': 0, Costa': 0, 'Reus': 1}.\n"
   ]
  },
  {
   "cell_type": "code",
   "execution_count": null,
   "metadata": {
    "collapsed": false
   },
   "outputs": [],
   "source": [
    "## question (a)\n",
    "\n",
    "## define a series called 'points'\n",
    "points = df['goals'] + df['assists']\n",
    "## use argmax and max methods\n",
    "print(points.argmax() )\n",
    "print(points.max())"
   ]
  },
  {
   "cell_type": "code",
   "execution_count": null,
   "metadata": {
    "collapsed": false
   },
   "outputs": [],
   "source": [
    "## question (b)\n",
    "A = (df['age'] < 25) & (df['goals'] >= 10)\n",
    "# print( A.any() )\n",
    "\n",
    "list(df.loc[A].index)"
   ]
  },
  {
   "cell_type": "code",
   "execution_count": null,
   "metadata": {
    "collapsed": false
   },
   "outputs": [],
   "source": [
    "## question (c)\n",
    "print( df['position'].loc[ df['red'].argmax() ] )\n",
    "print( df['position'].loc[ df['yellow'].argmax() ] )\n",
    "print( df['position'].loc[ df['aerialswon'].argmax() ] )"
   ]
  },
  {
   "cell_type": "code",
   "execution_count": null,
   "metadata": {
    "collapsed": false
   },
   "outputs": [],
   "source": [
    "## question (d)\n",
    "goals_34 = {'Lewandowski' : 0, 'Aubameyang': 2, 'Mueller': 0, 'Costa': 0, 'Reus': 1}\n",
    "goals_34 = pd.Series(goals_34)\n",
    "df['goals'] = df['goals'].add(goals_34, fill_value = 0)\n",
    "df.head()"
   ]
  },
  {
   "cell_type": "markdown",
   "metadata": {},
   "source": [
    "## Question 3\n",
    "\n",
    "The dataset used in this question comes from baseball, which may be a less-than exciting sport, but also one that generates a lot of data and is therefore very popular among (North American) data scientists. The file 'baseball_stats.csv' contains information on more than 18,000 players that have played in the US baseball league MLB at some point. The data includes the name, height and weight of a player, moreover its \"handedness\" (whether he bats with his left or right hand or both), his batting average (the percentage of at-bats in which he recorded a hit) and the number of home runs.\n",
    "\n",
    "(a) Import the Pandas package and read the data in a Pandas dataframe. Use the **info** or the **head** method to make sure the data has been stored properly. \n",
    "\n",
    "(b) Find the player with the most homeruns in the history of the MLB. \n",
    "\n",
    "(c) How many players were recorded to be \"switch hitters\", i.e. to bat both left-handed or right-handed? Who has scored the most homeruns among this group?\n",
    "\n",
    "(d) How often does an MLB player hit the ball on average? Using the **describe** method, you can see that the mean batting average is about 0.17. However, this includes a lot of players with an average of 0. Compute the mean batting average among those players who have actually hit something, i.e. with an average *greater than zero*.\n",
    "\n",
    "(e) A popular question among baseball fans and analysts is whether there is a inherent difference in the batting performance between left- or right-handed batters. We can use a t-test to check the hypothesis that both groups come from the same population, i.e. that there is no systematic difference and all observed difference is due to sampling. Use the **ttest_ind** function in Scipy's **scipy.stats** module to compute a t-statistic under the null hypothesis\n",
    "\\begin{equation}\n",
    "    \\text{avg}_{LH} - \\text{avg}_{RH} = 0.\n",
    "\\end{equation}\n",
    "What can you conclude?\n"
   ]
  },
  {
   "cell_type": "code",
   "execution_count": null,
   "metadata": {
    "collapsed": false
   },
   "outputs": [],
   "source": [
    "## Question (a)\n",
    "\n",
    "# import pandas as pd\n",
    "\n",
    "df = pd.read_csv('data/baseball_stats.csv')\n",
    "print(df.info())\n",
    "print('')\n",
    "print(df.head())"
   ]
  },
  {
   "cell_type": "code",
   "execution_count": null,
   "metadata": {
    "collapsed": false
   },
   "outputs": [],
   "source": [
    "## Question (b)\n",
    "ind = df['HR'].argmax()\n",
    "print('The player with the most HRs in the history of baseball is {}.'.format(df['name'].loc[ind]) )\n",
    "\n",
    "## alternative: sort_values and use iloc\n",
    "# df.sort_values(by = 'HR', ascending = False, inplace = True)\n",
    "# print('The player with the most HRs in the history of baseball is {}.'.format(df['name'].iloc[0]) )\n",
    "\n"
   ]
  },
  {
   "cell_type": "code",
   "execution_count": null,
   "metadata": {
    "collapsed": false
   },
   "outputs": [],
   "source": [
    "## Question (c)\n",
    "switch = df['handedness'] == 'B'\n",
    "## create a data set consisting of switch hitters only\n",
    "df_switch = df.loc[switch]\n",
    "print('{} players were switch hitters.'.format( len(df_switch) ) )\n",
    "print('Among those, the player with the most HRs is {}.'.format( df_switch['name'].loc[df_switch['HR'].argmax()] ) )"
   ]
  },
  {
   "cell_type": "code",
   "execution_count": null,
   "metadata": {
    "collapsed": false
   },
   "outputs": [],
   "source": [
    "## Question (d)\n",
    "index = df['avg'] > 0\n",
    "print('Among players with a non-zero batting average, the mean average is {:.3}.'.format(df['avg'].loc[index].mean()) )"
   ]
  },
  {
   "cell_type": "code",
   "execution_count": null,
   "metadata": {
    "collapsed": false
   },
   "outputs": [],
   "source": [
    "## Question (e)\n",
    "\n",
    "# from scipy.stats import ttest_ind\n",
    "\n",
    "## sample of batting averages for right-handed batters \n",
    "y0 = df['avg'].loc[df['handedness'].map(lambda x: x == 'R')]\n",
    "## sample of batting averages for left-handed batters \n",
    "y1 = df['avg'].loc[df['handedness'].map(lambda x: x == 'L')]\n",
    "\n",
    "\n",
    "stat = ttest_ind(y0, y1, equal_var = False)\n",
    "print(stat)\n"
   ]
  },
  {
   "cell_type": "markdown",
   "metadata": {},
   "source": [
    "## Question 4\n",
    "This last question will be of a more open style. The idea is to use data from worldbank and perform some interesting analysis. There is a nice package called **wbdata**, which allows you to conveniently download all kinds of data from the worldbank to a pandas dataframe. We will give you only some hints here but refer to http://wbdata.readthedocs.io/en/latest/ for a description of the package and its use. The data can by downloaded and automatically stored in a dataframe. For using wbdata, you have to first install the package (in command window with \"pip install wbdata\") and then just import it by **import wbdata**.\n",
    "\n",
    "(a) Download data on GPD ('NY.GDP.MKTP.KD'), GCF ('NE.GDI.TOTL.KD'), Emissions ('EN.ATM.GHGT.KT.CE'), Population ('SP.POP.TOTL') and store the data in a dataframe that you can work with afterwards. (Hint: As the dataframe will be multiindex, please use **df.unstack(level=0)**). Additionally, it might be easier to work with the data if you delete the name of the index by **del df.index.name**. We will use data from 1972 to 2012 in our analysis. If you are interested, you can play around with other time horizons as well.\n",
    "\n",
    "(b) Write a function that computes the development of the phyisical capital stock from the annual investements in each country.\n",
    "\n",
    "(c) Visualize the data: Plot a timeseries of the global GDP and global CO2 emissions (Use country name \"World\" to plot global values)\n",
    "\n",
    "(d) Finally, we are going to make some regression analysis. Therefore, (d1) regresse the log of GDP over the log of population and log of capital stock, (d2) the log of GDP over the log of capital-population, (d3) the log of GDP the log of capital and the log of emissions, both substracted the population.\n"
   ]
  },
  {
   "cell_type": "code",
   "execution_count": 118,
   "metadata": {
    "collapsed": false
   },
   "outputs": [],
   "source": [
    "import wbdata\n",
    "import pandas\n",
    "import matplotlib.pyplot as plt"
   ]
  },
  {
   "cell_type": "markdown",
   "metadata": {
    "collapsed": false
   },
   "source": [
    "Executing the following script allows you to download data from the worldbank.\n",
    "First, set up the countries that your are interested:\n",
    "\n",
    "**countries = [\"CL\",\"UY\",\"HU\"]**\n",
    " \n",
    "The, set up the indicator that you want to download, e.g.:\n",
    "**indicators = {'NY.GNP.PCAP.CD':'GNI per Capita'}**\n",
    "\n",
    "\n",
    "The load into data frame\n",
    "**df = wbdata.get_dataframe(indicators, country=countries, convert_date=False)**\n",
    "\n",
    "If you want to download just all countries, do not specify the country option\n",
    "**df = wbdata.get_dataframe(indicators, convert_date=False)**\n",
    "\n",
    "\n",
    "As df is \"pivoted\", pandas' unstack fucntion helps reshape it into something more useful for further analysis as we did not learn how to work with multiindex so far.\n",
    "**dfu = df.unstack(level=0)**\n",
    "\n",
    "Other interesting functions are the list of all topics available:\n",
    "**wbdata.get_source()**\n",
    "or the search function that allows you to search for specific data:\n",
    "**wbdata.search_indicators(\"Population\")**"
   ]
  },
  {
   "cell_type": "code",
   "execution_count": 119,
   "metadata": {
    "collapsed": false
   },
   "outputs": [],
   "source": [
    "# (a)\n",
    "\n",
    "# wbdata.search_indicators(\"GDP\")\n",
    "# Hint: we use NY.GDP.MKTP.KD     \n",
    "#EN.ATM.GHGT.KT.CE   \tTotal greenhouse gas emissions (kt of CO2 equivalent)\n",
    "indicators={'NY.GDP.MKTP.KD':'gdp','NE.GDI.TOTL.KD':'gcf','EN.ATM.GHGT.KT.CE':'co2','SP.POP.TOTL':'pop'}\n",
    "D = wbdata.get_dataframe(indicators, convert_date=False)\n",
    "D=D.unstack(level=0)"
   ]
  },
  {
   "cell_type": "code",
   "execution_count": 120,
   "metadata": {
    "collapsed": false
   },
   "outputs": [],
   "source": [
    "start_year, end_year = '1972', '2012'\n",
    "Y = D['gdp'].loc[start_year:end_year] * 1e-12\n",
    "I = D['gcf'].loc[start_year:end_year] * 1e-12\n",
    "E = D['co2'].loc[start_year:end_year] * 1e-6  ## convert emissions to Gt\n",
    "H = D['pop'].loc[start_year:end_year] * 1e-9  ## convert population to billion\n",
    "\n",
    "del Y.index.name\n",
    "del I.index.name\n",
    "del E.index.name\n",
    "del H.index.name"
   ]
  },
  {
   "cell_type": "code",
   "execution_count": 121,
   "metadata": {
    "collapsed": false
   },
   "outputs": [],
   "source": [
    "# (b)\n",
    "delta = 0.08\n",
    "K = I.copy()\n",
    "T = len(I)\n",
    "for country in K:\n",
    "    k0 = (D['gcf'][country].loc['1992':'1995']/D['gdp'][country].loc['1992':'1995']).mean() / delta \\\n",
    "            * D['gdp'][country].loc['1992'] * 1e-12\n",
    "        \n",
    "    K[country].iloc[0] = k0\n",
    "    for t in range(T-1):\n",
    "         K[country].iloc[t+1] = (1 - delta) * K[country].iloc[t] + I[country].iloc[t]"
   ]
  },
  {
   "cell_type": "code",
   "execution_count": 122,
   "metadata": {
    "collapsed": false
   },
   "outputs": [
    {
     "name": "stderr",
     "output_type": "stream",
     "text": [
      "C:\\Users\\huber\\AppData\\Local\\Continuum\\Anaconda3\\lib\\site-packages\\numpy\\lib\\function_base.py:3834: RuntimeWarning: Invalid value encountered in percentile\n",
      "  RuntimeWarning)\n"
     ]
    },
    {
     "data": {
      "text/html": [
       "<div>\n",
       "<table border=\"1\" class=\"dataframe\">\n",
       "  <thead>\n",
       "    <tr style=\"text-align: right;\">\n",
       "      <th>country</th>\n",
       "      <th>Afghanistan</th>\n",
       "      <th>Albania</th>\n",
       "      <th>Algeria</th>\n",
       "      <th>American Samoa</th>\n",
       "      <th>Andorra</th>\n",
       "      <th>Angola</th>\n",
       "      <th>Antigua and Barbuda</th>\n",
       "      <th>Arab World</th>\n",
       "      <th>Argentina</th>\n",
       "      <th>Armenia</th>\n",
       "      <th>...</th>\n",
       "      <th>Uzbekistan</th>\n",
       "      <th>Vanuatu</th>\n",
       "      <th>Venezuela, RB</th>\n",
       "      <th>Vietnam</th>\n",
       "      <th>Virgin Islands (U.S.)</th>\n",
       "      <th>West Bank and Gaza</th>\n",
       "      <th>World</th>\n",
       "      <th>Yemen, Rep.</th>\n",
       "      <th>Zambia</th>\n",
       "      <th>Zimbabwe</th>\n",
       "    </tr>\n",
       "  </thead>\n",
       "  <tbody>\n",
       "    <tr>\n",
       "      <th>count</th>\n",
       "      <td>11.000000</td>\n",
       "      <td>33.000000</td>\n",
       "      <td>41.000000</td>\n",
       "      <td>11.000000</td>\n",
       "      <td>41.000000</td>\n",
       "      <td>28.000000</td>\n",
       "      <td>36.000000</td>\n",
       "      <td>38.000000</td>\n",
       "      <td>41.000000</td>\n",
       "      <td>23.000000</td>\n",
       "      <td>...</td>\n",
       "      <td>26.000000</td>\n",
       "      <td>34.000000</td>\n",
       "      <td>41.000000</td>\n",
       "      <td>29.000000</td>\n",
       "      <td>11.000000</td>\n",
       "      <td>19.000000</td>\n",
       "      <td>41.000000</td>\n",
       "      <td>23.000000</td>\n",
       "      <td>41.000000</td>\n",
       "      <td>41.000000</td>\n",
       "    </tr>\n",
       "    <tr>\n",
       "      <th>mean</th>\n",
       "      <td>0.012392</td>\n",
       "      <td>0.007316</td>\n",
       "      <td>0.099388</td>\n",
       "      <td>0.000601</td>\n",
       "      <td>0.002253</td>\n",
       "      <td>0.042953</td>\n",
       "      <td>0.000784</td>\n",
       "      <td>1.157816</td>\n",
       "      <td>0.268288</td>\n",
       "      <td>0.006189</td>\n",
       "      <td>...</td>\n",
       "      <td>0.024317</td>\n",
       "      <td>0.000457</td>\n",
       "      <td>0.269956</td>\n",
       "      <td>0.061334</td>\n",
       "      <td>0.004166</td>\n",
       "      <td>0.007104</td>\n",
       "      <td>41.458656</td>\n",
       "      <td>0.021011</td>\n",
       "      <td>0.010342</td>\n",
       "      <td>0.010932</td>\n",
       "    </tr>\n",
       "    <tr>\n",
       "      <th>std</th>\n",
       "      <td>0.003801</td>\n",
       "      <td>0.002442</td>\n",
       "      <td>0.034864</td>\n",
       "      <td>0.000027</td>\n",
       "      <td>0.000877</td>\n",
       "      <td>0.021349</td>\n",
       "      <td>0.000317</td>\n",
       "      <td>0.501574</td>\n",
       "      <td>0.077570</td>\n",
       "      <td>0.002652</td>\n",
       "      <td>...</td>\n",
       "      <td>0.008552</td>\n",
       "      <td>0.000140</td>\n",
       "      <td>0.070762</td>\n",
       "      <td>0.033427</td>\n",
       "      <td>0.000342</td>\n",
       "      <td>0.001936</td>\n",
       "      <td>14.578867</td>\n",
       "      <td>0.005773</td>\n",
       "      <td>0.004196</td>\n",
       "      <td>0.002735</td>\n",
       "    </tr>\n",
       "    <tr>\n",
       "      <th>min</th>\n",
       "      <td>0.008013</td>\n",
       "      <td>0.004037</td>\n",
       "      <td>0.044251</td>\n",
       "      <td>0.000552</td>\n",
       "      <td>0.001158</td>\n",
       "      <td>0.022177</td>\n",
       "      <td>0.000307</td>\n",
       "      <td>0.503996</td>\n",
       "      <td>0.181657</td>\n",
       "      <td>0.002980</td>\n",
       "      <td>...</td>\n",
       "      <td>0.016593</td>\n",
       "      <td>0.000239</td>\n",
       "      <td>0.170929</td>\n",
       "      <td>0.022467</td>\n",
       "      <td>0.003386</td>\n",
       "      <td>0.003621</td>\n",
       "      <td>20.901937</td>\n",
       "      <td>0.011726</td>\n",
       "      <td>0.007139</td>\n",
       "      <td>0.007070</td>\n",
       "    </tr>\n",
       "    <tr>\n",
       "      <th>25%</th>\n",
       "      <td>NaN</td>\n",
       "      <td>NaN</td>\n",
       "      <td>0.076732</td>\n",
       "      <td>NaN</td>\n",
       "      <td>0.001477</td>\n",
       "      <td>NaN</td>\n",
       "      <td>NaN</td>\n",
       "      <td>NaN</td>\n",
       "      <td>0.206455</td>\n",
       "      <td>NaN</td>\n",
       "      <td>...</td>\n",
       "      <td>NaN</td>\n",
       "      <td>NaN</td>\n",
       "      <td>0.216982</td>\n",
       "      <td>NaN</td>\n",
       "      <td>NaN</td>\n",
       "      <td>NaN</td>\n",
       "      <td>28.399966</td>\n",
       "      <td>NaN</td>\n",
       "      <td>0.007748</td>\n",
       "      <td>0.008460</td>\n",
       "    </tr>\n",
       "    <tr>\n",
       "      <th>50%</th>\n",
       "      <td>NaN</td>\n",
       "      <td>NaN</td>\n",
       "      <td>0.091260</td>\n",
       "      <td>NaN</td>\n",
       "      <td>0.002000</td>\n",
       "      <td>NaN</td>\n",
       "      <td>NaN</td>\n",
       "      <td>NaN</td>\n",
       "      <td>0.245192</td>\n",
       "      <td>NaN</td>\n",
       "      <td>...</td>\n",
       "      <td>NaN</td>\n",
       "      <td>NaN</td>\n",
       "      <td>0.258243</td>\n",
       "      <td>NaN</td>\n",
       "      <td>NaN</td>\n",
       "      <td>NaN</td>\n",
       "      <td>39.005315</td>\n",
       "      <td>NaN</td>\n",
       "      <td>0.008388</td>\n",
       "      <td>0.010500</td>\n",
       "    </tr>\n",
       "    <tr>\n",
       "      <th>75%</th>\n",
       "      <td>NaN</td>\n",
       "      <td>NaN</td>\n",
       "      <td>0.120126</td>\n",
       "      <td>NaN</td>\n",
       "      <td>0.002943</td>\n",
       "      <td>NaN</td>\n",
       "      <td>NaN</td>\n",
       "      <td>NaN</td>\n",
       "      <td>0.305641</td>\n",
       "      <td>NaN</td>\n",
       "      <td>...</td>\n",
       "      <td>NaN</td>\n",
       "      <td>NaN</td>\n",
       "      <td>0.296839</td>\n",
       "      <td>NaN</td>\n",
       "      <td>NaN</td>\n",
       "      <td>NaN</td>\n",
       "      <td>51.948794</td>\n",
       "      <td>NaN</td>\n",
       "      <td>0.010876</td>\n",
       "      <td>0.012857</td>\n",
       "    </tr>\n",
       "    <tr>\n",
       "      <th>max</th>\n",
       "      <td>0.019352</td>\n",
       "      <td>0.012405</td>\n",
       "      <td>0.171467</td>\n",
       "      <td>0.000632</td>\n",
       "      <td>0.004022</td>\n",
       "      <td>0.090121</td>\n",
       "      <td>0.001390</td>\n",
       "      <td>2.292971</td>\n",
       "      <td>0.449062</td>\n",
       "      <td>0.010554</td>\n",
       "      <td>...</td>\n",
       "      <td>0.046090</td>\n",
       "      <td>0.000722</td>\n",
       "      <td>0.433329</td>\n",
       "      <td>0.129629</td>\n",
       "      <td>0.004606</td>\n",
       "      <td>0.011009</td>\n",
       "      <td>69.544746</td>\n",
       "      <td>0.030907</td>\n",
       "      <td>0.023019</td>\n",
       "      <td>0.015913</td>\n",
       "    </tr>\n",
       "  </tbody>\n",
       "</table>\n",
       "<p>8 rows × 264 columns</p>\n",
       "</div>"
      ],
      "text/plain": [
       "country  Afghanistan    Albania    Algeria  American Samoa    Andorra  \\\n",
       "count      11.000000  33.000000  41.000000       11.000000  41.000000   \n",
       "mean        0.012392   0.007316   0.099388        0.000601   0.002253   \n",
       "std         0.003801   0.002442   0.034864        0.000027   0.000877   \n",
       "min         0.008013   0.004037   0.044251        0.000552   0.001158   \n",
       "25%              NaN        NaN   0.076732             NaN   0.001477   \n",
       "50%              NaN        NaN   0.091260             NaN   0.002000   \n",
       "75%              NaN        NaN   0.120126             NaN   0.002943   \n",
       "max         0.019352   0.012405   0.171467        0.000632   0.004022   \n",
       "\n",
       "country     Angola  Antigua and Barbuda  Arab World  Argentina    Armenia  \\\n",
       "count    28.000000            36.000000   38.000000  41.000000  23.000000   \n",
       "mean      0.042953             0.000784    1.157816   0.268288   0.006189   \n",
       "std       0.021349             0.000317    0.501574   0.077570   0.002652   \n",
       "min       0.022177             0.000307    0.503996   0.181657   0.002980   \n",
       "25%            NaN                  NaN         NaN   0.206455        NaN   \n",
       "50%            NaN                  NaN         NaN   0.245192        NaN   \n",
       "75%            NaN                  NaN         NaN   0.305641        NaN   \n",
       "max       0.090121             0.001390    2.292971   0.449062   0.010554   \n",
       "\n",
       "country    ...      Uzbekistan    Vanuatu  Venezuela, RB    Vietnam  \\\n",
       "count      ...       26.000000  34.000000      41.000000  29.000000   \n",
       "mean       ...        0.024317   0.000457       0.269956   0.061334   \n",
       "std        ...        0.008552   0.000140       0.070762   0.033427   \n",
       "min        ...        0.016593   0.000239       0.170929   0.022467   \n",
       "25%        ...             NaN        NaN       0.216982        NaN   \n",
       "50%        ...             NaN        NaN       0.258243        NaN   \n",
       "75%        ...             NaN        NaN       0.296839        NaN   \n",
       "max        ...        0.046090   0.000722       0.433329   0.129629   \n",
       "\n",
       "country  Virgin Islands (U.S.)  West Bank and Gaza      World  Yemen, Rep.  \\\n",
       "count                11.000000           19.000000  41.000000    23.000000   \n",
       "mean                  0.004166            0.007104  41.458656     0.021011   \n",
       "std                   0.000342            0.001936  14.578867     0.005773   \n",
       "min                   0.003386            0.003621  20.901937     0.011726   \n",
       "25%                        NaN                 NaN  28.399966          NaN   \n",
       "50%                        NaN                 NaN  39.005315          NaN   \n",
       "75%                        NaN                 NaN  51.948794          NaN   \n",
       "max                   0.004606            0.011009  69.544746     0.030907   \n",
       "\n",
       "country     Zambia   Zimbabwe  \n",
       "count    41.000000  41.000000  \n",
       "mean      0.010342   0.010932  \n",
       "std       0.004196   0.002735  \n",
       "min       0.007139   0.007070  \n",
       "25%       0.007748   0.008460  \n",
       "50%       0.008388   0.010500  \n",
       "75%       0.010876   0.012857  \n",
       "max       0.023019   0.015913  \n",
       "\n",
       "[8 rows x 264 columns]"
      ]
     },
     "execution_count": 122,
     "metadata": {},
     "output_type": "execute_result"
    }
   ],
   "source": [
    "Y.describe()"
   ]
  },
  {
   "cell_type": "code",
   "execution_count": 123,
   "metadata": {
    "collapsed": false
   },
   "outputs": [
    {
     "name": "stdout",
     "output_type": "stream",
     "text": [
      "False False\n"
     ]
    }
   ],
   "source": [
    "## check for NaNs\n",
    "print(Y.notnull().all().all(), I.notnull().all().all())"
   ]
  },
  {
   "cell_type": "code",
   "execution_count": 124,
   "metadata": {
    "collapsed": false
   },
   "outputs": [
    {
     "data": {
      "image/png": "[encoded data removed]",
      "text/plain": [
       "<matplotlib.figure.Figure at 0x157cf459c50>"
      ]
     },
     "metadata": {},
     "output_type": "display_data"
    }
   ],
   "source": [
    "# (c)\n",
    "# Visualize data\n",
    "fig, ax1 = plt.subplots()\n",
    "ax1.plot(Y['World'], color = 'b', label = \"GDP\")\n",
    "ax2 = ax1.twinx()\n",
    "ax2.plot(E['World'], color = 'r', label = 'CO2 Emissions')\n",
    "\n",
    "ax1.set_xlabel('Year')\n",
    "# Make the y-axis label, ticks and tick labels match the line color.\n",
    "ax1.set_ylabel('tr USD (2010)', color='b')\n",
    "ax1.tick_params('y', colors='b')\n",
    "\n",
    "ax2.set_ylabel('GtCO2', color='r')\n",
    "ax2.tick_params('y', colors='r')\n",
    "ax1.legend(loc = 'upper left')\n",
    "ax2.legend()\n",
    "plt.show()\n"
   ]
  },
  {
   "cell_type": "code",
   "execution_count": 125,
   "metadata": {
    "collapsed": false
   },
   "outputs": [
    {
     "name": "stdout",
     "output_type": "stream",
     "text": [
      "                            OLS Regression Results                            \n",
      "==============================================================================\n",
      "Dep. Variable:                  World   R-squared:                       0.997\n",
      "Model:                            OLS   Adj. R-squared:                  0.997\n",
      "Method:                 Least Squares   F-statistic:                     6839.\n",
      "Date:                Wed, 31 May 2017   Prob (F-statistic):           2.56e-49\n",
      "Time:                        14:48:47   Log-Likelihood:                 105.24\n",
      "No. Observations:                  41   AIC:                            -204.5\n",
      "Df Residuals:                      38   BIC:                            -199.3\n",
      "Df Model:                           2                                         \n",
      "Covariance Type:            nonrobust                                         \n",
      "==============================================================================\n",
      "                 coef    std err          t      P>|t|      [95.0% Conf. Int.]\n",
      "------------------------------------------------------------------------------\n",
      "const         -0.3048      0.104     -2.921      0.006        -0.516    -0.094\n",
      "x1             0.2024      0.028      7.304      0.000         0.146     0.259\n",
      "x2             1.8006      0.024     75.499      0.000         1.752     1.849\n",
      "==============================================================================\n",
      "Omnibus:                        3.139   Durbin-Watson:                   0.603\n",
      "Prob(Omnibus):                  0.208   Jarque-Bera (JB):                1.805\n",
      "Skew:                           0.247   Prob(JB):                        0.406\n",
      "Kurtosis:                       2.098   Cond. No.                         182.\n",
      "==============================================================================\n",
      "\n",
      "Warnings:\n",
      "[1] Standard Errors assume that the covariance matrix of the errors is correctly specified.\n"
     ]
    }
   ],
   "source": [
    "#(d)\n",
    "## convert data to np array\n",
    "\n",
    "X = np.column_stack( ( np.log(K['World']), np.log(H['World']) ) )\n",
    "X = sm.add_constant(X)\n",
    "y = np.log(Y['World'])\n",
    "\n",
    "res = sm.OLS(y, X).fit()\n",
    "print(res.summary())"
   ]
  },
  {
   "cell_type": "code",
   "execution_count": 126,
   "metadata": {
    "collapsed": false
   },
   "outputs": [
    {
     "name": "stdout",
     "output_type": "stream",
     "text": [
      "                            OLS Regression Results                            \n",
      "==============================================================================\n",
      "Dep. Variable:                  World   R-squared:                       0.990\n",
      "Model:                            OLS   Adj. R-squared:                  0.990\n",
      "Method:                 Least Squares   F-statistic:                     1972.\n",
      "Date:                Wed, 31 May 2017   Prob (F-statistic):           4.12e-39\n",
      "Time:                        14:48:47   Log-Likelihood:                 109.45\n",
      "No. Observations:                  41   AIC:                            -212.9\n",
      "Df Residuals:                      38   BIC:                            -207.8\n",
      "Df Model:                           2                                         \n",
      "Covariance Type:            nonrobust                                         \n",
      "==============================================================================\n",
      "                 coef    std err          t      P>|t|      [95.0% Conf. Int.]\n",
      "------------------------------------------------------------------------------\n",
      "const          1.4327      0.074     19.268      0.000         1.282     1.583\n",
      "x1             0.0852      0.024      3.557      0.001         0.037     0.134\n",
      "x2             0.0149      0.000     56.905      0.000         0.014     0.015\n",
      "==============================================================================\n",
      "Omnibus:                        3.245   Durbin-Watson:                   0.705\n",
      "Prob(Omnibus):                  0.197   Jarque-Bera (JB):                2.292\n",
      "Skew:                           0.405   Prob(JB):                        0.318\n",
      "Kurtosis:                       2.171   Cond. No.                         672.\n",
      "==============================================================================\n",
      "\n",
      "Warnings:\n",
      "[1] Standard Errors assume that the covariance matrix of the errors is correctly specified.\n"
     ]
    }
   ],
   "source": [
    "y = np.log(Y['World']) - np.log(H['World'])\n",
    "\n",
    "t = np.array(range(len(y)))\n",
    "X = np.column_stack( (np.log(K['World']) - np.log(H['World']), t) )\n",
    "X = sm.add_constant(X)\n",
    "\n",
    "res = sm.OLS(y, X).fit()\n",
    "print(res.summary())"
   ]
  },
  {
   "cell_type": "code",
   "execution_count": 127,
   "metadata": {
    "collapsed": false
   },
   "outputs": [
    {
     "name": "stdout",
     "output_type": "stream",
     "text": [
      "                            OLS Regression Results                            \n",
      "==============================================================================\n",
      "Dep. Variable:                  World   R-squared:                       0.992\n",
      "Model:                            OLS   Adj. R-squared:                  0.991\n",
      "Method:                 Least Squares   F-statistic:                     1536.\n",
      "Date:                Wed, 31 May 2017   Prob (F-statistic):           7.30e-39\n",
      "Time:                        14:48:47   Log-Likelihood:                 113.16\n",
      "No. Observations:                  41   AIC:                            -218.3\n",
      "Df Residuals:                      37   BIC:                            -211.5\n",
      "Df Model:                           3                                         \n",
      "Covariance Type:            nonrobust                                         \n",
      "==============================================================================\n",
      "                 coef    std err          t      P>|t|      [95.0% Conf. Int.]\n",
      "------------------------------------------------------------------------------\n",
      "const          1.1401      0.128      8.902      0.000         0.881     1.400\n",
      "x1             0.0523      0.025      2.065      0.046         0.001     0.104\n",
      "x2             0.1995      0.074      2.710      0.010         0.050     0.349\n",
      "x3             0.0148      0.000     60.861      0.000         0.014     0.015\n",
      "==============================================================================\n",
      "Omnibus:                        3.895   Durbin-Watson:                   0.830\n",
      "Prob(Omnibus):                  0.143   Jarque-Bera (JB):                1.772\n",
      "Skew:                           0.125   Prob(JB):                        0.412\n",
      "Kurtosis:                       2.013   Cond. No.                     1.34e+03\n",
      "==============================================================================\n",
      "\n",
      "Warnings:\n",
      "[1] Standard Errors assume that the covariance matrix of the errors is correctly specified.\n",
      "[2] The condition number is large, 1.34e+03. This might indicate that there are\n",
      "strong multicollinearity or other numerical problems.\n"
     ]
    }
   ],
   "source": [
    "y = np.log(Y['World']) - np.log(H['World'])\n",
    "\n",
    "t = np.array(range(len(y)))\n",
    "X = np.column_stack( (np.log(K['World']) - np.log(H['World']), np.log(E['World']) - np.log(H['World']), t) )\n",
    "X = sm.add_constant(X)\n",
    "\n",
    "res = sm.OLS(y, X).fit()\n",
    "print(res.summary())"
   ]
  }
 ],
 "metadata": {
  "anaconda-cloud": {},
  "kernelspec": {
   "display_name": "Python [default]",
   "language": "python",
   "name": "python3"
  },
  "language_info": {
   "codemirror_mode": {
    "name": "ipython",
    "version": 3
   },
   "file_extension": ".py",
   "mimetype": "text/x-python",
   "name": "python",
   "nbconvert_exporter": "python",
   "pygments_lexer": "ipython3",
   "version": "3.5.3"
  }
 },
 "nbformat": 4,
 "nbformat_minor": 0
}
