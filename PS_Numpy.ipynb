{
 "cells": [
  {
   "cell_type": "markdown",
   "metadata": {},
   "source": [
    "# Introduction to Python - Numpy/Scipy\n",
    "\n",
    "## Problem Set"
   ]
  },
  {
   "cell_type": "code",
   "execution_count": 1,
   "metadata": {
    "collapsed": false
   },
   "outputs": [
    {
     "name": "stdout",
     "output_type": "stream",
     "text": [
      "Last update: 2017-03-15 15:25:59.147591\n"
     ]
    }
   ],
   "source": [
    "# Author: Alex Schmitt (schmitt@ifo.de)\n",
    "\n",
    "import datetime\n",
    "print('Last update: ' + str(datetime.datetime.today()))"
   ]
  },
  {
   "cell_type": "markdown",
   "metadata": {},
   "source": [
    "### Exercise 1\n",
    "\n",
    "Consider the polynomial expression\n",
    "\\begin{equation*}\n",
    "\tp(x) = a_0 + a_1 x + a_2 x^2 + \\cdots + a_N x^N = \\sum_{n=0}^N a_n x^n,\n",
    "\\end{equation*}\n",
    "where $x$ is a scalar number.\n",
    "\n",
    "1. Write a Python function **poly(x, coeff)** that implements $p(x)$ (i.e. evaluates the polynomial) given a point **x** and a list of coefficients **coeff** ($= a_0,...,a_N$). Use a loop with **enumerate()**.\n",
    "\n",
    "2. Write a new function **poly_np(x, coeff)** that does the same job, but uses NumPy arrays and vectorized operations, rather than any form of Python loop. Hint: Use **np.cumprod()**.\n",
    "\n",
    "3. Using **%time**, check how long it takes for both functions to run when **len(coeff)** = 50 (you can use arbitrary values for the elements in **coeff**).\n"
   ]
  },
  {
   "cell_type": "markdown",
   "metadata": {
    "collapsed": true
   },
   "source": [
    "### Answers\n",
    "\n",
    "#### (a)\n",
    "\n",
    "As an example, let's compute $p(x) = 1 + x^2 + x^4$ at $x = 2$, which gives $p(2) = 21$. Using **enumerate()**, the loop is straightforward:"
   ]
  },
  {
   "cell_type": "code",
   "execution_count": 8,
   "metadata": {
    "collapsed": false
   },
   "outputs": [
    {
     "data": {
      "text/plain": [
       "21"
      ]
     },
     "execution_count": 8,
     "metadata": {},
     "output_type": "execute_result"
    }
   ],
   "source": [
    "def poly(x, coeff):\n",
    "    # initialize s as 0\n",
    "    s = 0\n",
    "    for (i, a) in enumerate(coeff):\n",
    "        # for each iteration, add the corresponding term to s\n",
    "        s = s + a * x**i\n",
    "        \n",
    "    return s\n",
    "\n",
    "poly(2, [1, 2, 4])"
   ]
  },
  {
   "cell_type": "markdown",
   "metadata": {},
   "source": [
    "Note that we can implement the exact same algorithm in one line:"
   ]
  },
  {
   "cell_type": "code",
   "execution_count": 40,
   "metadata": {
    "collapsed": false
   },
   "outputs": [],
   "source": [
    "# def poly(x, coeff):\n",
    "#     return sum(a * x**i for i, a in enumerate(coeff))\n",
    "\n",
    "# poly(2, [1, 2, 4])"
   ]
  },
  {
   "cell_type": "markdown",
   "metadata": {},
   "source": [
    "#### (b) \n",
    "\n",
    "Using **np.cumprod()** on a sequence gives an array where at each position, you have the product of all elements that come before or at that position in the original array. For example, **np.cumprod([2,3,4,5])** would return **[2,6,24,120]** as a NP array. For the function here, we need to apply **np.cumprod()** on an array **[1, x, x, x, ..]**, which would return **[1, x, x^2, x^3,...]**. We can use the inner product of this array and **coeff**."
   ]
  },
  {
   "cell_type": "code",
   "execution_count": 9,
   "metadata": {
    "collapsed": false
   },
   "outputs": [
    {
     "data": {
      "text/plain": [
       "21.0"
      ]
     },
     "execution_count": 9,
     "metadata": {},
     "output_type": "execute_result"
    }
   ],
   "source": [
    "def poly_np(x, coeff):\n",
    "    # define X = [1 x x ...]\n",
    "    X = np.empty(len(coeff))\n",
    "    X[0] = 1\n",
    "    X[1:] = x\n",
    "    # using cumprod on X gives [1 x x^2 x^3 ...]\n",
    "    y = np.cumprod(X)\n",
    "    # compute and return inner product\n",
    "    return coeff @ y\n",
    "\n",
    "poly_np(2, [1, 2, 4])"
   ]
  },
  {
   "cell_type": "markdown",
   "metadata": {},
   "source": [
    "As an alternative, note that a vectorized operations also works if *the array is in the exponent*. In other words, implementing something like $x^{(0,1,2)}$ in Python, where $x$ is a scalar, would give $(x^0, x^1, x^2)$. Again, this works only if the sequence $(0,1,2)$ is a NumPy array. "
   ]
  },
  {
   "cell_type": "code",
   "execution_count": 13,
   "metadata": {
    "collapsed": false
   },
   "outputs": [
    {
     "data": {
      "text/plain": [
       "21.0"
      ]
     },
     "execution_count": 13,
     "metadata": {},
     "output_type": "execute_result"
    }
   ],
   "source": [
    "def poly_np2(x, coeff):\n",
    "    return coeff @ x**np.linspace(0,len(coeff)-1,len(coeff))\n",
    "\n",
    "poly_np2(2, [1, 2, 4])"
   ]
  },
  {
   "cell_type": "markdown",
   "metadata": {},
   "source": [
    "#### (c) "
   ]
  },
  {
   "cell_type": "code",
   "execution_count": 14,
   "metadata": {
    "collapsed": true
   },
   "outputs": [],
   "source": [
    "# use random module to assign arbitrary values to coeff\n",
    "N = 50000\n",
    "coeff = np.random.uniform(0, 1, N)\n",
    "x = 0.1"
   ]
  },
  {
   "cell_type": "markdown",
   "metadata": {},
   "source": [
    "With **len(coeff) = 50**, the running times across all functions are very small and close to each other. Instead, let's increase the number of elements in **coeff** to 50000. There are notable differences in the running times across the functions, with the **poly_np** function using **np.cumprod()** being by far the fastest - the difference compared to the loop-implementation in Vanilla Python is a factor of about 30 -- another example for the speed of vectorized operations."
   ]
  },
  {
   "cell_type": "code",
   "execution_count": 15,
   "metadata": {
    "collapsed": false
   },
   "outputs": [
    {
     "name": "stdout",
     "output_type": "stream",
     "text": [
      "0.201990823858\n",
      "CPU times: user 25 ms, sys: 321 µs, total: 25.4 ms\n",
      "Wall time: 25.1 ms\n",
      "0.201990823858\n",
      "CPU times: user 861 µs, sys: 204 µs, total: 1.06 ms\n",
      "Wall time: 576 µs\n",
      "0.201990823858\n",
      "CPU times: user 12.3 ms, sys: 471 µs, total: 12.7 ms\n",
      "Wall time: 3.08 ms\n"
     ]
    }
   ],
   "source": [
    "%time print(poly(x, coeff))\n",
    "%time print(poly_np(x, coeff))\n",
    "%time print(poly_np2(x, coeff))"
   ]
  },
  {
   "cell_type": "markdown",
   "metadata": {
    "collapsed": true
   },
   "source": [
    "### Exercise 2\n",
    "\n",
    "In this question, you are asked to write your own implementation of the *bisection method* to compute the root of a real-valued function. Of course, most programming languages already have in-built implementations (e.g. in SciPy: **scipy.optimize.bisect**}, so writing your own function may seem a bit redundant. The goal here is to give you some idea about the inner workings of many of the algorithms used in scientific computing. The bisection method, while quite simple, captures two important features of most root-finding and optimization methods: it is a *local* method and it is based on an *iterative procedure*. \n",
    "\n",
    "- Recall that a root of a real-valued function $f$ is a value $x$ in the domain of the function such that $f(x)=0$. The idea behind the bisection method is based on the *Intermediate Value Theorem*: if $f$ is continuous and defined on the interval $[a,b]$, and if $f(a)$ and $f(b)$ are distinct values, then $f$ must assume all values in between. Since we are interested in where $f$ assumes the value 0, we need $f(a)$ and $f(b)$ to have different signs.\n",
    "- The bisection method implements the following \"pseudo-code\":\n",
    "\n",
    "(i) Start with two values $a$ and $b$ such that $f(a)$ and $f(b)$ are defined and have different signs. Moreover, specify a \"tolerance level\" $tol$ which should be a very small number, e.g. 1e-8.\n",
    "\n",
    "(ii) Compute the midpoint between $a$ and $b$, $x = \\frac{a + b}{2}$. \n",
    "\n",
    "(iii) If $f(x)$ has the same sign as $f(a)$, replace the left endpoint of the interval with $x$, i.e. $a = x$.\n",
    "\n",
    "(iv) If $f(x)$ has the same sign as $f(b)$, replace the right endpoint of the interval with $x$, i.e. $b = x$.\n",
    "\n",
    "(v) Repeat from (ii) until the absolute value of $f(x)$ is less than $tol$, i.e. $|f(x)| < tol$.\n",
    "\n",
    "- Bisection is an *iterative procedure*: at the beginning of each iteration step, the interval $[a,b]$ contains a root of $f$. The interval is then divided (\"bisected\") into two subintervals of equal length. One of the two subintervals must contain the root, and hence have endpoints of different signs. This subinterval is taken as the interval $[a,b]$ used for the next iteration. This process continues until the resulting midpoint $x$ of the current interval is sufficiently close to 0.  \n",
    "- Moreover, note that bisection is a *local* method: it will not give you all the roots of a function, but only one of the roots (in case there are multiple roots) between $a$ and $b$. A corollary of this is that the outcome of bisection (and of local methods in general) is sensitive to the starting point chosen by the user, here the values for $a$ and $b$.\n",
    "\n",
    "Write a function **mybisect(f, a, b)** in Python that implements the pseudo-code above. Then, test it on the function \n",
    "\\begin{equation*}\n",
    "    f(x) = \\sin(4 (x - 1/4)) + x + x^{20} - 1,\n",
    "\\end{equation*}\n",
    "i.e. find a root of this function. Compare your result to what SciPy's in-built function returns. \n",
    "\n",
    "*Hint*: most modern programming languages have some type of **while**-loop, which will prove useful here. Moreover, in Python/NumPy, consider using the **abs()** and **np.sign()** functions.  \n",
    "\n",
    "\n",
    "### Answers"
   ]
  },
  {
   "cell_type": "code",
   "execution_count": 2,
   "metadata": {
    "collapsed": false
   },
   "outputs": [
    {
     "ename": "NameError",
     "evalue": "name 'np' is not defined",
     "output_type": "error",
     "traceback": [
      "\u001b[0;31m---------------------------------------------------------------------------\u001b[0m",
      "\u001b[0;31mNameError\u001b[0m                                 Traceback (most recent call last)",
      "\u001b[0;32m<ipython-input-2-6f3642d4cd51>\u001b[0m in \u001b[0;36m<module>\u001b[0;34m()\u001b[0m\n\u001b[1;32m     26\u001b[0m     \u001b[0;32mreturn\u001b[0m \u001b[0mx\u001b[0m\u001b[0;34m\u001b[0m\u001b[0m\n\u001b[1;32m     27\u001b[0m \u001b[0;34m\u001b[0m\u001b[0m\n\u001b[0;32m---> 28\u001b[0;31m \u001b[0mprint\u001b[0m\u001b[0;34m(\u001b[0m\u001b[0mmybisect\u001b[0m\u001b[0;34m(\u001b[0m\u001b[0mfun\u001b[0m\u001b[0;34m,\u001b[0m\u001b[0;36m0\u001b[0m\u001b[0;34m,\u001b[0m\u001b[0;36m2\u001b[0m\u001b[0;34m)\u001b[0m\u001b[0;34m)\u001b[0m\u001b[0;34m\u001b[0m\u001b[0m\n\u001b[0m\u001b[1;32m     29\u001b[0m \u001b[0mprint\u001b[0m\u001b[0;34m(\u001b[0m\u001b[0mscipy\u001b[0m\u001b[0;34m.\u001b[0m\u001b[0moptimize\u001b[0m\u001b[0;34m.\u001b[0m\u001b[0mbisect\u001b[0m\u001b[0;34m(\u001b[0m\u001b[0mfun\u001b[0m\u001b[0;34m,\u001b[0m\u001b[0;36m0\u001b[0m\u001b[0;34m,\u001b[0m\u001b[0;36m2\u001b[0m\u001b[0;34m)\u001b[0m\u001b[0;34m)\u001b[0m\u001b[0;34m\u001b[0m\u001b[0m\n\u001b[1;32m     30\u001b[0m \u001b[0;34m\u001b[0m\u001b[0m\n",
      "\u001b[0;32m<ipython-input-2-6f3642d4cd51>\u001b[0m in \u001b[0;36mmybisect\u001b[0;34m(fun, a, b)\u001b[0m\n\u001b[1;32m     17\u001b[0m         \u001b[0mx\u001b[0m \u001b[0;34m=\u001b[0m \u001b[0;34m(\u001b[0m\u001b[0ma\u001b[0m \u001b[0;34m+\u001b[0m \u001b[0mb\u001b[0m\u001b[0;34m)\u001b[0m\u001b[0;34m/\u001b[0m\u001b[0;36m2\u001b[0m\u001b[0;34m\u001b[0m\u001b[0m\n\u001b[1;32m     18\u001b[0m         \u001b[0;31m# evaluate function\u001b[0m\u001b[0;34m\u001b[0m\u001b[0;34m\u001b[0m\u001b[0m\n\u001b[0;32m---> 19\u001b[0;31m         \u001b[0md\u001b[0m \u001b[0;34m=\u001b[0m \u001b[0mfun\u001b[0m\u001b[0;34m(\u001b[0m\u001b[0mx\u001b[0m\u001b[0;34m)\u001b[0m\u001b[0;34m\u001b[0m\u001b[0m\n\u001b[0m\u001b[1;32m     20\u001b[0m         \u001b[0;31m# find new end points for interval [a,b]\u001b[0m\u001b[0;34m\u001b[0m\u001b[0;34m\u001b[0m\u001b[0m\n\u001b[1;32m     21\u001b[0m         \u001b[0;32mif\u001b[0m \u001b[0mnp\u001b[0m\u001b[0;34m.\u001b[0m\u001b[0msign\u001b[0m\u001b[0;34m(\u001b[0m\u001b[0md\u001b[0m\u001b[0;34m)\u001b[0m \u001b[0;34m==\u001b[0m \u001b[0mnp\u001b[0m\u001b[0;34m.\u001b[0m\u001b[0msign\u001b[0m\u001b[0;34m(\u001b[0m\u001b[0mfun\u001b[0m\u001b[0;34m(\u001b[0m\u001b[0ma\u001b[0m\u001b[0;34m)\u001b[0m\u001b[0;34m)\u001b[0m\u001b[0;34m:\u001b[0m\u001b[0;34m\u001b[0m\u001b[0m\n",
      "\u001b[0;32m<ipython-input-2-6f3642d4cd51>\u001b[0m in \u001b[0;36mfun\u001b[0;34m(x)\u001b[0m\n\u001b[1;32m      1\u001b[0m \u001b[0;31m# function to use bisection on\u001b[0m\u001b[0;34m\u001b[0m\u001b[0;34m\u001b[0m\u001b[0m\n\u001b[1;32m      2\u001b[0m \u001b[0;32mdef\u001b[0m \u001b[0mfun\u001b[0m\u001b[0;34m(\u001b[0m\u001b[0mx\u001b[0m\u001b[0;34m)\u001b[0m\u001b[0;34m:\u001b[0m\u001b[0;34m\u001b[0m\u001b[0m\n\u001b[0;32m----> 3\u001b[0;31m     \u001b[0;32mreturn\u001b[0m \u001b[0mnp\u001b[0m\u001b[0;34m.\u001b[0m\u001b[0msin\u001b[0m\u001b[0;34m(\u001b[0m\u001b[0;36m4\u001b[0m \u001b[0;34m*\u001b[0m \u001b[0;34m(\u001b[0m\u001b[0mx\u001b[0m \u001b[0;34m-\u001b[0m \u001b[0;36m0.25\u001b[0m\u001b[0;34m)\u001b[0m\u001b[0;34m)\u001b[0m \u001b[0;34m+\u001b[0m \u001b[0mx\u001b[0m \u001b[0;34m+\u001b[0m \u001b[0mx\u001b[0m\u001b[0;34m**\u001b[0m\u001b[0;36m20\u001b[0m \u001b[0;34m-\u001b[0m \u001b[0;36m1\u001b[0m\u001b[0;34m\u001b[0m\u001b[0m\n\u001b[0m\u001b[1;32m      4\u001b[0m \u001b[0;34m\u001b[0m\u001b[0m\n\u001b[1;32m      5\u001b[0m \u001b[0;34m\u001b[0m\u001b[0m\n",
      "\u001b[0;31mNameError\u001b[0m: name 'np' is not defined"
     ]
    }
   ],
   "source": [
    "# function to use bisection on\n",
    "def fun(x):\n",
    "    return np.sin(4 * (x - 0.25)) + x + x**20 - 1\n",
    "\n",
    "\n",
    "def mybisect(fun, a, b):\n",
    "    \"\"\"\n",
    "    Implements the bisection method\n",
    "    \"\"\"\n",
    "    # choose tolerance level\n",
    "    tol = 1e-10\n",
    "    # initialize d \n",
    "    d = 1\n",
    "    # while-loop: iterate until d sufficiently small\n",
    "    while abs(d) > tol:\n",
    "        # find intermediate value between a and b\n",
    "        x = (a + b)/2\n",
    "        # evaluate function\n",
    "        d = fun(x)\n",
    "        # find new end points for interval [a,b]\n",
    "        if np.sign(d) == np.sign(fun(a)):\n",
    "            a = x\n",
    "        elif np.sign(d) == np.sign(fun(b)):\n",
    "            b = x\n",
    "    \n",
    "    return x\n",
    "\n",
    "print(mybisect(fun,0,2))        \n",
    "print(scipy.optimize.bisect(fun,0,2))\n",
    "        "
   ]
  },
  {
   "cell_type": "markdown",
   "metadata": {},
   "source": [
    "### Exercise 3 -> ADD QUESTION FROM CLIMATE_ECON PS 4 \n",
    "\n",
    "Solve the model in the previous question (without the externality) numerically for a more general setting, in particular with a CIES utility function and less than full depreciation. Choose reasonable values for the parameters. How does the optimal extraction profile depend on the growth rate of total factor productivity?\n",
    "\n",
    "### Answer\n",
    "Solving the model numerically is straightforward. The code should look familiar from the two-period model we have seen in previous lectures. In particular, we can again use Scipy's minimization routine (**scipy.optimize.minimize**).\n",
    "\n",
    "Note that since there is no extraction or externality cost caused by fossil fuel use, the complete resource stock will be used over the two periods."
   ]
  },
  {
   "cell_type": "code",
   "execution_count": null,
   "metadata": {
    "collapsed": true
   },
   "outputs": [],
   "source": [
    "## Define functions\n",
    "def u(x, nu):\n",
    "    \"\"\"\n",
    "    Utility function\n",
    "    \"\"\"\n",
    "    if nu == 1: # logarithmic utility\n",
    "        return np.log(x)\n",
    "    else:\n",
    "        return (1 - nu)**(-1) * x**(1-nu)\n",
    "    \n",
    "def F(k, e, alpha, A):\n",
    "    \"\"\"\n",
    "    Production function: Cobb-Douglas\n",
    "    \"\"\"\n",
    "    return A * k**(alpha) * e**(1-alpha)\n",
    "\n",
    "def obj(x, alpha, A1, g, beta, delta, nu, K1):\n",
    "    \"\"\"\n",
    "    Computes the social planner's objective function, i.e. the representative agent's lifetime utility\n",
    "    \"\"\"\n",
    "    E1, I = x\n",
    "    return - u(F(K1, E1, alpha, A1) - I, nu) \\\n",
    "            - beta * u( F( (1-delta) * K1 + I, R - E1, alpha, (1 + g) * A1) + (1 - delta) * ( (1-delta) * K1 + I), nu)\n",
    "\n",
    "\n",
    "## Set parameters\n",
    "alpha = 0.6\n",
    "beta = 0.98\n",
    "R = 1\n",
    "K1 = 1\n",
    "A1 = 1\n",
    "nu = 2\n",
    "delta = 0.9\n",
    "\n",
    "## Closed-form solution (with log utility and full depreciation), used as initial guess below\n",
    "E1 = R * (1 + alpha * beta)/(1 + alpha * beta + beta)\n",
    "K2 = alpha * beta * F(K1, E1, alpha, A1) / (1 + alpha * beta)\n",
    "x0 = [E1, K2]\n",
    "print(x0)\n",
    "\n",
    "## determine bounds for choice variables\n",
    "bnds = [(1e-8, 1e+12), (1e-8, 1e+12)]\n",
    "\n",
    "\n",
    "## Baseline\n",
    "g = 0.1\n",
    "# run minimization routine\n",
    "res = scipy.optimize.minimize(obj, x0,\\\n",
    "                              args = tuple([alpha, A1, g, beta, delta, nu, K1]), \\\n",
    "                              bounds = bnds, method='SLSQP', tol = 1e-12)\n",
    "print(res.x)\n",
    "\n",
    "## Increase productivity growth\n",
    "g = 0.2\n",
    "res = scipy.optimize.minimize(obj, x0,\\\n",
    "                              args = tuple([alpha, A1, g, beta, delta, nu, K1]), \\\n",
    "                              bounds = bnds, method='SLSQP', tol = 1e-12)\n",
    "print(res.x)"
   ]
  },
  {
   "cell_type": "markdown",
   "metadata": {},
   "source": [
    "We can see that less than full depreciation and non-logarithmic utility, higher productivity growth leads to less investment and hence a lower capital stock in period 2. This is intuitive: recall that $\\nu > 1$ indicates a lower elasticity of intertemporal substitution (or a higher aversion to intertemporal consumption inequality), hence if the household is richer in the future (due to a higher productivity), the incentive to save today is weaker. A lower capital stock in period 2 implies that the marginal return to capital - $F_K(K_2, E_2) + 1 - \\delta$ - increases. By the Hotelling rule, this implies that the *relative* marginal return to fossil fuel in period 2 (relative to period 1) has to rise as well. This can be achieved by shifting extraction from period 2 to period 1, thus leading to a (albeit small) increase in current fossil fuel use."
   ]
  },
  {
   "cell_type": "code",
   "execution_count": null,
   "metadata": {
    "collapsed": true
   },
   "outputs": [],
   "source": []
  }
 ],
 "metadata": {
  "kernelspec": {
   "display_name": "Python 3",
   "language": "python",
   "name": "python3"
  },
  "language_info": {
   "codemirror_mode": {
    "name": "ipython",
    "version": 3
   },
   "file_extension": ".py",
   "mimetype": "text/x-python",
   "name": "python",
   "nbconvert_exporter": "python",
   "pygments_lexer": "ipython3",
   "version": "3.5.3"
  }
 },
 "nbformat": 4,
 "nbformat_minor": 0
}
