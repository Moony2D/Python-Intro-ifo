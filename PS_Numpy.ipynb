{
 "cells": [
  {
   "cell_type": "markdown",
   "metadata": {},
   "source": [
    "# Introduction to Python - Numpy\n",
    "## Problem Set"
   ]
  },
  {
   "cell_type": "code",
   "execution_count": 1,
   "metadata": {
    "collapsed": false
   },
   "outputs": [
    {
     "name": "stdout",
     "output_type": "stream",
     "text": [
      "Last update: 2017-05-08 14:36:56.113227\n"
     ]
    }
   ],
   "source": [
    "# Author: Alex Schmitt (schmitt@ifo.de)\n",
    "\n",
    "import datetime\n",
    "print('Last update: ' + str(datetime.datetime.today()))"
   ]
  },
  {
   "cell_type": "markdown",
   "metadata": {},
   "source": [
    "## Question 1\n",
    "\n",
    "(a) Use NumPy's **random** package to get **N** draws from a standard normal distribution (google to get the name of the corresponding function and its syntax!) and store them in a NumPy array. Find the sample average and standard deviation for **N = 10**, **N = 1000** and **N = 1000000**.\n",
    "\n",
    "(b) For the last case in question (a) with **N = 1000000**, use an index array or Numpy's **where** function to find the share of draws that is either less than -1.96 or greater than 1.96. What's your expectation what this share should be?\n",
    "\n",
    "(c) Create a two-dimensional 4-by-4 NumPy array **A** with elements from 1 to 16. A quick way to do is using Python **range** function and the **shape** method of NP arrays. Recall from linear algebra that multiplying any matrix with the identity matrix **I** just results in same matrix (i.e. $I \\cdot A = A \\cdot I = A$). Confirm this using your array **A**. What happens if you multiply **A** with an array of the same dimension that consists only of 1s?\n",
    "\n",
    "(d) Write a function **get_diag** that takes a *square* matrix of dimension **n** and returns a flat array of length **n** that contains the elements on the matrix' diagonal. The first thing the function should do is checking if the input is a square array and give an error message otherwise. You could this in many ways; one neat option is an **assert** statement (check the documentation!). Alternatively, you could use a print statement and interrupt the function with **Return None**."
   ]
  },
  {
   "cell_type": "code",
   "execution_count": 2,
   "metadata": {
    "collapsed": true
   },
   "outputs": [],
   "source": [
    "import numpy as np"
   ]
  },
  {
   "cell_type": "code",
   "execution_count": 3,
   "metadata": {
    "collapsed": false
   },
   "outputs": [
    {
     "name": "stdout",
     "output_type": "stream",
     "text": [
      "For N = 10, the mean is 0.11903707371841277 and the standard deviation is 0.727682679908385.\n",
      "For N = 1000, the mean is 0.0014264613961754015 and the standard deviation is 0.9914678565424755.\n",
      "For N = 1000000, the mean is 0.0002409526911730842 and the standard deviation is 1.0003839405572388.\n"
     ]
    }
   ],
   "source": [
    "## question (a)\n",
    "N = [10, 1000, int(1e+6)]\n",
    "\n",
    "for item in N:\n",
    "    A = np.random.normal(0, 1, item)\n",
    "    ave = A.mean() \n",
    "    dev = A.std()\n",
    "    print(\"For N = {}, the mean is {} and the standard deviation is {}.\".format(item, ave, dev))"
   ]
  },
  {
   "cell_type": "code",
   "execution_count": 4,
   "metadata": {
    "collapsed": false
   },
   "outputs": [
    {
     "name": "stdout",
     "output_type": "stream",
     "text": [
      "The share of draws less than -1.96 or greater than 1.96 is 0.049937.\n"
     ]
    }
   ],
   "source": [
    "## question (b)\n",
    "\n",
    "N = int(1e+6)\n",
    "## use a combination of two index arrays\n",
    "A_sub = A[(A > 1.96) + (A < - 1.96)] \n",
    "## find share of complete sample\n",
    "x = len(A_sub) / N\n",
    "\n",
    "## alternative here:\n",
    "# x = len( A[A > 1.96] ) + len( A[A < - 1.96] ) / N\n",
    "\n",
    "print(\"The share of draws less than -1.96 or greater than 1.96 is {}.\".format(x))"
   ]
  },
  {
   "cell_type": "code",
   "execution_count": 5,
   "metadata": {
    "collapsed": false
   },
   "outputs": [
    {
     "name": "stdout",
     "output_type": "stream",
     "text": [
      "[[  1.   2.   3.   4.]\n",
      " [  5.   6.   7.   8.]\n",
      " [  9.  10.  11.  12.]\n",
      " [ 13.  14.  15.  16.]]\n",
      "[[  1.   2.   3.   4.]\n",
      " [  5.   6.   7.   8.]\n",
      " [  9.  10.  11.  12.]\n",
      " [ 13.  14.  15.  16.]]\n",
      "[ 28.  32.  36.  40.]\n",
      "[ 10.  26.  42.  58.]\n"
     ]
    }
   ],
   "source": [
    "## question (c)\n",
    "\n",
    "## create matrix A\n",
    "A = np.array(range(1, 17))\n",
    "A.shape = (4,4)\n",
    "## create identity matrix and ones matrix\n",
    "I = np.eye(4)\n",
    "E = np.ones(4)\n",
    "## multiplying with identity matrix returns A\n",
    "print(I @ A)\n",
    "print(A @ I)\n",
    "## multiplying with ones matrix returns row and column sums, respectively\n",
    "print(E @ A) \n",
    "print(A @ E) "
   ]
  },
  {
   "cell_type": "code",
   "execution_count": 7,
   "metadata": {
    "collapsed": false
   },
   "outputs": [
    {
     "name": "stdout",
     "output_type": "stream",
     "text": [
      "[  1.   6.  11.  16.]\n"
     ]
    },
    {
     "ename": "AssertionError",
     "evalue": "The matrix must be square!",
     "output_type": "error",
     "traceback": [
      "\u001b[0;31m---------------------------------------------------------------------------\u001b[0m",
      "\u001b[0;31mAssertionError\u001b[0m                            Traceback (most recent call last)",
      "\u001b[0;32m<ipython-input-7-fc86fbc2557c>\u001b[0m in \u001b[0;36m<module>\u001b[0;34m()\u001b[0m\n\u001b[1;32m     21\u001b[0m \u001b[0;34m\u001b[0m\u001b[0m\n\u001b[1;32m     22\u001b[0m \u001b[0mB\u001b[0m \u001b[0;34m=\u001b[0m \u001b[0mnp\u001b[0m\u001b[0;34m.\u001b[0m\u001b[0marray\u001b[0m\u001b[0;34m(\u001b[0m\u001b[0;34m[\u001b[0m\u001b[0;34m[\u001b[0m\u001b[0;36m1\u001b[0m\u001b[0;34m,\u001b[0m\u001b[0;36m2\u001b[0m\u001b[0;34m,\u001b[0m\u001b[0;36m3\u001b[0m\u001b[0;34m]\u001b[0m\u001b[0;34m]\u001b[0m\u001b[0;34m)\u001b[0m\u001b[0;34m\u001b[0m\u001b[0m\n\u001b[0;32m---> 23\u001b[0;31m \u001b[0mprint\u001b[0m\u001b[0;34m(\u001b[0m\u001b[0mget_diag\u001b[0m\u001b[0;34m(\u001b[0m\u001b[0mB\u001b[0m\u001b[0;34m)\u001b[0m\u001b[0;34m)\u001b[0m\u001b[0;34m\u001b[0m\u001b[0m\n\u001b[0m",
      "\u001b[0;32m<ipython-input-7-fc86fbc2557c>\u001b[0m in \u001b[0;36mget_diag\u001b[0;34m(A)\u001b[0m\n\u001b[1;32m      3\u001b[0m \u001b[0;32mdef\u001b[0m \u001b[0mget_diag\u001b[0m\u001b[0;34m(\u001b[0m\u001b[0mA\u001b[0m\u001b[0;34m)\u001b[0m\u001b[0;34m:\u001b[0m\u001b[0;34m\u001b[0m\u001b[0m\n\u001b[1;32m      4\u001b[0m \u001b[0;34m\u001b[0m\u001b[0m\n\u001b[0;32m----> 5\u001b[0;31m     \u001b[0;32massert\u001b[0m \u001b[0mA\u001b[0m\u001b[0;34m.\u001b[0m\u001b[0mshape\u001b[0m\u001b[0;34m[\u001b[0m\u001b[0;36m0\u001b[0m\u001b[0;34m]\u001b[0m \u001b[0;34m==\u001b[0m \u001b[0mA\u001b[0m\u001b[0;34m.\u001b[0m\u001b[0mshape\u001b[0m\u001b[0;34m[\u001b[0m\u001b[0;36m1\u001b[0m\u001b[0;34m]\u001b[0m\u001b[0;34m,\u001b[0m \u001b[0;34m\"The matrix must be square!\"\u001b[0m\u001b[0;34m\u001b[0m\u001b[0m\n\u001b[0m\u001b[1;32m      6\u001b[0m \u001b[0;34m\u001b[0m\u001b[0m\n\u001b[1;32m      7\u001b[0m     \u001b[0;31m## Alternative:\u001b[0m\u001b[0;34m\u001b[0m\u001b[0;34m\u001b[0m\u001b[0m\n",
      "\u001b[0;31mAssertionError\u001b[0m: The matrix must be square!"
     ]
    }
   ],
   "source": [
    "## question (d)\n",
    "\n",
    "def get_diag(A):\n",
    "    \n",
    "    assert A.shape[0] == A.shape[1], \"The matrix must be square!\"\n",
    "    \n",
    "    ## Alternative:\n",
    "#     if not A.shape[0] == A.shape[1]:\n",
    "#         print(\"The matrix must be square!\")\n",
    "#         return None\n",
    "    \n",
    "    n = A.shape[0]\n",
    "    D = np.zeros(n)\n",
    "    \n",
    "    for ind in range(n):\n",
    "        D[ind] = A[ind, ind]\n",
    "    \n",
    "    return D\n",
    "\n",
    "print(get_diag(A))\n",
    "    \n",
    "B = np.array([[1,2,3]])\n",
    "print(get_diag(B))"
   ]
  },
  {
   "cell_type": "markdown",
   "metadata": {},
   "source": [
    "## Question 2\n",
    "\n",
    "Consider the polynomial expression\n",
    "\\begin{equation*}\n",
    "\tp(x) = a_0 + a_1 x + a_2 x^2 + \\cdots + a_N x^N = \\sum_{n=0}^N a_n x^n,\n",
    "\\end{equation*}\n",
    "where $x$ is a scalar number.\n",
    "\n",
    "(a) Write a Python function **poly(x, coeff)** that implements $p(x)$ (i.e. evaluates the polynomial) given a point **x** and a list of coefficients **coeff** ($= a_0,...,a_N$). Use a loop with **enumerate()**.\n",
    "\n",
    "(b) Write a new function **poly_np(x, coeff)** that does the same job, but uses NumPy arrays and vectorized operations, rather than any form of Python loop. Hint: Use **np.cumprod()**.\n",
    "\n",
    "(c) Using **%time**, check how long it takes for both functions to run when **len(coeff)** = 50 (you can use arbitrary values for the elements in **coeff**).\n"
   ]
  },
  {
   "cell_type": "markdown",
   "metadata": {
    "collapsed": true
   },
   "source": [
    "#### (a)\n",
    "\n",
    "As an example, let's compute $p(x) = 1 + x^2 + x^4$ at $x = 2$, which gives $p(2) = 21$. Using **enumerate()**, the loop is straightforward:"
   ]
  },
  {
   "cell_type": "code",
   "execution_count": 8,
   "metadata": {
    "collapsed": false
   },
   "outputs": [
    {
     "data": {
      "text/plain": [
       "21"
      ]
     },
     "execution_count": 8,
     "metadata": {},
     "output_type": "execute_result"
    }
   ],
   "source": [
    "def poly(x, coeff):\n",
    "    # initialize s as 0\n",
    "    s = 0\n",
    "    for (i, a) in enumerate(coeff):\n",
    "        # for each iteration, add the corresponding term to s\n",
    "        s = s + a * x**i\n",
    "        \n",
    "    return s\n",
    "\n",
    "poly(2, [1, 2, 4])"
   ]
  },
  {
   "cell_type": "markdown",
   "metadata": {},
   "source": [
    "Note that we can implement the exact same algorithm in one line:"
   ]
  },
  {
   "cell_type": "code",
   "execution_count": 9,
   "metadata": {
    "collapsed": false
   },
   "outputs": [],
   "source": [
    "# def poly(x, coeff):\n",
    "#     return sum(a * x**i for i, a in enumerate(coeff))\n",
    "\n",
    "# poly(2, [1, 2, 4])"
   ]
  },
  {
   "cell_type": "markdown",
   "metadata": {},
   "source": [
    "#### (b) \n",
    "\n",
    "Using **np.cumprod()** on a sequence gives an array where at each position, you have the product of all elements that come before or at that position in the original array. For example, **np.cumprod([2,3,4,5])** would return **[2,6,24,120]** as a NP array. For the function here, we need to apply **np.cumprod()** on an array **[1, x, x, x, ..]**, which would return **[1, x, x^2, x^3,...]**. We can use the inner product of this array and **coeff**."
   ]
  },
  {
   "cell_type": "code",
   "execution_count": 10,
   "metadata": {
    "collapsed": false
   },
   "outputs": [
    {
     "data": {
      "text/plain": [
       "21.0"
      ]
     },
     "execution_count": 10,
     "metadata": {},
     "output_type": "execute_result"
    }
   ],
   "source": [
    "def poly_np(x, coeff):\n",
    "    # define X = [1 x x ...]\n",
    "    X = np.empty(len(coeff))\n",
    "    X[0] = 1\n",
    "    X[1:] = x\n",
    "    # using cumprod on X gives [1 x x^2 x^3 ...]\n",
    "    y = np.cumprod(X)\n",
    "    # compute and return inner product\n",
    "    return coeff @ y\n",
    "\n",
    "poly_np(2, [1, 2, 4])"
   ]
  },
  {
   "cell_type": "markdown",
   "metadata": {},
   "source": [
    "As an alternative, note that a vectorized operations also works if *the array is in the exponent*. In other words, implementing something like $x^{(0,1,2)}$ in Python, where $x$ is a scalar, would give $(x^0, x^1, x^2)$. Again, this works only if the sequence $(0,1,2)$ is a NumPy array. "
   ]
  },
  {
   "cell_type": "code",
   "execution_count": 11,
   "metadata": {
    "collapsed": false
   },
   "outputs": [
    {
     "data": {
      "text/plain": [
       "21.0"
      ]
     },
     "execution_count": 11,
     "metadata": {},
     "output_type": "execute_result"
    }
   ],
   "source": [
    "def poly_np2(x, coeff):\n",
    "    return coeff @ x**np.linspace(0,len(coeff)-1,len(coeff))\n",
    "\n",
    "poly_np2(2, [1, 2, 4])"
   ]
  },
  {
   "cell_type": "markdown",
   "metadata": {},
   "source": [
    "#### (c) "
   ]
  },
  {
   "cell_type": "code",
   "execution_count": 12,
   "metadata": {
    "collapsed": true
   },
   "outputs": [],
   "source": [
    "# use random module to assign arbitrary values to coeff\n",
    "N = 50000\n",
    "coeff = np.random.uniform(0, 1, N)\n",
    "x = 0.1"
   ]
  },
  {
   "cell_type": "markdown",
   "metadata": {},
   "source": [
    "With **len(coeff) = 50**, the running times across all functions are very small and close to each other. Instead, let's increase the number of elements in **coeff** to 50000. There are notable differences in the running times across the functions, with the **poly_np** function using **np.cumprod()** being by far the fastest - the difference compared to the loop-implementation in Vanilla Python is a factor of about 30 -- another example for the speed of vectorized operations."
   ]
  },
  {
   "cell_type": "code",
   "execution_count": 13,
   "metadata": {
    "collapsed": false
   },
   "outputs": [
    {
     "name": "stdout",
     "output_type": "stream",
     "text": [
      "0.63648597102\n",
      "CPU times: user 28.5 ms, sys: 1.13 ms, total: 29.6 ms\n",
      "Wall time: 28.6 ms\n",
      "0.63648597102\n",
      "CPU times: user 1.2 ms, sys: 1.2 ms, total: 2.4 ms\n",
      "Wall time: 10 ms\n",
      "0.63648597102\n",
      "CPU times: user 3.18 ms, sys: 7 µs, total: 3.19 ms\n",
      "Wall time: 3.2 ms\n"
     ]
    }
   ],
   "source": [
    "%time print(poly(x, coeff))\n",
    "%time print(poly_np(x, coeff))\n",
    "%time print(poly_np2(x, coeff))"
   ]
  },
  {
   "cell_type": "markdown",
   "metadata": {
    "collapsed": true
   },
   "source": [
    "## Question 3\n",
    "\n",
    "Compute an approximation to $\\pi$ with the Monte Carlo method using **Numpy**. Your hints are as follows:\n",
    "- If $U$ is a bivariate uniform random variable on the unit square $(0,1)^2$, then the probability that $U$ lies in a subset $B$ of $(0,1)^2$ is equal to the area of $B$.\n",
    "- If $U_1,...,U_n$ are iid copies of $U$, then, as $n$ gets large, the fraction that fall in $B$ converges to the probability of landing in $B$\n",
    "- Recall that for a circle, $area = \\pi * radius^2$\n",
    "\n",
    "(Source: lectures.quantecon.org, An Introductory Example, Exercise 3)"
   ]
  },
  {
   "cell_type": "code",
   "execution_count": 14,
   "metadata": {
    "collapsed": false
   },
   "outputs": [
    {
     "name": "stdout",
     "output_type": "stream",
     "text": [
      "3.14268\n",
      "3.141592653589793\n"
     ]
    }
   ],
   "source": [
    "import numpy as np\n",
    "\n",
    "# function throws gives the fraction of throws that land in the unit cycle \n",
    "# \t= area of unit cycle \n",
    "def area(n):\n",
    "    count = 0\n",
    "    for i in range(n):\n",
    "        x, y = np.random.uniform(0,1), np.random.uniform(0,1) # x-coordinate, y-coordinate\n",
    "        if np.sqrt((x - 0.5)**2 + (y - 0.5)**2) <= 0.5:\n",
    "            count += 1\n",
    "    return count/n\n",
    "\n",
    "pi = area(100000) / 0.5**2;\n",
    "print(pi)\n",
    "## for comparison\n",
    "print(np.pi)\n"
   ]
  },
  {
   "cell_type": "markdown",
   "metadata": {},
   "source": [
    "## Question 4\n",
    "\n",
    "In this question, you are asked to write your own implementation of the *bisection method* to compute the root of a real-valued function. Of course, most programming languages already have in-built implementations (e.g. in SciPy: **scipy.optimize.bisect**}, so writing your own function may seem a bit redundant. The goal here is to give you some idea about the inner workings of many of the algorithms used in scientific computing. The bisection method, while quite simple, captures two important features of most root-finding and optimization methods: it is a *local* method and it is based on an *iterative procedure*. \n",
    "\n",
    "- Recall that a root of a real-valued function $f$ is a value $x$ in the domain of the function such that $f(x)=0$. The idea behind the bisection method is based on the *Intermediate Value Theorem*: if $f$ is continuous and defined on the interval $[a,b]$, and if $f(a)$ and $f(b)$ are distinct values, then $f$ must assume all values in between. Since we are interested in where $f$ assumes the value 0, we need $f(a)$ and $f(b)$ to have different signs.\n",
    "- The bisection method implements the following \"pseudo-code\":\n",
    "\n",
    "(i) Start with two values $a$ and $b$ such that $f(a)$ and $f(b)$ are defined and have different signs. Moreover, specify a \"tolerance level\" $tol$ which should be a very small number, e.g. 1e-8.\n",
    "\n",
    "(ii) Compute the midpoint between $a$ and $b$, $x = \\frac{a + b}{2}$. \n",
    "\n",
    "(iii) If $f(x)$ has the same sign as $f(a)$, replace the left endpoint of the interval with $x$, i.e. $a = x$.\n",
    "\n",
    "(iv) If $f(x)$ has the same sign as $f(b)$, replace the right endpoint of the interval with $x$, i.e. $b = x$.\n",
    "\n",
    "(v) Repeat from (ii) until the absolute value of $f(x)$ is less than $tol$, i.e. $|f(x)| < tol$.\n",
    "\n",
    "- Bisection is an *iterative procedure*: at the beginning of each iteration step, the interval $[a,b]$ contains a root of $f$. The interval is then divided (\"bisected\") into two subintervals of equal length. One of the two subintervals must contain the root, and hence have endpoints of different signs. This subinterval is taken as the interval $[a,b]$ used for the next iteration. This process continues until the resulting midpoint $x$ of the current interval is sufficiently close to 0.  \n",
    "- Moreover, note that bisection is a *local* method: it will not give you all the roots of a function, but only one of the roots (in case there are multiple roots) between $a$ and $b$. A corollary of this is that the outcome of bisection (and of local methods in general) is sensitive to the starting point chosen by the user, here the values for $a$ and $b$.\n",
    "\n",
    "Write a function **mybisect(f, a, b)** in Python that implements the pseudo-code above. Then, test it on the function \n",
    "\\begin{equation*}\n",
    "    f(x) = \\sin(4 (x - 1/4)) + x + x^{20} - 1,\n",
    "\\end{equation*}\n",
    "i.e. find a root of this function. Compare your result to what SciPy's in-built function returns (provided below). \n",
    "\n",
    "*Hint*: most modern programming languages have some type of **while**-loop, which will prove useful here. Moreover, in Python/NumPy, consider using the **abs()** and **np.sign()** functions.  \n",
    "\n"
   ]
  },
  {
   "cell_type": "code",
   "execution_count": 15,
   "metadata": {
    "collapsed": false
   },
   "outputs": [
    {
     "name": "stdout",
     "output_type": "stream",
     "text": [
      "0.408293504267931\n"
     ]
    }
   ],
   "source": [
    "# function to use bisection on\n",
    "def fun(x):\n",
    "    return np.sin(4 * (x - 0.25)) + x + x**20 - 1\n",
    "\n",
    "\n",
    "def mybisect(fun, a, b):\n",
    "    \"\"\"\n",
    "    Implements the bisection method\n",
    "    \"\"\"\n",
    "    # choose tolerance level\n",
    "    tol = 1e-10\n",
    "    # initialize d \n",
    "    d = 1\n",
    "    # while-loop: iterate until d sufficiently small\n",
    "    while abs(d) > tol:\n",
    "        # find intermediate value between a and b\n",
    "        x = (a + b)/2\n",
    "        # evaluate function\n",
    "        d = fun(x)\n",
    "        # find new end points for interval [a,b]\n",
    "        if np.sign(d) == np.sign(fun(a)):\n",
    "            a = x\n",
    "        elif np.sign(d) == np.sign(fun(b)):\n",
    "            b = x\n",
    "    \n",
    "    return x\n",
    "\n",
    "print(mybisect(fun,0,2))        "
   ]
  },
  {
   "cell_type": "code",
   "execution_count": 16,
   "metadata": {
    "collapsed": false
   },
   "outputs": [
    {
     "name": "stdout",
     "output_type": "stream",
     "text": [
      "0.4082935042797544\n"
     ]
    }
   ],
   "source": [
    "import scipy.optimize\n",
    "print(scipy.optimize.bisect(fun,0,2))"
   ]
  },
  {
   "cell_type": "markdown",
   "metadata": {
    "collapsed": true
   },
   "source": [
    "## Question 4\n",
    "\n",
    "In this question, we are going to go through a very simple implementation of dynamic programming in Python. If you have never heard of dynamic programming before, don't worry - just follow along the instructions. \n",
    "\n",
    "As an application, recall the standard neoclassical growth model (Ramsey model) from your Macro classes. Suppose a social planner maximizes lieftime utility of a infinitely-lived, representative household: \n",
    "\\begin{equation}\n",
    "    \\max \\sum^\\infty_{t = 0} \\beta^t u(c_t) \n",
    "\\end{equation}\n",
    "s.t. \n",
    "\\begin{equation}\n",
    "    k_{t+1} + c_t = f(k_t) + (1 - \\delta) k_t = k_t^\\alpha + (1 - \\delta) k_t. \n",
    "\\end{equation}\n",
    "In words, there is a single consumption good, which is produced using a single production factor, capital $k_t$, which is accumulated over time. $f$ denotes the production function, while $u$ denotes the utility function. To make things even more simple, assume that $u(c) = \\log(c)$ and $\\delta = 1$ (i.e. capital fully depreciates between two periods). \n",
    "\n",
    "Hence, we can write the planner's maximization problem more compactly in the following way: \n",
    "\\begin{equation}\n",
    "    \\max_{k_{t+1}} \\sum^\\infty_{t = 0} \\beta^t \\log(k_t^\\alpha - k_{t+1}). \n",
    "\\end{equation}\n",
    "This is an intertemporal optimization problem. Under the particular assumptions made here, we can find an analytical solution. The optimal investment decision of the planner is given by:\n",
    "\\begin{equation}\n",
    "    k_{t+1} = \\alpha \\beta k_t^\\alpha,\\ c_t = (1 - \\alpha \\beta) k_t^\\alpha.\n",
    "\\end{equation}\n",
    "In other words, in every period a constant share $\\alpha \\beta$ of output is \"saved\", while the remaining share is consumed. \n",
    "\n",
    "The goal of this question is to find the same \"policy function\" numerically. As a side note, the strategy used below works for other functional forms and less-than-full depreciation. "
   ]
  },
  {
   "cell_type": "markdown",
   "metadata": {},
   "source": [
    "(a) Start by writing two short Python function - **utility** and **prod** - that both take a single argument and implement the utility function and the production function given above. Note that they should work on both scalar values and Numpy arrays. "
   ]
  },
  {
   "cell_type": "code",
   "execution_count": 17,
   "metadata": {
    "collapsed": false
   },
   "outputs": [],
   "source": [
    "## question (a)\n",
    "import numpy as np\n",
    "\n",
    "def utility(c):\n",
    "    return np.log(c)\n",
    "\n",
    "def prod(k):\n",
    "    return k**alpha"
   ]
  },
  {
   "cell_type": "markdown",
   "metadata": {},
   "source": [
    "(b) Next, we define a \"grid\" for the capital stock, i.e. an array of possible values that $k_t$ can take. Of course, the capital stock in this model is a *continuous* variable. However, we cannot really express continuous variables (with infinitely many values) on a computer, so we need to *discretize* it.\n",
    "\n",
    "For this, assume that the capital stock always lies between two values, **k_min** and **k_max** (In other words, if the capital stock in period 0 is between these two values, it will not go outside of the interval, assuming that the planner behaves optimally). Of course, these bounds depend on the parameter values for **alpha** and **beta**. Set **alpha** to 0.33 and **beta** to 0.95. Then, **k_min = 0.05** and **k_max = 0.25** will do the trick. Use the Numpy's **linspace** function to create an array **k_grid** with **N** values for capital between these two bounds. For now, set **N = 100**."
   ]
  },
  {
   "cell_type": "code",
   "execution_count": 18,
   "metadata": {
    "collapsed": false
   },
   "outputs": [
    {
     "name": "stdout",
     "output_type": "stream",
     "text": [
      "0.17705807534879062\n"
     ]
    }
   ],
   "source": [
    "## question (b)\n",
    "\n",
    "alpha = 0.33\n",
    "beta = 0.95\n",
    "\n",
    "## steady state (not part of the question)\n",
    "ks = (alpha * beta)**(1 / (1 - alpha))\n",
    "print(ks)\n",
    "\n",
    "## define grid for capital\n",
    "k_min = 0.05\n",
    "k_max = 0.25\n",
    "N = 100\n",
    "k_grid = np.linspace(k_min, k_max, N)"
   ]
  },
  {
   "cell_type": "markdown",
   "metadata": {},
   "source": [
    "(c) The key insight of dynamic programming is the *Bellman equation*. In terms of the model above, it states that the following equation must hold for any (feasible) $k_t$:\n",
    "\\begin{equation}\n",
    "    v(k_t) = \\max_{k_{t+1}} \\log(k_t^alpha - k_{t+1}) + \\beta v(k_{t+1})  \n",
    "\\end{equation}\n",
    "$v$ is called the *value function*. To keep the question reasonably short, we skip the intuition behind this equation. \n",
    "\n",
    "We use the idea of the Bellman equation in a simple algorithm called *value function iteration* (again, we omit the discussion why this works, just believe us:). The main steps are the following.\n",
    "1. Start with an initial guess for the value function, $v^0$. For simplicity, we're going to use $v^0(k) = 0$ for all $k$.\n",
    "2. Given your current guess $v^n$ for the value function, solve the maximization on the right hand side of the value function and call it $v^{n+1}$:\n",
    "\\begin{equation}\n",
    "    v^{n+1}(k_t) = \\max_{k_{t+1}} \\log(k_t^alpha - k_{t+1}) + \\beta v^{n}(k_t)  \n",
    "\\end{equation}\n",
    "3. Check if $v^{n+1}$ is sufficiently close to $v^n$ (more on this below). If not, use as your current guess and go back to 2. and repeat. If $v^{n+1} \\approx v^n$, you have found an approximation of the \"true\" value function $v^* = v^{n+1}$.\n",
    "\n",
    "The beauty of this algorithm is that it is guarantueed to converge (given that some conditions are satisfied, which they are here), i.e. *no matter your initial guess for the value function, you will always find a $v^{*}$* (and the algorithm will stop at $v^*$).\n",
    "\n",
    "The above algorithm can be implemented numerically in many different ways, some better than others. One apect that distinguishes different methods is how to represent a function $v$ numerically. Here, in the simplest possible implementation, we represent $v$ as a numpy array. In other words, the $i$th element of the array **v** is given by:\n",
    "\\begin{equation}\n",
    "    \\mathbf{v}_i = \\max_{x \\in \\mathbf{kgrid}} \\log(\\mathbf{k}_i - x) + \\beta \\mathbf{v}^{old}_i  \n",
    "\\end{equation}\n"
   ]
  },
  {
   "cell_type": "code",
   "execution_count": 19,
   "metadata": {
    "collapsed": false
   },
   "outputs": [],
   "source": [
    "v_old = np.zeros(N)\n",
    "\n",
    "eps = 1\n",
    "tol = 1e-8\n",
    "it = 0\n",
    "while eps > tol:\n",
    "    it += 1\n",
    "    v = np.zeros(N)\n",
    "    for (ind, item) in enumerate(k_grid):\n",
    "        v[ind] = np.max( utility(prod(item) - k_grid) + beta * v_old ) \n",
    "        \n",
    "    eps = np.linalg.norm(v_old - v)\n",
    "    v_old = v.copy()\n"
   ]
  },
  {
   "cell_type": "code",
   "execution_count": 20,
   "metadata": {
    "collapsed": false
   },
   "outputs": [],
   "source": [
    "## question (d)\n",
    "k_pol = np.zeros(N)\n",
    "for (ind, item) in enumerate(k_grid):\n",
    "    max_ind = np.argmax( utility(prod(item) - k_grid) + beta * v)  \n",
    "    k_pol[ind] = k_grid[max_ind]   \n",
    "    "
   ]
  },
  {
   "cell_type": "code",
   "execution_count": 21,
   "metadata": {
    "collapsed": false
   },
   "outputs": [
    {
     "data": {
      "text/plain": [
       "[<matplotlib.lines.Line2D at 0x119a69550>]"
      ]
     },
     "execution_count": 21,
     "metadata": {},
     "output_type": "execute_result"
    },
    {
     "data": {
      "image/png": "[encoded data removed]",
      "text/plain": [
       "<matplotlib.figure.Figure at 0x117c18f60>"
      ]
     },
     "metadata": {},
     "output_type": "display_data"
    }
   ],
   "source": [
    "import matplotlib.pyplot as plt\n",
    "%matplotlib inline\n",
    "\n",
    "fig, ax = plt.subplots()\n",
    "ax.plot(k_grid, alpha * beta * prod(k_grid))\n",
    "ax.plot(k_grid, k_pol)"
   ]
  },
  {
   "cell_type": "code",
   "execution_count": null,
   "metadata": {
    "collapsed": true
   },
   "outputs": [],
   "source": []
  }
 ],
 "metadata": {
  "anaconda-cloud": {},
  "kernelspec": {
   "display_name": "Python 3",
   "language": "python",
   "name": "python3"
  },
  "language_info": {
   "codemirror_mode": {
    "name": "ipython",
    "version": 3
   },
   "file_extension": ".py",
   "mimetype": "text/x-python",
   "name": "python",
   "nbconvert_exporter": "python",
   "pygments_lexer": "ipython3",
   "version": "3.5.3"
  }
 },
 "nbformat": 4,
 "nbformat_minor": 0
}
