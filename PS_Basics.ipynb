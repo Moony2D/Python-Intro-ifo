{
 "cells": [
  {
   "cell_type": "markdown",
   "metadata": {},
   "source": [
    "# Introduction to Python - Basics\n",
    "\n",
    "## Problem Set"
   ]
  },
  {
   "cell_type": "code",
   "execution_count": 1,
   "metadata": {
    "collapsed": false
   },
   "outputs": [
    {
     "name": "stdout",
     "output_type": "stream",
     "text": [
      "Last update: 2017-03-21 18:40:51.226283\n"
     ]
    }
   ],
   "source": [
    "# Author: Alex Schmitt (schmitt@ifo.de)\n",
    "\n",
    "import datetime\n",
    "print('Last update: ' + str(datetime.datetime.today()))"
   ]
  },
  {
   "cell_type": "markdown",
   "metadata": {},
   "source": [
    "## Question 1\n",
    "\n",
    "Write a function **digit_sum()** that takes an integer and returns the sum of its digits. For example, **digit_sum(12345)** should return 15 (as an integer or float).\n",
    "\n",
    "Hint: One way of computing the digit sum makes use of the *modulo* operation **%** (used on integers!). In general, **x % y** divides x by y and returns the *remainder*. For example, **4 % 2** returns 0, since there is no remainder (this is true for any *even* number x when typing **x % 2**). In contrast, **7 % 2** returns 1 since 7 = 3 x 2 **+ 1**. In fact, for any *odd* integer x, **x % 2** returns 1. What is useful to note for this question is that, for example, **12345 % 10** would return 5. In addition, what may be useful here is a **while** loop.   \n",
    "\n",
    "An alternative way would be to make use of the **str()** function (see above) and the similar **int()** function. "
   ]
  },
  {
   "cell_type": "code",
   "execution_count": 5,
   "metadata": {
    "collapsed": false
   },
   "outputs": [
    {
     "name": "stdout",
     "output_type": "stream",
     "text": [
      "15.0\n",
      "15\n"
     ]
    }
   ],
   "source": [
    "# Approach 1: use modulo operation\n",
    "def digit_sum(x):\n",
    "    # initialize variable 'total' as zero\n",
    "    total = 0\n",
    "    # start a while loop: loop runs as long as x is positive\n",
    "    while x > 0:\n",
    "        # using modulo 10 gives you the LAST digit for any number, e.g. 12345 % 10 = 5\n",
    "        dig = x % 10\n",
    "        # add this digit to total\n",
    "        total = total + dig\n",
    "        \n",
    "        # update x: (1) subtract the last digit and (2) divide by 10\n",
    "        # e.g. (12345 - 5)/10 = 1234 -> continue loop with x = 1234\n",
    "        x = (x - dig)/10\n",
    "        \n",
    "    return total\n",
    "\n",
    "print(digit_sum(12345))\n",
    "\n",
    "# Approach 2: use strings\n",
    "def digit_sum(x):\n",
    "    # convert x to a string: s ='12345'\n",
    "    s = str(x)\n",
    "    # initialize empty list\n",
    "    lst = []\n",
    "    # loop through s (possible since it behaves like an array) and add element to lst, converted to int\n",
    "    for i in s:\n",
    "        lst.append(int(i))\n",
    "    # sum over lst\n",
    "    return sum(lst)\n",
    "    \n",
    "print(digit_sum(12345))"
   ]
  },
  {
   "cell_type": "markdown",
   "metadata": {},
   "source": [
    "## Question 2\n",
    "\n",
    "Write a function **remove_duplicates()** that takes a list (with elements of any type) and removes all duplicates, i.e. returns a list in which each element appears only once. For example, **remove_duplicates([1,1,2,2])** should return **([1,2])**. Try to solve this problem in *two different ways*.\n",
    "\n",
    "Hint: For this question, useful functions and methods are **.append()** (for lists) and the functions **set()** and **list()**."
   ]
  },
  {
   "cell_type": "code",
   "execution_count": 7,
   "metadata": {
    "collapsed": false
   },
   "outputs": [
    {
     "name": "stdout",
     "output_type": "stream",
     "text": [
      "[1, 2]\n",
      "[1, 2]\n"
     ]
    }
   ],
   "source": [
    "# approach 1: \n",
    "def remove_duplicates(lst):\n",
    "    # initialize empty list\n",
    "    new = []\n",
    "    # loop through lst and check if element x already in new; if not, add it\n",
    "    for x in lst:\n",
    "        if x not in new:\n",
    "            new.append(x)\n",
    "    return new\n",
    "    \n",
    "print(remove_duplicates([1,1,2,2]))   \n",
    "\n",
    "# approach 2: convert lst to set and recall that sets cannot have duplicates!\n",
    "# in other words, when converting a list to a set, duplicates are eliminated automatically\n",
    "def remove_duplicates(lst):\n",
    "    S = set(lst)\n",
    "    return list(S)\n",
    "\n",
    "print(remove_duplicates([1,1,2,2])) "
   ]
  }
 ],
 "metadata": {
  "kernelspec": {
   "display_name": "Python 3",
   "language": "python",
   "name": "python3"
  },
  "language_info": {
   "codemirror_mode": {
    "name": "ipython",
    "version": 3
   },
   "file_extension": ".py",
   "mimetype": "text/x-python",
   "name": "python",
   "nbconvert_exporter": "python",
   "pygments_lexer": "ipython3",
   "version": "3.5.3"
  }
 },
 "nbformat": 4,
 "nbformat_minor": 0
}
