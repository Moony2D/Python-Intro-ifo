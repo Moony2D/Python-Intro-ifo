{
 "cells": [
  {
   "cell_type": "markdown",
   "metadata": {},
   "source": [
    "# Introduction to Python - Data Types II, Functions, Modules\n",
    "\n",
    "## Problem Set"
   ]
  },
  {
   "cell_type": "code",
   "execution_count": 5,
   "metadata": {
    "collapsed": false
   },
   "outputs": [
    {
     "name": "stdout",
     "output_type": "stream",
     "text": [
      "Last update: 2017-03-29 20:07:33.882308\n"
     ]
    }
   ],
   "source": [
    "# Author: Alex Schmitt (schmitt@ifo.de)\n",
    "\n",
    "import datetime\n",
    "print('Last update: ' + str(datetime.datetime.today()))"
   ]
  },
  {
   "cell_type": "markdown",
   "metadata": {},
   "source": [
    "## Question 1\n",
    "\n",
    "Write a function **removes_duplicates** that takes a list (with elements of any type) and removes all duplicates, i.e. returns a list in which each element appears only once. For example, inputting **[1,1,2,2]** should return **([1,2])**. Try to solve this problem in *two different ways*.\n",
    "\n",
    "Hint: For this question, useful functions and methods are **.append()** (for lists) and the functions **set()** and **list()**."
   ]
  },
  {
   "cell_type": "code",
   "execution_count": 4,
   "metadata": {
    "collapsed": false
   },
   "outputs": [
    {
     "name": "stdout",
     "output_type": "stream",
     "text": [
      "[1, 2]\n",
      "[1, 2]\n"
     ]
    }
   ],
   "source": [
    "def remove_duplicates(lst):    \n",
    "    # approach 1: \n",
    "    # initialize empty list\n",
    "    new = []\n",
    "    # loop through lst and check if element x already in new; if not, add it\n",
    "    for item in lst:\n",
    "        if item not in new:\n",
    "            new.append(item)\n",
    "        \n",
    "    return new   \n",
    "\n",
    "def remove_duplicates2(lst): \n",
    "    # approach 2: convert lst to set and recall that sets cannot have duplicates!\n",
    "    # in other words, when converting a list to a set, duplicates are eliminated automatically\n",
    "    S = set(lst)\n",
    "    return list(S)\n",
    "    \n",
    "lst = remove_duplicates([1,1,2,2])   \n",
    "print(lst)\n",
    "lst = remove_duplicates2([1,1,2,2])   \n",
    "print(lst)"
   ]
  },
  {
   "cell_type": "code",
   "execution_count": null,
   "metadata": {
    "collapsed": true
   },
   "outputs": [],
   "source": []
  }
 ],
 "metadata": {
  "anaconda-cloud": {},
  "kernelspec": {
   "display_name": "Python 3",
   "language": "python",
   "name": "python3"
  },
  "language_info": {
   "codemirror_mode": {
    "name": "ipython",
    "version": 3
   },
   "file_extension": ".py",
   "mimetype": "text/x-python",
   "name": "python",
   "nbconvert_exporter": "python",
   "pygments_lexer": "ipython3",
   "version": "3.5.3"
  }
 },
 "nbformat": 4,
 "nbformat_minor": 0
}
