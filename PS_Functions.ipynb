{
 "cells": [
  {
   "cell_type": "markdown",
   "metadata": {},
   "source": [
    "# Introduction to Python - Data Types II, Functions, Modules\n",
    "\n",
    "## Problem Set"
   ]
  },
  {
   "cell_type": "code",
   "execution_count": 5,
   "metadata": {
    "collapsed": false
   },
   "outputs": [
    {
     "name": "stdout",
     "output_type": "stream",
     "text": [
      "Last update: 2017-03-29 20:07:33.882308\n"
     ]
    }
   ],
   "source": [
    "# Author: Alex Schmitt (schmitt@ifo.de)\n",
    "\n",
    "import datetime\n",
    "print('Last update: ' + str(datetime.datetime.today()))"
   ]
  },
  {
   "cell_type": "markdown",
   "metadata": {},
   "source": [
    "## Question 1\n",
    "\n",
    "Recall that $n!$ is read as *n factorial* and defined as\n",
    "\\begin{equation}\n",
    "    n!=n×(n−1)×⋯×2×1n!=n×(n−1)×⋯×2×1\n",
    "\\end{equation}\n",
    "There are functions to compute this in various packages, but let’s write our own version as an exercise. In particular, write a function **factorial** such that **factorial(n)** returns $n!$ for any positive integer n."
   ]
  },
  {
   "cell_type": "code",
   "execution_count": 3,
   "metadata": {
    "collapsed": false
   },
   "outputs": [
    {
     "name": "stdout",
     "output_type": "stream",
     "text": [
      "The factorial of 3 is 6.\n"
     ]
    }
   ],
   "source": [
    "def factorial(n):\n",
    "    prod = 1\n",
    "    for i in range(1,n+1):\n",
    "        prod *= i\n",
    "    return prod\n",
    "\n",
    "n = 3\n",
    "print('The factorial of {} is {}.'.format(n, factorial(n)) )"
   ]
  },
  {
   "cell_type": "markdown",
   "metadata": {},
   "source": [
    "## Question 2\n",
    "\n",
    "Write a function **removes_duplicates** that takes a list (with elements of any type) and removes all duplicates, i.e. returns a list in which each element appears only once. For example, inputting **[1,1,2,2]** should return **([1,2])**. Try to solve this problem in *two different ways*.\n",
    "\n",
    "Hint: For this question, useful functions and methods are **.append()** (for lists) and the functions **set()** and **list()**."
   ]
  },
  {
   "cell_type": "code",
   "execution_count": 4,
   "metadata": {
    "collapsed": false
   },
   "outputs": [
    {
     "name": "stdout",
     "output_type": "stream",
     "text": [
      "[1, 2]\n",
      "[1, 2]\n"
     ]
    }
   ],
   "source": [
    "def remove_duplicates(lst):    \n",
    "    # approach 1: \n",
    "    # initialize empty list\n",
    "    new = []\n",
    "    # loop through lst and check if element x already in new; if not, add it\n",
    "    for item in lst:\n",
    "        if item not in new:\n",
    "            new.append(item)\n",
    "        \n",
    "    return new   \n",
    "\n",
    "def remove_duplicates2(lst): \n",
    "    # approach 2: convert lst to set and recall that sets cannot have duplicates!\n",
    "    # in other words, when converting a list to a set, duplicates are eliminated automatically\n",
    "    S = set(lst)\n",
    "    return list(S)\n",
    "    \n",
    "lst = remove_duplicates([1,1,2,2])   \n",
    "print(lst)\n",
    "lst = remove_duplicates2([1,1,2,2])   \n",
    "print(lst)"
   ]
  },
  {
   "cell_type": "markdown",
   "metadata": {
    "collapsed": true
   },
   "source": [
    "## Question 3\n",
    "\n",
    "Write a program that prints one realization of the following random device:\n",
    "- Flip an unbiased coin **n** times\n",
    "- If 3 consecutive heads occur one or more times within this sequence, pay one dollar\n",
    "- If not, pay nothing\n",
    "\n",
    "Use no import besides **from numpy.random import uniform**."
   ]
  },
  {
   "cell_type": "code",
   "execution_count": 7,
   "metadata": {
    "collapsed": false
   },
   "outputs": [
    {
     "name": "stdout",
     "output_type": "stream",
     "text": [
      "[1, 0, 1, 1, 0, 1, 0, 1, 0, 1]\n",
      "Pay nothing.\n"
     ]
    }
   ],
   "source": [
    "from random import uniform\n",
    "\n",
    "# step 1: write function that flips coin n times and reports 1 when head\n",
    "def flip(n):\n",
    "    lst = []\n",
    "    for i in range(n):\n",
    "        if uniform(0,1) < 0.5:\n",
    "            lst.append(1)\n",
    "        else:\n",
    "            lst.append(0)\n",
    "    return lst\n",
    "\n",
    "\n",
    "n = 10\n",
    "lst = flip(n)\n",
    "print(lst)\n",
    "\n",
    "# step 2: pay one dollar if 3 consecutive heads occur one or more times within this sequence\n",
    "i = 0;\n",
    "# NB: first element has index 0, last element that can be checked has index 7 (the 8th element)\n",
    "while i < n-2:\n",
    "    # NB: index works the same as range, i.e. i+3 to go two elements further\n",
    "    if lst[i:i+3] == [1,1,1]:\n",
    "        print('Pay one dollar.')\n",
    "        break\n",
    "    i += 1\n",
    "else:\n",
    "    print('Pay nothing.')"
   ]
  },
  {
   "cell_type": "code",
   "execution_count": null,
   "metadata": {
    "collapsed": true
   },
   "outputs": [],
   "source": [
    "## alternative solution\n",
    "payoff = 0\n",
    "count = 0\n",
    "\n",
    "for i in range(10):\n",
    "    U = uniform()\n",
    "    count = count + 1 if U < 0.5 else 0\n",
    "    if count == 3:\n",
    "        payoff = 1\n",
    "\n",
    "print(payoff)"
   ]
  },
  {
   "cell_type": "markdown",
   "metadata": {},
   "source": [
    "## Question 4\n",
    "\n",
    "Consider the polynomial\n",
    "\n",
    "\\begin{equation}\n",
    "p(x)\n",
    "= a_0 + a_1 x + a_2 x^2 + \\cdots a_n x^n\n",
    "= \\sum_{i=0}^n a_i x^i\n",
    "\\end{equation}\n",
    "\n",
    "Write a function **p** such that **p(x, coeff)** that computes the value above given a point **x** and a list of coefficients **coeff**. Try to use **enumerate()** in your loop."
   ]
  },
  {
   "cell_type": "code",
   "execution_count": 8,
   "metadata": {
    "collapsed": false
   },
   "outputs": [
    {
     "name": "stdout",
     "output_type": "stream",
     "text": [
      "26\n"
     ]
    }
   ],
   "source": [
    "def p(x, coeff):\n",
    "    return sum([c * x**i for i,c in enumerate(coeff)])\n",
    "\n",
    "coefs = [2,2,1]\n",
    "x = 4 \n",
    "print(p(x,coefs))"
   ]
  },
  {
   "cell_type": "code",
   "execution_count": null,
   "metadata": {
    "collapsed": true
   },
   "outputs": [],
   "source": []
  }
 ],
 "metadata": {
  "anaconda-cloud": {},
  "kernelspec": {
   "display_name": "Python 3",
   "language": "python",
   "name": "python3"
  },
  "language_info": {
   "codemirror_mode": {
    "name": "ipython",
    "version": 3
   },
   "file_extension": ".py",
   "mimetype": "text/x-python",
   "name": "python",
   "nbconvert_exporter": "python",
   "pygments_lexer": "ipython3",
   "version": "3.5.3"
  }
 },
 "nbformat": 4,
 "nbformat_minor": 0
}
