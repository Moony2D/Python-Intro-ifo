{
 "cells": [
  {
   "cell_type": "markdown",
   "metadata": {},
   "source": [
    "# Introduction to Python - Data Types II, Functions, Modules\n",
    "\n",
    "## Problem Set"
   ]
  },
  {
   "cell_type": "code",
   "execution_count": 1,
   "metadata": {
    "collapsed": false
   },
   "outputs": [
    {
     "name": "stdout",
     "output_type": "stream",
     "text": [
      "Last update: 2017-04-18 10:09:30.930040\n"
     ]
    }
   ],
   "source": [
    "# Author: Alex Schmitt (schmitt@ifo.de)\n",
    "\n",
    "import datetime\n",
    "print('Last update: ' + str(datetime.datetime.today()))"
   ]
  },
  {
   "cell_type": "markdown",
   "metadata": {},
   "source": [
    "## Question 1\n",
    "\n",
    "Recall that $n!$ is read as *n factorial* and defined as\n",
    "\\begin{equation}\n",
    "    n!=n×(n−1)×⋯×2×1n!=n×(n−1)×⋯×2×1\n",
    "\\end{equation}\n",
    "There are functions to compute this in various packages, but let’s write our own version as an exercise. In particular, write a function **factorial** such that **factorial(n)** returns $n!$ for any positive integer n."
   ]
  },
  {
   "cell_type": "code",
   "execution_count": 3,
   "metadata": {
    "collapsed": false
   },
   "outputs": [
    {
     "name": "stdout",
     "output_type": "stream",
     "text": [
      "The factorial of 3 is 6.\n"
     ]
    }
   ],
   "source": [
    "def factorial(n):\n",
    "    prod = 1\n",
    "    for i in range(1,n+1):\n",
    "        prod *= i\n",
    "    return prod\n",
    "\n",
    "n = 3\n",
    "print('The factorial of {} is {}.'.format(n, factorial(n)) )"
   ]
  },
  {
   "cell_type": "markdown",
   "metadata": {},
   "source": [
    "## Question 2\n",
    "\n",
    "Write a function **removes_duplicates** that takes a list (with elements of any type) and removes all duplicates, i.e. returns a list in which each element appears only once. For example, inputting **[1,1,2,2]** should return **([1,2])**. Try to solve this problem in *two different ways*.\n",
    "\n",
    "Hint: For this question, useful functions and methods are **.append()** (for lists) and the functions **set()** and **list()**."
   ]
  },
  {
   "cell_type": "code",
   "execution_count": 4,
   "metadata": {
    "collapsed": false
   },
   "outputs": [
    {
     "name": "stdout",
     "output_type": "stream",
     "text": [
      "[1, 2]\n",
      "[1, 2]\n"
     ]
    }
   ],
   "source": [
    "def remove_duplicates(lst):    \n",
    "    # approach 1: \n",
    "    # initialize empty list\n",
    "    new = []\n",
    "    # loop through lst and check if element x already in new; if not, add it\n",
    "    for item in lst:\n",
    "        if item not in new:\n",
    "            new.append(item)\n",
    "        \n",
    "    return new   \n",
    "\n",
    "def remove_duplicates2(lst): \n",
    "    # approach 2: convert lst to set and recall that sets cannot have duplicates!\n",
    "    # in other words, when converting a list to a set, duplicates are eliminated automatically\n",
    "    S = set(lst)\n",
    "    return list(S)\n",
    "    \n",
    "lst = remove_duplicates([1,1,2,2])   \n",
    "print(lst)\n",
    "lst = remove_duplicates2([1,1,2,2])   \n",
    "print(lst)"
   ]
  },
  {
   "cell_type": "markdown",
   "metadata": {},
   "source": [
    "## Question 3\n",
    "\n",
    "Write a function **is_subarray** that takes two sequences **seq_a** and **seq_b** as arguments and returns **True** if every element in seq_a is also an element of seq_b, else False. By “sequence” we mean a list, a tuple or a string. (Source: quantecon.org, Python Essentials, Exercise 4)"
   ]
  },
  {
   "cell_type": "code",
   "execution_count": 26,
   "metadata": {
    "collapsed": false
   },
   "outputs": [
    {
     "name": "stdout",
     "output_type": "stream",
     "text": [
      "True\n",
      "False\n"
     ]
    }
   ],
   "source": [
    "def is_subarray(seq_a, seq_b):\n",
    "    is_subset = True\n",
    "    for a in seq_a:\n",
    "        if a not in seq_b:\n",
    "            is_subset = False\n",
    "    return is_subset\n",
    "## or\n",
    "# def f(seq_a, seq_b):\n",
    "#     return set(seq_a).issubset(set(seq_b))\n",
    "\n",
    "print(is_subarray( [1,2,3], [1,2,3,4,5] ) )\n",
    "print(is_subarray( (1,2,3), (1,3,5,7,9) ) )"
   ]
  },
  {
   "cell_type": "markdown",
   "metadata": {},
   "source": [
    "## Question 4\n",
    "\n",
    "Consider the polynomial\n",
    "\n",
    "\\begin{equation}\n",
    "p(x)\n",
    "= a_0 + a_1 x + a_2 x^2 + \\cdots a_n x^n\n",
    "= \\sum_{i=0}^n a_i x^i\n",
    "\\end{equation}\n",
    "\n",
    "Write a function **p** such that **p(x, coeff)** that computes the value above given a point **x** and a list of coefficients **coeff**. Try to use **enumerate()** in your loop. (Source: quantecon.org, Python Essentials, Exercise 2)"
   ]
  },
  {
   "cell_type": "code",
   "execution_count": 2,
   "metadata": {
    "collapsed": false
   },
   "outputs": [
    {
     "name": "stdout",
     "output_type": "stream",
     "text": [
      "26\n"
     ]
    }
   ],
   "source": [
    "def p(x, coeff):\n",
    "    return sum([c * x**i for i,c in enumerate(coeff)])\n",
    "\n",
    "coefs = [2,2,1]\n",
    "x = 4 \n",
    "print(p(x,coefs))"
   ]
  },
  {
   "cell_type": "markdown",
   "metadata": {},
   "source": [
    "## Question 5\n",
    "\n",
    "Suppose you're a teacher and use Python dictionaries to keep track of your students' grades. Each student corresponds to a dictionary with the following key-value pairs:\n",
    "- \"name\": the student's name (a string)\n",
    "- \"homework\": a list of arbitrary length, containing the homework grades (floats)\n",
    "- \"quizzes\": a list of arbitrary length, containing the grades from quizzes (floats)\n",
    "- \"tests\": a list of arbitrary length, containing the grades from tests (floats)\n",
    "\n",
    "\n",
    "(a) The student Alice has the following grades:\n",
    "- homework: 100.0, 92.0, 98.0, 100.0\n",
    "- quizzes: 82.0, 83.0, 91.0\n",
    "- tests: 89.0, 97.0\n",
    "Write a dictionary (as defined above) that keeps track of these grades.\n",
    "\n",
    "(b) Write a function **average** that takes a list of numbers and return the average. Use it to compute Alice's average grade for homework.\n",
    "\n",
    "(c) Write a function **student_average** that computes the overall average grade for a student across all exam types. It takes a student dictionary (as defined above) and a two-item tuple **weights**$ = (w_1, w_2)$ that contains the weights for homework and quizzes. The total average is given by:\n",
    "\\begin{equation}\n",
    "    \\text{Average}_{\\text{total}} = w_1 \\cdot \\text{Average}_{\\text{HW}} + w_2 \\cdot \\text{Average}_{\\text{QU}} + (1 - w_1 - w_2) \\cdot \\text{Average}_{\\text{TE}} \n",
    "\\end{equation}\n",
    "Compute Alice's overal average for weights $(0.2, 0.3)$.\n",
    "\n",
    "(d) Write a function **class_average** that a lists of student dictionaries and the weights tuple and computes the grade average over all students. Let there be two more students with the following grades:\n",
    "\n",
    "Michael:\n",
    "- homework: 90.0, 97.0, 75.0, 92.0\n",
    "- quizzes: 88.0, 40.0, 94.0\n",
    "- tests: 75.0, 90.0\n",
    "\n",
    "Tyler:\n",
    "- homework: 0.0, 87.0, 75.0, 22.0\n",
    "- quizzes: 0.0, 75.0, 78.0\n",
    "- tests: 100.0, 100.0\n",
    "\n",
    "Compute the grade average for the three students.\n",
    "\n",
    "(e) Suppose that in the last exam of the year, Alice scored 85.0, Michael 88.0 and Tyler 97.0. How does the class average change?\n"
   ]
  },
  {
   "cell_type": "code",
   "execution_count": 22,
   "metadata": {
    "collapsed": false
   },
   "outputs": [
    {
     "name": "stdout",
     "output_type": "stream",
     "text": [
      "Alice got an average of 97.5 for homework.\n",
      "Alice got a total average of 91.6.\n",
      "Michael got a total average of 81.15.\n",
      "Tyler got a total average of 74.5.\n",
      "The class average is 82.416667.\n",
      "The new class average is 82.111111.\n"
     ]
    }
   ],
   "source": [
    "## Question (a)\n",
    "alice = {\n",
    "    \"name\": \"Alice\",\n",
    "    \"homework\": [100.0, 92.0, 98.0, 100.0],\n",
    "    \"quizzes\": [82.0, 83.0, 91.0],\n",
    "    \"tests\": [89.0, 97.0]\n",
    "}\n",
    "\n",
    "## Question (b)\n",
    "def average(lst):\n",
    "#     summ = 0\n",
    "#     for i in lst[0:len(lst)]:\n",
    "#         summ += i\n",
    "    ave = sum(lst)/len(lst)\n",
    "    return ave \n",
    "\n",
    "ave_hw = average(alice['homework'])\n",
    "print(\"Alice got an average of {} for homework.\".format(ave_hw) )\n",
    "\n",
    "## Question (c)\n",
    "\n",
    "def student_average(student, weights):\n",
    "    total = weights[0] * average(student[\"homework\"]) + weights[1] * average(student[\"quizzes\"]) + \\\n",
    "        (1 - weights[0] - weights[1]) * average(student[\"tests\"])\n",
    "    return total\n",
    "\n",
    "weights = (0.2, 0.3)\n",
    "ave_total = student_average(alice, weights)\n",
    "print(\"Alice got a total average of {}.\".format(ave_total) )\n",
    "\n",
    "## Question (d)\n",
    "\n",
    "michael = {\n",
    "    \"name\": \"Michael\",\n",
    "    \"homework\": [90.0, 97.0, 75.0, 92.0],\n",
    "    \"quizzes\": [88.0, 40.0, 94.0],\n",
    "    \"tests\": [75.0, 90.0]\n",
    "}\n",
    "tyler = {\n",
    "    \"name\": \"Tyler\",\n",
    "    \"homework\": [0.0, 87.0, 75.0, 22.0],\n",
    "    \"quizzes\": [0.0, 75.0, 78.0],\n",
    "    \"tests\": [100.0, 100.0]\n",
    "}\n",
    "\n",
    "def class_average(students, weights):\n",
    "    total = 0\n",
    "    for student in students:\n",
    "        total += student_average(student, weights)\n",
    "    return total/len(students)\n",
    "\n",
    "print(\"Michael got a total average of {}.\".format(student_average(michael, weights)) )\n",
    "print(\"Tyler got a total average of {}.\".format(student_average(tyler, weights) ) )\n",
    "\n",
    "students = [alice, michael, tyler]\n",
    "class_ave = class_average(students, weights)\n",
    "print(\"The class average is {:f}.\".format( class_ave ) )\n",
    "\n",
    "## Question (e)\n",
    "\n",
    "alice['tests'].append(85.0)\n",
    "michael['tests'].append(88.0)\n",
    "tyler['tests'].append(97.0)\n",
    "class_ave_new = class_average(students, weights)\n",
    "print(\"The new class average is {:f}.\".format( class_ave_new ) )"
   ]
  },
  {
   "cell_type": "markdown",
   "metadata": {},
   "source": [
    "## Question 6\n",
    "\n",
    "Using **range**, write a comprehension whose value is a dictionary. The keys should be the integers from 0 to 99 and the value corresponding to a key should be the square of the key."
   ]
  },
  {
   "cell_type": "code",
   "execution_count": 1,
   "metadata": {
    "collapsed": false
   },
   "outputs": [
    {
     "name": "stdout",
     "output_type": "stream",
     "text": [
      "{0: 0, 1: 1, 2: 4, 3: 9, 4: 16, 5: 25, 6: 36, 7: 49, 8: 64, 9: 81, 10: 100, 11: 121, 12: 144, 13: 169, 14: 196, 15: 225, 16: 256, 17: 289, 18: 324, 19: 361, 20: 400, 21: 441, 22: 484, 23: 529, 24: 576, 25: 625, 26: 676, 27: 729, 28: 784, 29: 841, 30: 900, 31: 961, 32: 1024, 33: 1089, 34: 1156, 35: 1225, 36: 1296, 37: 1369, 38: 1444, 39: 1521, 40: 1600, 41: 1681, 42: 1764, 43: 1849, 44: 1936, 45: 2025, 46: 2116, 47: 2209, 48: 2304, 49: 2401, 50: 2500, 51: 2601, 52: 2704, 53: 2809, 54: 2916, 55: 3025, 56: 3136, 57: 3249, 58: 3364, 59: 3481, 60: 3600, 61: 3721, 62: 3844, 63: 3969, 64: 4096, 65: 4225, 66: 4356, 67: 4489, 68: 4624, 69: 4761, 70: 4900, 71: 5041, 72: 5184, 73: 5329, 74: 5476, 75: 5625, 76: 5776, 77: 5929, 78: 6084, 79: 6241, 80: 6400, 81: 6561, 82: 6724, 83: 6889, 84: 7056, 85: 7225, 86: 7396, 87: 7569, 88: 7744, 89: 7921, 90: 8100, 91: 8281, 92: 8464, 93: 8649, 94: 8836, 95: 9025, 96: 9216, 97: 9409, 98: 9604}\n"
     ]
    }
   ],
   "source": [
    "D = {num : num**2 for num in range(99)}\n",
    "print(D)"
   ]
  },
  {
   "cell_type": "markdown",
   "metadata": {
    "collapsed": true
   },
   "source": [
    "## Question 7\n",
    "\n",
    "Write a program that prints one realization of the following random device:\n",
    "- Flip an unbiased coin **n** times\n",
    "- If 3 consecutive heads occur one or more times within this sequence, pay one dollar\n",
    "- If not, pay nothing\n",
    "\n",
    "Use no import besides **from random import uniform**."
   ]
  },
  {
   "cell_type": "code",
   "execution_count": 7,
   "metadata": {
    "collapsed": false
   },
   "outputs": [
    {
     "name": "stdout",
     "output_type": "stream",
     "text": [
      "[1, 0, 1, 1, 0, 1, 0, 1, 0, 1]\n",
      "Pay nothing.\n"
     ]
    }
   ],
   "source": [
    "from random import uniform\n",
    "\n",
    "# step 1: write function that flips coin n times and reports 1 when head\n",
    "def flip(n):\n",
    "    lst = []\n",
    "    for i in range(n):\n",
    "        if uniform(0,1) < 0.5:\n",
    "            lst.append(1)\n",
    "        else:\n",
    "            lst.append(0)\n",
    "    return lst\n",
    "\n",
    "\n",
    "n = 10\n",
    "lst = flip(n)\n",
    "print(lst)\n",
    "\n",
    "# step 2: pay one dollar if 3 consecutive heads occur one or more times within this sequence\n",
    "i = 0;\n",
    "# NB: first element has index 0, last element that can be checked has index 7 (the 8th element)\n",
    "while i < n-2:\n",
    "    # NB: index works the same as range, i.e. i+3 to go two elements further\n",
    "    if lst[i:i+3] == [1,1,1]:\n",
    "        print('Pay one dollar.')\n",
    "        break\n",
    "    i += 1\n",
    "else:\n",
    "    print('Pay nothing.')"
   ]
  },
  {
   "cell_type": "code",
   "execution_count": null,
   "metadata": {
    "collapsed": true
   },
   "outputs": [],
   "source": [
    "## alternative solution\n",
    "payoff = 0\n",
    "count = 0\n",
    "\n",
    "for i in range(10):\n",
    "    U = uniform()\n",
    "    count = count + 1 if U < 0.5 else 0\n",
    "    if count == 3:\n",
    "        payoff = 1\n",
    "\n",
    "print(payoff)"
   ]
  },
  {
   "cell_type": "markdown",
   "metadata": {},
   "source": [
    "## Question 8\n",
    "\n",
    "Write a function **date_and_time()** that does not take any arguments and that prints the current date and time to the screen in a nice way, for example: \n",
    "15.4.2016 Time: 13.38.55\n",
    "\n",
    "There are different ways to this. One way involves the module **datetime** in the Python standard library and its methods **now()** or **today()**. Use the standard library documentation to find out more. \n",
    "\n",
    "- Hint 1: The **str()** function that converts a number (integer or float) into a string may be useful for printing here.\n",
    "- Hint 2: You can print several strings together (in one print statement) by combining them with a **+** or a **,**. "
   ]
  },
  {
   "cell_type": "code",
   "execution_count": 27,
   "metadata": {
    "collapsed": false
   },
   "outputs": [
    {
     "name": "stdout",
     "output_type": "stream",
     "text": [
      "18.4.2017 Time: 11:3:14\n"
     ]
    }
   ],
   "source": [
    "# import module datetime from the Python standard library\n",
    "import datetime\n",
    "\n",
    "# define function\n",
    "def date_and_time():\n",
    "    # use method .now() to get current time and date\n",
    "    current = datetime.datetime.now()\n",
    "    \n",
    "    # an object that is generated with the .now() method has methods to access year, month, day, hour, minute, second\n",
    "    # I print them using the str() function and combining different strings using \"+\" \n",
    "    print(str(current.day) + '.' + str(current.month) + '.' + str(current.year), \\\n",
    "          'Time:', str(current.hour) + ':' + str(current.minute) + ':' + str(current.second) ) \n",
    "\n",
    "    # NB: a long line in Python can be written on two lines using \"\\\"\n",
    "    \n",
    "date_and_time()"
   ]
  },
  {
   "cell_type": "code",
   "execution_count": null,
   "metadata": {
    "collapsed": true
   },
   "outputs": [],
   "source": []
  }
 ],
 "metadata": {
  "anaconda-cloud": {},
  "kernelspec": {
   "display_name": "Python 3",
   "language": "python",
   "name": "python3"
  },
  "language_info": {
   "codemirror_mode": {
    "name": "ipython",
    "version": 3
   },
   "file_extension": ".py",
   "mimetype": "text/x-python",
   "name": "python",
   "nbconvert_exporter": "python",
   "pygments_lexer": "ipython3",
   "version": "3.5.3"
  }
 },
 "nbformat": 4,
 "nbformat_minor": 0
}
