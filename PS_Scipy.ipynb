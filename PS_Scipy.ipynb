{
 "cells": [
  {
   "cell_type": "markdown",
   "metadata": {},
   "source": [
    "## Exercise 1\n",
    "Some simple plotting"
   ]
  },
  {
   "cell_type": "markdown",
   "metadata": {},
   "source": [
    "## Exercise 2\n",
    "Some more advanced plotting"
   ]
  },
  {
   "cell_type": "markdown",
   "metadata": {},
   "source": [
    "## Exercise 3\n",
    "- Computing OLS by matrix inversion\n",
    "- Plotting OLS and data\n",
    "- Comparing to scipy regression function"
   ]
  },
  {
   "cell_type": "markdown",
   "metadata": {},
   "source": [
    "## Exercise 4\n",
    "\n",
    "(a) Write two functions **demand** and **supply** that both take three arguments, quantity **x** and two function-specific parameters, and capture inverse demand and supply:\n",
    "\\begin{align}\n",
    "    p^d &= a - b x \\\\\n",
    "    p^s &= c + d x\n",
    "\\end{align}\n",
    "\n",
    "(b) Use a root-finding algorithm to solve for the market-clearing price $p^*$. It may be helpful to define a third function, **excess_demand**, that makes use of the two functions above. Find $p^*$ for $a = 5$, $b = 0.4$, $c = 0$ and $d = 0.3$. \n",
    "\n",
    "(c) Import **matplotlib.pyplot** and **seaborn**. Use your functions to replicate the following figure, including all the labels. The parameter values used to generate the graph are the same as in question (b). \n"
   ]
  },
  {
   "cell_type": "code",
   "execution_count": 8,
   "metadata": {
    "collapsed": false
   },
   "outputs": [
    {
     "data": {
      "image/jpeg": "[encoded data removed]",
      "text/plain": [
       "<IPython.core.display.Image object>"
      ]
     },
     "execution_count": 8,
     "metadata": {},
     "output_type": "execute_result"
    }
   ],
   "source": [
    "from IPython.display import Image\n",
    "Image('marketprice.jpg')"
   ]
  },
  {
   "cell_type": "code",
   "execution_count": 9,
   "metadata": {
    "collapsed": false
   },
   "outputs": [
    {
     "data": {
      "text/plain": [
       "<matplotlib.legend.Legend at 0x11426d940>"
      ]
     },
     "execution_count": 9,
     "metadata": {},
     "output_type": "execute_result"
    },
    {
     "data": {
      "image/png": "[encoded data removed]",
      "text/plain": [
       "<matplotlib.figure.Figure at 0x114177cc0>"
      ]
     },
     "metadata": {},
     "output_type": "display_data"
    }
   ],
   "source": [
    "import numpy as np\n",
    "import scipy.optimize\n",
    "import matplotlib.pyplot as plt\n",
    "%matplotlib inline\n",
    "import seaborn\n",
    "\n",
    "\n",
    "def demand(x, a, b):\n",
    "    return a - b * x\n",
    "\n",
    "def supply(x, c, d):\n",
    "    return c + d * x\n",
    "\n",
    "def excess_demand(x, a, b, c, d):\n",
    "    return demand(x, a, b) - supply(x, c, d)\n",
    "\n",
    "a, b, c, d = 5, 0.4, 0, 0.3\n",
    "\n",
    "x_mc = scipy.optimize.bisect(excess_demand, 0, 10, args = (a, b, c, d))\n",
    "p_mc = supply(x_mc, c, d)\n",
    "\n",
    "\n",
    "x = np.linspace(0, 10, 100)\n",
    "fig, ax = plt.subplots()\n",
    "ax.plot(x, demand(x, 5, 0.4), linewidth= 2, label = 'Demand')\n",
    "ax.plot(x, supply(x, 0, 0.3), linewidth= 2, label = 'Supply')\n",
    "ax.vlines(x_mc, 0, 5, color='k', linestyle=\"--\", linewidth= 2)\n",
    "ax.hlines(p_mc, 0, 10, color='k', linestyle=\"--\", linewidth= 2)\n",
    "ax.set_xlabel('Quantity')\n",
    "ax.set_ylabel('Price')\n",
    "ax.legend()\n",
    "# fig.savefig('marketprice.jpg')"
   ]
  },
  {
   "cell_type": "markdown",
   "metadata": {},
   "source": [
    "## Exercise 5\n",
    "\n",
    "In one of the previous problem sets (Week 3 - Strings, question 7), we coded a simple version of the Battleship game. In this question, we use **matplotlib.pyplot** to improve on one dimension of this implementation, the graphical output. If you haven't solved the previous question, feel free to use the code provided in the suggested solutions for that week.\n",
    "\n",
    "Recall that in our implementation of Battleship, we represented the board (i.e. the ocean) as a list of lists. A tile (i.e., a square of the ocean) was represented by a string, a **\"O\"** if the tile had not een uncovered yet and an **\"X\"** if it had been uncovered but without finding the ship. Now, we are going to represent the board as a Numpy array of 0's and 1's, with **0** representing not yet uncovered tiles and **1** representing tiles that have been unsuccessfully checked.\n",
    "\n",
    "(a) Import **numpy**, **matplotlib.pyplot** and (as before) the **random** module. In addition, run the following import statement: **from IPython import display**.\n",
    "\n",
    "(b) Modify the **generate_board** function from the previous versions such that it still takes the arguments **x_b** and **y_b**, but returns a *Numpy array* of dimension **x_b**-by-**y_b**, filled with zeros.\n",
    "\n",
    "(c) Below, we have provided a new version of the **print_board** function. Run the cell below *after you have finished question (b)*. You should get a figure that consists of a blue square.\n",
    "\n",
    "(d) In the **run_game** function, make the following modifications:\n",
    "\n",
    "1. Add the lines **fig, ax = plt.subplots()** and **ax.grid()** at the beginning of the function.\n",
    "2. **print_board** now takes three arguments, instead of one argument as in the previous implementation. Add the arguments **fig** and **ax** to every occurrence of **print_board**.\n",
    "3. Finally, modify your code so it properly updates tiles on your board from 0 to 1. Hint: In the previous version, the **run_game** function updated tiles from \"O\" to \"X\". In addition to replacing \"X\"s with 1's in your code, there is one small adjustment you have to make - recall that indexing for two-dimensional Numpy arrays works differently than for lists of lists!\n",
    "\n",
    "(e) Test your implementation for a 5-by-5 board.\n"
   ]
  },
  {
   "cell_type": "code",
   "execution_count": null,
   "metadata": {
    "collapsed": true
   },
   "outputs": [],
   "source": []
  },
  {
   "cell_type": "code",
   "execution_count": 12,
   "metadata": {
    "collapsed": false
   },
   "outputs": [
    {
     "data": {
      "image/png": "[encoded data removed]",
      "text/plain": [
       "<matplotlib.figure.Figure at 0x113f199e8>"
      ]
     },
     "metadata": {},
     "output_type": "display_data"
    },
    {
     "data": {
      "image/png": "[encoded data removed]",
      "text/plain": [
       "<matplotlib.figure.Figure at 0x113f199e8>"
      ]
     },
     "metadata": {},
     "output_type": "display_data"
    }
   ],
   "source": [
    "## PROVIDE THIS ONE IN THE QUESTION!\n",
    "\n",
    "def print_board(board, fig, ax):\n",
    "    ax.matshow(board, cmap='bwr')\n",
    "    display.display(fig)\n",
    "\n",
    "fig, ax = plt.subplots()\n",
    "ax.grid()    \n",
    "board = generate_board(5, 5)\n",
    "print_board(board, fig, ax)\n"
   ]
  },
  {
   "cell_type": "code",
   "execution_count": 10,
   "metadata": {
    "collapsed": false
   },
   "outputs": [
    {
     "data": {
      "image/png": "[encoded data removed]",
      "text/plain": [
       "<matplotlib.figure.Figure at 0x114161748>"
      ]
     },
     "metadata": {},
     "output_type": "display_data"
    },
    {
     "name": "stdout",
     "output_type": "stream",
     "text": [
      "(0, 4)\n",
      "Current turn: 1\n",
      "Guess Row:1\n",
      "Guess Col:1\n",
      "You missed my battleship!\n"
     ]
    },
    {
     "data": {
      "image/png": "[encoded data removed]",
      "text/plain": [
       "<matplotlib.figure.Figure at 0x114161748>"
      ]
     },
     "metadata": {},
     "output_type": "display_data"
    },
    {
     "name": "stdout",
     "output_type": "stream",
     "text": [
      "Current turn: 2\n",
      "Guess Row:2\n",
      "Guess Col:2\n",
      "You missed my battleship!\n"
     ]
    },
    {
     "data": {
      "image/png": "[encoded data removed]",
      "text/plain": [
       "<matplotlib.figure.Figure at 0x114161748>"
      ]
     },
     "metadata": {},
     "output_type": "display_data"
    },
    {
     "name": "stdout",
     "output_type": "stream",
     "text": [
      "Current turn: 3\n",
      "Guess Row:3\n",
      "Guess Col:3\n",
      "You missed my battleship!\n"
     ]
    },
    {
     "data": {
      "image/png": "[encoded data removed]",
      "text/plain": [
       "<matplotlib.figure.Figure at 0x114161748>"
      ]
     },
     "metadata": {},
     "output_type": "display_data"
    },
    {
     "name": "stdout",
     "output_type": "stream",
     "text": [
      "Game Over\n"
     ]
    },
    {
     "data": {
      "image/png": "[encoded data removed]",
      "text/plain": [
       "<matplotlib.figure.Figure at 0x114161748>"
      ]
     },
     "metadata": {},
     "output_type": "display_data"
    }
   ],
   "source": [
    "## (a): import packages\n",
    "\n",
    "import numpy as np\n",
    "import matplotlib.pyplot as plt\n",
    "\n",
    "from random import randint\n",
    "from IPython import display\n",
    "\n",
    "\n",
    "## (b): generate board\n",
    "def generate_board(x_b, y_b):\n",
    "    return np.zeros((x_b, y_b))   \n",
    "\n",
    "\n",
    "## (d)\n",
    "def print_board(board, fig, ax):\n",
    "    ax.matshow(board, cmap='bwr')\n",
    "    display.display(fig)\n",
    "\n",
    "def random_pos(x_b, y_b):\n",
    "    return (randint(0, x_b - 1), randint(0, y_b - 1))\n",
    "\n",
    "def run_game(x_b, y_b, max_turn):\n",
    "    \n",
    "    fig, ax = plt.subplots()\n",
    "    ax.grid()\n",
    "    \n",
    "    board = generate_board(x_b, y_b)\n",
    "    print_board(board, fig, ax)\n",
    "    ship_pos = random_pos(x_b, y_b)\n",
    "    print(ship_pos)\n",
    "    \n",
    "    for turn in range(max_turn):\n",
    "        print('Current turn: {}'.format(turn + 1))\n",
    "        guess_row = int(input(\"Guess Row:\"))\n",
    "        guess_col = int(input(\"Guess Col:\"))\n",
    "    \n",
    "        if guess_row == ship_pos[0] and guess_col == ship_pos[1]:\n",
    "            print(\"Congratulations! You sunk my battleship! You win!\")\n",
    "            break\n",
    "        else:\n",
    "            if (guess_row < 0 or guess_row > x_b - 1) or (guess_col < 0 or guess_col > y_b - 1):\n",
    "                print(\"Oops, that's not even in the ocean.\")\n",
    "            elif(board[guess_row, guess_col] == 1):\n",
    "                print(\"You guessed that one already.\")\n",
    "            else:\n",
    "                print(\"You missed my battleship!\")\n",
    "                board[guess_row, guess_col] = 1\n",
    "            \n",
    "            print_board(board, fig, ax)\n",
    "            if turn + 1 == 3:\n",
    "                print(\"Game Over\")\n",
    "\n",
    "\n",
    "## (e)\n",
    "x_b, y_b = 5, 5\n",
    "max_turn = 3\n",
    "run_game(x_b, y_b, max_turn)"
   ]
  },
  {
   "cell_type": "markdown",
   "metadata": {
    "collapsed": true
   },
   "source": [
    "## Exercise 5 -> ADD QUESTION FROM CLIMATE_ECON PS 4 \n",
    "\n",
    "Solve the model in the previous question (without the externality) numerically for a more general setting, in particular with a CIES utility function and less than full depreciation. Choose reasonable values for the parameters. How does the optimal extraction profile depend on the growth rate of total factor productivity?\n",
    "\n",
    "### Answer\n",
    "Solving the model numerically is straightforward. The code should look familiar from the two-period model we have seen in previous lectures. In particular, we can again use Scipy's minimization routine (**scipy.optimize.minimize**).\n",
    "\n",
    "Note that since there is no extraction or externality cost caused by fossil fuel use, the complete resource stock will be used over the two periods."
   ]
  },
  {
   "cell_type": "code",
   "execution_count": null,
   "metadata": {
    "collapsed": true
   },
   "outputs": [],
   "source": [
    "## Define functions\n",
    "def u(x, nu):\n",
    "    \"\"\"\n",
    "    Utility function\n",
    "    \"\"\"\n",
    "    if nu == 1: # logarithmic utility\n",
    "        return np.log(x)\n",
    "    else:\n",
    "        return (1 - nu)**(-1) * x**(1-nu)\n",
    "    \n",
    "def F(k, e, alpha, A):\n",
    "    \"\"\"\n",
    "    Production function: Cobb-Douglas\n",
    "    \"\"\"\n",
    "    return A * k**(alpha) * e**(1-alpha)\n",
    "\n",
    "def obj(x, alpha, A1, g, beta, delta, nu, K1):\n",
    "    \"\"\"\n",
    "    Computes the social planner's objective function, i.e. the representative agent's lifetime utility\n",
    "    \"\"\"\n",
    "    E1, I = x\n",
    "    return - u(F(K1, E1, alpha, A1) - I, nu) \\\n",
    "            - beta * u( F( (1-delta) * K1 + I, R - E1, alpha, (1 + g) * A1) + (1 - delta) * ( (1-delta) * K1 + I), nu)\n",
    "\n",
    "\n",
    "## Set parameters\n",
    "alpha = 0.6\n",
    "beta = 0.98\n",
    "R = 1\n",
    "K1 = 1\n",
    "A1 = 1\n",
    "nu = 2\n",
    "delta = 0.9\n",
    "\n",
    "## Closed-form solution (with log utility and full depreciation), used as initial guess below\n",
    "E1 = R * (1 + alpha * beta)/(1 + alpha * beta + beta)\n",
    "K2 = alpha * beta * F(K1, E1, alpha, A1) / (1 + alpha * beta)\n",
    "x0 = [E1, K2]\n",
    "print(x0)\n",
    "\n",
    "## determine bounds for choice variables\n",
    "bnds = [(1e-8, 1e+12), (1e-8, 1e+12)]\n",
    "\n",
    "\n",
    "## Baseline\n",
    "g = 0.1\n",
    "# run minimization routine\n",
    "res = scipy.optimize.minimize(obj, x0,\\\n",
    "                              args = tuple([alpha, A1, g, beta, delta, nu, K1]), \\\n",
    "                              bounds = bnds, method='SLSQP', tol = 1e-12)\n",
    "print(res.x)\n",
    "\n",
    "## Increase productivity growth\n",
    "g = 0.2\n",
    "res = scipy.optimize.minimize(obj, x0,\\\n",
    "                              args = tuple([alpha, A1, g, beta, delta, nu, K1]), \\\n",
    "                              bounds = bnds, method='SLSQP', tol = 1e-12)\n",
    "print(res.x)"
   ]
  },
  {
   "cell_type": "markdown",
   "metadata": {},
   "source": [
    "We can see that less than full depreciation and non-logarithmic utility, higher productivity growth leads to less investment and hence a lower capital stock in period 2. This is intuitive: recall that $\\nu > 1$ indicates a lower elasticity of intertemporal substitution (or a higher aversion to intertemporal consumption inequality), hence if the household is richer in the future (due to a higher productivity), the incentive to save today is weaker. A lower capital stock in period 2 implies that the marginal return to capital - $F_K(K_2, E_2) + 1 - \\delta$ - increases. By the Hotelling rule, this implies that the *relative* marginal return to fossil fuel in period 2 (relative to period 1) has to rise as well. This can be achieved by shifting extraction from period 2 to period 1, thus leading to a (albeit small) increase in current fossil fuel use."
   ]
  },
  {
   "cell_type": "code",
   "execution_count": null,
   "metadata": {
    "collapsed": true
   },
   "outputs": [],
   "source": []
  }
 ],
 "metadata": {
  "anaconda-cloud": {},
  "kernelspec": {
   "display_name": "Python 3",
   "language": "python",
   "name": "python3"
  },
  "language_info": {
   "codemirror_mode": {
    "name": "ipython",
    "version": 3
   },
   "file_extension": ".py",
   "mimetype": "text/x-python",
   "name": "python",
   "nbconvert_exporter": "python",
   "pygments_lexer": "ipython3",
   "version": "3.5.3"
  }
 },
 "nbformat": 4,
 "nbformat_minor": 1
}
