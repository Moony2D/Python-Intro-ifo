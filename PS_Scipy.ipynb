{
 "cells": [
  {
   "cell_type": "markdown",
   "metadata": {},
   "source": [
    "## Exercise 1\n",
    "Some simple plotting"
   ]
  },
  {
   "cell_type": "markdown",
   "metadata": {},
   "source": [
    "## Exercise 2\n",
    "Some more advanced plotting"
   ]
  },
  {
   "cell_type": "markdown",
   "metadata": {},
   "source": [
    "## Exercise 3\n",
    "- Computing OLS by matrix inversion\n",
    "- Plotting OLS and data\n",
    "- Comparing to scipy regression function"
   ]
  },
  {
   "cell_type": "markdown",
   "metadata": {},
   "source": [
    "## Exercise 4\n",
    "Some optimization problem"
   ]
  },
  {
   "cell_type": "markdown",
   "metadata": {
    "collapsed": true
   },
   "source": [
    "## Exercise 5 -> ADD QUESTION FROM CLIMATE_ECON PS 4 \n",
    "\n",
    "Solve the model in the previous question (without the externality) numerically for a more general setting, in particular with a CIES utility function and less than full depreciation. Choose reasonable values for the parameters. How does the optimal extraction profile depend on the growth rate of total factor productivity?\n",
    "\n",
    "### Answer\n",
    "Solving the model numerically is straightforward. The code should look familiar from the two-period model we have seen in previous lectures. In particular, we can again use Scipy's minimization routine (**scipy.optimize.minimize**).\n",
    "\n",
    "Note that since there is no extraction or externality cost caused by fossil fuel use, the complete resource stock will be used over the two periods."
   ]
  },
  {
   "cell_type": "code",
   "execution_count": null,
   "metadata": {
    "collapsed": true
   },
   "outputs": [],
   "source": [
    "## Define functions\n",
    "def u(x, nu):\n",
    "    \"\"\"\n",
    "    Utility function\n",
    "    \"\"\"\n",
    "    if nu == 1: # logarithmic utility\n",
    "        return np.log(x)\n",
    "    else:\n",
    "        return (1 - nu)**(-1) * x**(1-nu)\n",
    "    \n",
    "def F(k, e, alpha, A):\n",
    "    \"\"\"\n",
    "    Production function: Cobb-Douglas\n",
    "    \"\"\"\n",
    "    return A * k**(alpha) * e**(1-alpha)\n",
    "\n",
    "def obj(x, alpha, A1, g, beta, delta, nu, K1):\n",
    "    \"\"\"\n",
    "    Computes the social planner's objective function, i.e. the representative agent's lifetime utility\n",
    "    \"\"\"\n",
    "    E1, I = x\n",
    "    return - u(F(K1, E1, alpha, A1) - I, nu) \\\n",
    "            - beta * u( F( (1-delta) * K1 + I, R - E1, alpha, (1 + g) * A1) + (1 - delta) * ( (1-delta) * K1 + I), nu)\n",
    "\n",
    "\n",
    "## Set parameters\n",
    "alpha = 0.6\n",
    "beta = 0.98\n",
    "R = 1\n",
    "K1 = 1\n",
    "A1 = 1\n",
    "nu = 2\n",
    "delta = 0.9\n",
    "\n",
    "## Closed-form solution (with log utility and full depreciation), used as initial guess below\n",
    "E1 = R * (1 + alpha * beta)/(1 + alpha * beta + beta)\n",
    "K2 = alpha * beta * F(K1, E1, alpha, A1) / (1 + alpha * beta)\n",
    "x0 = [E1, K2]\n",
    "print(x0)\n",
    "\n",
    "## determine bounds for choice variables\n",
    "bnds = [(1e-8, 1e+12), (1e-8, 1e+12)]\n",
    "\n",
    "\n",
    "## Baseline\n",
    "g = 0.1\n",
    "# run minimization routine\n",
    "res = scipy.optimize.minimize(obj, x0,\\\n",
    "                              args = tuple([alpha, A1, g, beta, delta, nu, K1]), \\\n",
    "                              bounds = bnds, method='SLSQP', tol = 1e-12)\n",
    "print(res.x)\n",
    "\n",
    "## Increase productivity growth\n",
    "g = 0.2\n",
    "res = scipy.optimize.minimize(obj, x0,\\\n",
    "                              args = tuple([alpha, A1, g, beta, delta, nu, K1]), \\\n",
    "                              bounds = bnds, method='SLSQP', tol = 1e-12)\n",
    "print(res.x)"
   ]
  },
  {
   "cell_type": "markdown",
   "metadata": {},
   "source": [
    "We can see that less than full depreciation and non-logarithmic utility, higher productivity growth leads to less investment and hence a lower capital stock in period 2. This is intuitive: recall that $\\nu > 1$ indicates a lower elasticity of intertemporal substitution (or a higher aversion to intertemporal consumption inequality), hence if the household is richer in the future (due to a higher productivity), the incentive to save today is weaker. A lower capital stock in period 2 implies that the marginal return to capital - $F_K(K_2, E_2) + 1 - \\delta$ - increases. By the Hotelling rule, this implies that the *relative* marginal return to fossil fuel in period 2 (relative to period 1) has to rise as well. This can be achieved by shifting extraction from period 2 to period 1, thus leading to a (albeit small) increase in current fossil fuel use."
   ]
  },
  {
   "cell_type": "code",
   "execution_count": null,
   "metadata": {
    "collapsed": true
   },
   "outputs": [],
   "source": []
  }
 ],
 "metadata": {
  "anaconda-cloud": {},
  "kernelspec": {
   "display_name": "Python 3",
   "language": "python",
   "name": "python3"
  },
  "language_info": {
   "codemirror_mode": {
    "name": "ipython",
    "version": 3
   },
   "file_extension": ".py",
   "mimetype": "text/x-python",
   "name": "python",
   "nbconvert_exporter": "python",
   "pygments_lexer": "ipython3",
   "version": "3.5.3"
  }
 },
 "nbformat": 4,
 "nbformat_minor": 1
}
