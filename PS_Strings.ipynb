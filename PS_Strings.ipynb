{
 "cells": [
  {
   "cell_type": "markdown",
   "metadata": {},
   "source": [
    "# Introduction to Python - Strings\n",
    "\n",
    "## Problem Set"
   ]
  },
  {
   "cell_type": "code",
   "execution_count": 1,
   "metadata": {
    "collapsed": false
   },
   "outputs": [
    {
     "name": "stdout",
     "output_type": "stream",
     "text": [
      "Last update: 2017-03-21 18:40:31.883282\n"
     ]
    }
   ],
   "source": [
    "# Author: Alex Schmitt (schmitt@ifo.de)\n",
    "\n",
    "import datetime\n",
    "print('Last update: ' + str(datetime.datetime.today()))"
   ]
  },
  {
   "cell_type": "markdown",
   "metadata": {},
   "source": [
    "## Question 1\n",
    "\n",
    "Write a function **date_and_time()** that does not take any arguments and that prints the current date and time to the screen in a nice way, for example: \n",
    "15.4.2016 Time: 13.38.55\n",
    "\n",
    "There are different ways to this. One way involves the module **datetime** in the Python standard library and its methods **now()** or **today()**. Use the standard library documentation to find out more. \n",
    "\n",
    "- Hint 1: The **str()** function that converts a number (integer or float) into a string may be useful for printing here.\n",
    "- Hint 2: You can print several strings together (in one print statement) by combining them with a **+** or a **,**. "
   ]
  },
  {
   "cell_type": "code",
   "execution_count": 4,
   "metadata": {
    "collapsed": false
   },
   "outputs": [
    {
     "name": "stdout",
     "output_type": "stream",
     "text": [
      "25.4.2016 Time: 13:55:55\n"
     ]
    }
   ],
   "source": [
    "# import module datetime from the Python standard library\n",
    "import datetime\n",
    "\n",
    "# define function\n",
    "def date_and_time():\n",
    "    # use method .now() to get current time and date\n",
    "    current = datetime.datetime.now()\n",
    "    \n",
    "    # an object that is generated with the .now() method has methods to access year, month, day, hour, minute, second\n",
    "    # I print them using the str() function and combining different strings using \"+\" \n",
    "    print(str(current.day) + '.' + str(current.month) + '.' + str(current.year), \\\n",
    "          'Time:', str(current.hour) + ':' + str(current.minute) + ':' + str(current.second) ) \n",
    "\n",
    "    # NB: a long line in Python can be written on two lines using \"\\\"\n",
    "    \n",
    "date_and_time()"
   ]
  },
  {
   "cell_type": "markdown",
   "metadata": {},
   "source": [
    "## Question 2\n",
    "\n",
    "Write a function **reverse()** that takes a string as an argument and returns it in reverse order. For example, **reverse('Tyrion')** should return **Noiryt**. \n",
    "\n",
    "Hint: the methods **.upper()** and **.lower()** for strings may be useful here."
   ]
  },
  {
   "cell_type": "code",
   "execution_count": 6,
   "metadata": {
    "collapsed": false
   },
   "outputs": [
    {
     "name": "stdout",
     "output_type": "stream",
     "text": [
      "Noiryt\n"
     ]
    }
   ],
   "source": [
    "def reverse(text):\n",
    "    # initialize empty string\n",
    "    s = \"\"\n",
    "    # loop through string in reverse order, starting at the last element (index: len(text)-1) \n",
    "    for i in range(len(text)-1,-1,-1):\n",
    "        # add the lower case equivalent of text[i] to new string s\n",
    "        s = s + text[i].lower()\n",
    "    \n",
    "    # NB: the first letter in s should be returned as upper case, hence use upper() before returning\n",
    "    return s[0].upper() + s[1:]\n",
    "\n",
    "print(reverse('Tyrion'))   "
   ]
  },
  {
   "cell_type": "markdown",
   "metadata": {},
   "source": [
    "## Question 3\n",
    "\n",
    "Write a function **scrabble_score()** that takes a word (string) and computes the score you would get in the game Scrabble. Each letter in the alphabet is assigned a value: \n",
    "a - 1,\n",
    "b - 3,\n",
    "c - 3,\n",
    "d - 2,\n",
    "e - 1,\n",
    "f - 4,\n",
    "g - 2,\n",
    "h - 4,\n",
    "i - 1,\n",
    "j - 8,\n",
    "k - 5,\n",
    "l - 1,\n",
    "m - 3,\n",
    "n - 1,\n",
    "o - 1,\n",
    "p - 3,\n",
    "q - 10,\n",
    "r - 1,\n",
    "s - 1,\n",
    "t - 1,\n",
    "u - 1,\n",
    "v - 4,\n",
    "w - 4,\n",
    "x - 8,\n",
    "y - 4,\n",
    "z - 10\n",
    "\n",
    "For example, **scrabble_score(\"Arya\")** returns the score 7.\n",
    "\n",
    "Hint: A dictionary can be very useful here. "
   ]
  },
  {
   "cell_type": "code",
   "execution_count": 8,
   "metadata": {
    "collapsed": false
   },
   "outputs": [
    {
     "name": "stdout",
     "output_type": "stream",
     "text": [
      "7\n"
     ]
    }
   ],
   "source": [
    "def scrabble_score(word):\n",
    "    # define a dictionary containing the scores\n",
    "    score = {\"a\": 1, \"c\": 3, \"b\": 3, \"e\": 1, \"d\": 2, \"g\": 2, \n",
    "         \"f\": 4, \"i\": 1, \"h\": 4, \"k\": 5, \"j\": 8, \"m\": 3, \n",
    "         \"l\": 1, \"o\": 1, \"n\": 1, \"q\": 10, \"p\": 3, \"s\": 1, \n",
    "         \"r\": 1, \"u\": 1, \"t\": 1, \"w\": 4, \"v\": 4, \"y\": 4, \n",
    "         \"x\": 8, \"z\": 10}\n",
    "    # initialize variable 'total' equal to zero\n",
    "    total = 0\n",
    "    # convert word to all lower cases\n",
    "    word = word.lower()\n",
    "    # loop through word, find score in the dictionary and add it to total\n",
    "    for i in word:\n",
    "        total = total + score[i]\n",
    "    return total\n",
    "    \n",
    "print(scrabble_score(\"Arya\"))"
   ]
  },
  {
   "cell_type": "markdown",
   "metadata": {},
   "source": [
    "## Question 4\n",
    "\n",
    "The file **ifo.txt** contains ifo's presentation from the home page. Open the text in Python and \n",
    "\n",
    "(a) Open the text in Python. Store the whole text as a string. How many characters does it contain?\n",
    "\n",
    "(b) Open the text again, but this time store it as a list of lines. How many lines does it contain? How many characters does the first line contain?\n",
    "\n",
    "(c) How often does the text contain the string 'ifo'? How often the string 'Ifo'? To ensure consistency, go through the text and convert 'Ifo' to 'ifo'.\n",
    "\n",
    "(d) How often does the text contain the last name of our president? In which line does it appear for the first time?\n",
    "\n",
    "(e) The text contains several numbers (mainly years). Use a regular expression to parse the text and compute the sum of all these number. If you want a particular challenge, you can write the solution to this question in one line. \n"
   ]
  },
  {
   "cell_type": "code",
   "execution_count": 21,
   "metadata": {
    "collapsed": true
   },
   "outputs": [],
   "source": [
    "## import regular expressions module\n",
    "import re\n",
    "fname = \"ifo.txt\""
   ]
  },
  {
   "cell_type": "code",
   "execution_count": 22,
   "metadata": {
    "collapsed": false
   },
   "outputs": [
    {
     "name": "stdout",
     "output_type": "stream",
     "text": [
      "The text consists of 5102 characters.\n"
     ]
    }
   ],
   "source": [
    "## question (a)\n",
    "fh = open(fname)\n",
    "text_all = fh.read()\n",
    "print('The text consists of {} characters.'.format(len(text_all)) )"
   ]
  },
  {
   "cell_type": "code",
   "execution_count": 23,
   "metadata": {
    "collapsed": false
   },
   "outputs": [
    {
     "name": "stdout",
     "output_type": "stream",
     "text": [
      "The text consists of 42 lines.\n",
      "The text consists of 5102 characters.\n",
      "The first line consists of 84 characters.\n"
     ]
    }
   ],
   "source": [
    "## question (b)\n",
    "fh = open(fname)\n",
    "\n",
    "text = []\n",
    "for line in fh:\n",
    "    text.append(line)\n",
    "\n",
    "print(\"The text consists of {} lines.\".format(len(text)))\n",
    "## confirming the result of (a)\n",
    "print(\"The text consists of {} characters.\".format(sum([len(line) for line in text])) )\n",
    "\n",
    "## single line\n",
    "line = text[0]\n",
    "print(\"The first line consists of {} characters.\".format(len(line)))"
   ]
  },
  {
   "cell_type": "code",
   "execution_count": 24,
   "metadata": {
    "collapsed": false
   },
   "outputs": [
    {
     "name": "stdout",
     "output_type": "stream",
     "text": [
      "The text contains the term ifo 5 times.\n",
      "The text contains the term Ifo 24 times.\n"
     ]
    }
   ],
   "source": [
    "## question (c)\n",
    "word = 'ifo'\n",
    "print('The text contains the term {} {} times.'.format(word, len(re.findall(word, text_all)) ) )\n",
    "\n",
    "word = 'Ifo'\n",
    "print('The text contains the term {} {} times.'.format(word, len(re.findall(word, text_all)) ) )"
   ]
  },
  {
   "cell_type": "code",
   "execution_count": 31,
   "metadata": {
    "collapsed": false
   },
   "outputs": [
    {
     "name": "stdout",
     "output_type": "stream",
     "text": [
      "The text contains the name Fuest 1 times.\n",
      "It appears for the first time on line 29.\n",
      "It appears for the first time on line 29.\n"
     ]
    }
   ],
   "source": [
    "## question (c)\n",
    "word = 'Fuest'\n",
    "print('The text contains the name {} {} times.'.format(word, len(re.findall(word, text_all)) ) )\n",
    "\n",
    "## Option 1: regular expression \n",
    "fh = open(fname)\n",
    "count = 0\n",
    "for line in fh:\n",
    "    count += 1\n",
    "    if re.search(word, line):\n",
    "        first_app = count\n",
    "        break\n",
    "print('It appears for the first time on line {}.'.format(first_app) )\n",
    "        \n",
    "## Option 2: find method\n",
    "fh = open(fname)\n",
    "count = 0\n",
    "for line in fh:\n",
    "    count += 1\n",
    "    if line.find(word) >= 0:\n",
    "        first_app2 = count\n",
    "        break\n",
    "        \n",
    "print('It appears for the first time on line {}.'.format(first_app2) )"
   ]
  },
  {
   "cell_type": "code",
   "execution_count": 34,
   "metadata": {
    "collapsed": false
   },
   "outputs": [
    {
     "name": "stdout",
     "output_type": "stream",
     "text": [
      "The sum of the numbers in the text is 22983.\n",
      "The sum of the numbers in the text is 22983.\n"
     ]
    }
   ],
   "source": [
    "## question (e)\n",
    "\n",
    "## Option 1: loop\n",
    "def count_nums(fname):\n",
    "    fh = open(fname)\n",
    "\n",
    "    total = 0\n",
    "\n",
    "    for line in fh:\n",
    "        total += sum([int(item) for item in re.findall('[0-9]+', line)])\n",
    "    return total    \n",
    "       \n",
    "print('The sum of the numbers in the text is {}.'.format(count_nums(fname)) )\n",
    "\n",
    "## Option 2: list comprehension\n",
    "total = sum([int(item) for item in re.findall('[0-9]+', open(\"ifo.txt\", 'r').read())])    \n",
    "print('The sum of the numbers in the text is {}.'.format(total) )   "
   ]
  },
  {
   "cell_type": "code",
   "execution_count": null,
   "metadata": {
    "collapsed": true
   },
   "outputs": [],
   "source": []
  }
 ],
 "metadata": {
  "kernelspec": {
   "display_name": "Python 3",
   "language": "python",
   "name": "python3"
  },
  "language_info": {
   "codemirror_mode": {
    "name": "ipython",
    "version": 3
   },
   "file_extension": ".py",
   "mimetype": "text/x-python",
   "name": "python",
   "nbconvert_exporter": "python",
   "pygments_lexer": "ipython3",
   "version": "3.5.3"
  }
 },
 "nbformat": 4,
 "nbformat_minor": 0
}
