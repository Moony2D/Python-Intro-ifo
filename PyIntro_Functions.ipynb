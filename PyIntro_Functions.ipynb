{
 "cells": [
  {
   "cell_type": "markdown",
   "metadata": {},
   "source": [
    "# Introduction to Python - Arrays II, Functions and Packages"
   ]
  },
  {
   "cell_type": "code",
   "execution_count": 8,
   "metadata": {
    "collapsed": false
   },
   "outputs": [
    {
     "name": "stdout",
     "output_type": "stream",
     "text": [
      "Last update: 2017-04-19 14:46:32.554066\n"
     ]
    }
   ],
   "source": [
    "# Authors: Matthias Huber (huber@ifo.de), Alex Schmitt (schmitt@ifo.de)\n",
    "\n",
    "import datetime\n",
    "print('Last update: ' + str(datetime.datetime.today()))"
   ]
  },
  {
   "cell_type": "markdown",
   "metadata": {},
   "source": [
    "## TO BE ADDED\n",
    "\n",
    "- more on sets: methods, examples\n",
    "- more on dictionaries: methods\n",
    "- writing own modules/scripts\n",
    "- doctest, unittest ???\n",
    "\n"
   ]
  },
  {
   "cell_type": "markdown",
   "metadata": {},
   "source": [
    "## Sets\n",
    "\n",
    "*Sets* are similar to tuples in that they are immutable. However, elements are not in a particular order, hence you cannot use indices for sets. Additionally, there are not duplicates, so they can be called an \"Unordered collections of unique elements\" "
   ]
  },
  {
   "cell_type": "code",
   "execution_count": 3,
   "metadata": {
    "collapsed": false
   },
   "outputs": [
    {
     "data": {
      "text/plain": [
       "{4, 5, 6}"
      ]
     },
     "execution_count": 3,
     "metadata": {},
     "output_type": "execute_result"
    }
   ],
   "source": [
    "# set\n",
    "b = {4,5,6}\n",
    "b"
   ]
  },
  {
   "cell_type": "code",
   "execution_count": 5,
   "metadata": {
    "collapsed": false
   },
   "outputs": [],
   "source": [
    "#print(b[0])  # will throw an error!"
   ]
  },
  {
   "cell_type": "code",
   "execution_count": 6,
   "metadata": {
    "collapsed": false
   },
   "outputs": [
    {
     "data": {
      "text/plain": [
       "3"
      ]
     },
     "execution_count": 6,
     "metadata": {},
     "output_type": "execute_result"
    }
   ],
   "source": [
    "len(b)"
   ]
  },
  {
   "cell_type": "markdown",
   "metadata": {},
   "source": [
    "#### Set Methods\n",
    "\n",
    "The equivalent to the **append()** method for sets is the **add()** method. Unsurprisingly, adding an element to a set which is already in there will not change the set."
   ]
  },
  {
   "cell_type": "code",
   "execution_count": 4,
   "metadata": {
    "collapsed": false
   },
   "outputs": [
    {
     "name": "stdout",
     "output_type": "stream",
     "text": [
      "{3, 4, 5, 6}\n",
      "{3, 4, 5, 6}\n"
     ]
    }
   ],
   "source": [
    "b = {4,5,6}\n",
    "b.add(3)\n",
    "print(b)\n",
    "# BTW: adding an element to a set whic/h is already in there will change the set\n",
    "b.add(4)\n",
    "print(b)"
   ]
  },
  {
   "cell_type": "code",
   "execution_count": 6,
   "metadata": {
    "collapsed": false
   },
   "outputs": [],
   "source": [
    "## examples for UNION, INTERSECT, INTERSECT_UPDATE, ???"
   ]
  },
  {
   "cell_type": "markdown",
   "metadata": {},
   "source": [
    "## Dictionaries\n",
    "\n",
    "A very important and useful type of arrays are *dictionaries*. Dictionaries are similar to lists, but its entries (*values*) are indexed by names (*keys*) rather than numbers. In other words, dictionaries are *key-value mappings*: they map a key (e.g. 'name') to a value (e.g. the string 'Alex'). Note that both the keys and the values in a dictionary can be of different types (integers, floats, strings, booleans, arrays etc.)."
   ]
  },
  {
   "cell_type": "code",
   "execution_count": 1,
   "metadata": {
    "collapsed": false
   },
   "outputs": [
    {
     "name": "stdout",
     "output_type": "stream",
     "text": [
      "{'age': 34, 'interests': ['Python', 'Economics', 'Game of Thrones'], 'name': 'Alex', 'likes_football': True}\n",
      "Alex\n",
      "34\n",
      "True\n",
      "['Python', 'Economics', 'Game of Thrones']\n"
     ]
    }
   ],
   "source": [
    "# dictionary\n",
    "info = {'name': 'Alex', 'age': 34, 'likes_football': True, 'interests': ['Python', 'Economics', 'Game of Thrones']}\n",
    "\n",
    "print(info)\n",
    "print(info['name'])\n",
    "print(info['age'])\n",
    "print(info['likes_football'])\n",
    "print(info['interests'])"
   ]
  },
  {
   "cell_type": "markdown",
   "metadata": {},
   "source": [
    "You can add new key-value pairs to an existing (or an empty) dictionary. "
   ]
  },
  {
   "cell_type": "code",
   "execution_count": 4,
   "metadata": {
    "collapsed": false
   },
   "outputs": [
    {
     "name": "stdout",
     "output_type": "stream",
     "text": [
      "{'height': 1.82, 'name': 'Alex', 'interests': ['Python', 'Economics', 'Game of Thrones'], 'age': 34, 'likes_football': True}\n",
      "{'Berlin': 3500000.0, 'London': 8500000.0, 'Munich': 1500000.0}\n"
     ]
    }
   ],
   "source": [
    "# add a new entry to an existing dictionary\n",
    "info['height'] = 1.82\n",
    "print(info)\n",
    "\n",
    "# create an empty dictionary and fill it \n",
    "residents = dict()\n",
    "residents['Munich'] = 1.5e+6\n",
    "residents['Berlin'] = 3.5e+6\n",
    "residents['London'] = 8.5e+6\n",
    "\n",
    "print(residents)"
   ]
  },
  {
   "cell_type": "markdown",
   "metadata": {},
   "source": [
    "#### Methods for Dictionaries\n",
    "\n",
    "Both the complete list of keys and of values of a dictionary can accessed by using the **.keys()** and **.values()** methods, respectively:"
   ]
  },
  {
   "cell_type": "code",
   "execution_count": 18,
   "metadata": {
    "collapsed": false
   },
   "outputs": [
    {
     "name": "stdout",
     "output_type": "stream",
     "text": [
      "{'name': 'Alex', 'interests': ['Python', 'Economics', 'Game of Thrones'], 'age': 34, 'likes_football': True}\n",
      "dict_keys(['name', 'interests', 'age', 'likes_football'])\n",
      "dict_values(['Alex', ['Python', 'Economics', 'Game of Thrones'], 34, True])\n"
     ]
    }
   ],
   "source": [
    "print(info)\n",
    "\n",
    "print(info.keys())\n",
    "print(info.values())"
   ]
  },
  {
   "cell_type": "markdown",
   "metadata": {},
   "source": [
    "## Writing Functions"
   ]
  },
  {
   "cell_type": "markdown",
   "metadata": {
    "collapsed": true
   },
   "source": [
    "In order to get an intuition behind the idea of a function in Python (or in any other programming language), recall what a function in Math does, for example $y = f(x) = x^2$: it is a mapping that takes a number $x$, performs some operation on it -- here multiplies it with itself -- and then returns the result as \"output\" $y$. A function in programming does the same, with the difference that inputs and outputs can be anything, not just numbers.\n",
    "\n",
    "Functions come in two varieties: built-in functions are contained in the Standard Library or some package, and be used right away (if they are part of a module, this has to be imported first, see below). We already encountered some functions, namely **print()**, **type()**, **len()** and **range()**. The full list of built-in functions can be found here: "
   ]
  },
  {
   "cell_type": "code",
   "execution_count": 147,
   "metadata": {
    "collapsed": false
   },
   "outputs": [
    {
     "data": {
      "text/plain": [
       "True"
      ]
     },
     "execution_count": 147,
     "metadata": {},
     "output_type": "execute_result"
    }
   ],
   "source": [
    "url = 'https://docs.python.org/3/library/functions.html'\n",
    "webbrowser.open(url)"
   ]
  },
  {
   "cell_type": "markdown",
   "metadata": {},
   "source": [
    "In addition, you can (and should) write your own functions. Here are three examples. The first one, called 'sum_squared' translates the math function $ f(x,y) = x^2 + y^2$ into Python code: it takes two numbers (int or float) as inputs and returns the sum of its squares. The second function, 'reverse_order', takes a list and returns it in reverse order. The third example just prints a string:"
   ]
  },
  {
   "cell_type": "code",
   "execution_count": 30,
   "metadata": {
    "collapsed": false
   },
   "outputs": [
    {
     "name": "stdout",
     "output_type": "stream",
     "text": [
      "73\n",
      "['Daenerys', 'Tyrion', 'Arya', 'Samwell']\n",
      "['Samwell', 'Arya', 'Tyrion', 'Daenerys']\n",
      "Valar Morghulis!\n",
      "Valar Morghulis!\n",
      "None\n"
     ]
    }
   ],
   "source": [
    "def sum_squared(x, y):\n",
    "    return x**2 + y**2\n",
    "\n",
    "def reverse_order(ls):\n",
    "    return ls[::-1]\n",
    "\n",
    "def all_men_must_die():\n",
    "    print(\"Valar Morghulis!\")\n",
    "\n",
    "print(sum_squared(8, 3))\n",
    "\n",
    "names = ['Daenerys', 'Tyrion', 'Arya', 'Samwell']\n",
    "names_reverse = reverse_order(names)\n",
    "print(names)\n",
    "print(names_reverse)\n",
    "\n",
    "all_men_must_die()\n",
    "print(all_men_must_die())"
   ]
  },
  {
   "cell_type": "markdown",
   "metadata": {},
   "source": [
    "Some comments about the syntax for writing functions:\n",
    "1. A function always starts with the keyword **def** (for define or definition). This is followed by the *function name*, which is the choice of the programmer and can be virtually anything - be careful though not to use names that are *already used for built-in functions*!\n",
    "2. The function name is followed by *parentheses* containing the names for the inputs into the function. Sometimes functions may not take inputs, in which cases the parentheses are left empty (as seen in the third example above).\n",
    "3. As it is the case with loops and if-statement, the function definition is concluded with a semi-colon (**:**).\n",
    "4. After the semi-colon follows the code block where you define the operations that the function should perform. The rules about *indentation* that we discussed in the context of loops above apply here as well. The code block can consist of a single return statement or many lines of code. \n",
    "5. The output that a function gives is determined by the **return** statement. If there is no return statement, the function returns \"None\". Note that a function can have arbitrarily many return statements; execution of the function terminates when the first return is hit:"
   ]
  },
  {
   "cell_type": "code",
   "execution_count": 148,
   "metadata": {
    "collapsed": false
   },
   "outputs": [
    {
     "name": "stdout",
     "output_type": "stream",
     "text": [
      "negative\n"
     ]
    }
   ],
   "source": [
    "def f(x):\n",
    "    if x < 0:\n",
    "        return 'negative'\n",
    "    return 'nonnegative'\n",
    "\n",
    "print(f(-3))"
   ]
  },
  {
   "cell_type": "markdown",
   "metadata": {},
   "source": [
    "Functions are an extremely important tool in computing. User-defined functions help improving the clarity and readability of your code by\n",
    "- separating different strands of logic\n",
    "- facilitating code reuse\n",
    "\n",
    "In other words, very often a (large) computational problem is broken up into smaller subproblems, which are coded up as functions. The main program then coordinates these functions, calling them to do their job at the appropriate time.\n",
    "\n",
    "In order to increase the clarity of your code, it is good practice to include a description about what the function does. Inserting regular comments using \"#\" would do the trick, but a better way is using *doc strings*, as in the following example. The great advantage is that you can access the description without actually opening the function (this is very useful when your function is stored in a different file or in an imported package): "
   ]
  },
  {
   "cell_type": "code",
   "execution_count": 2,
   "metadata": {
    "collapsed": false
   },
   "outputs": [],
   "source": [
    "def reverse_order(ls):\n",
    "    \"\"\"\n",
    "    Takes a list and returns it in reverse order\n",
    "    \"\"\"\n",
    "    return ls[::-1]\n"
   ]
  },
  {
   "cell_type": "code",
   "execution_count": 4,
   "metadata": {
    "collapsed": true
   },
   "outputs": [],
   "source": [
    "reverse_order?"
   ]
  },
  {
   "cell_type": "markdown",
   "metadata": {},
   "source": [
    "## Importing Modules and Packages\n",
    "\n",
    "So far, we have used data types and functions which are part of the core language and which you can use without any additional code. In addition to this core functionalities, the Python standard library also contains *modules*. Modules are basically files that contain additional functions and definitions. In order to use the functions provided by a module, you need to **import** it. We have done this already at the beginning of this tutorial when we imported the module *webbrowser* in order to open a webpage. As a second example, the following cell imports a module called *random*, which you can use, among other things, to draw a random number from a uniform distribution. Importing the whole module makes all functions available for use in your program. In this case, the name of the function - e.g. *uniform* - must be preceded by the name of the module, i.e. *module_name.function_name*."
   ]
  },
  {
   "cell_type": "code",
   "execution_count": 7,
   "metadata": {
    "collapsed": false
   },
   "outputs": [
    {
     "name": "stdout",
     "output_type": "stream",
     "text": [
      "0.6865121121796949\n",
      "0.6358618210048055\n",
      "-0.9321606090870684\n",
      "2\n"
     ]
    }
   ],
   "source": [
    "import random   # import module\n",
    "\n",
    "print(random.random()) # draws a random number from a uniform distribution between 0 and 1\n",
    "print(random.uniform(0,1)) # draws a random number from a uniform distribution between 0 and 1\n",
    "print(random.uniform(-5,5)) # draws a random number from a uniform distribution between -5 and 5\n",
    "print(random.randrange(0, 11))  # draws a random integer from 0 to 10 (i.e. excluding the given endpoint)"
   ]
  },
  {
   "cell_type": "markdown",
   "metadata": {},
   "source": [
    "Alternatively, you can import individual functions from a module. Then, calling the name of the function is sufficient. However, I would avoid this syntax for the most part since it may cause potential conflicts with respect to the variable or function names. "
   ]
  },
  {
   "cell_type": "code",
   "execution_count": 8,
   "metadata": {
    "collapsed": false
   },
   "outputs": [
    {
     "name": "stdout",
     "output_type": "stream",
     "text": [
      "0.784059537922489\n"
     ]
    }
   ],
   "source": [
    "from random import uniform   # import module\n",
    "\n",
    "print(uniform(0,1)) # draws a random number from a uniform distribution between 0 and 1"
   ]
  },
  {
   "cell_type": "markdown",
   "metadata": {},
   "source": [
    "In addition to the functions and modules contained in the standard library, there is a large number of *packages* or *external libraries*. Those are usually written and maintained by external developers and consist of one or more modules. If you have installed the Anaconda distribution of Python, many packages are automatically included, which means you just need to import them. If you have only the core package installed or if you want to use a package that is not part of Anaconda, you will need to download and install it first. "
   ]
  },
  {
   "cell_type": "code",
   "execution_count": null,
   "metadata": {
    "collapsed": true
   },
   "outputs": [],
   "source": []
  }
 ],
 "metadata": {
  "anaconda-cloud": {},
  "kernelspec": {
   "display_name": "Python 3",
   "language": "python",
   "name": "python3"
  },
  "language_info": {
   "codemirror_mode": {
    "name": "ipython",
    "version": 3
   },
   "file_extension": ".py",
   "mimetype": "text/x-python",
   "name": "python",
   "nbconvert_exporter": "python",
   "pygments_lexer": "ipython3",
   "version": "3.5.3"
  }
 },
 "nbformat": 4,
 "nbformat_minor": 0
}
