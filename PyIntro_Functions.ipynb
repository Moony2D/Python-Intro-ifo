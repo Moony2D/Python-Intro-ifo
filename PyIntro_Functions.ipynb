{
 "cells": [
  {
   "cell_type": "markdown",
   "metadata": {},
   "source": [
    "# Introduction to Python - Functions and Packages"
   ]
  },
  {
   "cell_type": "code",
   "execution_count": 2,
   "metadata": {
    "collapsed": false
   },
   "outputs": [
    {
     "name": "stdout",
     "output_type": "stream",
     "text": [
      "Last update: 2017-04-06 13:36:36.538920\n"
     ]
    }
   ],
   "source": [
    "# Author: Alex Schmitt (schmitt@ifo.de)\n",
    "\n",
    "import datetime\n",
    "print('Last update: ' + str(datetime.datetime.today()))"
   ]
  },
  {
   "cell_type": "markdown",
   "metadata": {},
   "source": [
    "## Writing Functions"
   ]
  },
  {
   "cell_type": "markdown",
   "metadata": {
    "collapsed": true
   },
   "source": [
    "In order to get an intuition behind the idea of a function in Python (or in any other programming language), recall what a function in Math does, for example $y = f(x) = x^2$: it is a mapping that takes a number $x$, performs some operation on it -- here multiplies it with itself -- and then returns the result as \"output\" $y$. A function in programming does the same, with the difference that inputs and outputs can be anything, not just numbers.\n",
    "\n",
    "Functions come in two varieties: built-in functions are contained in the Standard Library or some package, and be used right away (if they are part of a module, this has to be imported first, see below). We already encountered some functions, namely **print()**, **type()**, **len()** and **range()**. The full list of built-in functions can be found here: "
   ]
  },
  {
   "cell_type": "code",
   "execution_count": 3,
   "metadata": {
    "collapsed": false
   },
   "outputs": [
    {
     "ename": "NameError",
     "evalue": "name 'webbrowser' is not defined",
     "output_type": "error",
     "traceback": [
      "\u001b[0;31m---------------------------------------------------------------------------\u001b[0m",
      "\u001b[0;31mNameError\u001b[0m                                 Traceback (most recent call last)",
      "\u001b[0;32m<ipython-input-3-87209241528d>\u001b[0m in \u001b[0;36m<module>\u001b[0;34m()\u001b[0m\n\u001b[1;32m      1\u001b[0m \u001b[0murl\u001b[0m \u001b[1;33m=\u001b[0m \u001b[1;34m'https://docs.python.org/3/library/functions.html'\u001b[0m\u001b[1;33m\u001b[0m\u001b[0m\n\u001b[0;32m----> 2\u001b[0;31m \u001b[0mwebbrowser\u001b[0m\u001b[1;33m.\u001b[0m\u001b[0mopen\u001b[0m\u001b[1;33m(\u001b[0m\u001b[0murl\u001b[0m\u001b[1;33m)\u001b[0m\u001b[1;33m\u001b[0m\u001b[0m\n\u001b[0m",
      "\u001b[0;31mNameError\u001b[0m: name 'webbrowser' is not defined"
     ]
    }
   ],
   "source": [
    "url = 'https://docs.python.org/3/library/functions.html'\n",
    "webbrowser.open(url)"
   ]
  },
  {
   "cell_type": "markdown",
   "metadata": {},
   "source": [
    "In addition, you can (and should) write your own functions. Here are three examples. The first one, called 'sum_squared' translates the math function $ f(x,y) = x^2 + y^2$ into Python code: it takes two numbers (int or float) as inputs and returns the sum of its squares. The second function, 'reverse_order', takes a list and returns it in reverse order. The third example just prints a string:"
   ]
  },
  {
   "cell_type": "code",
   "execution_count": 30,
   "metadata": {
    "collapsed": false
   },
   "outputs": [
    {
     "name": "stdout",
     "output_type": "stream",
     "text": [
      "73\n",
      "['Daenerys', 'Tyrion', 'Arya', 'Samwell']\n",
      "['Samwell', 'Arya', 'Tyrion', 'Daenerys']\n",
      "Valar Morghulis!\n",
      "Valar Morghulis!\n",
      "None\n"
     ]
    }
   ],
   "source": [
    "def sum_squared(x, y):\n",
    "    return x**2 + y**2\n",
    "\n",
    "def reverse_order(ls):\n",
    "    return ls[::-1]\n",
    "\n",
    "def all_men_must_die():\n",
    "    print(\"Valar Morghulis!\")\n",
    "\n",
    "print(sum_squared(8, 3))\n",
    "\n",
    "names = ['Daenerys', 'Tyrion', 'Arya', 'Samwell']\n",
    "names_reverse = reverse_order(names)\n",
    "print(names)\n",
    "print(names_reverse)\n",
    "\n",
    "all_men_must_die()\n",
    "print(all_men_must_die())"
   ]
  },
  {
   "cell_type": "markdown",
   "metadata": {},
   "source": [
    "Some comments about the syntax for writing functions:\n",
    "1. A function always starts with the keyword **def** (for define or definition). This is followed by the *function name*, which is the choice of the programmer and can be virtually anything - be careful though not to use names that are *already used for built-in functions*!\n",
    "2. The function name is followed by *parentheses* containing the names for the inputs into the function. Sometimes functions may not take inputs, in which cases the parentheses are left empty (as seen in the third example above).\n",
    "3. As it is the case with loops and if-statement, the function definition is concluded with a semi-colon (**:**).\n",
    "4. After the semi-colon follows the code block where you define the operations that the function should perform. The rules about *indentation* that we discussed in the context of loops above apply here as well. The code block can consist of a single return statement or many lines of code. \n",
    "5. The output that a function gives is determined by the **return** statement. If there is no return statement, the function returns \"None\". Note that a function can have arbitrarily many return statements; execution of the function terminates when the first return is hit:"
   ]
  },
  {
   "cell_type": "code",
   "execution_count": 148,
   "metadata": {
    "collapsed": false
   },
   "outputs": [
    {
     "name": "stdout",
     "output_type": "stream",
     "text": [
      "negative\n"
     ]
    }
   ],
   "source": [
    "def f(x):\n",
    "    if x < 0:\n",
    "        return 'negative'\n",
    "    return 'nonnegative'\n",
    "\n",
    "print(f(-3))"
   ]
  },
  {
   "cell_type": "markdown",
   "metadata": {},
   "source": [
    "Functions are an extremely important tool in computing. User-defined functions help improving the clarity and readability of your code by\n",
    "- separating different strands of logic\n",
    "- facilitating code reuse\n",
    "\n",
    "In other words, very often a (large) computational problem is broken up into smaller subproblems, which are coded up as functions. The main program then coordinates these functions, calling them to do their job at the appropriate time.\n",
    "\n",
    "In order to increase the clarity of your code, it is good practice to include a description about what the function does. Inserting regular comments using \"#\" would do the trick, but a better way is using *doc strings*, as in the following example. The great advantage is that you can access the description without actually opening the function (this is very useful when your function is stored in a different file or in an imported package): "
   ]
  },
  {
   "cell_type": "code",
   "execution_count": 32,
   "metadata": {
    "collapsed": false
   },
   "outputs": [],
   "source": [
    "def reverse_order(ls):\n",
    "    \"\"\"\n",
    "    Takes a list and returns it in reverse order\n",
    "    \"\"\"\n",
    "    return ls[::-1]\n"
   ]
  },
  {
   "cell_type": "code",
   "execution_count": 33,
   "metadata": {
    "collapsed": true
   },
   "outputs": [],
   "source": [
    "reverse_order?"
   ]
  },
  {
   "cell_type": "markdown",
   "metadata": {},
   "source": [
    "### Methods\n",
    "\n",
    "*Methods* are an important concept in Python, in particular in the context of object-oriented programming. Since we will not get into this in this course, let's just think of methods as a special type of function that can be used only on a particular data type. For example, lists have a *list method* called **append** which can be used to add new elements to an existing list. This method works only on lists, and would not work on sets or dictionaries. The syntax for methods is different from functions: *variable_name.method_name(arguments)*. This is illustrated by the following example:  "
   ]
  },
  {
   "cell_type": "code",
   "execution_count": 15,
   "metadata": {
    "collapsed": false
   },
   "outputs": [
    {
     "name": "stdout",
     "output_type": "stream",
     "text": [
      "['Daenerys', 'Tyrion', 'Arya', 'Samwell', 'Jon', 'Jaime']\n",
      "{3, 4, 5, 6}\n",
      "{3, 4, 5, 6}\n"
     ]
    }
   ],
   "source": [
    "names = ['Daenerys', 'Tyrion', 'Arya', 'Samwell']  # define list\n",
    "# use append method to add new elements\n",
    "names.append('Jon')\n",
    "names.append('Jaime')\n",
    "\n",
    "print(names)\n",
    "\n",
    "# the equivalent to append for sets is the add method\n",
    "B = {4,5,6}\n",
    "B.add(3)\n",
    "print(B)\n",
    "# BTW: adding an element to a set which is already in there will change the set\n",
    "B.add(4)\n",
    "print(B)"
   ]
  },
  {
   "cell_type": "markdown",
   "metadata": {},
   "source": [
    "As a second example for methods, recall dictionaries that consist of key-value pairs. Both the complete list of keys and of values of a dictionary can accessed by using the **.keys()** and **.values()** methods, respectively:"
   ]
  },
  {
   "cell_type": "code",
   "execution_count": 18,
   "metadata": {
    "collapsed": false
   },
   "outputs": [
    {
     "name": "stdout",
     "output_type": "stream",
     "text": [
      "{'name': 'Alex', 'interests': ['Python', 'Economics', 'Game of Thrones'], 'age': 34, 'likes_football': True}\n",
      "dict_keys(['name', 'interests', 'age', 'likes_football'])\n",
      "dict_values(['Alex', ['Python', 'Economics', 'Game of Thrones'], 34, True])\n"
     ]
    }
   ],
   "source": [
    "print(info)\n",
    "\n",
    "print(info.keys())\n",
    "print(info.values())"
   ]
  },
  {
   "cell_type": "markdown",
   "metadata": {},
   "source": [
    "### Taking stock\n",
    "\n",
    "Note that at this point, we could tackle the first part of the exercise stated in the beginning, namely implementing the Cobb-Douglas production function $y = f(E, L) = E^\\alpha L^{1 - \\alpha}$ as a Python function. Here is one way; note that I also define the parameter $\\alpha$ as an input in the function:"
   ]
  },
  {
   "cell_type": "code",
   "execution_count": 157,
   "metadata": {
    "collapsed": false
   },
   "outputs": [
    {
     "name": "stdout",
     "output_type": "stream",
     "text": [
      "3.1622776601683795\n"
     ]
    }
   ],
   "source": [
    "def cobb_douglas(E, L, alpha = 0.5):\n",
    "    \"\"\"\n",
    "    Implements the Cobb-Douglas production function: y = E**alpha * L**alpha\n",
    "    \"\"\"\n",
    "    y = E**alpha * L**(1 - alpha)\n",
    "    return y\n",
    "\n",
    "print(cobb_douglas(10, 1))"
   ]
  },
  {
   "cell_type": "markdown",
   "metadata": {},
   "source": [
    "Finally, note that the function allows $E$ and $L$ to be scalar numbers. It would be nice to also be able to use the function on arrays. For example, we may be interested in evaluating different combinations of $E$ and $L$ simultaneously, say $(E, L) = (10,1)$, $(E, L) = (12, 0.5)$ and $(E, L) = (15, 0.33)$. One way you may think of in order to accomplish this is using a loop together with the **zip** function:\n"
   ]
  },
  {
   "cell_type": "code",
   "execution_count": 158,
   "metadata": {
    "collapsed": false
   },
   "outputs": [
    {
     "name": "stdout",
     "output_type": "stream",
     "text": [
      "3.1622776601683795\n",
      "2.4494897427831783\n",
      "2.224859546128699\n"
     ]
    }
   ],
   "source": [
    "input_E = [10,12,15]\n",
    "input_L = [1,0.5,0.33]\n",
    "for item_E, item_L in zip(input_E, input_L):\n",
    "    print(cobb_douglas(item_E, item_L))"
   ]
  },
  {
   "cell_type": "markdown",
   "metadata": {},
   "source": [
    "This works fine, but is not the most efficient solution. In particular, for large inputs, loops can take quite some time to execute. What would preferable instead is if we could insert lists of numbers (instead of scalars) in the function. The technical term of doing this is to perform *vectorized operations* on the input arrays. While this is a great idea, unfortunately it won't work with lists:"
   ]
  },
  {
   "cell_type": "code",
   "execution_count": 159,
   "metadata": {
    "collapsed": false
   },
   "outputs": [
    {
     "ename": "TypeError",
     "evalue": "unsupported operand type(s) for ** or pow(): 'list' and 'float'",
     "output_type": "error",
     "traceback": [
      "\u001b[0;31m---------------------------------------------------------------------------\u001b[0m",
      "\u001b[0;31mTypeError\u001b[0m                                 Traceback (most recent call last)",
      "\u001b[0;32m<ipython-input-159-3d341f2d6414>\u001b[0m in \u001b[0;36m<module>\u001b[0;34m()\u001b[0m\n\u001b[0;32m----> 1\u001b[0;31m \u001b[0mprint\u001b[0m\u001b[0;34m(\u001b[0m\u001b[0mcobb_douglas\u001b[0m\u001b[0;34m(\u001b[0m\u001b[0;34m[\u001b[0m\u001b[0;36m10\u001b[0m\u001b[0;34m,\u001b[0m \u001b[0;36m12\u001b[0m\u001b[0;34m,\u001b[0m \u001b[0;36m15\u001b[0m\u001b[0;34m]\u001b[0m\u001b[0;34m,\u001b[0m \u001b[0;34m[\u001b[0m\u001b[0;36m1\u001b[0m\u001b[0;34m,\u001b[0m \u001b[0;36m0.5\u001b[0m\u001b[0;34m,\u001b[0m \u001b[0;36m0.33\u001b[0m\u001b[0;34m]\u001b[0m\u001b[0;34m)\u001b[0m\u001b[0;34m)\u001b[0m \u001b[0;31m# this will throw an error!\u001b[0m\u001b[0;34m\u001b[0m\u001b[0m\n\u001b[0m",
      "\u001b[0;32m<ipython-input-157-3850d63c7ff0>\u001b[0m in \u001b[0;36mcobb_douglas\u001b[0;34m(E, L, alpha)\u001b[0m\n\u001b[1;32m      3\u001b[0m     \u001b[0mImplements\u001b[0m \u001b[0mthe\u001b[0m \u001b[0mCobb\u001b[0m\u001b[0;34m-\u001b[0m\u001b[0mDouglas\u001b[0m \u001b[0mproduction\u001b[0m \u001b[0mfunction\u001b[0m\u001b[0;34m:\u001b[0m \u001b[0my\u001b[0m \u001b[0;34m=\u001b[0m \u001b[0mE\u001b[0m\u001b[0;34m**\u001b[0m\u001b[0malpha\u001b[0m \u001b[0;34m*\u001b[0m \u001b[0mL\u001b[0m\u001b[0;34m**\u001b[0m\u001b[0malpha\u001b[0m\u001b[0;34m\u001b[0m\u001b[0m\n\u001b[1;32m      4\u001b[0m     \"\"\"\n\u001b[0;32m----> 5\u001b[0;31m     \u001b[0my\u001b[0m \u001b[0;34m=\u001b[0m \u001b[0mE\u001b[0m\u001b[0;34m**\u001b[0m\u001b[0malpha\u001b[0m \u001b[0;34m*\u001b[0m \u001b[0mL\u001b[0m\u001b[0;34m**\u001b[0m\u001b[0malpha\u001b[0m\u001b[0;34m\u001b[0m\u001b[0m\n\u001b[0m\u001b[1;32m      6\u001b[0m     \u001b[0;32mreturn\u001b[0m \u001b[0my\u001b[0m\u001b[0;34m\u001b[0m\u001b[0m\n\u001b[1;32m      7\u001b[0m \u001b[0;34m\u001b[0m\u001b[0m\n",
      "\u001b[0;31mTypeError\u001b[0m: unsupported operand type(s) for ** or pow(): 'list' and 'float'"
     ]
    }
   ],
   "source": [
    "# print(cobb_douglas([10, 12, 15], [1, 0.5, 0.33])) # this will throw an error!"
   ]
  },
  {
   "cell_type": "markdown",
   "metadata": {},
   "source": [
    "It will work with a different type of array, namely a NumPy array. Before we can use these, however, we have to learn how to import external libraries or modules. "
   ]
  },
  {
   "cell_type": "markdown",
   "metadata": {},
   "source": [
    "## Importing Modules and Packages\n",
    "\n",
    "So far, we have used data types and functions which are part of the core language and which you can use without any additional code. In addition to this core functionalities, the Python standard library also contains *modules*. Modules are basically files that contain additional functions and definitions. In order to use the functions provided by a module, you need to **import** it. We have done this already at the beginning of this tutorial when we imported the module *webbrowser* in order to open a webpage. As a second example, the following cell imports a module called *random*, which you can use, among other things, to draw a random number from a uniform distribution. Importing the whole module makes all functions available for use in your program. In this case, the name of the function - e.g. *uniform* - must be preceded by the name of the module, i.e. *module_name.function_name*."
   ]
  },
  {
   "cell_type": "code",
   "execution_count": 7,
   "metadata": {
    "collapsed": false
   },
   "outputs": [
    {
     "name": "stdout",
     "output_type": "stream",
     "text": [
      "0.6865121121796949\n",
      "0.6358618210048055\n",
      "-0.9321606090870684\n",
      "2\n"
     ]
    }
   ],
   "source": [
    "import random   # import module\n",
    "\n",
    "print(random.random()) # draws a random number from a uniform distribution between 0 and 1\n",
    "print(random.uniform(0,1)) # draws a random number from a uniform distribution between 0 and 1\n",
    "print(random.uniform(-5,5)) # draws a random number from a uniform distribution between -5 and 5\n",
    "print(random.randrange(0, 11))  # draws a random integer from 0 to 10 (i.e. excluding the given endpoint)"
   ]
  },
  {
   "cell_type": "markdown",
   "metadata": {},
   "source": [
    "Alternatively, you can import individual functions from a module. Then, calling the name of the function is sufficient. However, I would avoid this syntax for the most part since it may cause potential conflicts with respect to the variable or function names. "
   ]
  },
  {
   "cell_type": "code",
   "execution_count": 8,
   "metadata": {
    "collapsed": false
   },
   "outputs": [
    {
     "name": "stdout",
     "output_type": "stream",
     "text": [
      "0.784059537922489\n"
     ]
    }
   ],
   "source": [
    "from random import uniform   # import module\n",
    "\n",
    "print(uniform(0,1)) # draws a random number from a uniform distribution between 0 and 1"
   ]
  },
  {
   "cell_type": "markdown",
   "metadata": {},
   "source": [
    "In addition to the functions and modules contained in the standard library, there is a large number of *packages* or *external libraries*. Those are usually written and maintained by external developers and consist of one or more modules. If you have installed the Anaconda distribution of Python, many packages are automatically included, which means you just need to import them. If you have only the core package installed or if you want to use a package that is not part of Anaconda, you will need to download and install it first. For this course, we will use three packages in Anaconda: NumPy, SciPy and Matplotlib."
   ]
  }
 ],
 "metadata": {
  "anaconda-cloud": {},
  "kernelspec": {
   "display_name": "Python [conda env:ana3]",
   "language": "python",
   "name": "conda-env-ana3-py"
  },
  "language_info": {
   "codemirror_mode": {
    "name": "ipython",
    "version": 3
   },
   "file_extension": ".py",
   "mimetype": "text/x-python",
   "name": "python",
   "nbconvert_exporter": "python",
   "pygments_lexer": "ipython3",
   "version": "3.5.3"
  }
 },
 "nbformat": 4,
 "nbformat_minor": 0
}
