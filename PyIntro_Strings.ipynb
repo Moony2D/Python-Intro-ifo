{
 "cells": [
  {
   "cell_type": "markdown",
   "metadata": {},
   "source": [
    "# Introduction to Python - Strings and Text Files"
   ]
  },
  {
   "cell_type": "code",
   "execution_count": 1,
   "metadata": {
    "collapsed": false
   },
   "outputs": [
    {
     "name": "stdout",
     "output_type": "stream",
     "text": [
      "Last update: 2017-03-30 14:58:06.942743\n"
     ]
    }
   ],
   "source": [
    "# Author: Alex Schmitt (schmitt@ifo.de)\n",
    "\n",
    "import datetime\n",
    "print('Last update: ' + str(datetime.datetime.today()))"
   ]
  },
  {
   "cell_type": "code",
   "execution_count": 26,
   "metadata": {
    "collapsed": false
   },
   "outputs": [
    {
     "name": "stdout",
     "output_type": "stream",
     "text": [
      "1813\n"
     ]
    }
   ],
   "source": [
    "fname = 'email.txt'\n",
    "fh = open(fname)\n",
    "text_all = fh.read()\n",
    "print(len(text_all))"
   ]
  },
  {
   "cell_type": "code",
   "execution_count": 35,
   "metadata": {
    "collapsed": false
   },
   "outputs": [
    {
     "name": "stdout",
     "output_type": "stream",
     "text": [
      "Schmitt\n",
      "SCHMITT\n"
     ]
    }
   ],
   "source": [
    "pos = text_all.find('Schmitt')\n",
    "print(text_all[pos : pos + 7])\n",
    "print(text_all[pos : pos + 7].upper())"
   ]
  },
  {
   "cell_type": "markdown",
   "metadata": {},
   "source": [
    "In many cases, you may not be interested in the complete text, but only in certain parts of it or looking for specific information contained in the text. For example, assume you want to extract all email addresses in the text. One way to do this would be use the file handle as an iterator and store all lines that contain a '@' in a list: "
   ]
  },
  {
   "cell_type": "code",
   "execution_count": 31,
   "metadata": {
    "collapsed": false
   },
   "outputs": [
    {
     "name": "stdout",
     "output_type": "stream",
     "text": [
      "['From: \"Mazat, Andreas\" <Mazat@ifo.de>\\n', 'To: \"Schmitt, Alex\" <Schmitt@ifo.de>\\n', 'Message-ID: <9e437462ecf842eea8e2ed7e97bb641c@ifo.de>\\n', 'References: <93fd23b8b4444085bcfbfc3a60ee827f@ifo.de>\\n', 'In-Reply-To: <93fd23b8b4444085bcfbfc3a60ee827f@ifo.de>\\n', 'X-MS-TNEF-Correlator: <9e437462ecf842eea8e2ed7e97bb641c@ifo.de>\\n', 'Return-Path: Mazat@ifo.de\\n']\n"
     ]
    }
   ],
   "source": [
    "fh = open(fname)\n",
    "\n",
    "addresses = []\n",
    "for line in fh:\n",
    "    if line.find('@') > 0:\n",
    "        addresses.append(line)\n",
    "    \n",
    "print(addresses)  "
   ]
  },
  {
   "cell_type": "markdown",
   "metadata": {},
   "source": [
    "In other words, this reduces a potentially long text to those lines that may contain relevant information. Closer inspection of the resulting list shows that there are two email addresses in lines that start with 'From: ' and with 'To: '. We can use this information to parse the text again, this time making our query more precise:"
   ]
  },
  {
   "cell_type": "code",
   "execution_count": 33,
   "metadata": {
    "collapsed": false
   },
   "outputs": [
    {
     "name": "stdout",
     "output_type": "stream",
     "text": [
      "['From: \"Mazat, Andreas\" <Mazat@ifo.de>', 'To: \"Schmitt, Alex\" <Schmitt@ifo.de>']\n"
     ]
    }
   ],
   "source": [
    "fh = open(fname)\n",
    "\n",
    "addresses = []\n",
    "for line in fh:\n",
    "    if line.startswith('From') or line.startswith('To'):\n",
    "        addresses.append(line.strip())\n",
    "    \n",
    "print(addresses) "
   ]
  },
  {
   "cell_type": "markdown",
   "metadata": {},
   "source": [
    "Note that there are better ways to parse a text for specific characters, as we will see in a bit. \n",
    "\n",
    "Finally, you can also iterate through the lines of a text to store the whole text in a list. This is an alternative to the **read()** method used above: instead of storing the whole text as one large string, you store it as a list of lines, which may facilitate further analysis. As so often, the best way depends on what problem you wanna solve."
   ]
  },
  {
   "cell_type": "code",
   "execution_count": 28,
   "metadata": {
    "collapsed": false
   },
   "outputs": [
    {
     "name": "stdout",
     "output_type": "stream",
     "text": [
      "1769\n"
     ]
    }
   ],
   "source": [
    "fh = open(fname)\n",
    "\n",
    "text = []\n",
    "for line in fh:\n",
    "    text.append(line.strip())\n",
    "    \n",
    "print(sum([len(line) for line in text]))    "
   ]
  },
  {
   "cell_type": "markdown",
   "metadata": {},
   "source": [
    "Before moving on, let's summarize the methods for a string that we have used so far:\n",
    "- **text.find(string)** -> int: returns the position of the first occurrence of string\n",
    "- **text.startswith(string)** -> boolean: returns True whether text starts with string\n",
    "- **text.strip()**: mutates text by eliminates line breaks and white space\n",
    "- **text.upper()**: mutates text by eliminates line breaks and white space"
   ]
  },
  {
   "cell_type": "code",
   "execution_count": 42,
   "metadata": {
    "collapsed": false
   },
   "outputs": [
    {
     "data": {
      "text/plain": [
       "'schmitt\\n'"
      ]
     },
     "execution_count": 42,
     "metadata": {},
     "output_type": "execute_result"
    }
   ],
   "source": [
    "a = 'schmitt\\n'\n",
    "a.strip()\n",
    "a"
   ]
  },
  {
   "cell_type": "markdown",
   "metadata": {},
   "source": [
    "## Regular Expressions"
   ]
  },
  {
   "cell_type": "code",
   "execution_count": 3,
   "metadata": {
    "collapsed": true
   },
   "outputs": [],
   "source": [
    "import re"
   ]
  },
  {
   "cell_type": "code",
   "execution_count": 16,
   "metadata": {
    "collapsed": false
   },
   "outputs": [
    {
     "data": {
      "text/plain": [
       "16"
      ]
     },
     "execution_count": 16,
     "metadata": {},
     "output_type": "execute_result"
    }
   ],
   "source": [
    "len(re.findall('ifo', text_all))"
   ]
  },
  {
   "cell_type": "code",
   "execution_count": 14,
   "metadata": {
    "collapsed": false
   },
   "outputs": [
    {
     "data": {
      "text/plain": [
       "['Mazat@ifo.de',\n",
       " 'Schmitt@ifo.de',\n",
       " 'c@ifo.de',\n",
       " 'f@ifo.de',\n",
       " 'f@ifo.de',\n",
       " 'c@ifo.de',\n",
       " 'Mazat@ifo.de']"
      ]
     },
     "execution_count": 14,
     "metadata": {},
     "output_type": "execute_result"
    }
   ],
   "source": [
    "re.findall('[A-Za-z.]+@[a-z.]+', text_all)"
   ]
  },
  {
   "cell_type": "code",
   "execution_count": 31,
   "metadata": {
    "collapsed": false
   },
   "outputs": [
    {
     "data": {
      "text/plain": [
       "['Tue, 28 Mar 2017 12:38:10 +0200']"
      ]
     },
     "execution_count": 31,
     "metadata": {},
     "output_type": "execute_result"
    }
   ],
   "source": [
    "re.findall('Date: (.+)', text_all)"
   ]
  },
  {
   "cell_type": "code",
   "execution_count": 42,
   "metadata": {
    "collapsed": false
   },
   "outputs": [
    {
     "data": {
      "text/plain": [
       "['Tue, 28 Mar 2017 12:38:10 +0200',\n",
       " 'Tue, 28',\n",
       " 'Tue, 28 Mar 2017 12:38:10 +0200 Content-Type: application/ms-tnef; name=\"winmail.dat\"',\n",
       " 'Tue, 28 Mar 2017 12:38:10 +0200']"
      ]
     },
     "execution_count": 42,
     "metadata": {},
     "output_type": "execute_result"
    }
   ],
   "source": [
    "re.findall('Tue.+', text_all)"
   ]
  },
  {
   "cell_type": "code",
   "execution_count": 6,
   "metadata": {
    "collapsed": false
   },
   "outputs": [
    {
     "data": {
      "text/plain": [
       "['03.',\n",
       " '.',\n",
       " '192.168.0.103',\n",
       " '03.',\n",
       " '.',\n",
       " '192.168.0.103',\n",
       " '1',\n",
       " '2',\n",
       " '256',\n",
       " '384',\n",
       " '384',\n",
       " '15.1.544.27',\n",
       " '28',\n",
       " '2017',\n",
       " '12',\n",
       " '38',\n",
       " '10',\n",
       " '0200',\n",
       " '03.',\n",
       " '.',\n",
       " '192.168.0.103',\n",
       " '03.',\n",
       " '.',\n",
       " '192.168.0.103',\n",
       " '1',\n",
       " '2',\n",
       " '256',\n",
       " '384',\n",
       " '384',\n",
       " '15.1.544.27',\n",
       " '28',\n",
       " '2017',\n",
       " '12',\n",
       " '38',\n",
       " '10',\n",
       " '0200',\n",
       " '03.',\n",
       " '.',\n",
       " '80',\n",
       " '10',\n",
       " '8',\n",
       " '53',\n",
       " '646',\n",
       " '03.',\n",
       " '.',\n",
       " '80',\n",
       " '10',\n",
       " '8',\n",
       " '53',\n",
       " '646',\n",
       " '15',\n",
       " '15.01.0544.030',\n",
       " '28',\n",
       " '2017',\n",
       " '12',\n",
       " '38',\n",
       " '10',\n",
       " '0200',\n",
       " '.',\n",
       " '.',\n",
       " '.',\n",
       " '61',\n",
       " '7',\n",
       " '28',\n",
       " '2017',\n",
       " '12',\n",
       " '38',\n",
       " '10',\n",
       " '0200',\n",
       " '9',\n",
       " '437462',\n",
       " '842',\n",
       " '8',\n",
       " '2',\n",
       " '7',\n",
       " '97',\n",
       " '641',\n",
       " '.',\n",
       " '93',\n",
       " '23',\n",
       " '8',\n",
       " '4444085',\n",
       " '3',\n",
       " '60',\n",
       " '827',\n",
       " '.',\n",
       " '93',\n",
       " '23',\n",
       " '8',\n",
       " '4444085',\n",
       " '3',\n",
       " '60',\n",
       " '827',\n",
       " '.',\n",
       " '1',\n",
       " '9',\n",
       " '437462',\n",
       " '842',\n",
       " '8',\n",
       " '2',\n",
       " '7',\n",
       " '97',\n",
       " '641',\n",
       " '.',\n",
       " '1.0',\n",
       " '03.',\n",
       " '.',\n",
       " '04',\n",
       " '192.168.3.62',\n",
       " '2',\n",
       " '0753',\n",
       " '0',\n",
       " '41',\n",
       " '47',\n",
       " '246',\n",
       " '08',\n",
       " '475',\n",
       " '687',\n",
       " '3',\n",
       " '.',\n",
       " '1.0',\n",
       " '00',\n",
       " '00',\n",
       " '00.2184625']"
      ]
     },
     "execution_count": 6,
     "metadata": {},
     "output_type": "execute_result"
    }
   ],
   "source": [
    "re.findall('[0-9.]+', text_all)"
   ]
  },
  {
   "cell_type": "code",
   "execution_count": 17,
   "metadata": {
    "collapsed": false
   },
   "outputs": [
    {
     "data": {
      "text/plain": [
       "'Received: from Exchange03.ifo.local (192.168.0.103) by Exchange03.ifo.local\\n (192.168.0.103) with Microsoft SMTP Server (version=TLS1_2,\\n cipher=TLS_ECDHE_RSA_WITH_AES_256_CBC_SHA384_P384) id 15.1.544.27 via Mailbox\\n Transport; Tue, 28 Mar 2017 12:38:10 +0200\\nReceived: from Exchange03.ifo.local (192.168.0.103) by Exchange03.ifo.local\\n (192.168.0.103) with Microsoft SMTP Server (version=TLS1_2,\\n cipher=TLS_ECDHE_RSA_WITH_AES_256_CBC_SHA384_P384) id 15.1.544.27; Tue, 28\\n Mar 2017 12:38:10 +0200\\nReceived: from Exchange03.ifo.local ([fe80::10a8:53dd:646d:ffef]) by\\n Exchange03.ifo.local ([fe80::10a8:53dd:646d:ffef%15]) with mapi id\\n 15.01.0544.030; Tue, 28 Mar 2017 12:38:10 +0200 Content-Type: application/ms-tnef; name=\"winmail.dat\"\\nContent-Transfer-Encoding: binary\\nFrom: \"Mazat, Andreas\" <Mazat@ifo.de>\\nTo: \"Schmitt, Alex\" <Schmitt@ifo.de>\\nSubject: AW: ifo Python Course\\nThread-Topic: ifo Python Course\\nThread-Index: AdKnqiuN/Vpu61IJTTW+SBYboPjp7QABSPjA\\nDate: Tue, 28 Mar 2017 12:38:10 +0200\\nMessage-ID: <9e437462ecf842eea8e2ed7e97bb641c@ifo.de>\\nReferences: <93fd23b8b4444085bcfbfc3a60ee827f@ifo.de>\\nIn-Reply-To: <93fd23b8b4444085bcfbfc3a60ee827f@ifo.de>\\nAccept-Language: de-DE, en-US\\nContent-Language: de-DE\\nX-MS-Has-Attach:\\nX-MS-Exchange-Organization-SCL: -1\\nX-MS-TNEF-Correlator: <9e437462ecf842eea8e2ed7e97bb641c@ifo.de>\\nMIME-Version: 1.0\\nX-MS-Exchange-Organization-MessageDirectionality: Originating\\nX-MS-Exchange-Organization-AuthSource: Exchange03.ifo.local\\nX-MS-Exchange-Organization-AuthAs: Internal\\nX-MS-Exchange-Organization-AuthMechanism: 04\\nX-Originating-IP: [192.168.3.62]\\nX-MS-Exchange-Organization-Network-Message-Id: 2b0753c0-41bd-47ab-246d-08d475c687b3\\nReturn-Path: Mazat@ifo.de\\nX-MS-Exchange-Organization-AVStamp-Enterprise: 1.0\\nX-MS-Exchange-Transport-EndToEndLatency: 00:00:00.2184625\\n'"
      ]
     },
     "execution_count": 17,
     "metadata": {},
     "output_type": "execute_result"
    }
   ],
   "source": [
    "text_all"
   ]
  },
  {
   "cell_type": "code",
   "execution_count": 23,
   "metadata": {
    "collapsed": false
   },
   "outputs": [
    {
     "data": {
      "text/plain": [
       "['Received: from Exchange03.ifo.local (192.168.0.103) by Exchange03.ifo.local',\n",
       " '(192.168.0.103) with Microsoft SMTP Server (version=TLS1_2,',\n",
       " 'cipher=TLS_ECDHE_RSA_WITH_AES_256_CBC_SHA384_P384) id 15.1.544.27 via Mailbox',\n",
       " 'Transport; Tue, 28 Mar 2017 12:38:10 +0200',\n",
       " 'Received: from Exchange03.ifo.local (192.168.0.103) by Exchange03.ifo.local',\n",
       " '(192.168.0.103) with Microsoft SMTP Server (version=TLS1_2,',\n",
       " 'cipher=TLS_ECDHE_RSA_WITH_AES_256_CBC_SHA384_P384) id 15.1.544.27; Tue, 28',\n",
       " 'Mar 2017 12:38:10 +0200',\n",
       " 'Received: from Exchange03.ifo.local ([fe80::10a8:53dd:646d:ffef]) by',\n",
       " 'Exchange03.ifo.local ([fe80::10a8:53dd:646d:ffef%15]) with mapi id',\n",
       " '15.01.0544.030; Tue, 28 Mar 2017 12:38:10 +0200 Content-Type: application/ms-tnef; name=\"winmail.dat\"',\n",
       " 'Content-Transfer-Encoding: binary',\n",
       " 'From: \"Mazat, Andreas\" <Mazat@ifo.de>',\n",
       " 'To: \"Schmitt, Alex\" <Schmitt@ifo.de>',\n",
       " 'Subject: AW: ifo Python Course',\n",
       " 'Thread-Topic: ifo Python Course',\n",
       " 'Thread-Index: AdKnqiuN/Vpu61IJTTW+SBYboPjp7QABSPjA',\n",
       " 'Date: Tue, 28 Mar 2017 12:38:10 +0200',\n",
       " 'Message-ID: <9e437462ecf842eea8e2ed7e97bb641c@ifo.de>',\n",
       " 'References: <93fd23b8b4444085bcfbfc3a60ee827f@ifo.de>',\n",
       " 'In-Reply-To: <93fd23b8b4444085bcfbfc3a60ee827f@ifo.de>',\n",
       " 'Accept-Language: de-DE, en-US',\n",
       " 'Content-Language: de-DE',\n",
       " 'X-MS-Has-Attach:',\n",
       " 'X-MS-Exchange-Organization-SCL: -1',\n",
       " 'X-MS-TNEF-Correlator: <9e437462ecf842eea8e2ed7e97bb641c@ifo.de>',\n",
       " 'MIME-Version: 1.0',\n",
       " 'X-MS-Exchange-Organization-MessageDirectionality: Originating',\n",
       " 'X-MS-Exchange-Organization-AuthSource: Exchange03.ifo.local',\n",
       " 'X-MS-Exchange-Organization-AuthAs: Internal',\n",
       " 'X-MS-Exchange-Organization-AuthMechanism: 04',\n",
       " 'X-Originating-IP: [192.168.3.62]',\n",
       " 'X-MS-Exchange-Organization-Network-Message-Id: 2b0753c0-41bd-47ab-246d-08d475c687b3',\n",
       " 'Return-Path: Mazat@ifo.de',\n",
       " 'X-MS-Exchange-Organization-AVStamp-Enterprise: 1.0',\n",
       " 'X-MS-Exchange-Transport-EndToEndLatency: 00:00:00.2184625']"
      ]
     },
     "execution_count": 23,
     "metadata": {},
     "output_type": "execute_result"
    }
   ],
   "source": [
    "text"
   ]
  },
  {
   "cell_type": "code",
   "execution_count": null,
   "metadata": {
    "collapsed": true
   },
   "outputs": [],
   "source": []
  }
 ],
 "metadata": {
  "kernelspec": {
   "display_name": "Python 3",
   "language": "python",
   "name": "python3"
  },
  "language_info": {
   "codemirror_mode": {
    "name": "ipython",
    "version": 3
   },
   "file_extension": ".py",
   "mimetype": "text/x-python",
   "name": "python",
   "nbconvert_exporter": "python",
   "pygments_lexer": "ipython3",
   "version": "3.5.3"
  }
 },
 "nbformat": 4,
 "nbformat_minor": 0
}
