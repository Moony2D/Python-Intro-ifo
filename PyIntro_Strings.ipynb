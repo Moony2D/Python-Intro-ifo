{
 "cells": [
  {
   "cell_type": "markdown",
   "metadata": {},
   "source": [
    "# Introduction to Python - Strings and Text Files"
   ]
  },
  {
   "cell_type": "code",
   "execution_count": 1,
   "metadata": {
    "collapsed": false
   },
   "outputs": [
    {
     "name": "stdout",
     "output_type": "stream",
     "text": [
      "Last update: 2017-03-31 16:04:30.531127\n"
     ]
    }
   ],
   "source": [
    "# Author: Alex Schmitt (schmitt@ifo.de)\n",
    "\n",
    "import datetime\n",
    "print('Last update: ' + str(datetime.datetime.today()))"
   ]
  },
  {
   "cell_type": "markdown",
   "metadata": {},
   "source": [
    "## Handles and Reading Files"
   ]
  },
  {
   "cell_type": "code",
   "execution_count": 47,
   "metadata": {
    "collapsed": false
   },
   "outputs": [
    {
     "name": "stdout",
     "output_type": "stream",
     "text": [
      "<class 'str'>\n",
      "The text consists of 1680 characters.\n"
     ]
    }
   ],
   "source": [
    "fname = 'email.txt'\n",
    "fh = open(fname)\n",
    "text_all = fh.read()\n",
    "print(type(text_all))\n",
    "print('The text consists of {} characters.'.format(len(text_all)))"
   ]
  },
  {
   "cell_type": "markdown",
   "metadata": {},
   "source": [
    "**text_all** stores the contents of the text file as one large string. Sometimes it is more convenient to have a list of strings instead, where each element of the list represents a line in the text (As so often, which one the better alternative is depends on what problem you wanna solve.). This is achieved by the **readlines** method:"
   ]
  },
  {
   "cell_type": "code",
   "execution_count": 48,
   "metadata": {
    "collapsed": false
   },
   "outputs": [
    {
     "name": "stdout",
     "output_type": "stream",
     "text": [
      "The text consists of 1680 characters.\n"
     ]
    }
   ],
   "source": [
    "fh = open(fname)\n",
    "text = fh.readlines()\n",
    "type(text), len(text)\n",
    "print('The text consists of {} characters.'.format( sum([len(x) for x in text]) ) ) "
   ]
  },
  {
   "cell_type": "markdown",
   "metadata": {},
   "source": [
    "## String Methods\n",
    "\n",
    "Here is a (incomplete) list of the most important methods for a string, for which we will see examples below:\n",
    "- **text.strip(char)** -> list: returns a list with the elements of string, split at char (or a space by default)\n",
    "- **text.find(string)**, **text.index(string)** -> int: returns the position (index) of the first occurrence of string\n",
    "- **text.count(string)** -> int: returns number of occurrences of string in text\n",
    "- **text.startswith(string)** -> boolean: returns True whether text starts with string\n",
    "- **text.strip()**: modifies text (not in place!) by eliminating leading and trailing whitespaces\n",
    "- **text.upper()**, **text.lower()**: modifies text (not in place!) by making all characters upper (lower) cases\n",
    "- **text{}.format(num)** -> str: inserts num in text\n"
   ]
  },
  {
   "cell_type": "code",
   "execution_count": 50,
   "metadata": {
    "collapsed": false
   },
   "outputs": [
    {
     "name": "stdout",
     "output_type": "stream",
     "text": [
      "<class 'str'>\n",
      "<class 'list'>\n",
      "['Received:', 'from', 'Exchange03.ifo.local', '(192.168.0.103)', 'by', 'Exchange03.ifo.local']\n"
     ]
    }
   ],
   "source": [
    "line = text[0]\n",
    "\n",
    "line.split()\n",
    "print( type(line) )\n",
    "\n",
    "line = line.split()\n",
    "print( type(line) )\n",
    "print(line)"
   ]
  },
  {
   "cell_type": "markdown",
   "metadata": {},
   "source": [
    "Recall that strings are immutable: methods do not work ``in place''.\n",
    "\n",
    "You can parse strings and check if they contain a certain substring by using the **find** and **index** methods. They return the position (index) of the *first* occurrence of the substring. Note that if the substring is not in the text, **find** will return -1 while **index** will throw an error."
   ]
  },
  {
   "cell_type": "code",
   "execution_count": 9,
   "metadata": {
    "collapsed": false
   },
   "outputs": [
    {
     "name": "stdout",
     "output_type": "stream",
     "text": [
      "Schmitt\n",
      "SCHMITT schmitt\n",
      "Chmitt\n",
      "817\n",
      "-1\n"
     ]
    }
   ],
   "source": [
    "pos = text_all.find('Schmitt')\n",
    "print(text_all[pos : pos + 7])\n",
    "print(text_all[pos : pos + 7].upper(), text_all[pos : pos + 7].lower())\n",
    "print(text_all[pos + 1 : pos + 7].capitalize())\n",
    "\n",
    "print(text_all.index('chmitt'))\n",
    "print(text_all.find('Chmitt'))\n",
    "# print(text_all.index('Chmitt')) -> throws an error!"
   ]
  },
  {
   "cell_type": "markdown",
   "metadata": {},
   "source": [
    "If you are not interested in where a substring is contained in a string, but how often, use the **count** method:"
   ]
  },
  {
   "cell_type": "code",
   "execution_count": 10,
   "metadata": {
    "collapsed": false
   },
   "outputs": [
    {
     "data": {
      "text/plain": [
       "12"
      ]
     },
     "execution_count": 10,
     "metadata": {},
     "output_type": "execute_result"
    }
   ],
   "source": [
    "text_all.count('ifo')"
   ]
  },
  {
   "cell_type": "markdown",
   "metadata": {},
   "source": [
    "## Iterating over a file handle"
   ]
  },
  {
   "cell_type": "markdown",
   "metadata": {},
   "source": [
    "In many cases, you may not be interested in the complete text, but only in certain parts of it or looking for specific information contained in the text. For example, assume you want to extract all email addresses in the text. One way to do this would be use the file handle as an iterator and store all lines that contain a '@' in a list: "
   ]
  },
  {
   "cell_type": "code",
   "execution_count": 11,
   "metadata": {
    "collapsed": false
   },
   "outputs": [
    {
     "name": "stdout",
     "output_type": "stream",
     "text": [
      "['From: \"Huber, Matthias\" <Huber@ifo.de>\\n', 'To: \"Schmitt, Alex\" <Schmitt@ifo.de>\\n', 'Message-ID: <23211122c2f5403e81a78feb4d32a00e@ifo.de>\\n', 'X-MS-TNEF-Correlator: <23211122c2f5403e81a78feb4d32a00e@ifo.de>\\n', 'Return-Path: Huber@ifo.de\\n']\n"
     ]
    }
   ],
   "source": [
    "fh = open(fname)\n",
    "\n",
    "addresses = []\n",
    "for line in fh:\n",
    "    if line.find('@') > 0:\n",
    "        addresses.append(line)\n",
    "    \n",
    "print(addresses)  "
   ]
  },
  {
   "cell_type": "markdown",
   "metadata": {},
   "source": [
    "In other words, this reduces a potentially long text to those lines that may contain relevant information. Closer inspection of the resulting list shows that there are two email addresses in lines that start with 'From: ' and with 'To: '. We can use this information to parse the text again, this time making our query more precise:"
   ]
  },
  {
   "cell_type": "code",
   "execution_count": 12,
   "metadata": {
    "collapsed": false
   },
   "outputs": [
    {
     "name": "stdout",
     "output_type": "stream",
     "text": [
      "['From: \"Huber, Matthias\" <Huber@ifo.de>', 'To: \"Schmitt, Alex\" <Schmitt@ifo.de>']\n"
     ]
    }
   ],
   "source": [
    "fh = open(fname)\n",
    "\n",
    "addresses = []\n",
    "for line in fh:\n",
    "    if line.startswith('From') or line.startswith('To'):\n",
    "        addresses.append(line.strip())\n",
    "    \n",
    "print(addresses) "
   ]
  },
  {
   "cell_type": "markdown",
   "metadata": {},
   "source": [
    "Note that there are better ways to parse a text for specific characters, as we will see in a bit. \n",
    "\n",
    "Often it is not necessary to parse the whole text. For example, if you are only interested in the subject of an email, you can stop the loop after the relevant line, using a **break** statement:"
   ]
  },
  {
   "cell_type": "code",
   "execution_count": 13,
   "metadata": {
    "collapsed": false
   },
   "outputs": [
    {
     "name": "stdout",
     "output_type": "stream",
     "text": [
      "github\n",
      "\n"
     ]
    }
   ],
   "source": [
    "fh = open(fname)\n",
    "\n",
    "addresses = []\n",
    "for line in fh:\n",
    "    if line.startswith('Subject'):\n",
    "        print(line[9:])\n",
    "        break\n"
   ]
  },
  {
   "cell_type": "markdown",
   "metadata": {},
   "source": []
  },
  {
   "cell_type": "code",
   "execution_count": 51,
   "metadata": {
    "collapsed": false
   },
   "outputs": [
    {
     "name": "stdout",
     "output_type": "stream",
     "text": [
      "<class 'list'>\n",
      "<class 'str'>\n",
      "1637\n"
     ]
    }
   ],
   "source": [
    "fh = open(fname)\n",
    "\n",
    "text = []\n",
    "for line in fh:\n",
    "    text.append(line.strip())\n",
    "print(type(text))\n",
    "print(type(text_all))\n",
    "print(sum([len(line) for line in text]))    "
   ]
  },
  {
   "cell_type": "markdown",
   "metadata": {},
   "source": [
    "Note that the number of characters here is less than above, since I have stripped line breaks."
   ]
  },
  {
   "cell_type": "markdown",
   "metadata": {},
   "source": [
    "## Regular Expressions"
   ]
  },
  {
   "cell_type": "code",
   "execution_count": 3,
   "metadata": {
    "collapsed": true
   },
   "outputs": [],
   "source": [
    "import re"
   ]
  },
  {
   "cell_type": "code",
   "execution_count": 61,
   "metadata": {
    "collapsed": false
   },
   "outputs": [
    {
     "data": {
      "text/plain": [
       "12"
      ]
     },
     "execution_count": 61,
     "metadata": {},
     "output_type": "execute_result"
    }
   ],
   "source": [
    "len(re.findall('ifo', text_all))"
   ]
  },
  {
   "cell_type": "code",
   "execution_count": 53,
   "metadata": {
    "collapsed": false
   },
   "outputs": [
    {
     "data": {
      "text/plain": [
       "['Huber@ifo.de', 'Schmitt@ifo.de', 'e@ifo.de', 'e@ifo.de', 'Huber@ifo.de']"
      ]
     },
     "execution_count": 53,
     "metadata": {},
     "output_type": "execute_result"
    }
   ],
   "source": [
    "re.findall('[A-Za-z.]+@[a-z.]+', text_all)"
   ]
  },
  {
   "cell_type": "code",
   "execution_count": 54,
   "metadata": {
    "collapsed": false
   },
   "outputs": [
    {
     "data": {
      "text/plain": [
       "['Tue, 28 Mar 2017 11:45:05 +0200']"
      ]
     },
     "execution_count": 54,
     "metadata": {},
     "output_type": "execute_result"
    }
   ],
   "source": [
    "re.findall('Date: (.+)', text_all)"
   ]
  },
  {
   "cell_type": "code",
   "execution_count": 55,
   "metadata": {
    "collapsed": false
   },
   "outputs": [
    {
     "data": {
      "text/plain": [
       "['Tue, 28 Mar 2017 11:45:05 +0200',\n",
       " 'Tue, 28',\n",
       " 'Tue, 28 Mar 2017 11:45:05 +0200',\n",
       " 'Tue, 28 Mar 2017 11:45:05 +0200']"
      ]
     },
     "execution_count": 55,
     "metadata": {},
     "output_type": "execute_result"
    }
   ],
   "source": [
    "re.findall('Tue.+', text_all)"
   ]
  },
  {
   "cell_type": "code",
   "execution_count": 56,
   "metadata": {
    "collapsed": false
   },
   "outputs": [
    {
     "data": {
      "text/plain": [
       "['03.',\n",
       " '.',\n",
       " '192.168.0.103',\n",
       " '03.',\n",
       " '.',\n",
       " '192.168.0.103',\n",
       " '1',\n",
       " '2',\n",
       " '256',\n",
       " '384',\n",
       " '384',\n",
       " '15.1.544.27',\n",
       " '28',\n",
       " '2017',\n",
       " '11',\n",
       " '45',\n",
       " '05',\n",
       " '0200',\n",
       " '03.',\n",
       " '.',\n",
       " '192.168.0.103',\n",
       " '03.',\n",
       " '.',\n",
       " '192.168.0.103',\n",
       " '1',\n",
       " '2',\n",
       " '256',\n",
       " '384',\n",
       " '384',\n",
       " '15.1.544.27',\n",
       " '28',\n",
       " '2017',\n",
       " '11',\n",
       " '45',\n",
       " '05',\n",
       " '0200',\n",
       " '03.',\n",
       " '.',\n",
       " '80',\n",
       " '10',\n",
       " '8',\n",
       " '53',\n",
       " '646',\n",
       " '03.',\n",
       " '.',\n",
       " '80',\n",
       " '10',\n",
       " '8',\n",
       " '53',\n",
       " '646',\n",
       " '15',\n",
       " '15.01.0544.030',\n",
       " '28',\n",
       " '2017',\n",
       " '11',\n",
       " '45',\n",
       " '05',\n",
       " '0200',\n",
       " '.',\n",
       " '.',\n",
       " '.',\n",
       " '5',\n",
       " '2',\n",
       " '4',\n",
       " '6',\n",
       " '1',\n",
       " '28',\n",
       " '2017',\n",
       " '11',\n",
       " '45',\n",
       " '05',\n",
       " '0200',\n",
       " '23211122',\n",
       " '2',\n",
       " '5403',\n",
       " '81',\n",
       " '78',\n",
       " '4',\n",
       " '32',\n",
       " '00',\n",
       " '.',\n",
       " '1',\n",
       " '23211122',\n",
       " '2',\n",
       " '5403',\n",
       " '81',\n",
       " '78',\n",
       " '4',\n",
       " '32',\n",
       " '00',\n",
       " '.',\n",
       " '1.0',\n",
       " '03.',\n",
       " '.',\n",
       " '04',\n",
       " '192.168.2.216',\n",
       " '78661',\n",
       " '8',\n",
       " '17',\n",
       " '409',\n",
       " '1497',\n",
       " '08',\n",
       " '475',\n",
       " '1',\n",
       " '23',\n",
       " '.',\n",
       " '1.0',\n",
       " '00',\n",
       " '00',\n",
       " '00.2656386']"
      ]
     },
     "execution_count": 56,
     "metadata": {},
     "output_type": "execute_result"
    }
   ],
   "source": [
    "re.findall('[0-9.]+', text_all)"
   ]
  },
  {
   "cell_type": "code",
   "execution_count": null,
   "metadata": {
    "collapsed": true
   },
   "outputs": [],
   "source": []
  }
 ],
 "metadata": {
  "kernelspec": {
   "display_name": "Python 3",
   "language": "python",
   "name": "python3"
  },
  "language_info": {
   "codemirror_mode": {
    "name": "ipython",
    "version": 3
   },
   "file_extension": ".py",
   "mimetype": "text/x-python",
   "name": "python",
   "nbconvert_exporter": "python",
   "pygments_lexer": "ipython3",
   "version": "3.5.3"
  }
 },
 "nbformat": 4,
 "nbformat_minor": 0
}
