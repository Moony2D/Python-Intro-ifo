{
 "cells": [
  {
   "cell_type": "markdown",
   "metadata": {},
   "source": [
    "# Introduction to Python - Analyzing Data"
   ]
  },
  {
   "cell_type": "code",
   "execution_count": 1,
   "metadata": {
    "collapsed": false
   },
   "outputs": [
    {
     "name": "stdout",
     "output_type": "stream",
     "text": [
      "Last update: 2017-05-28 12:50:43.792370\n"
     ]
    }
   ],
   "source": [
    "# Author: Alex Schmitt (schmitt@ifo.de)\n",
    "\n",
    "import datetime\n",
    "print('Last update: ' + str(datetime.datetime.today()))"
   ]
  },
  {
   "cell_type": "code",
   "execution_count": 2,
   "metadata": {
    "collapsed": true
   },
   "outputs": [],
   "source": [
    "import numpy as np\n",
    "import pandas as pd\n",
    "import matplotlib.pyplot as plt\n",
    "%matplotlib inline\n",
    "import seaborn\n"
   ]
  },
  {
   "cell_type": "markdown",
   "metadata": {},
   "source": [
    "Pandas series and dataframes are based on one- and two-dimensional Numpy arrays, respectively. The main difference is that rows and (in the case of multidimensional dataframes) columns have key names that refer to the them, similar to dictionaries. To use an analogy from outside of Python, you can think of series and dataframes as spreadsheets, like used in Excel. "
   ]
  },
  {
   "cell_type": "markdown",
   "metadata": {},
   "source": [
    "## Pandas Series\n",
    "\n",
    "A Pandas series is an one-dimensional array containing data. You can think of it as a dictionary, put in an array, as the following example will show. Start with a dictionary that has integers (here years) as keys and strings (here the name of the Bundesliga champion in that year since 2007) as values."
   ]
  },
  {
   "cell_type": "code",
   "execution_count": 3,
   "metadata": {
    "collapsed": false
   },
   "outputs": [],
   "source": [
    "D = {2007: 'VfB Stuttgart', 2008: 'FC Bayern', 2009: 'VfL Wolfsburg', 2010: 'FC Bayern', \\\n",
    "     2011: 'Borussia Dortmund', 2012: 'Borussia Dortmund', 2013: 'FC Bayern', \\\n",
    "     2014: 'FC Bayern', 2015: 'FC Bayern', 2016: 'FC Bayern', 2017: 'FC Bayern'}"
   ]
  },
  {
   "cell_type": "markdown",
   "metadata": {},
   "source": [
    "We can use the Pandas **Series** function to convert this dictionary into a Pandas series:"
   ]
  },
  {
   "cell_type": "code",
   "execution_count": 4,
   "metadata": {
    "collapsed": false
   },
   "outputs": [
    {
     "name": "stdout",
     "output_type": "stream",
     "text": [
      "<class 'pandas.core.series.Series'>\n",
      "2007        VfB Stuttgart\n",
      "2008            FC Bayern\n",
      "2009        VfL Wolfsburg\n",
      "2010            FC Bayern\n",
      "2011    Borussia Dortmund\n",
      "2012    Borussia Dortmund\n",
      "2013            FC Bayern\n",
      "2014            FC Bayern\n",
      "2015            FC Bayern\n",
      "2016            FC Bayern\n",
      "2017            FC Bayern\n",
      "dtype: object\n"
     ]
    }
   ],
   "source": [
    "ts = pd.Series(D)\n",
    "print(type(ts))\n",
    "print(ts)"
   ]
  },
  {
   "cell_type": "markdown",
   "metadata": {},
   "source": [
    "This *looks* like an array with two columns; however, we can use the **shape** method (that we have seen in the context of Numpy arrays) to verify that this is a one-dimensional array:"
   ]
  },
  {
   "cell_type": "code",
   "execution_count": 5,
   "metadata": {
    "collapsed": false
   },
   "outputs": [
    {
     "name": "stdout",
     "output_type": "stream",
     "text": [
      "(11,)\n"
     ]
    }
   ],
   "source": [
    "print(ts.shape)"
   ]
  },
  {
   "cell_type": "markdown",
   "metadata": {},
   "source": [
    "In fact, only the second column that you see above is treated as data. The first column are the *indices*, i.e. the keys that refer to the rows. We can also see this by applying the **index** method on our **ts** series. This will return the row indices as special type of array:"
   ]
  },
  {
   "cell_type": "code",
   "execution_count": 6,
   "metadata": {
    "collapsed": false
   },
   "outputs": [
    {
     "name": "stdout",
     "output_type": "stream",
     "text": [
      "Int64Index([2007, 2008, 2009, 2010, 2011, 2012, 2013, 2014, 2015, 2016, 2017], dtype='int64')\n"
     ]
    }
   ],
   "source": [
    "print(ts.index)"
   ]
  },
  {
   "cell_type": "markdown",
   "metadata": {},
   "source": [
    "Exactly as with dictionaries, we can use the indices to access an element in the series:"
   ]
  },
  {
   "cell_type": "code",
   "execution_count": 7,
   "metadata": {
    "collapsed": false
   },
   "outputs": [
    {
     "name": "stdout",
     "output_type": "stream",
     "text": [
      "FC Bayern\n",
      "FC Bayern\n"
     ]
    }
   ],
   "source": [
    "print(ts[2010])\n",
    "## for comparison, the same notation works for a dictionary\n",
    "print(D[2010])"
   ]
  },
  {
   "cell_type": "markdown",
   "metadata": {},
   "source": [
    "While this way works, it is recommended to use the **loc** method:"
   ]
  },
  {
   "cell_type": "code",
   "execution_count": 8,
   "metadata": {
    "collapsed": false
   },
   "outputs": [
    {
     "name": "stdout",
     "output_type": "stream",
     "text": [
      "FC Bayern\n"
     ]
    }
   ],
   "source": [
    "print(ts.loc[2010])"
   ]
  },
  {
   "cell_type": "markdown",
   "metadata": {},
   "source": [
    "The important difference between a Pandas series and a dictionary is that the elements in a series are *ordered*, i.e. there is a first element, a second element etc. This is illustrated by the fact that you can also access elements *by its position* rather than by its (row) index. For example, we can check the first element of the series *without using the index of the first row*, using the **iloc** method:"
   ]
  },
  {
   "cell_type": "code",
   "execution_count": 9,
   "metadata": {
    "collapsed": false
   },
   "outputs": [
    {
     "name": "stdout",
     "output_type": "stream",
     "text": [
      "VfB Stuttgart\n"
     ]
    }
   ],
   "source": [
    "print(ts.iloc[0])\n",
    "## the following would not work:\n",
    "# print(ts[0])"
   ]
  },
  {
   "cell_type": "markdown",
   "metadata": {},
   "source": [
    "Moreover, the ordering of elements also implies that you can access multiple adjacent elements, using either **loc** or **iloc**: "
   ]
  },
  {
   "cell_type": "code",
   "execution_count": 10,
   "metadata": {
    "collapsed": false
   },
   "outputs": [
    {
     "name": "stdout",
     "output_type": "stream",
     "text": [
      "2010            FC Bayern\n",
      "2011    Borussia Dortmund\n",
      "2012    Borussia Dortmund\n",
      "dtype: object\n"
     ]
    }
   ],
   "source": [
    "print(ts.loc[2010:2012])"
   ]
  },
  {
   "cell_type": "code",
   "execution_count": 11,
   "metadata": {
    "collapsed": false
   },
   "outputs": [
    {
     "name": "stdout",
     "output_type": "stream",
     "text": [
      "2007        VfB Stuttgart\n",
      "2009        VfL Wolfsburg\n",
      "2011    Borussia Dortmund\n",
      "2013            FC Bayern\n",
      "2015            FC Bayern\n",
      "dtype: object\n"
     ]
    }
   ],
   "source": [
    "print(ts.iloc[:-1:2])"
   ]
  },
  {
   "cell_type": "markdown",
   "metadata": {},
   "source": [
    "Above, we have used a dictionary to define a Pandas series. We can also use the **Series** function on a list (or tuple). Since in this case, we don't provide any row indices, Pandas automatically uses integers as indices, starting at 0:"
   ]
  },
  {
   "cell_type": "code",
   "execution_count": 12,
   "metadata": {
    "collapsed": false
   },
   "outputs": [
    {
     "name": "stdout",
     "output_type": "stream",
     "text": [
      "[1, 4, 9, 16, 25, 36, 49, 64, 81, 100]\n",
      "0      1\n",
      "1      4\n",
      "2      9\n",
      "3     16\n",
      "4     25\n",
      "5     36\n",
      "6     49\n",
      "7     64\n",
      "8     81\n",
      "9    100\n",
      "dtype: int64\n"
     ]
    }
   ],
   "source": [
    "lst = [x**2 for x in range(1, 11)]\n",
    "print(lst)\n",
    "ts2 = pd.Series(lst)\n",
    "print(ts2)"
   ]
  },
  {
   "cell_type": "code",
   "execution_count": 13,
   "metadata": {
    "collapsed": false
   },
   "outputs": [
    {
     "name": "stdout",
     "output_type": "stream",
     "text": [
      "RangeIndex(start=0, stop=10, step=1)\n"
     ]
    }
   ],
   "source": [
    "print(ts2.index)"
   ]
  },
  {
   "cell_type": "markdown",
   "metadata": {},
   "source": [
    "Note that in this special case, the indices and the positions of the elements in the series are identical, hence we could use **loc** and **iloc** in the same way.\n",
    "\n",
    "If we'd like a different numbering, we can also use the **index** argument when defining the series."
   ]
  },
  {
   "cell_type": "code",
   "execution_count": 14,
   "metadata": {
    "collapsed": false
   },
   "outputs": [
    {
     "name": "stdout",
     "output_type": "stream",
     "text": [
      "1       1\n",
      "2       4\n",
      "3       9\n",
      "4      16\n",
      "5      25\n",
      "6      36\n",
      "7      49\n",
      "8      64\n",
      "9      81\n",
      "10    100\n",
      "dtype: int64\n"
     ]
    }
   ],
   "source": [
    "ts2 = pd.Series(lst, index = range(1, 11))\n",
    "print(ts2)"
   ]
  },
  {
   "cell_type": "markdown",
   "metadata": {},
   "source": [
    "#### Useful Methods"
   ]
  },
  {
   "cell_type": "code",
   "execution_count": 15,
   "metadata": {
    "collapsed": false
   },
   "outputs": [
    {
     "data": {
      "text/plain": [
       "count            11\n",
       "unique            4\n",
       "top       FC Bayern\n",
       "freq              7\n",
       "dtype: object"
      ]
     },
     "execution_count": 15,
     "metadata": {},
     "output_type": "execute_result"
    }
   ],
   "source": [
    "ts.describe()"
   ]
  },
  {
   "cell_type": "markdown",
   "metadata": {},
   "source": [
    "For purely numerical arrays (whose **dtype** is **int** or **float**), the **describe** method returns some descriptive statistics:"
   ]
  },
  {
   "cell_type": "code",
   "execution_count": 16,
   "metadata": {
    "collapsed": false
   },
   "outputs": [
    {
     "name": "stdout",
     "output_type": "stream",
     "text": [
      "count     10.000000\n",
      "mean      38.500000\n",
      "std       34.173577\n",
      "min        1.000000\n",
      "25%       10.750000\n",
      "50%       30.500000\n",
      "75%       60.250000\n",
      "max      100.000000\n",
      "dtype: float64\n"
     ]
    }
   ],
   "source": [
    "print(ts2.describe())"
   ]
  },
  {
   "cell_type": "markdown",
   "metadata": {},
   "source": [
    "As an aside, note that Pandas arrays, in contrast to Numpy arrays, allows elements of different types, e.g. integers and strings:"
   ]
  },
  {
   "cell_type": "code",
   "execution_count": 17,
   "metadata": {
    "collapsed": false
   },
   "outputs": [
    {
     "name": "stdout",
     "output_type": "stream",
     "text": [
      "1             1\n",
      "2             4\n",
      "3             9\n",
      "4            16\n",
      "5            25\n",
      "6            36\n",
      "7            49\n",
      "8     FC Bayern\n",
      "9            81\n",
      "10          100\n",
      "dtype: object\n"
     ]
    }
   ],
   "source": [
    "ts2[8] = 'FC Bayern'\n",
    "print(ts2)"
   ]
  },
  {
   "cell_type": "markdown",
   "metadata": {},
   "source": [
    "Note that this operation changes the **dtype** (data type) of **ts2** from **int** to the more general **object**. As a consequence, calling **describe()** on **ts2** will no longer return any descriptive statistics:"
   ]
  },
  {
   "cell_type": "code",
   "execution_count": 18,
   "metadata": {
    "collapsed": false
   },
   "outputs": [
    {
     "name": "stdout",
     "output_type": "stream",
     "text": [
      "count     10\n",
      "unique    10\n",
      "top       25\n",
      "freq       1\n",
      "dtype: int64\n"
     ]
    }
   ],
   "source": [
    "print(ts2.describe())"
   ]
  },
  {
   "cell_type": "code",
   "execution_count": 19,
   "metadata": {
    "collapsed": false
   },
   "outputs": [
    {
     "data": {
      "text/plain": [
       "2007        VfB Stuttgart\n",
       "2008            FC Bayern\n",
       "2009        VfL Wolfsburg\n",
       "2010            FC Bayern\n",
       "2011    Borussia Dortmund\n",
       "dtype: object"
      ]
     },
     "execution_count": 19,
     "metadata": {},
     "output_type": "execute_result"
    }
   ],
   "source": [
    "ts.head()"
   ]
  },
  {
   "cell_type": "code",
   "execution_count": 20,
   "metadata": {
    "collapsed": false
   },
   "outputs": [
    {
     "data": {
      "text/plain": [
       "2015    FC Bayern\n",
       "2016    FC Bayern\n",
       "2017    FC Bayern\n",
       "dtype: object"
      ]
     },
     "execution_count": 20,
     "metadata": {},
     "output_type": "execute_result"
    }
   ],
   "source": [
    "ts.tail(3)"
   ]
  },
  {
   "cell_type": "code",
   "execution_count": 21,
   "metadata": {
    "collapsed": false
   },
   "outputs": [
    {
     "data": {
      "text/plain": [
       "11"
      ]
     },
     "execution_count": 21,
     "metadata": {},
     "output_type": "execute_result"
    }
   ],
   "source": [
    "ts.count()"
   ]
  },
  {
   "cell_type": "code",
   "execution_count": 23,
   "metadata": {
    "collapsed": false
   },
   "outputs": [
    {
     "name": "stdout",
     "output_type": "stream",
     "text": [
      "FC Bayern            7\n",
      "Borussia Dortmund    2\n",
      "VfB Stuttgart        1\n",
      "VfL Wolfsburg        1\n",
      "dtype: int64\n"
     ]
    }
   ],
   "source": [
    "first = ts.value_counts()\n",
    "print(first)"
   ]
  },
  {
   "cell_type": "markdown",
   "metadata": {},
   "source": [
    "### Vectorized Operations"
   ]
  },
  {
   "cell_type": "code",
   "execution_count": 24,
   "metadata": {
    "collapsed": false
   },
   "outputs": [
    {
     "name": "stdout",
     "output_type": "stream",
     "text": [
      "FC Bayern             True\n",
      "Borussia Dortmund    False\n",
      "VfB Stuttgart        False\n",
      "VfL Wolfsburg        False\n",
      "dtype: bool\n"
     ]
    }
   ],
   "source": [
    "print( first > 5 )"
   ]
  },
  {
   "cell_type": "code",
   "execution_count": 25,
   "metadata": {
    "collapsed": false
   },
   "outputs": [
    {
     "data": {
      "text/plain": [
       "FC Bayern            7\n",
       "Borussia Dortmund    2\n",
       "dtype: int64"
      ]
     },
     "execution_count": 25,
     "metadata": {},
     "output_type": "execute_result"
    }
   ],
   "source": [
    "first[first >= 2]"
   ]
  },
  {
   "cell_type": "markdown",
   "metadata": {},
   "source": [
    "#### Addition"
   ]
  },
  {
   "cell_type": "code",
   "execution_count": 26,
   "metadata": {
    "collapsed": false
   },
   "outputs": [
    {
     "name": "stdout",
     "output_type": "stream",
     "text": [
      "Borussia Dortmund      3\n",
      "FC Bayern              2\n",
      "FC Schalke 04          2\n",
      "RB Leipzig             1\n",
      "Werder Bremen          1\n",
      "VfL Wolfsburg          1\n",
      "Bayer 04 Leverkusen    1\n",
      "dtype: int64\n"
     ]
    }
   ],
   "source": [
    "L = ['FC Schalke 04', 'Werder Bremen', 'FC Bayern', 'FC Schalke 04', 'Bayer 04 Leverkusen', \\\n",
    "    'FC Bayern', 'Borussia Dortmund', 'Borussia Dortmund', 'VfL Wolfsburg', 'Borussia Dortmund', 'RB Leipzig']\n",
    "ts3 = pd.Series(L, index = range(2007, 2018))\n",
    "second = ts3.value_counts()\n",
    "print(second)"
   ]
  },
  {
   "cell_type": "code",
   "execution_count": 27,
   "metadata": {
    "collapsed": false
   },
   "outputs": [
    {
     "name": "stdout",
     "output_type": "stream",
     "text": [
      "Bayer 04 Leverkusen    NaN\n",
      "Borussia Dortmund      5.0\n",
      "FC Bayern              9.0\n",
      "FC Schalke 04          NaN\n",
      "RB Leipzig             NaN\n",
      "VfB Stuttgart          NaN\n",
      "VfL Wolfsburg          2.0\n",
      "Werder Bremen          NaN\n",
      "dtype: float64\n"
     ]
    }
   ],
   "source": [
    "print(first + second)"
   ]
  },
  {
   "cell_type": "code",
   "execution_count": 28,
   "metadata": {
    "collapsed": false
   },
   "outputs": [
    {
     "name": "stdout",
     "output_type": "stream",
     "text": [
      "Bayer 04 Leverkusen    1.0\n",
      "Borussia Dortmund      5.0\n",
      "FC Bayern              9.0\n",
      "FC Schalke 04          2.0\n",
      "RB Leipzig             1.0\n",
      "VfB Stuttgart          1.0\n",
      "VfL Wolfsburg          2.0\n",
      "Werder Bremen          1.0\n",
      "dtype: float64\n"
     ]
    }
   ],
   "source": [
    "total = second.add(first, fill_value = 0)\n",
    "print(total)"
   ]
  },
  {
   "cell_type": "markdown",
   "metadata": {},
   "source": [
    "#### Apply function"
   ]
  },
  {
   "cell_type": "code",
   "execution_count": 29,
   "metadata": {
    "collapsed": false
   },
   "outputs": [
    {
     "name": "stdout",
     "output_type": "stream",
     "text": [
      "Bayer 04 Leverkusen    1\n",
      "Borussia Dortmund      5\n",
      "FC Bayern              9\n",
      "FC Schalke 04          2\n",
      "RB Leipzig             1\n",
      "VfB Stuttgart          1\n",
      "VfL Wolfsburg          2\n",
      "Werder Bremen          1\n",
      "dtype: int64\n"
     ]
    }
   ],
   "source": [
    "total = total.apply(int)\n",
    "print( total )"
   ]
  },
  {
   "cell_type": "markdown",
   "metadata": {},
   "source": [
    "#### Statistics\n",
    "\n",
    "As with Numpy arrays, we can apply methods for mean, standard deviation, maximum, etc. on Pandas series. A very useful method is **argmax** which returns the index of the row which contains the maximum value. "
   ]
  },
  {
   "cell_type": "code",
   "execution_count": 30,
   "metadata": {
    "collapsed": false
   },
   "outputs": [
    {
     "data": {
      "text/plain": [
       "2.75"
      ]
     },
     "execution_count": 30,
     "metadata": {},
     "output_type": "execute_result"
    }
   ],
   "source": [
    "total.mean()"
   ]
  },
  {
   "cell_type": "code",
   "execution_count": 31,
   "metadata": {
    "collapsed": false
   },
   "outputs": [
    {
     "data": {
      "text/plain": [
       "2.866057521105554"
      ]
     },
     "execution_count": 31,
     "metadata": {},
     "output_type": "execute_result"
    }
   ],
   "source": [
    "total.std()"
   ]
  },
  {
   "cell_type": "code",
   "execution_count": 32,
   "metadata": {
    "collapsed": false
   },
   "outputs": [
    {
     "data": {
      "text/plain": [
       "22"
      ]
     },
     "execution_count": 32,
     "metadata": {},
     "output_type": "execute_result"
    }
   ],
   "source": [
    "total.sum()"
   ]
  },
  {
   "cell_type": "code",
   "execution_count": 33,
   "metadata": {
    "collapsed": false
   },
   "outputs": [
    {
     "data": {
      "text/plain": [
       "9"
      ]
     },
     "execution_count": 33,
     "metadata": {},
     "output_type": "execute_result"
    }
   ],
   "source": [
    "total.max()"
   ]
  },
  {
   "cell_type": "code",
   "execution_count": 34,
   "metadata": {
    "collapsed": false
   },
   "outputs": [
    {
     "data": {
      "text/plain": [
       "'FC Bayern'"
      ]
     },
     "execution_count": 34,
     "metadata": {},
     "output_type": "execute_result"
    }
   ],
   "source": [
    "total.argmax()"
   ]
  },
  {
   "cell_type": "markdown",
   "metadata": {},
   "source": [
    "### Plotting \n",
    "\n",
    "It is straightforward to plot a Pandas series using Matplotlib and the notation that we have seen in the last lecture:"
   ]
  },
  {
   "cell_type": "code",
   "execution_count": 41,
   "metadata": {
    "collapsed": false
   },
   "outputs": [
    {
     "data": {
      "text/plain": [
       "[<matplotlib.lines.Line2D at 0x117a65358>]"
      ]
     },
     "execution_count": 41,
     "metadata": {},
     "output_type": "execute_result"
    },
    {
     "data": {
      "image/png": "[encoded data removed]",
      "text/plain": [
       "<matplotlib.figure.Figure at 0x117a65390>"
      ]
     },
     "metadata": {},
     "output_type": "display_data"
    }
   ],
   "source": [
    "## define ts2 again, since we have changed it \n",
    "lst = [x**2 for x in range(1, 11)]\n",
    "ts2 = pd.Series(lst)\n",
    "\n",
    "## plot ts2\n",
    "fig, ax = plt.subplots()\n",
    "ax.plot(ts2)"
   ]
  },
  {
   "cell_type": "markdown",
   "metadata": {},
   "source": [
    "For Pandas object, there is an alternative way to do it: series (and dataframes, as we will see below) have a method **plot** that does the same:"
   ]
  },
  {
   "cell_type": "code",
   "execution_count": 36,
   "metadata": {
    "collapsed": false
   },
   "outputs": [
    {
     "data": {
      "text/plain": [
       "<matplotlib.axes._subplots.AxesSubplot at 0x11adf15c0>"
      ]
     },
     "execution_count": 36,
     "metadata": {},
     "output_type": "execute_result"
    },
    {
     "data": {
      "image/png": "[encoded data removed]",
      "text/plain": [
       "<matplotlib.figure.Figure at 0x117a34d30>"
      ]
     },
     "metadata": {},
     "output_type": "display_data"
    }
   ],
   "source": [
    "ts2.plot()"
   ]
  },
  {
   "cell_type": "markdown",
   "metadata": {},
   "source": [
    "This doesn't seem to be very impressive. The next example, however, illustrates the power of Pandas **plot** method. Suppose we want to draw a bar chart that shows the number of championships for the teams in our small data set. We have already defined a series that contains the relevant data, **first**:"
   ]
  },
  {
   "cell_type": "code",
   "execution_count": 42,
   "metadata": {
    "collapsed": false
   },
   "outputs": [
    {
     "name": "stdout",
     "output_type": "stream",
     "text": [
      "FC Bayern            7\n",
      "Borussia Dortmund    2\n",
      "VfB Stuttgart        1\n",
      "VfL Wolfsburg        1\n",
      "dtype: int64\n"
     ]
    }
   ],
   "source": [
    "print(first)"
   ]
  },
  {
   "cell_type": "markdown",
   "metadata": {},
   "source": [
    "Intuitively, you may want to try the following piece of code to create our bar chart:"
   ]
  },
  {
   "cell_type": "code",
   "execution_count": 44,
   "metadata": {
    "collapsed": false
   },
   "outputs": [],
   "source": [
    "## throws an error!\n",
    "# fig, ax = plt.subplots()\n",
    "# ax.bar(first.index, first)"
   ]
  },
  {
   "cell_type": "markdown",
   "metadata": {},
   "source": [
    "This wouldn't work though, as the matplotlib's **bar** method does not accept strings. A work-around here would be to create a series like **first**, but replacing the names of the teams with integer indices:"
   ]
  },
  {
   "cell_type": "code",
   "execution_count": 45,
   "metadata": {
    "collapsed": false
   },
   "outputs": [
    {
     "name": "stdout",
     "output_type": "stream",
     "text": [
      "1    7\n",
      "3    2\n",
      "2    1\n",
      "0    1\n",
      "dtype: int64\n"
     ]
    }
   ],
   "source": [
    "names = ['VfB Stuttgart', 'FC Bayern', 'VfL Wolfsburg', 'Borussia Dortmund']\n",
    "ts_num = ts.replace(names, range(0,len(names)))\n",
    "count = ts_num.value_counts()\n",
    "print(count)"
   ]
  },
  {
   "cell_type": "markdown",
   "metadata": {},
   "source": [
    "Note that **count** contains the same information as **first**. We can then use the **bar** method; and since we have kept track of which integer refers to which team, we can use the **set_xticklabels** method to disply which bar corresponds to which team:"
   ]
  },
  {
   "cell_type": "code",
   "execution_count": 46,
   "metadata": {
    "collapsed": false
   },
   "outputs": [
    {
     "data": {
      "text/plain": [
       "<matplotlib.text.Text at 0x11b6bb9b0>"
      ]
     },
     "execution_count": 46,
     "metadata": {},
     "output_type": "execute_result"
    },
    {
     "data": {
      "image/png": "[encoded data removed]",
      "text/plain": [
       "<matplotlib.figure.Figure at 0x11b6776d8>"
      ]
     },
     "metadata": {},
     "output_type": "display_data"
    }
   ],
   "source": [
    "fig, ax = plt.subplots()\n",
    "ax.bar(count.index, count)\n",
    "ax.set_xticks(range(len(names)))\n",
    "ax.set_xticklabels(names)\n",
    "ax.set_title('Number of Bundesliga Championships Since 2007')"
   ]
  },
  {
   "cell_type": "markdown",
   "metadata": {},
   "source": [
    "Now here's the awesome thing about Pandas **plot** method: we can do all these steps in one single line, without having to define any additional series:"
   ]
  },
  {
   "cell_type": "code",
   "execution_count": 47,
   "metadata": {
    "collapsed": false
   },
   "outputs": [
    {
     "data": {
      "text/plain": [
       "<matplotlib.axes._subplots.AxesSubplot at 0x11b6fcd30>"
      ]
     },
     "execution_count": 47,
     "metadata": {},
     "output_type": "execute_result"
    },
    {
     "data": {
      "image/png": "[encoded data removed]",
      "text/plain": [
       "<matplotlib.figure.Figure at 0x11b5ab908>"
      ]
     },
     "metadata": {},
     "output_type": "display_data"
    }
   ],
   "source": [
    "first.plot(kind = 'bar', title = 'Number of Bundesliga Championships Since 2007')"
   ]
  },
  {
   "cell_type": "markdown",
   "metadata": {},
   "source": [
    "The layout is slightly different of course, but there are many optional argument for Pandas' **plot** method to tinker around with the looks. Also, note that no matter the type of the graph, we always use the **plot** method, and then indicate what type of graph we want with the **kind** argument. We will see more examples on how to use Pandas' plot method in the context of dataframes below. "
   ]
  },
  {
   "cell_type": "markdown",
   "metadata": {},
   "source": [
    "### Reading data from a file\n",
    "\n",
    "So far, we have created Pandas series by first defining a dictionary or list and then using the **Series** function. Typically, in particular with large data sets, you would load your data from a file (e.g. csv, txt, xls) directly into a Pandas series. With a csv file, we can do this with the **read_csv** function. Note that this creates a Pandas *DataFrame* rather than a series - the difference will be clear shortly. For now, just take the code below to define a  series **ts** that containes all the Bundesliga champions from the 1963/64 season onwards. We will use this series for the first question in the problem set. "
   ]
  },
  {
   "cell_type": "code",
   "execution_count": 48,
   "metadata": {
    "collapsed": false
   },
   "outputs": [],
   "source": [
    "Df = pd.read_csv('data/champions.csv')\n",
    "ts = Df['Club'] ## from DataFrame to Series"
   ]
  },
  {
   "cell_type": "code",
   "execution_count": 50,
   "metadata": {
    "collapsed": false
   },
   "outputs": [
    {
     "name": "stdout",
     "output_type": "stream",
     "text": [
      "<class 'pandas.core.series.Series'>\n",
      "1964                1. FC Köln\n",
      "1965             Werder Bremen\n",
      "1966          TSV 1860 München\n",
      "1967    Eintracht Braunschweig\n",
      "1968            1. FC Nürnberg\n",
      "Name: Club, dtype: object\n",
      "2013    FC Bayern München\n",
      "2014    FC Bayern München\n",
      "2015    FC Bayern München\n",
      "2016    FC Bayern München\n",
      "2017    FC Bayern München\n",
      "Name: Club, dtype: object\n"
     ]
    }
   ],
   "source": [
    "print(type(ts))\n",
    "print( ts.head() )\n",
    "print( ts.tail() )"
   ]
  },
  {
   "cell_type": "markdown",
   "metadata": {},
   "source": [
    "## Pandas DataFrames\n",
    "\n",
    "A DataFrame is the two-dimensional version of a Pandas array. All of the methods and functions we have seen for series above work also on DataFrames. Let's start by applying **read_csv** to load the data set on Bundesliga players that we have already used in the last lecture."
   ]
  },
  {
   "cell_type": "code",
   "execution_count": 52,
   "metadata": {
    "collapsed": false
   },
   "outputs": [],
   "source": [
    "df = pd.read_csv('data/BundesligaData.csv', sep = ';')"
   ]
  },
  {
   "cell_type": "markdown",
   "metadata": {},
   "source": [
    "As before, we can use the **head()** method to get a first feel for the data: "
   ]
  },
  {
   "cell_type": "code",
   "execution_count": 53,
   "metadata": {
    "collapsed": false
   },
   "outputs": [
    {
     "data": {
      "text/html": [
       "<div>\n",
       "<table border=\"1\" class=\"dataframe\">\n",
       "  <thead>\n",
       "    <tr style=\"text-align: right;\">\n",
       "      <th></th>\n",
       "      <th>name</th>\n",
       "      <th>position</th>\n",
       "      <th>value</th>\n",
       "      <th>valuemax</th>\n",
       "      <th>age</th>\n",
       "      <th>goals</th>\n",
       "      <th>assists</th>\n",
       "      <th>yellow</th>\n",
       "      <th>red</th>\n",
       "      <th>shotspergame</th>\n",
       "      <th>passsuccess</th>\n",
       "      <th>aerialswon</th>\n",
       "      <th>rating</th>\n",
       "      <th>positioncode</th>\n",
       "    </tr>\n",
       "  </thead>\n",
       "  <tbody>\n",
       "    <tr>\n",
       "      <th>0</th>\n",
       "      <td>Robert Lewandowski</td>\n",
       "      <td>striker</td>\n",
       "      <td>80.0</td>\n",
       "      <td>80.0</td>\n",
       "      <td>28</td>\n",
       "      <td>30</td>\n",
       "      <td>4</td>\n",
       "      <td>5</td>\n",
       "      <td>0</td>\n",
       "      <td>4.2</td>\n",
       "      <td>75.0</td>\n",
       "      <td>1.8</td>\n",
       "      <td>7.71</td>\n",
       "      <td>3</td>\n",
       "    </tr>\n",
       "    <tr>\n",
       "      <th>1</th>\n",
       "      <td>Pierre-Emerick Aubameyang</td>\n",
       "      <td>striker</td>\n",
       "      <td>65.0</td>\n",
       "      <td>65.0</td>\n",
       "      <td>27</td>\n",
       "      <td>29</td>\n",
       "      <td>2</td>\n",
       "      <td>3</td>\n",
       "      <td>0</td>\n",
       "      <td>3.6</td>\n",
       "      <td>70.3</td>\n",
       "      <td>1.3</td>\n",
       "      <td>7.40</td>\n",
       "      <td>3</td>\n",
       "    </tr>\n",
       "    <tr>\n",
       "      <th>2</th>\n",
       "      <td>Thomas Mueller</td>\n",
       "      <td>striker</td>\n",
       "      <td>60.0</td>\n",
       "      <td>75.0</td>\n",
       "      <td>27</td>\n",
       "      <td>5</td>\n",
       "      <td>12</td>\n",
       "      <td>0</td>\n",
       "      <td>0</td>\n",
       "      <td>2.2</td>\n",
       "      <td>76.2</td>\n",
       "      <td>1.8</td>\n",
       "      <td>7.30</td>\n",
       "      <td>3</td>\n",
       "    </tr>\n",
       "    <tr>\n",
       "      <th>3</th>\n",
       "      <td>Marco Reus</td>\n",
       "      <td>striker</td>\n",
       "      <td>40.0</td>\n",
       "      <td>50.0</td>\n",
       "      <td>27</td>\n",
       "      <td>5</td>\n",
       "      <td>4</td>\n",
       "      <td>1</td>\n",
       "      <td>1</td>\n",
       "      <td>2.3</td>\n",
       "      <td>74.6</td>\n",
       "      <td>0.4</td>\n",
       "      <td>7.03</td>\n",
       "      <td>3</td>\n",
       "    </tr>\n",
       "    <tr>\n",
       "      <th>4</th>\n",
       "      <td>Douglas Costa</td>\n",
       "      <td>striker</td>\n",
       "      <td>30.0</td>\n",
       "      <td>35.0</td>\n",
       "      <td>26</td>\n",
       "      <td>4</td>\n",
       "      <td>3</td>\n",
       "      <td>2</td>\n",
       "      <td>0</td>\n",
       "      <td>1.9</td>\n",
       "      <td>80.2</td>\n",
       "      <td>0.1</td>\n",
       "      <td>7.17</td>\n",
       "      <td>3</td>\n",
       "    </tr>\n",
       "  </tbody>\n",
       "</table>\n",
       "</div>"
      ],
      "text/plain": [
       "                        name position  value  valuemax  age  goals  assists  \\\n",
       "0         Robert Lewandowski  striker   80.0      80.0   28     30        4   \n",
       "1  Pierre-Emerick Aubameyang  striker   65.0      65.0   27     29        2   \n",
       "2             Thomas Mueller  striker   60.0      75.0   27      5       12   \n",
       "3                 Marco Reus  striker   40.0      50.0   27      5        4   \n",
       "4              Douglas Costa  striker   30.0      35.0   26      4        3   \n",
       "\n",
       "   yellow  red  shotspergame  passsuccess  aerialswon  rating  positioncode  \n",
       "0       5    0           4.2         75.0         1.8    7.71             3  \n",
       "1       3    0           3.6         70.3         1.3    7.40             3  \n",
       "2       0    0           2.2         76.2         1.8    7.30             3  \n",
       "3       1    1           2.3         74.6         0.4    7.03             3  \n",
       "4       2    0           1.9         80.2         0.1    7.17             3  "
      ]
     },
     "execution_count": 53,
     "metadata": {},
     "output_type": "execute_result"
    }
   ],
   "source": [
    "df.head()\n",
    "# print( df.head() )"
   ]
  },
  {
   "cell_type": "markdown",
   "metadata": {},
   "source": [
    "With DataFrames, there are not only row indices, but also keys for each colum, for example **name**, **position**, **value**, etc. in the Bundesliga data set. The **columns** attribute returns the column names as a list: "
   ]
  },
  {
   "cell_type": "code",
   "execution_count": 266,
   "metadata": {
    "collapsed": false
   },
   "outputs": [
    {
     "data": {
      "text/plain": [
       "Index(['name', 'position', 'value', 'valuemax', 'age', 'goals', 'assists',\n",
       "       'yellow', 'red', 'shotspergame', 'passsuccess', 'aerialswon', 'rating',\n",
       "       'positioncode'],\n",
       "      dtype='object')"
      ]
     },
     "execution_count": 266,
     "metadata": {},
     "output_type": "execute_result"
    }
   ],
   "source": [
    "df.columns"
   ]
  },
  {
   "cell_type": "markdown",
   "metadata": {},
   "source": [
    "For DataFrames, there is an additional very useful method, **info()**, for getting an overview over the data set. It lists all the column names, plus the number of elements in each column, as well as their type: "
   ]
  },
  {
   "cell_type": "code",
   "execution_count": 54,
   "metadata": {
    "collapsed": false
   },
   "outputs": [
    {
     "name": "stdout",
     "output_type": "stream",
     "text": [
      "<class 'pandas.core.frame.DataFrame'>\n",
      "RangeIndex: 288 entries, 0 to 287\n",
      "Data columns (total 14 columns):\n",
      "name            288 non-null object\n",
      "position        288 non-null object\n",
      "value           288 non-null float64\n",
      "valuemax        288 non-null float64\n",
      "age             288 non-null int64\n",
      "goals           288 non-null int64\n",
      "assists         288 non-null int64\n",
      "yellow          288 non-null int64\n",
      "red             288 non-null int64\n",
      "shotspergame    288 non-null float64\n",
      "passsuccess     288 non-null float64\n",
      "aerialswon      288 non-null float64\n",
      "rating          288 non-null float64\n",
      "positioncode    288 non-null int64\n",
      "dtypes: float64(6), int64(6), object(2)\n",
      "memory usage: 31.6+ KB\n"
     ]
    }
   ],
   "source": [
    "df.info()"
   ]
  },
  {
   "cell_type": "markdown",
   "metadata": {},
   "source": [
    "As with series, the **describe** method gives you some descriptive statistics about the data set, more precisely about each of the columns:"
   ]
  },
  {
   "cell_type": "code",
   "execution_count": 55,
   "metadata": {
    "collapsed": false
   },
   "outputs": [
    {
     "name": "stdout",
     "output_type": "stream",
     "text": [
      "            value    valuemax         age       goals     assists      yellow  \\\n",
      "count  288.000000  288.000000  288.000000  288.000000  288.000000  288.000000   \n",
      "mean     8.148438   10.734201   25.555556    2.631944    1.875000    2.958333   \n",
      "std      9.820420   11.648733    3.589139    4.034255    2.279663    2.492847   \n",
      "min      1.000000    1.000000   17.000000    0.000000    0.000000    0.000000   \n",
      "25%      2.750000    3.500000   23.000000    0.000000    0.000000    1.000000   \n",
      "50%      4.500000    6.250000   26.000000    1.000000    1.000000    2.000000   \n",
      "75%     10.000000   12.625000   28.000000    4.000000    3.000000    4.000000   \n",
      "max     80.000000   80.000000   38.000000   30.000000   18.000000   13.000000   \n",
      "\n",
      "              red  shotspergame  passsuccess  aerialswon      rating  \\\n",
      "count  288.000000    288.000000   288.000000  288.000000  288.000000   \n",
      "mean     0.135417      0.987153    75.010417    1.556250    6.816250   \n",
      "std      0.381263      0.697538     8.806631    1.123876    0.337366   \n",
      "min      0.000000      0.000000    33.300000    0.000000    5.950000   \n",
      "25%      0.000000      0.500000    69.600000    0.675000    6.590000   \n",
      "50%      0.000000      0.900000    75.050000    1.300000    6.820000   \n",
      "75%      0.000000      1.400000    81.575000    2.300000    7.032500   \n",
      "max      3.000000      4.200000    91.800000    6.000000    8.280000   \n",
      "\n",
      "       positioncode  \n",
      "count    288.000000  \n",
      "mean       2.010417  \n",
      "std        0.811436  \n",
      "min        1.000000  \n",
      "25%        1.000000  \n",
      "50%        2.000000  \n",
      "75%        3.000000  \n",
      "max        3.000000  \n"
     ]
    }
   ],
   "source": [
    "print(df.describe())"
   ]
  },
  {
   "cell_type": "markdown",
   "metadata": {},
   "source": [
    "### Manipulating Columns\n",
    "\n",
    "Before learning how to access data in a DataFrame, let's first execute some steps that make the data easier to handle. First, note that the player names are given in the format *'firstname lastname'*, which is somewhat inconvenient if, for example, we'd like to sort the data alphabetically:"
   ]
  },
  {
   "cell_type": "code",
   "execution_count": 269,
   "metadata": {
    "collapsed": false
   },
   "outputs": [
    {
     "data": {
      "text/html": [
       "<div>\n",
       "<table border=\"1\" class=\"dataframe\">\n",
       "  <thead>\n",
       "    <tr style=\"text-align: right;\">\n",
       "      <th></th>\n",
       "      <th>name</th>\n",
       "      <th>position</th>\n",
       "      <th>value</th>\n",
       "      <th>valuemax</th>\n",
       "      <th>age</th>\n",
       "      <th>goals</th>\n",
       "      <th>assists</th>\n",
       "      <th>yellow</th>\n",
       "      <th>red</th>\n",
       "      <th>shotspergame</th>\n",
       "      <th>passsuccess</th>\n",
       "      <th>aerialswon</th>\n",
       "      <th>rating</th>\n",
       "      <th>positioncode</th>\n",
       "    </tr>\n",
       "  </thead>\n",
       "  <tbody>\n",
       "    <tr>\n",
       "      <th>0</th>\n",
       "      <td>Robert Lewandowski</td>\n",
       "      <td>striker</td>\n",
       "      <td>80.0</td>\n",
       "      <td>80.0</td>\n",
       "      <td>28</td>\n",
       "      <td>30</td>\n",
       "      <td>4</td>\n",
       "      <td>5</td>\n",
       "      <td>0</td>\n",
       "      <td>4.2</td>\n",
       "      <td>75.0</td>\n",
       "      <td>1.8</td>\n",
       "      <td>7.71</td>\n",
       "      <td>3</td>\n",
       "    </tr>\n",
       "    <tr>\n",
       "      <th>1</th>\n",
       "      <td>Pierre-Emerick Aubameyang</td>\n",
       "      <td>striker</td>\n",
       "      <td>65.0</td>\n",
       "      <td>65.0</td>\n",
       "      <td>27</td>\n",
       "      <td>29</td>\n",
       "      <td>2</td>\n",
       "      <td>3</td>\n",
       "      <td>0</td>\n",
       "      <td>3.6</td>\n",
       "      <td>70.3</td>\n",
       "      <td>1.3</td>\n",
       "      <td>7.40</td>\n",
       "      <td>3</td>\n",
       "    </tr>\n",
       "    <tr>\n",
       "      <th>2</th>\n",
       "      <td>Thomas Mueller</td>\n",
       "      <td>striker</td>\n",
       "      <td>60.0</td>\n",
       "      <td>75.0</td>\n",
       "      <td>27</td>\n",
       "      <td>5</td>\n",
       "      <td>12</td>\n",
       "      <td>0</td>\n",
       "      <td>0</td>\n",
       "      <td>2.2</td>\n",
       "      <td>76.2</td>\n",
       "      <td>1.8</td>\n",
       "      <td>7.30</td>\n",
       "      <td>3</td>\n",
       "    </tr>\n",
       "    <tr>\n",
       "      <th>3</th>\n",
       "      <td>Marco Reus</td>\n",
       "      <td>striker</td>\n",
       "      <td>40.0</td>\n",
       "      <td>50.0</td>\n",
       "      <td>27</td>\n",
       "      <td>5</td>\n",
       "      <td>4</td>\n",
       "      <td>1</td>\n",
       "      <td>1</td>\n",
       "      <td>2.3</td>\n",
       "      <td>74.6</td>\n",
       "      <td>0.4</td>\n",
       "      <td>7.03</td>\n",
       "      <td>3</td>\n",
       "    </tr>\n",
       "    <tr>\n",
       "      <th>4</th>\n",
       "      <td>Douglas Costa</td>\n",
       "      <td>striker</td>\n",
       "      <td>30.0</td>\n",
       "      <td>35.0</td>\n",
       "      <td>26</td>\n",
       "      <td>4</td>\n",
       "      <td>3</td>\n",
       "      <td>2</td>\n",
       "      <td>0</td>\n",
       "      <td>1.9</td>\n",
       "      <td>80.2</td>\n",
       "      <td>0.1</td>\n",
       "      <td>7.17</td>\n",
       "      <td>3</td>\n",
       "    </tr>\n",
       "  </tbody>\n",
       "</table>\n",
       "</div>"
      ],
      "text/plain": [
       "                        name position  value  valuemax  age  goals  assists  \\\n",
       "0         Robert Lewandowski  striker   80.0      80.0   28     30        4   \n",
       "1  Pierre-Emerick Aubameyang  striker   65.0      65.0   27     29        2   \n",
       "2             Thomas Mueller  striker   60.0      75.0   27      5       12   \n",
       "3                 Marco Reus  striker   40.0      50.0   27      5        4   \n",
       "4              Douglas Costa  striker   30.0      35.0   26      4        3   \n",
       "\n",
       "   yellow  red  shotspergame  passsuccess  aerialswon  rating  positioncode  \n",
       "0       5    0           4.2         75.0         1.8    7.71             3  \n",
       "1       3    0           3.6         70.3         1.3    7.40             3  \n",
       "2       0    0           2.2         76.2         1.8    7.30             3  \n",
       "3       1    1           2.3         74.6         0.4    7.03             3  \n",
       "4       2    0           1.9         80.2         0.1    7.17             3  "
      ]
     },
     "execution_count": 269,
     "metadata": {},
     "output_type": "execute_result"
    }
   ],
   "source": [
    "df.head()"
   ]
  },
  {
   "cell_type": "markdown",
   "metadata": {},
   "source": [
    "For a given string, say 'Robert Lewandowski', we can easily write afunction that returns a string with first and last name reversed, i.e. 'Lewandowski Robert'. With a **try/except** statement, we can take care of players for which only one name is given, e.g. 'Thiago'."
   ]
  },
  {
   "cell_type": "code",
   "execution_count": 56,
   "metadata": {
    "collapsed": false
   },
   "outputs": [
    {
     "name": "stdout",
     "output_type": "stream",
     "text": [
      "Lewandowski Robert\n",
      "Thiago\n"
     ]
    }
   ],
   "source": [
    "def reverse_name(name):\n",
    "    L = name.split(\" \")\n",
    "    try:\n",
    "        S = L[1] + \" \" + L[0]\n",
    "    except:\n",
    "        S = L[0]\n",
    "    \n",
    "    return S\n",
    "\n",
    "print(reverse_name('Robert Lewandowski'))\n",
    "print(reverse_name('Thiago'))"
   ]
  },
  {
   "cell_type": "markdown",
   "metadata": {},
   "source": [
    "How to apply this function on each element in the **name** column? In the previous section, we introduced the **apply** method that does precisely this, for both built-in and your own functions. We can use **apply** on a column in a data set, here to *overwrite* the existing **name** column. Individual columns in a DataFrame can be accessed using the familiar bracket operator (note the difference to a Pandas series!):"
   ]
  },
  {
   "cell_type": "code",
   "execution_count": 57,
   "metadata": {
    "collapsed": false
   },
   "outputs": [
    {
     "data": {
      "text/html": [
       "<div>\n",
       "<table border=\"1\" class=\"dataframe\">\n",
       "  <thead>\n",
       "    <tr style=\"text-align: right;\">\n",
       "      <th></th>\n",
       "      <th>name</th>\n",
       "      <th>position</th>\n",
       "      <th>value</th>\n",
       "      <th>valuemax</th>\n",
       "      <th>age</th>\n",
       "      <th>goals</th>\n",
       "      <th>assists</th>\n",
       "      <th>yellow</th>\n",
       "      <th>red</th>\n",
       "      <th>shotspergame</th>\n",
       "      <th>passsuccess</th>\n",
       "      <th>aerialswon</th>\n",
       "      <th>rating</th>\n",
       "      <th>positioncode</th>\n",
       "    </tr>\n",
       "  </thead>\n",
       "  <tbody>\n",
       "    <tr>\n",
       "      <th>0</th>\n",
       "      <td>Lewandowski Robert</td>\n",
       "      <td>striker</td>\n",
       "      <td>80.0</td>\n",
       "      <td>80.0</td>\n",
       "      <td>28</td>\n",
       "      <td>30</td>\n",
       "      <td>4</td>\n",
       "      <td>5</td>\n",
       "      <td>0</td>\n",
       "      <td>4.2</td>\n",
       "      <td>75.0</td>\n",
       "      <td>1.8</td>\n",
       "      <td>7.71</td>\n",
       "      <td>3</td>\n",
       "    </tr>\n",
       "    <tr>\n",
       "      <th>1</th>\n",
       "      <td>Aubameyang Pierre-Emerick</td>\n",
       "      <td>striker</td>\n",
       "      <td>65.0</td>\n",
       "      <td>65.0</td>\n",
       "      <td>27</td>\n",
       "      <td>29</td>\n",
       "      <td>2</td>\n",
       "      <td>3</td>\n",
       "      <td>0</td>\n",
       "      <td>3.6</td>\n",
       "      <td>70.3</td>\n",
       "      <td>1.3</td>\n",
       "      <td>7.40</td>\n",
       "      <td>3</td>\n",
       "    </tr>\n",
       "    <tr>\n",
       "      <th>2</th>\n",
       "      <td>Mueller Thomas</td>\n",
       "      <td>striker</td>\n",
       "      <td>60.0</td>\n",
       "      <td>75.0</td>\n",
       "      <td>27</td>\n",
       "      <td>5</td>\n",
       "      <td>12</td>\n",
       "      <td>0</td>\n",
       "      <td>0</td>\n",
       "      <td>2.2</td>\n",
       "      <td>76.2</td>\n",
       "      <td>1.8</td>\n",
       "      <td>7.30</td>\n",
       "      <td>3</td>\n",
       "    </tr>\n",
       "    <tr>\n",
       "      <th>3</th>\n",
       "      <td>Reus Marco</td>\n",
       "      <td>striker</td>\n",
       "      <td>40.0</td>\n",
       "      <td>50.0</td>\n",
       "      <td>27</td>\n",
       "      <td>5</td>\n",
       "      <td>4</td>\n",
       "      <td>1</td>\n",
       "      <td>1</td>\n",
       "      <td>2.3</td>\n",
       "      <td>74.6</td>\n",
       "      <td>0.4</td>\n",
       "      <td>7.03</td>\n",
       "      <td>3</td>\n",
       "    </tr>\n",
       "    <tr>\n",
       "      <th>4</th>\n",
       "      <td>Costa Douglas</td>\n",
       "      <td>striker</td>\n",
       "      <td>30.0</td>\n",
       "      <td>35.0</td>\n",
       "      <td>26</td>\n",
       "      <td>4</td>\n",
       "      <td>3</td>\n",
       "      <td>2</td>\n",
       "      <td>0</td>\n",
       "      <td>1.9</td>\n",
       "      <td>80.2</td>\n",
       "      <td>0.1</td>\n",
       "      <td>7.17</td>\n",
       "      <td>3</td>\n",
       "    </tr>\n",
       "  </tbody>\n",
       "</table>\n",
       "</div>"
      ],
      "text/plain": [
       "                        name position  value  valuemax  age  goals  assists  \\\n",
       "0         Lewandowski Robert  striker   80.0      80.0   28     30        4   \n",
       "1  Aubameyang Pierre-Emerick  striker   65.0      65.0   27     29        2   \n",
       "2             Mueller Thomas  striker   60.0      75.0   27      5       12   \n",
       "3                 Reus Marco  striker   40.0      50.0   27      5        4   \n",
       "4              Costa Douglas  striker   30.0      35.0   26      4        3   \n",
       "\n",
       "   yellow  red  shotspergame  passsuccess  aerialswon  rating  positioncode  \n",
       "0       5    0           4.2         75.0         1.8    7.71             3  \n",
       "1       3    0           3.6         70.3         1.3    7.40             3  \n",
       "2       0    0           2.2         76.2         1.8    7.30             3  \n",
       "3       1    1           2.3         74.6         0.4    7.03             3  \n",
       "4       2    0           1.9         80.2         0.1    7.17             3  "
      ]
     },
     "execution_count": 57,
     "metadata": {},
     "output_type": "execute_result"
    }
   ],
   "source": [
    "## use apply method to overwrite name column\n",
    "df['name'] = df['name'].apply(reverse_name)\n",
    "df.head()"
   ]
  },
  {
   "cell_type": "markdown",
   "metadata": {},
   "source": [
    "Note that **apply** used on individual columns of a dataframe does not change the array *in place*, i.e. we need to store the result of the operation as the new **name** column.\n",
    "\n",
    "Similarly easy as overwriting existing columns is adding new columns. As an example, suppose that instead of having one string with a player's last and first name, we'd like to have two separate columns, **name** (containing only the last name) and **first_name**. Hence, we first need to split the name strings into two strings. We could use **apply** again, in connection with the **split** method for strings. However, for series or DataFrames columns that *contain only strings*, Pandas has a direct way of manipulating strings:"
   ]
  },
  {
   "cell_type": "code",
   "execution_count": 58,
   "metadata": {
    "collapsed": false
   },
   "outputs": [
    {
     "data": {
      "text/html": [
       "<div>\n",
       "<table border=\"1\" class=\"dataframe\">\n",
       "  <thead>\n",
       "    <tr style=\"text-align: right;\">\n",
       "      <th></th>\n",
       "      <th>0</th>\n",
       "      <th>1</th>\n",
       "    </tr>\n",
       "  </thead>\n",
       "  <tbody>\n",
       "    <tr>\n",
       "      <th>0</th>\n",
       "      <td>Lewandowski</td>\n",
       "      <td>Robert</td>\n",
       "    </tr>\n",
       "    <tr>\n",
       "      <th>1</th>\n",
       "      <td>Aubameyang</td>\n",
       "      <td>Pierre-Emerick</td>\n",
       "    </tr>\n",
       "    <tr>\n",
       "      <th>2</th>\n",
       "      <td>Mueller</td>\n",
       "      <td>Thomas</td>\n",
       "    </tr>\n",
       "    <tr>\n",
       "      <th>3</th>\n",
       "      <td>Reus</td>\n",
       "      <td>Marco</td>\n",
       "    </tr>\n",
       "    <tr>\n",
       "      <th>4</th>\n",
       "      <td>Costa</td>\n",
       "      <td>Douglas</td>\n",
       "    </tr>\n",
       "  </tbody>\n",
       "</table>\n",
       "</div>"
      ],
      "text/plain": [
       "             0               1\n",
       "0  Lewandowski          Robert\n",
       "1   Aubameyang  Pierre-Emerick\n",
       "2      Mueller          Thomas\n",
       "3         Reus           Marco\n",
       "4        Costa         Douglas"
      ]
     },
     "execution_count": 58,
     "metadata": {},
     "output_type": "execute_result"
    }
   ],
   "source": [
    "names = df['name'].str.split(expand=True)\n",
    "names.head()"
   ]
  },
  {
   "cell_type": "markdown",
   "metadata": {},
   "source": [
    "As we can see, applying **str.split** creates a new DataFrame. Note that the **expand = True** statement is required for having the first and last names in different columns. We can use the first and second column of the **names** DataFrames to overwrite the **name** column in our Bundesliga DataFrame, and to add a new **first_name** column, respectively. "
   ]
  },
  {
   "cell_type": "code",
   "execution_count": 59,
   "metadata": {
    "collapsed": false
   },
   "outputs": [
    {
     "data": {
      "text/html": [
       "<div>\n",
       "<table border=\"1\" class=\"dataframe\">\n",
       "  <thead>\n",
       "    <tr style=\"text-align: right;\">\n",
       "      <th></th>\n",
       "      <th>name</th>\n",
       "      <th>position</th>\n",
       "      <th>value</th>\n",
       "      <th>valuemax</th>\n",
       "      <th>age</th>\n",
       "      <th>goals</th>\n",
       "      <th>assists</th>\n",
       "      <th>yellow</th>\n",
       "      <th>red</th>\n",
       "      <th>shotspergame</th>\n",
       "      <th>passsuccess</th>\n",
       "      <th>aerialswon</th>\n",
       "      <th>rating</th>\n",
       "      <th>positioncode</th>\n",
       "      <th>first_name</th>\n",
       "    </tr>\n",
       "  </thead>\n",
       "  <tbody>\n",
       "    <tr>\n",
       "      <th>0</th>\n",
       "      <td>Lewandowski</td>\n",
       "      <td>striker</td>\n",
       "      <td>80.0</td>\n",
       "      <td>80.0</td>\n",
       "      <td>28</td>\n",
       "      <td>30</td>\n",
       "      <td>4</td>\n",
       "      <td>5</td>\n",
       "      <td>0</td>\n",
       "      <td>4.2</td>\n",
       "      <td>75.0</td>\n",
       "      <td>1.8</td>\n",
       "      <td>7.71</td>\n",
       "      <td>3</td>\n",
       "      <td>Robert</td>\n",
       "    </tr>\n",
       "    <tr>\n",
       "      <th>1</th>\n",
       "      <td>Aubameyang</td>\n",
       "      <td>striker</td>\n",
       "      <td>65.0</td>\n",
       "      <td>65.0</td>\n",
       "      <td>27</td>\n",
       "      <td>29</td>\n",
       "      <td>2</td>\n",
       "      <td>3</td>\n",
       "      <td>0</td>\n",
       "      <td>3.6</td>\n",
       "      <td>70.3</td>\n",
       "      <td>1.3</td>\n",
       "      <td>7.40</td>\n",
       "      <td>3</td>\n",
       "      <td>Pierre-Emerick</td>\n",
       "    </tr>\n",
       "    <tr>\n",
       "      <th>2</th>\n",
       "      <td>Mueller</td>\n",
       "      <td>striker</td>\n",
       "      <td>60.0</td>\n",
       "      <td>75.0</td>\n",
       "      <td>27</td>\n",
       "      <td>5</td>\n",
       "      <td>12</td>\n",
       "      <td>0</td>\n",
       "      <td>0</td>\n",
       "      <td>2.2</td>\n",
       "      <td>76.2</td>\n",
       "      <td>1.8</td>\n",
       "      <td>7.30</td>\n",
       "      <td>3</td>\n",
       "      <td>Thomas</td>\n",
       "    </tr>\n",
       "    <tr>\n",
       "      <th>3</th>\n",
       "      <td>Reus</td>\n",
       "      <td>striker</td>\n",
       "      <td>40.0</td>\n",
       "      <td>50.0</td>\n",
       "      <td>27</td>\n",
       "      <td>5</td>\n",
       "      <td>4</td>\n",
       "      <td>1</td>\n",
       "      <td>1</td>\n",
       "      <td>2.3</td>\n",
       "      <td>74.6</td>\n",
       "      <td>0.4</td>\n",
       "      <td>7.03</td>\n",
       "      <td>3</td>\n",
       "      <td>Marco</td>\n",
       "    </tr>\n",
       "    <tr>\n",
       "      <th>4</th>\n",
       "      <td>Costa</td>\n",
       "      <td>striker</td>\n",
       "      <td>30.0</td>\n",
       "      <td>35.0</td>\n",
       "      <td>26</td>\n",
       "      <td>4</td>\n",
       "      <td>3</td>\n",
       "      <td>2</td>\n",
       "      <td>0</td>\n",
       "      <td>1.9</td>\n",
       "      <td>80.2</td>\n",
       "      <td>0.1</td>\n",
       "      <td>7.17</td>\n",
       "      <td>3</td>\n",
       "      <td>Douglas</td>\n",
       "    </tr>\n",
       "  </tbody>\n",
       "</table>\n",
       "</div>"
      ],
      "text/plain": [
       "          name position  value  valuemax  age  goals  assists  yellow  red  \\\n",
       "0  Lewandowski  striker   80.0      80.0   28     30        4       5    0   \n",
       "1   Aubameyang  striker   65.0      65.0   27     29        2       3    0   \n",
       "2      Mueller  striker   60.0      75.0   27      5       12       0    0   \n",
       "3         Reus  striker   40.0      50.0   27      5        4       1    1   \n",
       "4        Costa  striker   30.0      35.0   26      4        3       2    0   \n",
       "\n",
       "   shotspergame  passsuccess  aerialswon  rating  positioncode      first_name  \n",
       "0           4.2         75.0         1.8    7.71             3          Robert  \n",
       "1           3.6         70.3         1.3    7.40             3  Pierre-Emerick  \n",
       "2           2.2         76.2         1.8    7.30             3          Thomas  \n",
       "3           2.3         74.6         0.4    7.03             3           Marco  \n",
       "4           1.9         80.2         0.1    7.17             3         Douglas  "
      ]
     },
     "execution_count": 59,
     "metadata": {},
     "output_type": "execute_result"
    }
   ],
   "source": [
    "## replace column 'name'\n",
    "df['name'] = names[0]\n",
    "## add column 'first name'\n",
    "df['first_name'] = names[1]\n",
    "\n",
    "df.head()"
   ]
  },
  {
   "cell_type": "markdown",
   "metadata": {},
   "source": [
    "As a side note, for players with only one name, this approach would leave the **first_name** field empty, which is indicated by a \"None\" when printing the data:"
   ]
  },
  {
   "cell_type": "code",
   "execution_count": 60,
   "metadata": {
    "collapsed": false
   },
   "outputs": [
    {
     "data": {
      "text/plain": [
       "name                 Vidal\n",
       "position        midfielder\n",
       "value                   37\n",
       "valuemax                45\n",
       "age                     29\n",
       "goals                    3\n",
       "assists                  2\n",
       "yellow                   7\n",
       "red                      0\n",
       "shotspergame           1.4\n",
       "passsuccess           87.9\n",
       "aerialswon             2.1\n",
       "rating                7.22\n",
       "positioncode             2\n",
       "first_name          Arturo\n",
       "Name: 97, dtype: object"
      ]
     },
     "execution_count": 60,
     "metadata": {},
     "output_type": "execute_result"
    }
   ],
   "source": [
    "df.loc[97]  ## Thiago is at index 97 in the data set"
   ]
  },
  {
   "cell_type": "markdown",
   "metadata": {},
   "source": [
    "### Setting new indices\n",
    "\n",
    "Note that the row indices in our Bundesliga dataframe were automatically created from 0 to 290. That can be useful for some applications, but here, assuming we know the player names that we want to get information on, it would be more convenient to have the names as indices. This is easy to do by using the **set_index** method: the first argument refers to the column to be used as the new indices, here **'name'**. By setting the optional argument **drop** to **True**, this column is then dropped from the dataframe (which makes sense). Also, make sure to set the optional argument **inplace** to **True** for the change to become effective (this will be required for many Pandas methods):"
   ]
  },
  {
   "cell_type": "code",
   "execution_count": 61,
   "metadata": {
    "collapsed": false
   },
   "outputs": [
    {
     "data": {
      "text/html": [
       "<div>\n",
       "<table border=\"1\" class=\"dataframe\">\n",
       "  <thead>\n",
       "    <tr style=\"text-align: right;\">\n",
       "      <th></th>\n",
       "      <th>position</th>\n",
       "      <th>value</th>\n",
       "      <th>valuemax</th>\n",
       "      <th>age</th>\n",
       "      <th>goals</th>\n",
       "      <th>assists</th>\n",
       "      <th>yellow</th>\n",
       "      <th>red</th>\n",
       "      <th>shotspergame</th>\n",
       "      <th>passsuccess</th>\n",
       "      <th>aerialswon</th>\n",
       "      <th>rating</th>\n",
       "      <th>positioncode</th>\n",
       "      <th>first_name</th>\n",
       "    </tr>\n",
       "    <tr>\n",
       "      <th>name</th>\n",
       "      <th></th>\n",
       "      <th></th>\n",
       "      <th></th>\n",
       "      <th></th>\n",
       "      <th></th>\n",
       "      <th></th>\n",
       "      <th></th>\n",
       "      <th></th>\n",
       "      <th></th>\n",
       "      <th></th>\n",
       "      <th></th>\n",
       "      <th></th>\n",
       "      <th></th>\n",
       "      <th></th>\n",
       "    </tr>\n",
       "  </thead>\n",
       "  <tbody>\n",
       "    <tr>\n",
       "      <th>Lewandowski</th>\n",
       "      <td>striker</td>\n",
       "      <td>80.0</td>\n",
       "      <td>80.0</td>\n",
       "      <td>28</td>\n",
       "      <td>30</td>\n",
       "      <td>4</td>\n",
       "      <td>5</td>\n",
       "      <td>0</td>\n",
       "      <td>4.2</td>\n",
       "      <td>75.0</td>\n",
       "      <td>1.8</td>\n",
       "      <td>7.71</td>\n",
       "      <td>3</td>\n",
       "      <td>Robert</td>\n",
       "    </tr>\n",
       "    <tr>\n",
       "      <th>Aubameyang</th>\n",
       "      <td>striker</td>\n",
       "      <td>65.0</td>\n",
       "      <td>65.0</td>\n",
       "      <td>27</td>\n",
       "      <td>29</td>\n",
       "      <td>2</td>\n",
       "      <td>3</td>\n",
       "      <td>0</td>\n",
       "      <td>3.6</td>\n",
       "      <td>70.3</td>\n",
       "      <td>1.3</td>\n",
       "      <td>7.40</td>\n",
       "      <td>3</td>\n",
       "      <td>Pierre-Emerick</td>\n",
       "    </tr>\n",
       "    <tr>\n",
       "      <th>Mueller</th>\n",
       "      <td>striker</td>\n",
       "      <td>60.0</td>\n",
       "      <td>75.0</td>\n",
       "      <td>27</td>\n",
       "      <td>5</td>\n",
       "      <td>12</td>\n",
       "      <td>0</td>\n",
       "      <td>0</td>\n",
       "      <td>2.2</td>\n",
       "      <td>76.2</td>\n",
       "      <td>1.8</td>\n",
       "      <td>7.30</td>\n",
       "      <td>3</td>\n",
       "      <td>Thomas</td>\n",
       "    </tr>\n",
       "    <tr>\n",
       "      <th>Reus</th>\n",
       "      <td>striker</td>\n",
       "      <td>40.0</td>\n",
       "      <td>50.0</td>\n",
       "      <td>27</td>\n",
       "      <td>5</td>\n",
       "      <td>4</td>\n",
       "      <td>1</td>\n",
       "      <td>1</td>\n",
       "      <td>2.3</td>\n",
       "      <td>74.6</td>\n",
       "      <td>0.4</td>\n",
       "      <td>7.03</td>\n",
       "      <td>3</td>\n",
       "      <td>Marco</td>\n",
       "    </tr>\n",
       "    <tr>\n",
       "      <th>Costa</th>\n",
       "      <td>striker</td>\n",
       "      <td>30.0</td>\n",
       "      <td>35.0</td>\n",
       "      <td>26</td>\n",
       "      <td>4</td>\n",
       "      <td>3</td>\n",
       "      <td>2</td>\n",
       "      <td>0</td>\n",
       "      <td>1.9</td>\n",
       "      <td>80.2</td>\n",
       "      <td>0.1</td>\n",
       "      <td>7.17</td>\n",
       "      <td>3</td>\n",
       "      <td>Douglas</td>\n",
       "    </tr>\n",
       "  </tbody>\n",
       "</table>\n",
       "</div>"
      ],
      "text/plain": [
       "            position  value  valuemax  age  goals  assists  yellow  red  \\\n",
       "name                                                                      \n",
       "Lewandowski  striker   80.0      80.0   28     30        4       5    0   \n",
       "Aubameyang   striker   65.0      65.0   27     29        2       3    0   \n",
       "Mueller      striker   60.0      75.0   27      5       12       0    0   \n",
       "Reus         striker   40.0      50.0   27      5        4       1    1   \n",
       "Costa        striker   30.0      35.0   26      4        3       2    0   \n",
       "\n",
       "             shotspergame  passsuccess  aerialswon  rating  positioncode  \\\n",
       "name                                                                       \n",
       "Lewandowski           4.2         75.0         1.8    7.71             3   \n",
       "Aubameyang            3.6         70.3         1.3    7.40             3   \n",
       "Mueller               2.2         76.2         1.8    7.30             3   \n",
       "Reus                  2.3         74.6         0.4    7.03             3   \n",
       "Costa                 1.9         80.2         0.1    7.17             3   \n",
       "\n",
       "                 first_name  \n",
       "name                         \n",
       "Lewandowski          Robert  \n",
       "Aubameyang   Pierre-Emerick  \n",
       "Mueller              Thomas  \n",
       "Reus                  Marco  \n",
       "Costa               Douglas  "
      ]
     },
     "execution_count": 61,
     "metadata": {},
     "output_type": "execute_result"
    }
   ],
   "source": [
    "# df.index = df['name']\n",
    "df.set_index('name', drop = True, inplace = True)\n",
    "## check if change was successful\n",
    "df.head()"
   ]
  },
  {
   "cell_type": "markdown",
   "metadata": {},
   "source": [
    "### Accessing elements in dataframes\n",
    "\n",
    "In the previous sections, we have already seen that using the bracket operator with a dataframe accesses a column (rather than a row as with a Pandas series). If you provide an argument that does not refer to a column in the dataframe, you get an error:"
   ]
  },
  {
   "cell_type": "code",
   "execution_count": 62,
   "metadata": {
    "collapsed": false
   },
   "outputs": [
    {
     "name": "stdout",
     "output_type": "stream",
     "text": [
      "name\n",
      "Lewandowski    80.00\n",
      "Aubameyang     65.00\n",
      "Mueller        60.00\n",
      "Reus           40.00\n",
      "Costa          30.00\n",
      "Dembele        28.00\n",
      "Schuerrle      23.00\n",
      "Chicharito     22.00\n",
      "Embolo         20.00\n",
      "Coman          20.00\n",
      "Modeste        17.00\n",
      "Volland        17.00\n",
      "Werner         16.00\n",
      "Forsberg       15.00\n",
      "Stindl         13.00\n",
      "Bailey         12.50\n",
      "Konoplyanka    12.00\n",
      "Pulisic        12.00\n",
      "Robben         10.00\n",
      "Sabitzer       10.00\n",
      "Ntep           10.00\n",
      "Kostic         10.00\n",
      "Burke          10.00\n",
      "Kramaric        9.00\n",
      "Kruse           8.00\n",
      "Krkic           8.00\n",
      "Maxim           8.00\n",
      "Gomez           7.50\n",
      "Raffael         7.00\n",
      "Philipp         7.00\n",
      "               ...  \n",
      "Toljan          3.50\n",
      "Schaer          3.50\n",
      "Kempf           3.50\n",
      "Langkamp        3.00\n",
      "Maroh           3.00\n",
      "Wollscheid      3.00\n",
      "Oczipka         3.00\n",
      "Badstuber       3.00\n",
      "Caldirola       3.00\n",
      "Sakai           3.00\n",
      "Tisserand       3.00\n",
      "Klostermann     3.00\n",
      "Passlack        3.00\n",
      "Guenter         2.75\n",
      "Russ            2.50\n",
      "Aogo            2.50\n",
      "Naldo           2.50\n",
      "Mavraj          2.50\n",
      "Trsch           2.50\n",
      "Brosinski       2.50\n",
      "Chandler        2.50\n",
      "Pekark          2.50\n",
      "Ostrzolek       2.50\n",
      "Bauer           2.50\n",
      "Hadergjonaj     2.50\n",
      "Bicakcic        2.25\n",
      "Gebre           2.25\n",
      "Garcia          2.25\n",
      "Olkowski        2.25\n",
      "Bussmann        2.25\n",
      "Name: value, dtype: float64\n"
     ]
    }
   ],
   "source": [
    "## print name column\n",
    "print( df['value'] )"
   ]
  },
  {
   "cell_type": "code",
   "execution_count": 63,
   "metadata": {
    "collapsed": false
   },
   "outputs": [],
   "source": [
    "## the following returns an error, since we have dropped the 'name' column above!!!\n",
    "# print( df['name'] )"
   ]
  },
  {
   "cell_type": "markdown",
   "metadata": {},
   "source": [
    "#### loc and iloc\n",
    "\n",
    "The **loc** and **iloc** methods that we have seen for series also work with dataframes. As with a series, **loc** uses row indices and now also column keys. **iloc** uses the actual position of the row(s) and the column(s) that you'd like to access. \n",
    "\n",
    "As an example, suppose we want to print the **'value'** (the column key) of the first player in the dataframe, which we know refers to **'Lewandowski'** (the row index). The following two statements are then equivalent:"
   ]
  },
  {
   "cell_type": "code",
   "execution_count": 64,
   "metadata": {
    "collapsed": false
   },
   "outputs": [
    {
     "name": "stdout",
     "output_type": "stream",
     "text": [
      "80.0\n",
      "80.0\n"
     ]
    }
   ],
   "source": [
    "## access an element in the dataframe using loc\n",
    "print( df.loc['Lewandowski', 'value'] )\n",
    "## access an element in the dataframe using iloc\n",
    "print( df.iloc[0, 1] )"
   ]
  },
  {
   "cell_type": "markdown",
   "metadata": {},
   "source": [
    "For **iloc** to work here, of course we need to know the row and column position of the element we're interested in, here **0, 1**. \n",
    "\n",
    "While this works fine, note that you can also use the bracket operator together with **loc** or **iloc**. As before the argument given to the bracket operator will refer to the column key; the argument given to **loc** or **iloc** then refers to the row index or row position, respectively. Hence, the example above can also be implemented like this:"
   ]
  },
  {
   "cell_type": "code",
   "execution_count": 65,
   "metadata": {
    "collapsed": false
   },
   "outputs": [
    {
     "name": "stdout",
     "output_type": "stream",
     "text": [
      "80.0\n",
      "80.0\n"
     ]
    }
   ],
   "source": [
    "## access an element in the dataframe using the bracket operator and loc\n",
    "print( df['value'].loc['Lewandowski'] )\n",
    "## access an element in the dataframe using the bracket operator and iloc\n",
    "print( df['value'].iloc[0] )"
   ]
  },
  {
   "cell_type": "markdown",
   "metadata": {},
   "source": [
    "As an aside, what will not work is giving the column key to both the bracket operator and **loc** or **iloc**:"
   ]
  },
  {
   "cell_type": "code",
   "execution_count": 66,
   "metadata": {
    "collapsed": false
   },
   "outputs": [],
   "source": [
    "## the following would have too many indices, and hence return errors\n",
    "# print( df['value'].loc['Lewandowski', 'value'] )\n",
    "# print( df['value'].iloc[0, 1] )"
   ]
  },
  {
   "cell_type": "markdown",
   "metadata": {},
   "source": [
    "When using **loc** or **iloc** with only one argument, it returns the whole row referring to this index or position (assuming that it exists):"
   ]
  },
  {
   "cell_type": "code",
   "execution_count": 67,
   "metadata": {
    "collapsed": false
   },
   "outputs": [
    {
     "name": "stdout",
     "output_type": "stream",
     "text": [
      "position        striker\n",
      "value                80\n",
      "valuemax             80\n",
      "age                  28\n",
      "goals                30\n",
      "assists               4\n",
      "yellow                5\n",
      "red                   0\n",
      "shotspergame        4.2\n",
      "passsuccess          75\n",
      "aerialswon          1.8\n",
      "rating             7.71\n",
      "positioncode          3\n",
      "first_name       Robert\n",
      "Name: Lewandowski, dtype: object\n"
     ]
    }
   ],
   "source": [
    "print( df.loc['Lewandowski'] )"
   ]
  },
  {
   "cell_type": "markdown",
   "metadata": {},
   "source": [
    "#### Accessing Multiple Elements\n",
    "\n",
    "As with Pandas series, the **loc** and **iloc** methods allow you to access multiple elements, with the usual slicing notation: "
   ]
  },
  {
   "cell_type": "code",
   "execution_count": 68,
   "metadata": {
    "collapsed": false
   },
   "outputs": [
    {
     "name": "stdout",
     "output_type": "stream",
     "text": [
      "name\n",
      "Lewandowski    80.0\n",
      "Aubameyang     65.0\n",
      "Mueller        60.0\n",
      "Reus           40.0\n",
      "Costa          30.0\n",
      "Dembele        28.0\n",
      "Schuerrle      23.0\n",
      "Chicharito     22.0\n",
      "Embolo         20.0\n",
      "Coman          20.0\n",
      "Name: value, dtype: float64\n"
     ]
    }
   ],
   "source": [
    "## print the values for the first 10 players\n",
    "print( df['value'].iloc[:10] )"
   ]
  },
  {
   "cell_type": "code",
   "execution_count": 69,
   "metadata": {
    "collapsed": false
   },
   "outputs": [
    {
     "name": "stdout",
     "output_type": "stream",
     "text": [
      "name\n",
      "Lewandowski            Robert\n",
      "Aubameyang     Pierre-Emerick\n",
      "Mueller                Thomas\n",
      "Reus                    Marco\n",
      "Costa                 Douglas\n",
      "Name: first_name, dtype: object\n"
     ]
    }
   ],
   "source": [
    "## print the first names for Lewandowski to Costa\n",
    "print( df['first_name'].loc['Lewandowski' : 'Costa'] )"
   ]
  },
  {
   "cell_type": "code",
   "execution_count": 70,
   "metadata": {
    "collapsed": false
   },
   "outputs": [
    {
     "name": "stdout",
     "output_type": "stream",
     "text": [
      "             age  goals  assists\n",
      "name                            \n",
      "Lewandowski   28     30        4\n",
      "Aubameyang    27     29        2\n",
      "Mueller       27      5       12\n",
      "Reus          27      5        4\n",
      "Costa         26      4        3\n"
     ]
    }
   ],
   "source": [
    "## print the age, goals and assists for Lewandowski to Costa\n",
    "print( df.loc['Lewandowski' : 'Costa', 'age' : 'assists'] )"
   ]
  },
  {
   "cell_type": "markdown",
   "metadata": {},
   "source": [
    "Note from the last two examples that slicing (that we have seen so far only with integers) works also for row indices and column keys using **loc**. However, what might be a bit confusing here: when slicing with **loc**, the last element given in your slice (**Costa** in the example above) is *included* in what is returned. Recall from lists, Numpy arrays etc. that slicing usually returns the elements *excluding the last one given*. In fact this is also true when using **iloc**:"
   ]
  },
  {
   "cell_type": "code",
   "execution_count": 71,
   "metadata": {
    "collapsed": false
   },
   "outputs": [
    {
     "name": "stdout",
     "output_type": "stream",
     "text": [
      "             age  goals  assists\n",
      "name                            \n",
      "Lewandowski   28     30        4\n",
      "Aubameyang    27     29        2\n",
      "Mueller       27      5       12\n",
      "Reus          27      5        4\n",
      "Costa         26      4        3\n"
     ]
    }
   ],
   "source": [
    "print( df.iloc[0:5, 3:6] )"
   ]
  },
  {
   "cell_type": "markdown",
   "metadata": {},
   "source": [
    "As second thing to keep in mind for slicing: when slicing over column keys, you need to give the keys to as an argument to **loc**; the bracket operator will not work:"
   ]
  },
  {
   "cell_type": "code",
   "execution_count": 72,
   "metadata": {
    "collapsed": false
   },
   "outputs": [],
   "source": [
    "## the following will throw an error, as slicing in the bracket operator does not work\n",
    "# print( df['age' : 'assists'].loc['Lewandowski' : 'Costa'] )"
   ]
  },
  {
   "cell_type": "markdown",
   "metadata": {},
   "source": [
    "When accessing multiple elements, they don't have to be adjacent: you can use arrays containing the indices or keys of the elements:"
   ]
  },
  {
   "cell_type": "code",
   "execution_count": 73,
   "metadata": {
    "collapsed": false
   },
   "outputs": [
    {
     "name": "stdout",
     "output_type": "stream",
     "text": [
      "             age  assists\n",
      "name                     \n",
      "Lewandowski   28        4\n",
      "Costa         26        3\n"
     ]
    }
   ],
   "source": [
    "print( df.loc[('Lewandowski', 'Costa'), ('age','assists')] )"
   ]
  },
  {
   "cell_type": "code",
   "execution_count": 74,
   "metadata": {
    "collapsed": false
   },
   "outputs": [
    {
     "name": "stdout",
     "output_type": "stream",
     "text": [
      "          age first_name\n",
      "name                    \n",
      "Reus       27      Marco\n",
      "Thiago     26       None\n",
      "Forsberg   25       Emil\n",
      "Rudy       27  Sebastian\n"
     ]
    }
   ],
   "source": [
    "players = ['Reus', 'Thiago', 'Forsberg', 'Rudy']\n",
    "print( df.loc[players, ('age','first_name')] )"
   ]
  },
  {
   "cell_type": "markdown",
   "metadata": {},
   "source": [
    "#### Logical Arrays\n",
    "\n",
    "As with Numpy arrays, we can use logical arrays (containing only **True** and **False**) to access elements in a dataframe. For example, suppose we are interested in number of goals scored by defenders only (indicated by a '1' for **'positioncode'** in the data set). The following returns a Pandas series assigning **True** or **False** to each index:"
   ]
  },
  {
   "cell_type": "code",
   "execution_count": 75,
   "metadata": {
    "collapsed": false
   },
   "outputs": [
    {
     "data": {
      "text/plain": [
       "name\n",
       "Lewandowski    False\n",
       "Aubameyang     False\n",
       "Mueller        False\n",
       "Reus           False\n",
       "Costa          False\n",
       "Dembele        False\n",
       "Schuerrle      False\n",
       "Chicharito     False\n",
       "Embolo         False\n",
       "Coman          False\n",
       "Modeste        False\n",
       "Volland        False\n",
       "Werner         False\n",
       "Forsberg       False\n",
       "Stindl         False\n",
       "Bailey         False\n",
       "Konoplyanka    False\n",
       "Pulisic        False\n",
       "Robben         False\n",
       "Sabitzer       False\n",
       "Ntep           False\n",
       "Kostic         False\n",
       "Burke          False\n",
       "Kramaric       False\n",
       "Kruse          False\n",
       "Krkic          False\n",
       "Maxim          False\n",
       "Gomez          False\n",
       "Raffael        False\n",
       "Philipp        False\n",
       "               ...  \n",
       "Toljan          True\n",
       "Schaer          True\n",
       "Kempf           True\n",
       "Langkamp        True\n",
       "Maroh           True\n",
       "Wollscheid      True\n",
       "Oczipka         True\n",
       "Badstuber       True\n",
       "Caldirola       True\n",
       "Sakai           True\n",
       "Tisserand       True\n",
       "Klostermann     True\n",
       "Passlack        True\n",
       "Guenter         True\n",
       "Russ            True\n",
       "Aogo            True\n",
       "Naldo           True\n",
       "Mavraj          True\n",
       "Trsch           True\n",
       "Brosinski       True\n",
       "Chandler        True\n",
       "Pekark          True\n",
       "Ostrzolek       True\n",
       "Bauer           True\n",
       "Hadergjonaj     True\n",
       "Bicakcic        True\n",
       "Gebre           True\n",
       "Garcia          True\n",
       "Olkowski        True\n",
       "Bussmann        True\n",
       "Name: positioncode, dtype: bool"
      ]
     },
     "execution_count": 75,
     "metadata": {},
     "output_type": "execute_result"
    }
   ],
   "source": [
    "df['positioncode'] == 1"
   ]
  },
  {
   "cell_type": "markdown",
   "metadata": {},
   "source": [
    "We can use such an array directly as an argument in the **loc** method:"
   ]
  },
  {
   "cell_type": "code",
   "execution_count": 76,
   "metadata": {
    "collapsed": false
   },
   "outputs": [
    {
     "name": "stdout",
     "output_type": "stream",
     "text": [
      "name\n",
      "Boateng        0\n",
      "Alaba          4\n",
      "Hummels        1\n",
      "Sokratis       2\n",
      "Martinez       1\n",
      "Tah            1\n",
      "Sle            2\n",
      "Hoewedes       1\n",
      "Toprak         1\n",
      "Hector         0\n",
      "Guerreiro      6\n",
      "Rodriguez      2\n",
      "Bernat         2\n",
      "Christensen    2\n",
      "Dragovic       0\n",
      "Ginter         0\n",
      "Nastasic       0\n",
      "Wendell        2\n",
      "Gerhardt       0\n",
      "Lahm           1\n",
      "Bruma          1\n",
      "Vestergaard    4\n",
      "Anthony        2\n",
      "Henrichs       0\n",
      "Schmelzer      0\n",
      "Kolasinac      3\n",
      "Weiser         1\n",
      "Hinteregger    3\n",
      "Bartra         0\n",
      "Stark          1\n",
      "              ..\n",
      "Toljan         1\n",
      "Schaer         0\n",
      "Kempf          0\n",
      "Langkamp       0\n",
      "Maroh          0\n",
      "Wollscheid     0\n",
      "Oczipka        1\n",
      "Badstuber      0\n",
      "Caldirola      0\n",
      "Sakai          1\n",
      "Tisserand      0\n",
      "Klostermann    0\n",
      "Passlack       0\n",
      "Guenter        0\n",
      "Russ           0\n",
      "Aogo           0\n",
      "Naldo          1\n",
      "Mavraj         0\n",
      "Trsch          0\n",
      "Brosinski      1\n",
      "Chandler       0\n",
      "Pekark         1\n",
      "Ostrzolek      1\n",
      "Bauer          1\n",
      "Hadergjonaj    1\n",
      "Bicakcic       1\n",
      "Gebre          5\n",
      "Garcia         1\n",
      "Olkowski       0\n",
      "Bussmann       0\n",
      "Name: goals, dtype: int64\n"
     ]
    }
   ],
   "source": [
    "print( df['goals'].loc[ df['positioncode'] == 1 ] )"
   ]
  },
  {
   "cell_type": "markdown",
   "metadata": {
    "collapsed": false
   },
   "source": [
    "If we are also interested in assists, we need to specify the column names inside **loc**, as before:"
   ]
  },
  {
   "cell_type": "code",
   "execution_count": 77,
   "metadata": {
    "collapsed": false
   },
   "outputs": [
    {
     "data": {
      "text/html": [
       "<div>\n",
       "<table border=\"1\" class=\"dataframe\">\n",
       "  <thead>\n",
       "    <tr style=\"text-align: right;\">\n",
       "      <th></th>\n",
       "      <th>goals</th>\n",
       "      <th>assists</th>\n",
       "    </tr>\n",
       "    <tr>\n",
       "      <th>name</th>\n",
       "      <th></th>\n",
       "      <th></th>\n",
       "    </tr>\n",
       "  </thead>\n",
       "  <tbody>\n",
       "    <tr>\n",
       "      <th>Boateng</th>\n",
       "      <td>0</td>\n",
       "      <td>1</td>\n",
       "    </tr>\n",
       "    <tr>\n",
       "      <th>Alaba</th>\n",
       "      <td>4</td>\n",
       "      <td>4</td>\n",
       "    </tr>\n",
       "    <tr>\n",
       "      <th>Hummels</th>\n",
       "      <td>1</td>\n",
       "      <td>1</td>\n",
       "    </tr>\n",
       "    <tr>\n",
       "      <th>Sokratis</th>\n",
       "      <td>2</td>\n",
       "      <td>0</td>\n",
       "    </tr>\n",
       "    <tr>\n",
       "      <th>Martinez</th>\n",
       "      <td>1</td>\n",
       "      <td>1</td>\n",
       "    </tr>\n",
       "  </tbody>\n",
       "</table>\n",
       "</div>"
      ],
      "text/plain": [
       "          goals  assists\n",
       "name                    \n",
       "Boateng       0        1\n",
       "Alaba         4        4\n",
       "Hummels       1        1\n",
       "Sokratis      2        0\n",
       "Martinez      1        1"
      ]
     },
     "execution_count": 77,
     "metadata": {},
     "output_type": "execute_result"
    }
   ],
   "source": [
    "df.loc[ df['positioncode'] == 1, ('goals', 'assists')].head()"
   ]
  },
  {
   "cell_type": "markdown",
   "metadata": {},
   "source": [
    "We will see more examples on how to use logical arrays for indexing below."
   ]
  },
  {
   "cell_type": "markdown",
   "metadata": {},
   "source": [
    "### Descriptive Statistics\n",
    "\n",
    "For numerical data, the **describe** method gives an overview over the most common descriptive statistics. In addition, the same methods that we saw when learning about Numpy arrays work for Pandas as well. Consider the **mean** method:"
   ]
  },
  {
   "cell_type": "code",
   "execution_count": 78,
   "metadata": {
    "collapsed": false
   },
   "outputs": [
    {
     "name": "stdout",
     "output_type": "stream",
     "text": [
      "value            8.148438\n",
      "valuemax        10.734201\n",
      "age             25.555556\n",
      "goals            2.631944\n",
      "assists          1.875000\n",
      "yellow           2.958333\n",
      "red              0.135417\n",
      "shotspergame     0.987153\n",
      "passsuccess     75.010417\n",
      "aerialswon       1.556250\n",
      "rating           6.816250\n",
      "positioncode     2.010417\n",
      "dtype: float64\n",
      "<class 'pandas.core.series.Series'>\n"
     ]
    }
   ],
   "source": [
    "print( df.mean() )\n",
    "print( type(df.mean()))"
   ]
  },
  {
   "cell_type": "markdown",
   "metadata": {},
   "source": [
    "Note two things: first, the **mean** method (as well as the other methods for descriptive statistics) ignores columns that contain non-numerical values (i.e. whose **dtype** is \"object\"). In the Bundesliga data set, **'position'** and **'first_name'** are ignored, since they contain strings. Second, calling **mean** without an argument returns the averages for each column, across all rows, in a Pandas series. If we want to get the average for all rows instead, we can use the **axis = 1** as an argument - 1 since we average *across all columns*. Of course, this does not make much sense in the Bundesliga example, but just for illustration:"
   ]
  },
  {
   "cell_type": "code",
   "execution_count": 79,
   "metadata": {
    "collapsed": false
   },
   "outputs": [
    {
     "name": "stdout",
     "output_type": "stream",
     "text": [
      "name\n",
      "Lewandowski    26.559167\n",
      "Aubameyang     23.050000\n",
      "Mueller        22.458333\n",
      "Reus           17.944167\n",
      "Costa          16.030833\n",
      "Dembele        14.834167\n",
      "Schuerrle      14.249167\n",
      "Chicharito     14.493333\n",
      "Embolo         12.326667\n",
      "Coman          13.350000\n",
      "Modeste        14.545000\n",
      "Volland        12.834167\n",
      "Werner         13.674167\n",
      "Forsberg       14.335833\n",
      "Stindl         14.114167\n",
      "Bailey         10.167500\n",
      "Konoplyanka    12.910000\n",
      "Pulisic        11.386667\n",
      "Robben         16.444167\n",
      "Sabitzer       11.513333\n",
      "Ntep           10.321667\n",
      "Kostic         10.941667\n",
      "Burke          10.595000\n",
      "Kramaric       13.641667\n",
      "Kruse          13.375833\n",
      "Krkic          11.832500\n",
      "Maxim          11.838333\n",
      "Gomez          15.095000\n",
      "Raffael        12.090833\n",
      "Philipp        11.323333\n",
      "                 ...    \n",
      "Toljan          9.820000\n",
      "Schaer         10.954167\n",
      "Kempf           9.966667\n",
      "Langkamp       11.505000\n",
      "Maroh          11.113333\n",
      "Wollscheid     11.438333\n",
      "Oczipka        10.827500\n",
      "Badstuber      12.899167\n",
      "Caldirola       9.483333\n",
      "Sakai          10.163333\n",
      "Tisserand      10.182500\n",
      "Klostermann     8.264167\n",
      "Passlack       10.243333\n",
      "Guenter         9.871667\n",
      "Russ           10.644167\n",
      "Aogo           11.075000\n",
      "Naldo          12.512500\n",
      "Mavraj         11.422500\n",
      "Trsch          10.428333\n",
      "Brosinski      10.307500\n",
      "Chandler       10.748333\n",
      "Pekark         10.450833\n",
      "Ostrzolek       9.334167\n",
      "Bauer           9.743333\n",
      "Hadergjonaj     8.450833\n",
      "Bicakcic       11.420000\n",
      "Gebre          11.190000\n",
      "Garcia         10.560833\n",
      "Olkowski        8.806667\n",
      "Bussmann        8.415833\n",
      "dtype: float64\n"
     ]
    }
   ],
   "source": [
    "print( df.mean(axis = 1) )"
   ]
  },
  {
   "cell_type": "markdown",
   "metadata": {},
   "source": [
    "Methods for the computing the standard deviation (**std**), variance (**var**), median (**median**), maximum (**max**), minimum (**min**), as well as for taking the sum (**sum**) and counting the elements (**count**) work accordingly:"
   ]
  },
  {
   "cell_type": "code",
   "execution_count": 80,
   "metadata": {
    "collapsed": false
   },
   "outputs": [
    {
     "name": "stdout",
     "output_type": "stream",
     "text": [
      "value            9.820420\n",
      "valuemax        11.648733\n",
      "age              3.589139\n",
      "goals            4.034255\n",
      "assists          2.279663\n",
      "yellow           2.492847\n",
      "red              0.381263\n",
      "shotspergame     0.697538\n",
      "passsuccess      8.806631\n",
      "aerialswon       1.123876\n",
      "rating           0.337366\n",
      "positioncode     0.811436\n",
      "dtype: float64\n",
      "value            4.50\n",
      "valuemax         6.25\n",
      "age             26.00\n",
      "goals            1.00\n",
      "assists          1.00\n",
      "yellow           2.00\n",
      "red              0.00\n",
      "shotspergame     0.90\n",
      "passsuccess     75.05\n",
      "aerialswon       1.30\n",
      "rating           6.82\n",
      "positioncode     2.00\n",
      "dtype: float64\n"
     ]
    }
   ],
   "source": [
    "print( df.std() )\n",
    "print( df.median() )"
   ]
  },
  {
   "cell_type": "markdown",
   "metadata": {},
   "source": [
    "Unsurprisingly, using these methods on a column or a row just returns a scalar:"
   ]
  },
  {
   "cell_type": "code",
   "execution_count": 81,
   "metadata": {
    "collapsed": false
   },
   "outputs": [
    {
     "data": {
      "text/plain": [
       "80.0"
      ]
     },
     "execution_count": 81,
     "metadata": {},
     "output_type": "execute_result"
    }
   ],
   "source": [
    "df['value'].max()"
   ]
  },
  {
   "cell_type": "markdown",
   "metadata": {},
   "source": [
    "We can combine these methods with the logical arrays introduced above to compute statistics for subgroups in the data. For example, let's see if there are differences in the rating of different age groups. Below, we first count the number of players that below 25, over 30 or in between, and then compute their average rating: "
   ]
  },
  {
   "cell_type": "code",
   "execution_count": 82,
   "metadata": {
    "collapsed": false
   },
   "outputs": [
    {
     "name": "stdout",
     "output_type": "stream",
     "text": [
      "113\n",
      "6.776371681415927\n"
     ]
    }
   ],
   "source": [
    "print(df.loc[df['age'] < 25, 'rating'].count() )\n",
    "print(df.loc[df['age'] < 25, 'rating'].mean()  ) "
   ]
  },
  {
   "cell_type": "code",
   "execution_count": 83,
   "metadata": {
    "collapsed": false
   },
   "outputs": [
    {
     "name": "stdout",
     "output_type": "stream",
     "text": [
      "23\n",
      "6.894782608695651\n"
     ]
    }
   ],
   "source": [
    "print( df.loc[df['age'] > 30, 'rating'].count() )\n",
    "print( df.loc[df['age'] > 30, 'rating'].mean() )"
   ]
  },
  {
   "cell_type": "code",
   "execution_count": 84,
   "metadata": {
    "collapsed": false
   },
   "outputs": [
    {
     "name": "stdout",
     "output_type": "stream",
     "text": [
      "152\n",
      "6.834013157894733\n"
     ]
    }
   ],
   "source": [
    "A = (df['age'] >= 25) & (df['age'] <= 30)\n",
    "print(df.loc[A, 'rating'].count() )\n",
    "print(df.loc[A, 'rating'].mean()  )"
   ]
  },
  {
   "cell_type": "markdown",
   "metadata": {},
   "source": [
    "Note that for the group between 25 and 30, we can use a **&** to link two logical expressions. Unsurprisingly, compared to the younger age groups, there are by far fewer players of age 31 and older in the data set. However, their average rating does not seem significantly different from younger players - in fact it is slightly higher. Of course, this is most likely driven by some outliers - and may look a bit different after next season!"
   ]
  },
  {
   "cell_type": "markdown",
   "metadata": {},
   "source": [
    "Another very useful method is **argmax**, which returns the row index of the element that achieves the highest value in a column: "
   ]
  },
  {
   "cell_type": "code",
   "execution_count": 85,
   "metadata": {
    "collapsed": false
   },
   "outputs": [
    {
     "name": "stdout",
     "output_type": "stream",
     "text": [
      "Lewandowski\n"
     ]
    }
   ],
   "source": [
    "print( df['goals'].argmax() )"
   ]
  },
  {
   "cell_type": "markdown",
   "metadata": {},
   "source": [
    "For some reason, **argmax** works only on individual columns or Pandas series, but not on the whole dataframe (but see below for a way to apply **argmax** on dataframes). Using **loc**, we can also use the result from an **argmax** call for accessing elements. For examples, let's see the position of the players with the most goals, most assists, best rating and highest market value, respectively:"
   ]
  },
  {
   "cell_type": "code",
   "execution_count": 86,
   "metadata": {
    "collapsed": false
   },
   "outputs": [
    {
     "name": "stdout",
     "output_type": "stream",
     "text": [
      "striker\n",
      "striker\n",
      "midfielder\n",
      "striker\n"
     ]
    }
   ],
   "source": [
    "print( df['position'].loc[df['goals'].argmax()] )\n",
    "print( df['position'].loc[df['assists'].argmax()] )\n",
    "print( df['position'].loc[df['rating'].argmax() ] )\n",
    "print( df['position'].loc[df['value'].argmax()] )"
   ]
  },
  {
   "cell_type": "markdown",
   "metadata": {},
   "source": [
    "We can also combine **argmax** with logical indexing, for example to find the best goal scorers for each position. The code below tells Python to print the index for the element that attains the highest value in the **'goals'** column, among all the elements that a **1** (or **2**, or **3**) in the column **'positioncode'**."
   ]
  },
  {
   "cell_type": "code",
   "execution_count": 87,
   "metadata": {
    "collapsed": false
   },
   "outputs": [
    {
     "name": "stdout",
     "output_type": "stream",
     "text": [
      "Guerreiro\n",
      "Gnabry\n",
      "Lewandowski\n"
     ]
    }
   ],
   "source": [
    "## most goals at their position\n",
    "print( df.loc[ df['positioncode'] == 1, 'goals' ].argmax()  )\n",
    "print( df.loc[ df['positioncode'] == 2, 'goals' ].argmax()  )\n",
    "print( df.loc[ df['positioncode'] == 3, 'goals' ].argmax()  )"
   ]
  },
  {
   "cell_type": "markdown",
   "metadata": {},
   "source": [
    "### apply vs. applymap\n",
    "\n",
    "Two method for Pandas dataframes that can be very useful are **apply** and **applymap**. For reasons that will become clear momentarily, start by creating a new dataframe **df_num** that contains all the columns from the original dataframe with only numerical data: "
   ]
  },
  {
   "cell_type": "code",
   "execution_count": 88,
   "metadata": {
    "collapsed": false
   },
   "outputs": [
    {
     "data": {
      "text/html": [
       "<div>\n",
       "<table border=\"1\" class=\"dataframe\">\n",
       "  <thead>\n",
       "    <tr style=\"text-align: right;\">\n",
       "      <th></th>\n",
       "      <th>value</th>\n",
       "      <th>valuemax</th>\n",
       "      <th>age</th>\n",
       "      <th>goals</th>\n",
       "      <th>assists</th>\n",
       "      <th>yellow</th>\n",
       "      <th>red</th>\n",
       "      <th>shotspergame</th>\n",
       "      <th>passsuccess</th>\n",
       "      <th>aerialswon</th>\n",
       "      <th>rating</th>\n",
       "      <th>positioncode</th>\n",
       "    </tr>\n",
       "    <tr>\n",
       "      <th>name</th>\n",
       "      <th></th>\n",
       "      <th></th>\n",
       "      <th></th>\n",
       "      <th></th>\n",
       "      <th></th>\n",
       "      <th></th>\n",
       "      <th></th>\n",
       "      <th></th>\n",
       "      <th></th>\n",
       "      <th></th>\n",
       "      <th></th>\n",
       "      <th></th>\n",
       "    </tr>\n",
       "  </thead>\n",
       "  <tbody>\n",
       "    <tr>\n",
       "      <th>Lewandowski</th>\n",
       "      <td>80.0</td>\n",
       "      <td>80.0</td>\n",
       "      <td>28</td>\n",
       "      <td>30</td>\n",
       "      <td>4</td>\n",
       "      <td>5</td>\n",
       "      <td>0</td>\n",
       "      <td>4.2</td>\n",
       "      <td>75.0</td>\n",
       "      <td>1.8</td>\n",
       "      <td>7.71</td>\n",
       "      <td>3</td>\n",
       "    </tr>\n",
       "    <tr>\n",
       "      <th>Aubameyang</th>\n",
       "      <td>65.0</td>\n",
       "      <td>65.0</td>\n",
       "      <td>27</td>\n",
       "      <td>29</td>\n",
       "      <td>2</td>\n",
       "      <td>3</td>\n",
       "      <td>0</td>\n",
       "      <td>3.6</td>\n",
       "      <td>70.3</td>\n",
       "      <td>1.3</td>\n",
       "      <td>7.40</td>\n",
       "      <td>3</td>\n",
       "    </tr>\n",
       "    <tr>\n",
       "      <th>Mueller</th>\n",
       "      <td>60.0</td>\n",
       "      <td>75.0</td>\n",
       "      <td>27</td>\n",
       "      <td>5</td>\n",
       "      <td>12</td>\n",
       "      <td>0</td>\n",
       "      <td>0</td>\n",
       "      <td>2.2</td>\n",
       "      <td>76.2</td>\n",
       "      <td>1.8</td>\n",
       "      <td>7.30</td>\n",
       "      <td>3</td>\n",
       "    </tr>\n",
       "    <tr>\n",
       "      <th>Reus</th>\n",
       "      <td>40.0</td>\n",
       "      <td>50.0</td>\n",
       "      <td>27</td>\n",
       "      <td>5</td>\n",
       "      <td>4</td>\n",
       "      <td>1</td>\n",
       "      <td>1</td>\n",
       "      <td>2.3</td>\n",
       "      <td>74.6</td>\n",
       "      <td>0.4</td>\n",
       "      <td>7.03</td>\n",
       "      <td>3</td>\n",
       "    </tr>\n",
       "    <tr>\n",
       "      <th>Costa</th>\n",
       "      <td>30.0</td>\n",
       "      <td>35.0</td>\n",
       "      <td>26</td>\n",
       "      <td>4</td>\n",
       "      <td>3</td>\n",
       "      <td>2</td>\n",
       "      <td>0</td>\n",
       "      <td>1.9</td>\n",
       "      <td>80.2</td>\n",
       "      <td>0.1</td>\n",
       "      <td>7.17</td>\n",
       "      <td>3</td>\n",
       "    </tr>\n",
       "  </tbody>\n",
       "</table>\n",
       "</div>"
      ],
      "text/plain": [
       "             value  valuemax  age  goals  assists  yellow  red  shotspergame  \\\n",
       "name                                                                           \n",
       "Lewandowski   80.0      80.0   28     30        4       5    0           4.2   \n",
       "Aubameyang    65.0      65.0   27     29        2       3    0           3.6   \n",
       "Mueller       60.0      75.0   27      5       12       0    0           2.2   \n",
       "Reus          40.0      50.0   27      5        4       1    1           2.3   \n",
       "Costa         30.0      35.0   26      4        3       2    0           1.9   \n",
       "\n",
       "             passsuccess  aerialswon  rating  positioncode  \n",
       "name                                                        \n",
       "Lewandowski         75.0         1.8    7.71             3  \n",
       "Aubameyang          70.3         1.3    7.40             3  \n",
       "Mueller             76.2         1.8    7.30             3  \n",
       "Reus                74.6         0.4    7.03             3  \n",
       "Costa               80.2         0.1    7.17             3  "
      ]
     },
     "execution_count": 88,
     "metadata": {},
     "output_type": "execute_result"
    }
   ],
   "source": [
    "## preparation: define df with numbers only\n",
    "df_num = df.loc[:, 'value': 'positioncode']\n",
    "df_num.head()"
   ]
  },
  {
   "cell_type": "markdown",
   "metadata": {},
   "source": [
    "**applymap** does for dataframes what **apply** did for series (as seen above): it takes a function (built-in or written) and applies it to each element in the dataframe. Let's use **int** again as an example, i.e. let's convert all numbers in **df_num** to integers: "
   ]
  },
  {
   "cell_type": "code",
   "execution_count": 89,
   "metadata": {
    "collapsed": false
   },
   "outputs": [
    {
     "data": {
      "text/html": [
       "<div>\n",
       "<table border=\"1\" class=\"dataframe\">\n",
       "  <thead>\n",
       "    <tr style=\"text-align: right;\">\n",
       "      <th></th>\n",
       "      <th>value</th>\n",
       "      <th>valuemax</th>\n",
       "      <th>age</th>\n",
       "      <th>goals</th>\n",
       "      <th>assists</th>\n",
       "      <th>yellow</th>\n",
       "      <th>red</th>\n",
       "      <th>shotspergame</th>\n",
       "      <th>passsuccess</th>\n",
       "      <th>aerialswon</th>\n",
       "      <th>rating</th>\n",
       "      <th>positioncode</th>\n",
       "    </tr>\n",
       "    <tr>\n",
       "      <th>name</th>\n",
       "      <th></th>\n",
       "      <th></th>\n",
       "      <th></th>\n",
       "      <th></th>\n",
       "      <th></th>\n",
       "      <th></th>\n",
       "      <th></th>\n",
       "      <th></th>\n",
       "      <th></th>\n",
       "      <th></th>\n",
       "      <th></th>\n",
       "      <th></th>\n",
       "    </tr>\n",
       "  </thead>\n",
       "  <tbody>\n",
       "    <tr>\n",
       "      <th>Lewandowski</th>\n",
       "      <td>80</td>\n",
       "      <td>80</td>\n",
       "      <td>28</td>\n",
       "      <td>30</td>\n",
       "      <td>4</td>\n",
       "      <td>5</td>\n",
       "      <td>0</td>\n",
       "      <td>4</td>\n",
       "      <td>75</td>\n",
       "      <td>1</td>\n",
       "      <td>7</td>\n",
       "      <td>3</td>\n",
       "    </tr>\n",
       "    <tr>\n",
       "      <th>Aubameyang</th>\n",
       "      <td>65</td>\n",
       "      <td>65</td>\n",
       "      <td>27</td>\n",
       "      <td>29</td>\n",
       "      <td>2</td>\n",
       "      <td>3</td>\n",
       "      <td>0</td>\n",
       "      <td>3</td>\n",
       "      <td>70</td>\n",
       "      <td>1</td>\n",
       "      <td>7</td>\n",
       "      <td>3</td>\n",
       "    </tr>\n",
       "    <tr>\n",
       "      <th>Mueller</th>\n",
       "      <td>60</td>\n",
       "      <td>75</td>\n",
       "      <td>27</td>\n",
       "      <td>5</td>\n",
       "      <td>12</td>\n",
       "      <td>0</td>\n",
       "      <td>0</td>\n",
       "      <td>2</td>\n",
       "      <td>76</td>\n",
       "      <td>1</td>\n",
       "      <td>7</td>\n",
       "      <td>3</td>\n",
       "    </tr>\n",
       "    <tr>\n",
       "      <th>Reus</th>\n",
       "      <td>40</td>\n",
       "      <td>50</td>\n",
       "      <td>27</td>\n",
       "      <td>5</td>\n",
       "      <td>4</td>\n",
       "      <td>1</td>\n",
       "      <td>1</td>\n",
       "      <td>2</td>\n",
       "      <td>74</td>\n",
       "      <td>0</td>\n",
       "      <td>7</td>\n",
       "      <td>3</td>\n",
       "    </tr>\n",
       "    <tr>\n",
       "      <th>Costa</th>\n",
       "      <td>30</td>\n",
       "      <td>35</td>\n",
       "      <td>26</td>\n",
       "      <td>4</td>\n",
       "      <td>3</td>\n",
       "      <td>2</td>\n",
       "      <td>0</td>\n",
       "      <td>1</td>\n",
       "      <td>80</td>\n",
       "      <td>0</td>\n",
       "      <td>7</td>\n",
       "      <td>3</td>\n",
       "    </tr>\n",
       "  </tbody>\n",
       "</table>\n",
       "</div>"
      ],
      "text/plain": [
       "             value  valuemax  age  goals  assists  yellow  red  shotspergame  \\\n",
       "name                                                                           \n",
       "Lewandowski     80        80   28     30        4       5    0             4   \n",
       "Aubameyang      65        65   27     29        2       3    0             3   \n",
       "Mueller         60        75   27      5       12       0    0             2   \n",
       "Reus            40        50   27      5        4       1    1             2   \n",
       "Costa           30        35   26      4        3       2    0             1   \n",
       "\n",
       "             passsuccess  aerialswon  rating  positioncode  \n",
       "name                                                        \n",
       "Lewandowski           75           1       7             3  \n",
       "Aubameyang            70           1       7             3  \n",
       "Mueller               76           1       7             3  \n",
       "Reus                  74           0       7             3  \n",
       "Costa                 80           0       7             3  "
      ]
     },
     "execution_count": 89,
     "metadata": {},
     "output_type": "execute_result"
    }
   ],
   "source": [
    "df_num.applymap(int).head()"
   ]
  },
  {
   "cell_type": "markdown",
   "metadata": {},
   "source": [
    "At this point, it may become clear why we had to create a new dataframe with numerical data only: **applymap** requires that it can use the function on all elements in the dataframe, otherwise it will throw an error. Since **int** cannot be applied on strings, the operation above would not have worked with the original dataframe."
   ]
  },
  {
   "cell_type": "code",
   "execution_count": 90,
   "metadata": {
    "collapsed": false
   },
   "outputs": [
    {
     "data": {
      "text/plain": [
       "value           Lewandowski\n",
       "valuemax        Lewandowski\n",
       "age                 Pizarro\n",
       "goals           Lewandowski\n",
       "assists            Forsberg\n",
       "yellow            Mascarell\n",
       "red                  Gbamin\n",
       "shotspergame    Lewandowski\n",
       "passsuccess            Vogt\n",
       "aerialswon           Caiuby\n",
       "rating               Thiago\n",
       "positioncode    Lewandowski\n",
       "dtype: object"
      ]
     },
     "execution_count": 90,
     "metadata": {},
     "output_type": "execute_result"
    }
   ],
   "source": [
    "df_num.apply(np.argmax)"
   ]
  },
  {
   "cell_type": "markdown",
   "metadata": {},
   "source": [
    "Use apply to find second highest"
   ]
  },
  {
   "cell_type": "code",
   "execution_count": 91,
   "metadata": {
    "collapsed": false
   },
   "outputs": [
    {
     "data": {
      "text/plain": [
       "value           Aubameyang\n",
       "valuemax           Mueller\n",
       "age                 Alonso\n",
       "goals           Aubameyang\n",
       "assists            Mueller\n",
       "yellow            Bentaleb\n",
       "red                 Leckie\n",
       "shotspergame    Aubameyang\n",
       "passsuccess       Martinez\n",
       "aerialswon      Wollscheid\n",
       "rating            Forsberg\n",
       "positioncode        Thiago\n",
       "dtype: object"
      ]
     },
     "execution_count": 91,
     "metadata": {},
     "output_type": "execute_result"
    }
   ],
   "source": [
    "def second_largest_series(series):\n",
    "    s_max = series.max()\n",
    "    return series[ series < s_max ].argmax()\n",
    "\n",
    "df_num.apply(second_largest_series)"
   ]
  },
  {
   "cell_type": "code",
   "execution_count": 306,
   "metadata": {
    "collapsed": false
   },
   "outputs": [
    {
     "data": {
      "text/html": [
       "<div>\n",
       "<table border=\"1\" class=\"dataframe\">\n",
       "  <thead>\n",
       "    <tr style=\"text-align: right;\">\n",
       "      <th></th>\n",
       "      <th>value</th>\n",
       "      <th>valuemax</th>\n",
       "      <th>age</th>\n",
       "      <th>goals</th>\n",
       "      <th>assists</th>\n",
       "      <th>yellow</th>\n",
       "      <th>red</th>\n",
       "      <th>shotspergame</th>\n",
       "      <th>passsuccess</th>\n",
       "      <th>aerialswon</th>\n",
       "      <th>rating</th>\n",
       "      <th>positioncode</th>\n",
       "    </tr>\n",
       "    <tr>\n",
       "      <th>name</th>\n",
       "      <th></th>\n",
       "      <th></th>\n",
       "      <th></th>\n",
       "      <th></th>\n",
       "      <th></th>\n",
       "      <th></th>\n",
       "      <th></th>\n",
       "      <th></th>\n",
       "      <th></th>\n",
       "      <th></th>\n",
       "      <th></th>\n",
       "      <th></th>\n",
       "    </tr>\n",
       "  </thead>\n",
       "  <tbody>\n",
       "    <tr>\n",
       "      <th>Lewandowski</th>\n",
       "      <td>Top</td>\n",
       "      <td>Top</td>\n",
       "      <td>Top</td>\n",
       "      <td>Top</td>\n",
       "      <td>Top</td>\n",
       "      <td>Top</td>\n",
       "      <td>Flop</td>\n",
       "      <td>Top</td>\n",
       "      <td>Flop</td>\n",
       "      <td>Top</td>\n",
       "      <td>Top</td>\n",
       "      <td>Top</td>\n",
       "    </tr>\n",
       "    <tr>\n",
       "      <th>Aubameyang</th>\n",
       "      <td>Top</td>\n",
       "      <td>Top</td>\n",
       "      <td>Top</td>\n",
       "      <td>Top</td>\n",
       "      <td>Top</td>\n",
       "      <td>Top</td>\n",
       "      <td>Flop</td>\n",
       "      <td>Top</td>\n",
       "      <td>Flop</td>\n",
       "      <td>Flop</td>\n",
       "      <td>Top</td>\n",
       "      <td>Top</td>\n",
       "    </tr>\n",
       "    <tr>\n",
       "      <th>Mueller</th>\n",
       "      <td>Top</td>\n",
       "      <td>Top</td>\n",
       "      <td>Top</td>\n",
       "      <td>Top</td>\n",
       "      <td>Top</td>\n",
       "      <td>Flop</td>\n",
       "      <td>Flop</td>\n",
       "      <td>Top</td>\n",
       "      <td>Top</td>\n",
       "      <td>Top</td>\n",
       "      <td>Top</td>\n",
       "      <td>Top</td>\n",
       "    </tr>\n",
       "    <tr>\n",
       "      <th>Reus</th>\n",
       "      <td>Top</td>\n",
       "      <td>Top</td>\n",
       "      <td>Top</td>\n",
       "      <td>Top</td>\n",
       "      <td>Top</td>\n",
       "      <td>Flop</td>\n",
       "      <td>Top</td>\n",
       "      <td>Top</td>\n",
       "      <td>Flop</td>\n",
       "      <td>Flop</td>\n",
       "      <td>Top</td>\n",
       "      <td>Top</td>\n",
       "    </tr>\n",
       "    <tr>\n",
       "      <th>Costa</th>\n",
       "      <td>Top</td>\n",
       "      <td>Top</td>\n",
       "      <td>Top</td>\n",
       "      <td>Top</td>\n",
       "      <td>Top</td>\n",
       "      <td>Flop</td>\n",
       "      <td>Flop</td>\n",
       "      <td>Top</td>\n",
       "      <td>Top</td>\n",
       "      <td>Flop</td>\n",
       "      <td>Top</td>\n",
       "      <td>Top</td>\n",
       "    </tr>\n",
       "    <tr>\n",
       "      <th>Dembele</th>\n",
       "      <td>Top</td>\n",
       "      <td>Top</td>\n",
       "      <td>Flop</td>\n",
       "      <td>Top</td>\n",
       "      <td>Top</td>\n",
       "      <td>Top</td>\n",
       "      <td>Flop</td>\n",
       "      <td>Top</td>\n",
       "      <td>Flop</td>\n",
       "      <td>Flop</td>\n",
       "      <td>Top</td>\n",
       "      <td>Top</td>\n",
       "    </tr>\n",
       "    <tr>\n",
       "      <th>Schuerrle</th>\n",
       "      <td>Top</td>\n",
       "      <td>Top</td>\n",
       "      <td>Top</td>\n",
       "      <td>Flop</td>\n",
       "      <td>Top</td>\n",
       "      <td>Top</td>\n",
       "      <td>Flop</td>\n",
       "      <td>Top</td>\n",
       "      <td>Flop</td>\n",
       "      <td>Flop</td>\n",
       "      <td>Top</td>\n",
       "      <td>Top</td>\n",
       "    </tr>\n",
       "    <tr>\n",
       "      <th>Chicharito</th>\n",
       "      <td>Top</td>\n",
       "      <td>Top</td>\n",
       "      <td>Top</td>\n",
       "      <td>Top</td>\n",
       "      <td>Top</td>\n",
       "      <td>Flop</td>\n",
       "      <td>Flop</td>\n",
       "      <td>Top</td>\n",
       "      <td>Flop</td>\n",
       "      <td>Flop</td>\n",
       "      <td>Top</td>\n",
       "      <td>Top</td>\n",
       "    </tr>\n",
       "    <tr>\n",
       "      <th>Embolo</th>\n",
       "      <td>Top</td>\n",
       "      <td>Top</td>\n",
       "      <td>Flop</td>\n",
       "      <td>Flop</td>\n",
       "      <td>Flop</td>\n",
       "      <td>Flop</td>\n",
       "      <td>Flop</td>\n",
       "      <td>Top</td>\n",
       "      <td>Flop</td>\n",
       "      <td>Flop</td>\n",
       "      <td>Top</td>\n",
       "      <td>Top</td>\n",
       "    </tr>\n",
       "    <tr>\n",
       "      <th>Coman</th>\n",
       "      <td>Top</td>\n",
       "      <td>Top</td>\n",
       "      <td>Flop</td>\n",
       "      <td>Flop</td>\n",
       "      <td>Flop</td>\n",
       "      <td>Flop</td>\n",
       "      <td>Flop</td>\n",
       "      <td>Top</td>\n",
       "      <td>Top</td>\n",
       "      <td>Flop</td>\n",
       "      <td>Flop</td>\n",
       "      <td>Top</td>\n",
       "    </tr>\n",
       "    <tr>\n",
       "      <th>Modeste</th>\n",
       "      <td>Top</td>\n",
       "      <td>Top</td>\n",
       "      <td>Top</td>\n",
       "      <td>Top</td>\n",
       "      <td>Top</td>\n",
       "      <td>Top</td>\n",
       "      <td>Flop</td>\n",
       "      <td>Top</td>\n",
       "      <td>Flop</td>\n",
       "      <td>Top</td>\n",
       "      <td>Top</td>\n",
       "      <td>Top</td>\n",
       "    </tr>\n",
       "    <tr>\n",
       "      <th>Volland</th>\n",
       "      <td>Top</td>\n",
       "      <td>Top</td>\n",
       "      <td>Flop</td>\n",
       "      <td>Top</td>\n",
       "      <td>Top</td>\n",
       "      <td>Top</td>\n",
       "      <td>Top</td>\n",
       "      <td>Top</td>\n",
       "      <td>Flop</td>\n",
       "      <td>Flop</td>\n",
       "      <td>Flop</td>\n",
       "      <td>Top</td>\n",
       "    </tr>\n",
       "    <tr>\n",
       "      <th>Werner</th>\n",
       "      <td>Top</td>\n",
       "      <td>Top</td>\n",
       "      <td>Flop</td>\n",
       "      <td>Top</td>\n",
       "      <td>Top</td>\n",
       "      <td>Top</td>\n",
       "      <td>Flop</td>\n",
       "      <td>Top</td>\n",
       "      <td>Flop</td>\n",
       "      <td>Flop</td>\n",
       "      <td>Top</td>\n",
       "      <td>Top</td>\n",
       "    </tr>\n",
       "    <tr>\n",
       "      <th>Forsberg</th>\n",
       "      <td>Top</td>\n",
       "      <td>Top</td>\n",
       "      <td>Flop</td>\n",
       "      <td>Top</td>\n",
       "      <td>Top</td>\n",
       "      <td>Flop</td>\n",
       "      <td>Top</td>\n",
       "      <td>Top</td>\n",
       "      <td>Top</td>\n",
       "      <td>Flop</td>\n",
       "      <td>Top</td>\n",
       "      <td>Top</td>\n",
       "    </tr>\n",
       "    <tr>\n",
       "      <th>Stindl</th>\n",
       "      <td>Top</td>\n",
       "      <td>Top</td>\n",
       "      <td>Top</td>\n",
       "      <td>Top</td>\n",
       "      <td>Top</td>\n",
       "      <td>Top</td>\n",
       "      <td>Flop</td>\n",
       "      <td>Top</td>\n",
       "      <td>Top</td>\n",
       "      <td>Top</td>\n",
       "      <td>Top</td>\n",
       "      <td>Top</td>\n",
       "    </tr>\n",
       "    <tr>\n",
       "      <th>Bailey</th>\n",
       "      <td>Top</td>\n",
       "      <td>Top</td>\n",
       "      <td>Flop</td>\n",
       "      <td>Flop</td>\n",
       "      <td>Flop</td>\n",
       "      <td>Flop</td>\n",
       "      <td>Flop</td>\n",
       "      <td>Flop</td>\n",
       "      <td>Flop</td>\n",
       "      <td>Flop</td>\n",
       "      <td>Flop</td>\n",
       "      <td>Top</td>\n",
       "    </tr>\n",
       "    <tr>\n",
       "      <th>Konoplyanka</th>\n",
       "      <td>Top</td>\n",
       "      <td>Top</td>\n",
       "      <td>Top</td>\n",
       "      <td>Flop</td>\n",
       "      <td>Flop</td>\n",
       "      <td>Flop</td>\n",
       "      <td>Flop</td>\n",
       "      <td>Flop</td>\n",
       "      <td>Top</td>\n",
       "      <td>Flop</td>\n",
       "      <td>Flop</td>\n",
       "      <td>Top</td>\n",
       "    </tr>\n",
       "    <tr>\n",
       "      <th>Pulisic</th>\n",
       "      <td>Top</td>\n",
       "      <td>Top</td>\n",
       "      <td>Flop</td>\n",
       "      <td>Top</td>\n",
       "      <td>Top</td>\n",
       "      <td>Flop</td>\n",
       "      <td>Flop</td>\n",
       "      <td>Top</td>\n",
       "      <td>Flop</td>\n",
       "      <td>Flop</td>\n",
       "      <td>Top</td>\n",
       "      <td>Top</td>\n",
       "    </tr>\n",
       "    <tr>\n",
       "      <th>Robben</th>\n",
       "      <td>Top</td>\n",
       "      <td>Top</td>\n",
       "      <td>Top</td>\n",
       "      <td>Top</td>\n",
       "      <td>Top</td>\n",
       "      <td>Flop</td>\n",
       "      <td>Flop</td>\n",
       "      <td>Top</td>\n",
       "      <td>Top</td>\n",
       "      <td>Flop</td>\n",
       "      <td>Top</td>\n",
       "      <td>Top</td>\n",
       "    </tr>\n",
       "    <tr>\n",
       "      <th>Sabitzer</th>\n",
       "      <td>Top</td>\n",
       "      <td>Flop</td>\n",
       "      <td>Flop</td>\n",
       "      <td>Top</td>\n",
       "      <td>Top</td>\n",
       "      <td>Top</td>\n",
       "      <td>Flop</td>\n",
       "      <td>Top</td>\n",
       "      <td>Flop</td>\n",
       "      <td>Flop</td>\n",
       "      <td>Top</td>\n",
       "      <td>Top</td>\n",
       "    </tr>\n",
       "    <tr>\n",
       "      <th>Ntep</th>\n",
       "      <td>Top</td>\n",
       "      <td>Flop</td>\n",
       "      <td>Flop</td>\n",
       "      <td>Flop</td>\n",
       "      <td>Top</td>\n",
       "      <td>Flop</td>\n",
       "      <td>Flop</td>\n",
       "      <td>Top</td>\n",
       "      <td>Flop</td>\n",
       "      <td>Flop</td>\n",
       "      <td>Flop</td>\n",
       "      <td>Top</td>\n",
       "    </tr>\n",
       "    <tr>\n",
       "      <th>Kostic</th>\n",
       "      <td>Top</td>\n",
       "      <td>Flop</td>\n",
       "      <td>Flop</td>\n",
       "      <td>Top</td>\n",
       "      <td>Top</td>\n",
       "      <td>Top</td>\n",
       "      <td>Flop</td>\n",
       "      <td>Top</td>\n",
       "      <td>Flop</td>\n",
       "      <td>Flop</td>\n",
       "      <td>Flop</td>\n",
       "      <td>Top</td>\n",
       "    </tr>\n",
       "    <tr>\n",
       "      <th>Burke</th>\n",
       "      <td>Top</td>\n",
       "      <td>Flop</td>\n",
       "      <td>Flop</td>\n",
       "      <td>Flop</td>\n",
       "      <td>Top</td>\n",
       "      <td>Flop</td>\n",
       "      <td>Flop</td>\n",
       "      <td>Flop</td>\n",
       "      <td>Flop</td>\n",
       "      <td>Flop</td>\n",
       "      <td>Flop</td>\n",
       "      <td>Top</td>\n",
       "    </tr>\n",
       "    <tr>\n",
       "      <th>Kramaric</th>\n",
       "      <td>Top</td>\n",
       "      <td>Flop</td>\n",
       "      <td>Flop</td>\n",
       "      <td>Top</td>\n",
       "      <td>Top</td>\n",
       "      <td>Flop</td>\n",
       "      <td>Flop</td>\n",
       "      <td>Top</td>\n",
       "      <td>Top</td>\n",
       "      <td>Flop</td>\n",
       "      <td>Top</td>\n",
       "      <td>Top</td>\n",
       "    </tr>\n",
       "    <tr>\n",
       "      <th>Kruse</th>\n",
       "      <td>Flop</td>\n",
       "      <td>Top</td>\n",
       "      <td>Top</td>\n",
       "      <td>Top</td>\n",
       "      <td>Top</td>\n",
       "      <td>Flop</td>\n",
       "      <td>Flop</td>\n",
       "      <td>Top</td>\n",
       "      <td>Top</td>\n",
       "      <td>Top</td>\n",
       "      <td>Top</td>\n",
       "      <td>Top</td>\n",
       "    </tr>\n",
       "    <tr>\n",
       "      <th>Krkic</th>\n",
       "      <td>Flop</td>\n",
       "      <td>Top</td>\n",
       "      <td>Top</td>\n",
       "      <td>Flop</td>\n",
       "      <td>Flop</td>\n",
       "      <td>Flop</td>\n",
       "      <td>Flop</td>\n",
       "      <td>Top</td>\n",
       "      <td>Top</td>\n",
       "      <td>Flop</td>\n",
       "      <td>Flop</td>\n",
       "      <td>Top</td>\n",
       "    </tr>\n",
       "    <tr>\n",
       "      <th>Maxim</th>\n",
       "      <td>Flop</td>\n",
       "      <td>Flop</td>\n",
       "      <td>Top</td>\n",
       "      <td>Top</td>\n",
       "      <td>Top</td>\n",
       "      <td>Flop</td>\n",
       "      <td>Flop</td>\n",
       "      <td>Top</td>\n",
       "      <td>Flop</td>\n",
       "      <td>Top</td>\n",
       "      <td>Top</td>\n",
       "      <td>Top</td>\n",
       "    </tr>\n",
       "    <tr>\n",
       "      <th>Gomez</th>\n",
       "      <td>Flop</td>\n",
       "      <td>Top</td>\n",
       "      <td>Top</td>\n",
       "      <td>Top</td>\n",
       "      <td>Flop</td>\n",
       "      <td>Top</td>\n",
       "      <td>Flop</td>\n",
       "      <td>Top</td>\n",
       "      <td>Flop</td>\n",
       "      <td>Top</td>\n",
       "      <td>Top</td>\n",
       "      <td>Top</td>\n",
       "    </tr>\n",
       "    <tr>\n",
       "      <th>Raffael</th>\n",
       "      <td>Flop</td>\n",
       "      <td>Flop</td>\n",
       "      <td>Top</td>\n",
       "      <td>Top</td>\n",
       "      <td>Flop</td>\n",
       "      <td>Flop</td>\n",
       "      <td>Flop</td>\n",
       "      <td>Top</td>\n",
       "      <td>Top</td>\n",
       "      <td>Flop</td>\n",
       "      <td>Top</td>\n",
       "      <td>Top</td>\n",
       "    </tr>\n",
       "    <tr>\n",
       "      <th>Philipp</th>\n",
       "      <td>Flop</td>\n",
       "      <td>Flop</td>\n",
       "      <td>Flop</td>\n",
       "      <td>Top</td>\n",
       "      <td>Top</td>\n",
       "      <td>Top</td>\n",
       "      <td>Flop</td>\n",
       "      <td>Top</td>\n",
       "      <td>Flop</td>\n",
       "      <td>Flop</td>\n",
       "      <td>Top</td>\n",
       "      <td>Top</td>\n",
       "    </tr>\n",
       "    <tr>\n",
       "      <th>...</th>\n",
       "      <td>...</td>\n",
       "      <td>...</td>\n",
       "      <td>...</td>\n",
       "      <td>...</td>\n",
       "      <td>...</td>\n",
       "      <td>...</td>\n",
       "      <td>...</td>\n",
       "      <td>...</td>\n",
       "      <td>...</td>\n",
       "      <td>...</td>\n",
       "      <td>...</td>\n",
       "      <td>...</td>\n",
       "    </tr>\n",
       "    <tr>\n",
       "      <th>Schr</th>\n",
       "      <td>Flop</td>\n",
       "      <td>Flop</td>\n",
       "      <td>Flop</td>\n",
       "      <td>Flop</td>\n",
       "      <td>Flop</td>\n",
       "      <td>Flop</td>\n",
       "      <td>Flop</td>\n",
       "      <td>Flop</td>\n",
       "      <td>Top</td>\n",
       "      <td>Flop</td>\n",
       "      <td>Flop</td>\n",
       "      <td>Flop</td>\n",
       "    </tr>\n",
       "    <tr>\n",
       "      <th>Hector</th>\n",
       "      <td>Flop</td>\n",
       "      <td>Flop</td>\n",
       "      <td>Flop</td>\n",
       "      <td>Flop</td>\n",
       "      <td>Flop</td>\n",
       "      <td>Top</td>\n",
       "      <td>Top</td>\n",
       "      <td>Flop</td>\n",
       "      <td>Flop</td>\n",
       "      <td>Flop</td>\n",
       "      <td>Flop</td>\n",
       "      <td>Flop</td>\n",
       "    </tr>\n",
       "    <tr>\n",
       "      <th>Kempf</th>\n",
       "      <td>Flop</td>\n",
       "      <td>Flop</td>\n",
       "      <td>Flop</td>\n",
       "      <td>Flop</td>\n",
       "      <td>Flop</td>\n",
       "      <td>Flop</td>\n",
       "      <td>Flop</td>\n",
       "      <td>Flop</td>\n",
       "      <td>Top</td>\n",
       "      <td>Top</td>\n",
       "      <td>Flop</td>\n",
       "      <td>Flop</td>\n",
       "    </tr>\n",
       "    <tr>\n",
       "      <th>Langkamp</th>\n",
       "      <td>Flop</td>\n",
       "      <td>Flop</td>\n",
       "      <td>Top</td>\n",
       "      <td>Flop</td>\n",
       "      <td>Flop</td>\n",
       "      <td>Top</td>\n",
       "      <td>Flop</td>\n",
       "      <td>Flop</td>\n",
       "      <td>Top</td>\n",
       "      <td>Top</td>\n",
       "      <td>Top</td>\n",
       "      <td>Flop</td>\n",
       "    </tr>\n",
       "    <tr>\n",
       "      <th>Maroh</th>\n",
       "      <td>Flop</td>\n",
       "      <td>Flop</td>\n",
       "      <td>Top</td>\n",
       "      <td>Flop</td>\n",
       "      <td>Flop</td>\n",
       "      <td>Top</td>\n",
       "      <td>Flop</td>\n",
       "      <td>Flop</td>\n",
       "      <td>Top</td>\n",
       "      <td>Flop</td>\n",
       "      <td>Flop</td>\n",
       "      <td>Flop</td>\n",
       "    </tr>\n",
       "    <tr>\n",
       "      <th>Wollscheid</th>\n",
       "      <td>Flop</td>\n",
       "      <td>Flop</td>\n",
       "      <td>Top</td>\n",
       "      <td>Flop</td>\n",
       "      <td>Flop</td>\n",
       "      <td>Flop</td>\n",
       "      <td>Flop</td>\n",
       "      <td>Top</td>\n",
       "      <td>Top</td>\n",
       "      <td>Top</td>\n",
       "      <td>Top</td>\n",
       "      <td>Flop</td>\n",
       "    </tr>\n",
       "    <tr>\n",
       "      <th>Oczipka</th>\n",
       "      <td>Flop</td>\n",
       "      <td>Flop</td>\n",
       "      <td>Top</td>\n",
       "      <td>Flop</td>\n",
       "      <td>Top</td>\n",
       "      <td>Top</td>\n",
       "      <td>Flop</td>\n",
       "      <td>Flop</td>\n",
       "      <td>Top</td>\n",
       "      <td>Flop</td>\n",
       "      <td>Top</td>\n",
       "      <td>Flop</td>\n",
       "    </tr>\n",
       "    <tr>\n",
       "      <th>Badstuber</th>\n",
       "      <td>Flop</td>\n",
       "      <td>Top</td>\n",
       "      <td>Top</td>\n",
       "      <td>Flop</td>\n",
       "      <td>Flop</td>\n",
       "      <td>Flop</td>\n",
       "      <td>Flop</td>\n",
       "      <td>Flop</td>\n",
       "      <td>Top</td>\n",
       "      <td>Top</td>\n",
       "      <td>Flop</td>\n",
       "      <td>Flop</td>\n",
       "    </tr>\n",
       "    <tr>\n",
       "      <th>Caldirola</th>\n",
       "      <td>Flop</td>\n",
       "      <td>Flop</td>\n",
       "      <td>Top</td>\n",
       "      <td>Flop</td>\n",
       "      <td>Flop</td>\n",
       "      <td>Flop</td>\n",
       "      <td>Flop</td>\n",
       "      <td>Flop</td>\n",
       "      <td>Flop</td>\n",
       "      <td>Top</td>\n",
       "      <td>Flop</td>\n",
       "      <td>Flop</td>\n",
       "    </tr>\n",
       "    <tr>\n",
       "      <th>Sakai</th>\n",
       "      <td>Flop</td>\n",
       "      <td>Flop</td>\n",
       "      <td>Top</td>\n",
       "      <td>Flop</td>\n",
       "      <td>Top</td>\n",
       "      <td>Top</td>\n",
       "      <td>Flop</td>\n",
       "      <td>Flop</td>\n",
       "      <td>Flop</td>\n",
       "      <td>Flop</td>\n",
       "      <td>Flop</td>\n",
       "      <td>Flop</td>\n",
       "    </tr>\n",
       "    <tr>\n",
       "      <th>Tisserand</th>\n",
       "      <td>Flop</td>\n",
       "      <td>Flop</td>\n",
       "      <td>Flop</td>\n",
       "      <td>Flop</td>\n",
       "      <td>Flop</td>\n",
       "      <td>Top</td>\n",
       "      <td>Flop</td>\n",
       "      <td>Flop</td>\n",
       "      <td>Flop</td>\n",
       "      <td>Top</td>\n",
       "      <td>Flop</td>\n",
       "      <td>Flop</td>\n",
       "    </tr>\n",
       "    <tr>\n",
       "      <th>Klostermann</th>\n",
       "      <td>Flop</td>\n",
       "      <td>Flop</td>\n",
       "      <td>Flop</td>\n",
       "      <td>Flop</td>\n",
       "      <td>Flop</td>\n",
       "      <td>Flop</td>\n",
       "      <td>Flop</td>\n",
       "      <td>Top</td>\n",
       "      <td>Flop</td>\n",
       "      <td>Flop</td>\n",
       "      <td>Flop</td>\n",
       "      <td>Flop</td>\n",
       "    </tr>\n",
       "    <tr>\n",
       "      <th>Passlack</th>\n",
       "      <td>Flop</td>\n",
       "      <td>Flop</td>\n",
       "      <td>Flop</td>\n",
       "      <td>Flop</td>\n",
       "      <td>Flop</td>\n",
       "      <td>Flop</td>\n",
       "      <td>Flop</td>\n",
       "      <td>Flop</td>\n",
       "      <td>Top</td>\n",
       "      <td>Flop</td>\n",
       "      <td>Flop</td>\n",
       "      <td>Flop</td>\n",
       "    </tr>\n",
       "    <tr>\n",
       "      <th>Gnter</th>\n",
       "      <td>Flop</td>\n",
       "      <td>Flop</td>\n",
       "      <td>Flop</td>\n",
       "      <td>Flop</td>\n",
       "      <td>Top</td>\n",
       "      <td>Top</td>\n",
       "      <td>Top</td>\n",
       "      <td>Flop</td>\n",
       "      <td>Flop</td>\n",
       "      <td>Flop</td>\n",
       "      <td>Flop</td>\n",
       "      <td>Flop</td>\n",
       "    </tr>\n",
       "    <tr>\n",
       "      <th>Russ</th>\n",
       "      <td>Flop</td>\n",
       "      <td>Flop</td>\n",
       "      <td>Top</td>\n",
       "      <td>Flop</td>\n",
       "      <td>Flop</td>\n",
       "      <td>Flop</td>\n",
       "      <td>Flop</td>\n",
       "      <td>Top</td>\n",
       "      <td>Top</td>\n",
       "      <td>Flop</td>\n",
       "      <td>Flop</td>\n",
       "      <td>Flop</td>\n",
       "    </tr>\n",
       "    <tr>\n",
       "      <th>Aogo</th>\n",
       "      <td>Flop</td>\n",
       "      <td>Flop</td>\n",
       "      <td>Top</td>\n",
       "      <td>Flop</td>\n",
       "      <td>Flop</td>\n",
       "      <td>Flop</td>\n",
       "      <td>Flop</td>\n",
       "      <td>Flop</td>\n",
       "      <td>Top</td>\n",
       "      <td>Flop</td>\n",
       "      <td>Flop</td>\n",
       "      <td>Flop</td>\n",
       "    </tr>\n",
       "    <tr>\n",
       "      <th>Naldo</th>\n",
       "      <td>Flop</td>\n",
       "      <td>Top</td>\n",
       "      <td>Top</td>\n",
       "      <td>Flop</td>\n",
       "      <td>Flop</td>\n",
       "      <td>Flop</td>\n",
       "      <td>Top</td>\n",
       "      <td>Top</td>\n",
       "      <td>Top</td>\n",
       "      <td>Top</td>\n",
       "      <td>Top</td>\n",
       "      <td>Flop</td>\n",
       "    </tr>\n",
       "    <tr>\n",
       "      <th>Mavraj</th>\n",
       "      <td>Flop</td>\n",
       "      <td>Flop</td>\n",
       "      <td>Top</td>\n",
       "      <td>Flop</td>\n",
       "      <td>Flop</td>\n",
       "      <td>Flop</td>\n",
       "      <td>Flop</td>\n",
       "      <td>Flop</td>\n",
       "      <td>Top</td>\n",
       "      <td>Top</td>\n",
       "      <td>Top</td>\n",
       "      <td>Flop</td>\n",
       "    </tr>\n",
       "    <tr>\n",
       "      <th>Trsch</th>\n",
       "      <td>Flop</td>\n",
       "      <td>Top</td>\n",
       "      <td>Top</td>\n",
       "      <td>Flop</td>\n",
       "      <td>Flop</td>\n",
       "      <td>Flop</td>\n",
       "      <td>Flop</td>\n",
       "      <td>Flop</td>\n",
       "      <td>Flop</td>\n",
       "      <td>Flop</td>\n",
       "      <td>Top</td>\n",
       "      <td>Flop</td>\n",
       "    </tr>\n",
       "    <tr>\n",
       "      <th>Brosinski</th>\n",
       "      <td>Flop</td>\n",
       "      <td>Flop</td>\n",
       "      <td>Top</td>\n",
       "      <td>Flop</td>\n",
       "      <td>Top</td>\n",
       "      <td>Top</td>\n",
       "      <td>Flop</td>\n",
       "      <td>Top</td>\n",
       "      <td>Flop</td>\n",
       "      <td>Flop</td>\n",
       "      <td>Flop</td>\n",
       "      <td>Flop</td>\n",
       "    </tr>\n",
       "    <tr>\n",
       "      <th>Chandler</th>\n",
       "      <td>Flop</td>\n",
       "      <td>Flop</td>\n",
       "      <td>Top</td>\n",
       "      <td>Flop</td>\n",
       "      <td>Top</td>\n",
       "      <td>Top</td>\n",
       "      <td>Top</td>\n",
       "      <td>Flop</td>\n",
       "      <td>Flop</td>\n",
       "      <td>Top</td>\n",
       "      <td>Top</td>\n",
       "      <td>Flop</td>\n",
       "    </tr>\n",
       "    <tr>\n",
       "      <th>Pekark</th>\n",
       "      <td>Flop</td>\n",
       "      <td>Flop</td>\n",
       "      <td>Top</td>\n",
       "      <td>Flop</td>\n",
       "      <td>Flop</td>\n",
       "      <td>Top</td>\n",
       "      <td>Flop</td>\n",
       "      <td>Flop</td>\n",
       "      <td>Top</td>\n",
       "      <td>Flop</td>\n",
       "      <td>Flop</td>\n",
       "      <td>Flop</td>\n",
       "    </tr>\n",
       "    <tr>\n",
       "      <th>Ostrzolek</th>\n",
       "      <td>Flop</td>\n",
       "      <td>Flop</td>\n",
       "      <td>Top</td>\n",
       "      <td>Flop</td>\n",
       "      <td>Flop</td>\n",
       "      <td>Top</td>\n",
       "      <td>Flop</td>\n",
       "      <td>Flop</td>\n",
       "      <td>Flop</td>\n",
       "      <td>Top</td>\n",
       "      <td>Flop</td>\n",
       "      <td>Flop</td>\n",
       "    </tr>\n",
       "    <tr>\n",
       "      <th>Bauer</th>\n",
       "      <td>Flop</td>\n",
       "      <td>Flop</td>\n",
       "      <td>Flop</td>\n",
       "      <td>Flop</td>\n",
       "      <td>Top</td>\n",
       "      <td>Top</td>\n",
       "      <td>Flop</td>\n",
       "      <td>Flop</td>\n",
       "      <td>Flop</td>\n",
       "      <td>Flop</td>\n",
       "      <td>Top</td>\n",
       "      <td>Flop</td>\n",
       "    </tr>\n",
       "    <tr>\n",
       "      <th>Hadergjonaj</th>\n",
       "      <td>Flop</td>\n",
       "      <td>Flop</td>\n",
       "      <td>Flop</td>\n",
       "      <td>Flop</td>\n",
       "      <td>Top</td>\n",
       "      <td>Top</td>\n",
       "      <td>Flop</td>\n",
       "      <td>Flop</td>\n",
       "      <td>Flop</td>\n",
       "      <td>Top</td>\n",
       "      <td>Top</td>\n",
       "      <td>Flop</td>\n",
       "    </tr>\n",
       "    <tr>\n",
       "      <th>Bicakcic</th>\n",
       "      <td>Flop</td>\n",
       "      <td>Flop</td>\n",
       "      <td>Top</td>\n",
       "      <td>Flop</td>\n",
       "      <td>Flop</td>\n",
       "      <td>Top</td>\n",
       "      <td>Flop</td>\n",
       "      <td>Flop</td>\n",
       "      <td>Top</td>\n",
       "      <td>Top</td>\n",
       "      <td>Flop</td>\n",
       "      <td>Flop</td>\n",
       "    </tr>\n",
       "    <tr>\n",
       "      <th>Gebre</th>\n",
       "      <td>Flop</td>\n",
       "      <td>Flop</td>\n",
       "      <td>Top</td>\n",
       "      <td>Top</td>\n",
       "      <td>Top</td>\n",
       "      <td>Top</td>\n",
       "      <td>Flop</td>\n",
       "      <td>Flop</td>\n",
       "      <td>Top</td>\n",
       "      <td>Top</td>\n",
       "      <td>Top</td>\n",
       "      <td>Flop</td>\n",
       "    </tr>\n",
       "    <tr>\n",
       "      <th>Garca</th>\n",
       "      <td>Flop</td>\n",
       "      <td>Flop</td>\n",
       "      <td>Top</td>\n",
       "      <td>Flop</td>\n",
       "      <td>Top</td>\n",
       "      <td>Top</td>\n",
       "      <td>Flop</td>\n",
       "      <td>Flop</td>\n",
       "      <td>Flop</td>\n",
       "      <td>Top</td>\n",
       "      <td>Top</td>\n",
       "      <td>Flop</td>\n",
       "    </tr>\n",
       "    <tr>\n",
       "      <th>Olkowski</th>\n",
       "      <td>Flop</td>\n",
       "      <td>Flop</td>\n",
       "      <td>Top</td>\n",
       "      <td>Flop</td>\n",
       "      <td>Flop</td>\n",
       "      <td>Flop</td>\n",
       "      <td>Flop</td>\n",
       "      <td>Flop</td>\n",
       "      <td>Flop</td>\n",
       "      <td>Top</td>\n",
       "      <td>Top</td>\n",
       "      <td>Flop</td>\n",
       "    </tr>\n",
       "    <tr>\n",
       "      <th>Bussmann</th>\n",
       "      <td>Flop</td>\n",
       "      <td>Flop</td>\n",
       "      <td>Top</td>\n",
       "      <td>Flop</td>\n",
       "      <td>Flop</td>\n",
       "      <td>Flop</td>\n",
       "      <td>Top</td>\n",
       "      <td>Flop</td>\n",
       "      <td>Flop</td>\n",
       "      <td>Top</td>\n",
       "      <td>Top</td>\n",
       "      <td>Flop</td>\n",
       "    </tr>\n",
       "  </tbody>\n",
       "</table>\n",
       "<p>291 rows × 12 columns</p>\n",
       "</div>"
      ],
      "text/plain": [
       "            value valuemax   age goals assists yellow   red shotspergame  \\\n",
       "name                                                                       \n",
       "Lewandowski   Top      Top   Top   Top     Top    Top  Flop          Top   \n",
       "Aubameyang    Top      Top   Top   Top     Top    Top  Flop          Top   \n",
       "Mueller       Top      Top   Top   Top     Top   Flop  Flop          Top   \n",
       "Reus          Top      Top   Top   Top     Top   Flop   Top          Top   \n",
       "Costa         Top      Top   Top   Top     Top   Flop  Flop          Top   \n",
       "Dembele       Top      Top  Flop   Top     Top    Top  Flop          Top   \n",
       "Schuerrle     Top      Top   Top  Flop     Top    Top  Flop          Top   \n",
       "Chicharito    Top      Top   Top   Top     Top   Flop  Flop          Top   \n",
       "Embolo        Top      Top  Flop  Flop    Flop   Flop  Flop          Top   \n",
       "Coman         Top      Top  Flop  Flop    Flop   Flop  Flop          Top   \n",
       "Modeste       Top      Top   Top   Top     Top    Top  Flop          Top   \n",
       "Volland       Top      Top  Flop   Top     Top    Top   Top          Top   \n",
       "Werner        Top      Top  Flop   Top     Top    Top  Flop          Top   \n",
       "Forsberg      Top      Top  Flop   Top     Top   Flop   Top          Top   \n",
       "Stindl        Top      Top   Top   Top     Top    Top  Flop          Top   \n",
       "Bailey        Top      Top  Flop  Flop    Flop   Flop  Flop         Flop   \n",
       "Konoplyanka   Top      Top   Top  Flop    Flop   Flop  Flop         Flop   \n",
       "Pulisic       Top      Top  Flop   Top     Top   Flop  Flop          Top   \n",
       "Robben        Top      Top   Top   Top     Top   Flop  Flop          Top   \n",
       "Sabitzer      Top     Flop  Flop   Top     Top    Top  Flop          Top   \n",
       "Ntep          Top     Flop  Flop  Flop     Top   Flop  Flop          Top   \n",
       "Kostic        Top     Flop  Flop   Top     Top    Top  Flop          Top   \n",
       "Burke         Top     Flop  Flop  Flop     Top   Flop  Flop         Flop   \n",
       "Kramaric      Top     Flop  Flop   Top     Top   Flop  Flop          Top   \n",
       "Kruse        Flop      Top   Top   Top     Top   Flop  Flop          Top   \n",
       "Krkic        Flop      Top   Top  Flop    Flop   Flop  Flop          Top   \n",
       "Maxim        Flop     Flop   Top   Top     Top   Flop  Flop          Top   \n",
       "Gomez        Flop      Top   Top   Top    Flop    Top  Flop          Top   \n",
       "Raffael      Flop     Flop   Top   Top    Flop   Flop  Flop          Top   \n",
       "Philipp      Flop     Flop  Flop   Top     Top    Top  Flop          Top   \n",
       "...           ...      ...   ...   ...     ...    ...   ...          ...   \n",
       "Schr         Flop     Flop  Flop  Flop    Flop   Flop  Flop         Flop   \n",
       "Hector       Flop     Flop  Flop  Flop    Flop    Top   Top         Flop   \n",
       "Kempf        Flop     Flop  Flop  Flop    Flop   Flop  Flop         Flop   \n",
       "Langkamp     Flop     Flop   Top  Flop    Flop    Top  Flop         Flop   \n",
       "Maroh        Flop     Flop   Top  Flop    Flop    Top  Flop         Flop   \n",
       "Wollscheid   Flop     Flop   Top  Flop    Flop   Flop  Flop          Top   \n",
       "Oczipka      Flop     Flop   Top  Flop     Top    Top  Flop         Flop   \n",
       "Badstuber    Flop      Top   Top  Flop    Flop   Flop  Flop         Flop   \n",
       "Caldirola    Flop     Flop   Top  Flop    Flop   Flop  Flop         Flop   \n",
       "Sakai        Flop     Flop   Top  Flop     Top    Top  Flop         Flop   \n",
       "Tisserand    Flop     Flop  Flop  Flop    Flop    Top  Flop         Flop   \n",
       "Klostermann  Flop     Flop  Flop  Flop    Flop   Flop  Flop          Top   \n",
       "Passlack     Flop     Flop  Flop  Flop    Flop   Flop  Flop         Flop   \n",
       "Gnter        Flop     Flop  Flop  Flop     Top    Top   Top         Flop   \n",
       "Russ         Flop     Flop   Top  Flop    Flop   Flop  Flop          Top   \n",
       "Aogo         Flop     Flop   Top  Flop    Flop   Flop  Flop         Flop   \n",
       "Naldo        Flop      Top   Top  Flop    Flop   Flop   Top          Top   \n",
       "Mavraj       Flop     Flop   Top  Flop    Flop   Flop  Flop         Flop   \n",
       "Trsch        Flop      Top   Top  Flop    Flop   Flop  Flop         Flop   \n",
       "Brosinski    Flop     Flop   Top  Flop     Top    Top  Flop          Top   \n",
       "Chandler     Flop     Flop   Top  Flop     Top    Top   Top         Flop   \n",
       "Pekark       Flop     Flop   Top  Flop    Flop    Top  Flop         Flop   \n",
       "Ostrzolek    Flop     Flop   Top  Flop    Flop    Top  Flop         Flop   \n",
       "Bauer        Flop     Flop  Flop  Flop     Top    Top  Flop         Flop   \n",
       "Hadergjonaj  Flop     Flop  Flop  Flop     Top    Top  Flop         Flop   \n",
       "Bicakcic     Flop     Flop   Top  Flop    Flop    Top  Flop         Flop   \n",
       "Gebre        Flop     Flop   Top   Top     Top    Top  Flop         Flop   \n",
       "Garca        Flop     Flop   Top  Flop     Top    Top  Flop         Flop   \n",
       "Olkowski     Flop     Flop   Top  Flop    Flop   Flop  Flop         Flop   \n",
       "Bussmann     Flop     Flop   Top  Flop    Flop   Flop   Top         Flop   \n",
       "\n",
       "            passsuccess aerialswon rating positioncode  \n",
       "name                                                    \n",
       "Lewandowski        Flop        Top    Top          Top  \n",
       "Aubameyang         Flop       Flop    Top          Top  \n",
       "Mueller             Top        Top    Top          Top  \n",
       "Reus               Flop       Flop    Top          Top  \n",
       "Costa               Top       Flop    Top          Top  \n",
       "Dembele            Flop       Flop    Top          Top  \n",
       "Schuerrle          Flop       Flop    Top          Top  \n",
       "Chicharito         Flop       Flop    Top          Top  \n",
       "Embolo             Flop       Flop    Top          Top  \n",
       "Coman               Top       Flop   Flop          Top  \n",
       "Modeste            Flop        Top    Top          Top  \n",
       "Volland            Flop       Flop   Flop          Top  \n",
       "Werner             Flop       Flop    Top          Top  \n",
       "Forsberg            Top       Flop    Top          Top  \n",
       "Stindl              Top        Top    Top          Top  \n",
       "Bailey             Flop       Flop   Flop          Top  \n",
       "Konoplyanka         Top       Flop   Flop          Top  \n",
       "Pulisic            Flop       Flop    Top          Top  \n",
       "Robben              Top       Flop    Top          Top  \n",
       "Sabitzer           Flop       Flop    Top          Top  \n",
       "Ntep               Flop       Flop   Flop          Top  \n",
       "Kostic             Flop       Flop   Flop          Top  \n",
       "Burke              Flop       Flop   Flop          Top  \n",
       "Kramaric            Top       Flop    Top          Top  \n",
       "Kruse               Top        Top    Top          Top  \n",
       "Krkic               Top       Flop   Flop          Top  \n",
       "Maxim              Flop        Top    Top          Top  \n",
       "Gomez              Flop        Top    Top          Top  \n",
       "Raffael             Top       Flop    Top          Top  \n",
       "Philipp            Flop       Flop    Top          Top  \n",
       "...                 ...        ...    ...          ...  \n",
       "Schr                Top       Flop   Flop         Flop  \n",
       "Hector             Flop       Flop   Flop         Flop  \n",
       "Kempf               Top        Top   Flop         Flop  \n",
       "Langkamp            Top        Top    Top         Flop  \n",
       "Maroh               Top       Flop   Flop         Flop  \n",
       "Wollscheid          Top        Top    Top         Flop  \n",
       "Oczipka             Top       Flop    Top         Flop  \n",
       "Badstuber           Top        Top   Flop         Flop  \n",
       "Caldirola          Flop        Top   Flop         Flop  \n",
       "Sakai              Flop       Flop   Flop         Flop  \n",
       "Tisserand          Flop        Top   Flop         Flop  \n",
       "Klostermann        Flop       Flop   Flop         Flop  \n",
       "Passlack            Top       Flop   Flop         Flop  \n",
       "Gnter              Flop       Flop   Flop         Flop  \n",
       "Russ                Top       Flop   Flop         Flop  \n",
       "Aogo                Top       Flop   Flop         Flop  \n",
       "Naldo               Top        Top    Top         Flop  \n",
       "Mavraj              Top        Top    Top         Flop  \n",
       "Trsch              Flop       Flop    Top         Flop  \n",
       "Brosinski          Flop       Flop   Flop         Flop  \n",
       "Chandler           Flop        Top    Top         Flop  \n",
       "Pekark              Top       Flop   Flop         Flop  \n",
       "Ostrzolek          Flop        Top   Flop         Flop  \n",
       "Bauer              Flop       Flop    Top         Flop  \n",
       "Hadergjonaj        Flop        Top    Top         Flop  \n",
       "Bicakcic            Top        Top   Flop         Flop  \n",
       "Gebre               Top        Top    Top         Flop  \n",
       "Garca              Flop        Top    Top         Flop  \n",
       "Olkowski           Flop        Top    Top         Flop  \n",
       "Bussmann           Flop        Top    Top         Flop  \n",
       "\n",
       "[291 rows x 12 columns]"
      ]
     },
     "execution_count": 306,
     "metadata": {},
     "output_type": "execute_result"
    }
   ],
   "source": [
    "def top_or_flop(s):\n",
    "    q = s.copy()\n",
    "    q.loc[ s >= s.mean()] = \"Top\"\n",
    "    q.loc[ s < s.mean()] = \"Flop\"\n",
    "    return q\n",
    "\n",
    "top_or_flop(df['value'])\n",
    "df_num.apply(top_or_flop)"
   ]
  },
  {
   "cell_type": "markdown",
   "metadata": {},
   "source": [
    "### Other Useful Methods\n",
    "\n",
    "#### drop"
   ]
  },
  {
   "cell_type": "code",
   "execution_count": 92,
   "metadata": {
    "collapsed": false
   },
   "outputs": [
    {
     "data": {
      "text/html": [
       "<div>\n",
       "<table border=\"1\" class=\"dataframe\">\n",
       "  <thead>\n",
       "    <tr style=\"text-align: right;\">\n",
       "      <th></th>\n",
       "      <th>position</th>\n",
       "      <th>value</th>\n",
       "      <th>valuemax</th>\n",
       "      <th>age</th>\n",
       "      <th>goals</th>\n",
       "      <th>assists</th>\n",
       "      <th>yellow</th>\n",
       "      <th>red</th>\n",
       "      <th>shotspergame</th>\n",
       "      <th>passsuccess</th>\n",
       "      <th>aerialswon</th>\n",
       "      <th>rating</th>\n",
       "      <th>positioncode</th>\n",
       "      <th>first_name</th>\n",
       "    </tr>\n",
       "    <tr>\n",
       "      <th>name</th>\n",
       "      <th></th>\n",
       "      <th></th>\n",
       "      <th></th>\n",
       "      <th></th>\n",
       "      <th></th>\n",
       "      <th></th>\n",
       "      <th></th>\n",
       "      <th></th>\n",
       "      <th></th>\n",
       "      <th></th>\n",
       "      <th></th>\n",
       "      <th></th>\n",
       "      <th></th>\n",
       "      <th></th>\n",
       "    </tr>\n",
       "  </thead>\n",
       "  <tbody>\n",
       "    <tr>\n",
       "      <th>Aubameyang</th>\n",
       "      <td>striker</td>\n",
       "      <td>65.0</td>\n",
       "      <td>65.0</td>\n",
       "      <td>27</td>\n",
       "      <td>29</td>\n",
       "      <td>2</td>\n",
       "      <td>3</td>\n",
       "      <td>0</td>\n",
       "      <td>3.6</td>\n",
       "      <td>70.3</td>\n",
       "      <td>1.3</td>\n",
       "      <td>7.40</td>\n",
       "      <td>3</td>\n",
       "      <td>Pierre-Emerick</td>\n",
       "    </tr>\n",
       "    <tr>\n",
       "      <th>Mueller</th>\n",
       "      <td>striker</td>\n",
       "      <td>60.0</td>\n",
       "      <td>75.0</td>\n",
       "      <td>27</td>\n",
       "      <td>5</td>\n",
       "      <td>12</td>\n",
       "      <td>0</td>\n",
       "      <td>0</td>\n",
       "      <td>2.2</td>\n",
       "      <td>76.2</td>\n",
       "      <td>1.8</td>\n",
       "      <td>7.30</td>\n",
       "      <td>3</td>\n",
       "      <td>Thomas</td>\n",
       "    </tr>\n",
       "    <tr>\n",
       "      <th>Reus</th>\n",
       "      <td>striker</td>\n",
       "      <td>40.0</td>\n",
       "      <td>50.0</td>\n",
       "      <td>27</td>\n",
       "      <td>5</td>\n",
       "      <td>4</td>\n",
       "      <td>1</td>\n",
       "      <td>1</td>\n",
       "      <td>2.3</td>\n",
       "      <td>74.6</td>\n",
       "      <td>0.4</td>\n",
       "      <td>7.03</td>\n",
       "      <td>3</td>\n",
       "      <td>Marco</td>\n",
       "    </tr>\n",
       "    <tr>\n",
       "      <th>Costa</th>\n",
       "      <td>striker</td>\n",
       "      <td>30.0</td>\n",
       "      <td>35.0</td>\n",
       "      <td>26</td>\n",
       "      <td>4</td>\n",
       "      <td>3</td>\n",
       "      <td>2</td>\n",
       "      <td>0</td>\n",
       "      <td>1.9</td>\n",
       "      <td>80.2</td>\n",
       "      <td>0.1</td>\n",
       "      <td>7.17</td>\n",
       "      <td>3</td>\n",
       "      <td>Douglas</td>\n",
       "    </tr>\n",
       "    <tr>\n",
       "      <th>Dembele</th>\n",
       "      <td>striker</td>\n",
       "      <td>28.0</td>\n",
       "      <td>28.0</td>\n",
       "      <td>20</td>\n",
       "      <td>6</td>\n",
       "      <td>11</td>\n",
       "      <td>6</td>\n",
       "      <td>0</td>\n",
       "      <td>1.6</td>\n",
       "      <td>66.8</td>\n",
       "      <td>0.2</td>\n",
       "      <td>7.41</td>\n",
       "      <td>3</td>\n",
       "      <td>Ousmane</td>\n",
       "    </tr>\n",
       "  </tbody>\n",
       "</table>\n",
       "</div>"
      ],
      "text/plain": [
       "           position  value  valuemax  age  goals  assists  yellow  red  \\\n",
       "name                                                                     \n",
       "Aubameyang  striker   65.0      65.0   27     29        2       3    0   \n",
       "Mueller     striker   60.0      75.0   27      5       12       0    0   \n",
       "Reus        striker   40.0      50.0   27      5        4       1    1   \n",
       "Costa       striker   30.0      35.0   26      4        3       2    0   \n",
       "Dembele     striker   28.0      28.0   20      6       11       6    0   \n",
       "\n",
       "            shotspergame  passsuccess  aerialswon  rating  positioncode  \\\n",
       "name                                                                      \n",
       "Aubameyang           3.6         70.3         1.3    7.40             3   \n",
       "Mueller              2.2         76.2         1.8    7.30             3   \n",
       "Reus                 2.3         74.6         0.4    7.03             3   \n",
       "Costa                1.9         80.2         0.1    7.17             3   \n",
       "Dembele              1.6         66.8         0.2    7.41             3   \n",
       "\n",
       "                first_name  \n",
       "name                        \n",
       "Aubameyang  Pierre-Emerick  \n",
       "Mueller             Thomas  \n",
       "Reus                 Marco  \n",
       "Costa              Douglas  \n",
       "Dembele            Ousmane  "
      ]
     },
     "execution_count": 92,
     "metadata": {},
     "output_type": "execute_result"
    }
   ],
   "source": [
    "df.drop('Lewandowski').head()"
   ]
  },
  {
   "cell_type": "markdown",
   "metadata": {},
   "source": [
    "You can use **drop** to erase a column; in this case you need to set the axis argument to 1:"
   ]
  },
  {
   "cell_type": "code",
   "execution_count": 93,
   "metadata": {
    "collapsed": false
   },
   "outputs": [
    {
     "data": {
      "text/html": [
       "<div>\n",
       "<table border=\"1\" class=\"dataframe\">\n",
       "  <thead>\n",
       "    <tr style=\"text-align: right;\">\n",
       "      <th></th>\n",
       "      <th>position</th>\n",
       "      <th>value</th>\n",
       "      <th>valuemax</th>\n",
       "      <th>age</th>\n",
       "      <th>goals</th>\n",
       "      <th>assists</th>\n",
       "      <th>yellow</th>\n",
       "      <th>shotspergame</th>\n",
       "      <th>passsuccess</th>\n",
       "      <th>aerialswon</th>\n",
       "      <th>rating</th>\n",
       "      <th>positioncode</th>\n",
       "      <th>first_name</th>\n",
       "    </tr>\n",
       "    <tr>\n",
       "      <th>name</th>\n",
       "      <th></th>\n",
       "      <th></th>\n",
       "      <th></th>\n",
       "      <th></th>\n",
       "      <th></th>\n",
       "      <th></th>\n",
       "      <th></th>\n",
       "      <th></th>\n",
       "      <th></th>\n",
       "      <th></th>\n",
       "      <th></th>\n",
       "      <th></th>\n",
       "      <th></th>\n",
       "    </tr>\n",
       "  </thead>\n",
       "  <tbody>\n",
       "    <tr>\n",
       "      <th>Lewandowski</th>\n",
       "      <td>striker</td>\n",
       "      <td>80.0</td>\n",
       "      <td>80.0</td>\n",
       "      <td>28</td>\n",
       "      <td>30</td>\n",
       "      <td>4</td>\n",
       "      <td>5</td>\n",
       "      <td>4.2</td>\n",
       "      <td>75.0</td>\n",
       "      <td>1.8</td>\n",
       "      <td>7.71</td>\n",
       "      <td>3</td>\n",
       "      <td>Robert</td>\n",
       "    </tr>\n",
       "    <tr>\n",
       "      <th>Aubameyang</th>\n",
       "      <td>striker</td>\n",
       "      <td>65.0</td>\n",
       "      <td>65.0</td>\n",
       "      <td>27</td>\n",
       "      <td>29</td>\n",
       "      <td>2</td>\n",
       "      <td>3</td>\n",
       "      <td>3.6</td>\n",
       "      <td>70.3</td>\n",
       "      <td>1.3</td>\n",
       "      <td>7.40</td>\n",
       "      <td>3</td>\n",
       "      <td>Pierre-Emerick</td>\n",
       "    </tr>\n",
       "    <tr>\n",
       "      <th>Mueller</th>\n",
       "      <td>striker</td>\n",
       "      <td>60.0</td>\n",
       "      <td>75.0</td>\n",
       "      <td>27</td>\n",
       "      <td>5</td>\n",
       "      <td>12</td>\n",
       "      <td>0</td>\n",
       "      <td>2.2</td>\n",
       "      <td>76.2</td>\n",
       "      <td>1.8</td>\n",
       "      <td>7.30</td>\n",
       "      <td>3</td>\n",
       "      <td>Thomas</td>\n",
       "    </tr>\n",
       "    <tr>\n",
       "      <th>Reus</th>\n",
       "      <td>striker</td>\n",
       "      <td>40.0</td>\n",
       "      <td>50.0</td>\n",
       "      <td>27</td>\n",
       "      <td>5</td>\n",
       "      <td>4</td>\n",
       "      <td>1</td>\n",
       "      <td>2.3</td>\n",
       "      <td>74.6</td>\n",
       "      <td>0.4</td>\n",
       "      <td>7.03</td>\n",
       "      <td>3</td>\n",
       "      <td>Marco</td>\n",
       "    </tr>\n",
       "    <tr>\n",
       "      <th>Costa</th>\n",
       "      <td>striker</td>\n",
       "      <td>30.0</td>\n",
       "      <td>35.0</td>\n",
       "      <td>26</td>\n",
       "      <td>4</td>\n",
       "      <td>3</td>\n",
       "      <td>2</td>\n",
       "      <td>1.9</td>\n",
       "      <td>80.2</td>\n",
       "      <td>0.1</td>\n",
       "      <td>7.17</td>\n",
       "      <td>3</td>\n",
       "      <td>Douglas</td>\n",
       "    </tr>\n",
       "  </tbody>\n",
       "</table>\n",
       "</div>"
      ],
      "text/plain": [
       "            position  value  valuemax  age  goals  assists  yellow  \\\n",
       "name                                                                 \n",
       "Lewandowski  striker   80.0      80.0   28     30        4       5   \n",
       "Aubameyang   striker   65.0      65.0   27     29        2       3   \n",
       "Mueller      striker   60.0      75.0   27      5       12       0   \n",
       "Reus         striker   40.0      50.0   27      5        4       1   \n",
       "Costa        striker   30.0      35.0   26      4        3       2   \n",
       "\n",
       "             shotspergame  passsuccess  aerialswon  rating  positioncode  \\\n",
       "name                                                                       \n",
       "Lewandowski           4.2         75.0         1.8    7.71             3   \n",
       "Aubameyang            3.6         70.3         1.3    7.40             3   \n",
       "Mueller               2.2         76.2         1.8    7.30             3   \n",
       "Reus                  2.3         74.6         0.4    7.03             3   \n",
       "Costa                 1.9         80.2         0.1    7.17             3   \n",
       "\n",
       "                 first_name  \n",
       "name                         \n",
       "Lewandowski          Robert  \n",
       "Aubameyang   Pierre-Emerick  \n",
       "Mueller              Thomas  \n",
       "Reus                  Marco  \n",
       "Costa               Douglas  "
      ]
     },
     "execution_count": 93,
     "metadata": {},
     "output_type": "execute_result"
    }
   ],
   "source": [
    "df.drop('red', axis = 1).head()"
   ]
  },
  {
   "cell_type": "markdown",
   "metadata": {},
   "source": []
  },
  {
   "cell_type": "code",
   "execution_count": 96,
   "metadata": {
    "collapsed": false
   },
   "outputs": [
    {
     "ename": "ValueError",
     "evalue": "labels ['position'] not contained in axis",
     "output_type": "error",
     "traceback": [
      "\u001b[0;31m---------------------------------------------------------------------------\u001b[0m",
      "\u001b[0;31mValueError\u001b[0m                                Traceback (most recent call last)",
      "\u001b[0;32m<ipython-input-96-25614a6fea27>\u001b[0m in \u001b[0;36m<module>\u001b[0;34m()\u001b[0m\n\u001b[0;32m----> 1\u001b[0;31m \u001b[0mdf\u001b[0m\u001b[0;34m.\u001b[0m\u001b[0mdrop\u001b[0m\u001b[0;34m(\u001b[0m\u001b[0;34m'position'\u001b[0m\u001b[0;34m,\u001b[0m \u001b[0maxis\u001b[0m \u001b[0;34m=\u001b[0m \u001b[0;36m1\u001b[0m\u001b[0;34m,\u001b[0m \u001b[0minplace\u001b[0m \u001b[0;34m=\u001b[0m \u001b[0;32mTrue\u001b[0m\u001b[0;34m)\u001b[0m\u001b[0;34m\u001b[0m\u001b[0m\n\u001b[0m\u001b[1;32m      2\u001b[0m \u001b[0mdf\u001b[0m\u001b[0;34m.\u001b[0m\u001b[0mhead\u001b[0m\u001b[0;34m(\u001b[0m\u001b[0;34m)\u001b[0m\u001b[0;34m\u001b[0m\u001b[0m\n",
      "\u001b[0;32m/Users/Moony/anaconda/envs/py35/lib/python3.5/site-packages/pandas/core/generic.py\u001b[0m in \u001b[0;36mdrop\u001b[0;34m(self, labels, axis, level, inplace, errors)\u001b[0m\n\u001b[1;32m   1905\u001b[0m                 \u001b[0mnew_axis\u001b[0m \u001b[0;34m=\u001b[0m \u001b[0maxis\u001b[0m\u001b[0;34m.\u001b[0m\u001b[0mdrop\u001b[0m\u001b[0;34m(\u001b[0m\u001b[0mlabels\u001b[0m\u001b[0;34m,\u001b[0m \u001b[0mlevel\u001b[0m\u001b[0;34m=\u001b[0m\u001b[0mlevel\u001b[0m\u001b[0;34m,\u001b[0m \u001b[0merrors\u001b[0m\u001b[0;34m=\u001b[0m\u001b[0merrors\u001b[0m\u001b[0;34m)\u001b[0m\u001b[0;34m\u001b[0m\u001b[0m\n\u001b[1;32m   1906\u001b[0m             \u001b[0;32melse\u001b[0m\u001b[0;34m:\u001b[0m\u001b[0;34m\u001b[0m\u001b[0m\n\u001b[0;32m-> 1907\u001b[0;31m                 \u001b[0mnew_axis\u001b[0m \u001b[0;34m=\u001b[0m \u001b[0maxis\u001b[0m\u001b[0;34m.\u001b[0m\u001b[0mdrop\u001b[0m\u001b[0;34m(\u001b[0m\u001b[0mlabels\u001b[0m\u001b[0;34m,\u001b[0m \u001b[0merrors\u001b[0m\u001b[0;34m=\u001b[0m\u001b[0merrors\u001b[0m\u001b[0;34m)\u001b[0m\u001b[0;34m\u001b[0m\u001b[0m\n\u001b[0m\u001b[1;32m   1908\u001b[0m             \u001b[0mdropped\u001b[0m \u001b[0;34m=\u001b[0m \u001b[0mself\u001b[0m\u001b[0;34m.\u001b[0m\u001b[0mreindex\u001b[0m\u001b[0;34m(\u001b[0m\u001b[0;34m**\u001b[0m\u001b[0;34m{\u001b[0m\u001b[0maxis_name\u001b[0m\u001b[0;34m:\u001b[0m \u001b[0mnew_axis\u001b[0m\u001b[0;34m}\u001b[0m\u001b[0;34m)\u001b[0m\u001b[0;34m\u001b[0m\u001b[0m\n\u001b[1;32m   1909\u001b[0m             \u001b[0;32mtry\u001b[0m\u001b[0;34m:\u001b[0m\u001b[0;34m\u001b[0m\u001b[0m\n",
      "\u001b[0;32m/Users/Moony/anaconda/envs/py35/lib/python3.5/site-packages/pandas/indexes/base.py\u001b[0m in \u001b[0;36mdrop\u001b[0;34m(self, labels, errors)\u001b[0m\n\u001b[1;32m   3260\u001b[0m             \u001b[0;32mif\u001b[0m \u001b[0merrors\u001b[0m \u001b[0;34m!=\u001b[0m \u001b[0;34m'ignore'\u001b[0m\u001b[0;34m:\u001b[0m\u001b[0;34m\u001b[0m\u001b[0m\n\u001b[1;32m   3261\u001b[0m                 raise ValueError('labels %s not contained in axis' %\n\u001b[0;32m-> 3262\u001b[0;31m                                  labels[mask])\n\u001b[0m\u001b[1;32m   3263\u001b[0m             \u001b[0mindexer\u001b[0m \u001b[0;34m=\u001b[0m \u001b[0mindexer\u001b[0m\u001b[0;34m[\u001b[0m\u001b[0;34m~\u001b[0m\u001b[0mmask\u001b[0m\u001b[0;34m]\u001b[0m\u001b[0;34m\u001b[0m\u001b[0m\n\u001b[1;32m   3264\u001b[0m         \u001b[0;32mreturn\u001b[0m \u001b[0mself\u001b[0m\u001b[0;34m.\u001b[0m\u001b[0mdelete\u001b[0m\u001b[0;34m(\u001b[0m\u001b[0mindexer\u001b[0m\u001b[0;34m)\u001b[0m\u001b[0;34m\u001b[0m\u001b[0m\n",
      "\u001b[0;31mValueError\u001b[0m: labels ['position'] not contained in axis"
     ]
    }
   ],
   "source": [
    "df.drop('position', axis = 1, inplace = True)\n",
    "df.head()"
   ]
  },
  {
   "cell_type": "markdown",
   "metadata": {},
   "source": [
    "#### sort"
   ]
  },
  {
   "cell_type": "code",
   "execution_count": 97,
   "metadata": {
    "collapsed": false
   },
   "outputs": [
    {
     "data": {
      "text/html": [
       "<div>\n",
       "<table border=\"1\" class=\"dataframe\">\n",
       "  <thead>\n",
       "    <tr style=\"text-align: right;\">\n",
       "      <th></th>\n",
       "      <th>value</th>\n",
       "      <th>valuemax</th>\n",
       "      <th>age</th>\n",
       "      <th>goals</th>\n",
       "      <th>assists</th>\n",
       "      <th>yellow</th>\n",
       "      <th>red</th>\n",
       "      <th>shotspergame</th>\n",
       "      <th>passsuccess</th>\n",
       "      <th>aerialswon</th>\n",
       "      <th>rating</th>\n",
       "      <th>positioncode</th>\n",
       "      <th>first_name</th>\n",
       "    </tr>\n",
       "    <tr>\n",
       "      <th>name</th>\n",
       "      <th></th>\n",
       "      <th></th>\n",
       "      <th></th>\n",
       "      <th></th>\n",
       "      <th></th>\n",
       "      <th></th>\n",
       "      <th></th>\n",
       "      <th></th>\n",
       "      <th></th>\n",
       "      <th></th>\n",
       "      <th></th>\n",
       "      <th></th>\n",
       "      <th></th>\n",
       "    </tr>\n",
       "  </thead>\n",
       "  <tbody>\n",
       "    <tr>\n",
       "      <th>Abraham</th>\n",
       "      <td>4.0</td>\n",
       "      <td>4.0</td>\n",
       "      <td>30</td>\n",
       "      <td>1</td>\n",
       "      <td>2</td>\n",
       "      <td>5</td>\n",
       "      <td>1</td>\n",
       "      <td>0.5</td>\n",
       "      <td>83.0</td>\n",
       "      <td>2.9</td>\n",
       "      <td>7.07</td>\n",
       "      <td>1</td>\n",
       "      <td>David</td>\n",
       "    </tr>\n",
       "    <tr>\n",
       "      <th>Abrashi</th>\n",
       "      <td>2.5</td>\n",
       "      <td>2.5</td>\n",
       "      <td>27</td>\n",
       "      <td>1</td>\n",
       "      <td>0</td>\n",
       "      <td>3</td>\n",
       "      <td>0</td>\n",
       "      <td>0.5</td>\n",
       "      <td>77.0</td>\n",
       "      <td>1.6</td>\n",
       "      <td>6.60</td>\n",
       "      <td>2</td>\n",
       "      <td>Amir</td>\n",
       "    </tr>\n",
       "    <tr>\n",
       "      <th>Alaba</th>\n",
       "      <td>40.0</td>\n",
       "      <td>45.0</td>\n",
       "      <td>24</td>\n",
       "      <td>4</td>\n",
       "      <td>4</td>\n",
       "      <td>1</td>\n",
       "      <td>0</td>\n",
       "      <td>1.0</td>\n",
       "      <td>88.3</td>\n",
       "      <td>0.7</td>\n",
       "      <td>7.15</td>\n",
       "      <td>1</td>\n",
       "      <td>David</td>\n",
       "    </tr>\n",
       "    <tr>\n",
       "      <th>Alonso</th>\n",
       "      <td>3.5</td>\n",
       "      <td>35.0</td>\n",
       "      <td>35</td>\n",
       "      <td>3</td>\n",
       "      <td>1</td>\n",
       "      <td>6</td>\n",
       "      <td>0</td>\n",
       "      <td>0.9</td>\n",
       "      <td>89.3</td>\n",
       "      <td>1.6</td>\n",
       "      <td>7.20</td>\n",
       "      <td>2</td>\n",
       "      <td>Xabi</td>\n",
       "    </tr>\n",
       "    <tr>\n",
       "      <th>Amiri</th>\n",
       "      <td>7.0</td>\n",
       "      <td>7.0</td>\n",
       "      <td>20</td>\n",
       "      <td>2</td>\n",
       "      <td>4</td>\n",
       "      <td>2</td>\n",
       "      <td>0</td>\n",
       "      <td>1.4</td>\n",
       "      <td>83.6</td>\n",
       "      <td>0.3</td>\n",
       "      <td>6.74</td>\n",
       "      <td>2</td>\n",
       "      <td>Nadiem</td>\n",
       "    </tr>\n",
       "  </tbody>\n",
       "</table>\n",
       "</div>"
      ],
      "text/plain": [
       "         value  valuemax  age  goals  assists  yellow  red  shotspergame  \\\n",
       "name                                                                       \n",
       "Abraham    4.0       4.0   30      1        2       5    1           0.5   \n",
       "Abrashi    2.5       2.5   27      1        0       3    0           0.5   \n",
       "Alaba     40.0      45.0   24      4        4       1    0           1.0   \n",
       "Alonso     3.5      35.0   35      3        1       6    0           0.9   \n",
       "Amiri      7.0       7.0   20      2        4       2    0           1.4   \n",
       "\n",
       "         passsuccess  aerialswon  rating  positioncode first_name  \n",
       "name                                                               \n",
       "Abraham         83.0         2.9    7.07             1      David  \n",
       "Abrashi         77.0         1.6    6.60             2       Amir  \n",
       "Alaba           88.3         0.7    7.15             1      David  \n",
       "Alonso          89.3         1.6    7.20             2       Xabi  \n",
       "Amiri           83.6         0.3    6.74             2     Nadiem  "
      ]
     },
     "execution_count": 97,
     "metadata": {},
     "output_type": "execute_result"
    }
   ],
   "source": [
    "df.sort_index(inplace = True)\n",
    "df.head()"
   ]
  },
  {
   "cell_type": "code",
   "execution_count": 98,
   "metadata": {
    "collapsed": false
   },
   "outputs": [
    {
     "data": {
      "text/html": [
       "<div>\n",
       "<table border=\"1\" class=\"dataframe\">\n",
       "  <thead>\n",
       "    <tr style=\"text-align: right;\">\n",
       "      <th></th>\n",
       "      <th>value</th>\n",
       "      <th>valuemax</th>\n",
       "      <th>age</th>\n",
       "      <th>goals</th>\n",
       "      <th>assists</th>\n",
       "      <th>yellow</th>\n",
       "      <th>red</th>\n",
       "      <th>shotspergame</th>\n",
       "      <th>passsuccess</th>\n",
       "      <th>aerialswon</th>\n",
       "      <th>rating</th>\n",
       "      <th>positioncode</th>\n",
       "      <th>first_name</th>\n",
       "    </tr>\n",
       "    <tr>\n",
       "      <th>name</th>\n",
       "      <th></th>\n",
       "      <th></th>\n",
       "      <th></th>\n",
       "      <th></th>\n",
       "      <th></th>\n",
       "      <th></th>\n",
       "      <th></th>\n",
       "      <th></th>\n",
       "      <th></th>\n",
       "      <th></th>\n",
       "      <th></th>\n",
       "      <th></th>\n",
       "      <th></th>\n",
       "    </tr>\n",
       "  </thead>\n",
       "  <tbody>\n",
       "    <tr>\n",
       "      <th>Havertz</th>\n",
       "      <td>5.0</td>\n",
       "      <td>5.0</td>\n",
       "      <td>17</td>\n",
       "      <td>2</td>\n",
       "      <td>5</td>\n",
       "      <td>2</td>\n",
       "      <td>0</td>\n",
       "      <td>1.2</td>\n",
       "      <td>72.9</td>\n",
       "      <td>3.6</td>\n",
       "      <td>6.86</td>\n",
       "      <td>2</td>\n",
       "      <td>Kai</td>\n",
       "    </tr>\n",
       "    <tr>\n",
       "      <th>Osimhen</th>\n",
       "      <td>1.0</td>\n",
       "      <td>1.0</td>\n",
       "      <td>18</td>\n",
       "      <td>0</td>\n",
       "      <td>0</td>\n",
       "      <td>1</td>\n",
       "      <td>0</td>\n",
       "      <td>1.0</td>\n",
       "      <td>72.7</td>\n",
       "      <td>1.0</td>\n",
       "      <td>6.26</td>\n",
       "      <td>3</td>\n",
       "      <td>Victor</td>\n",
       "    </tr>\n",
       "    <tr>\n",
       "      <th>Passlack</th>\n",
       "      <td>3.0</td>\n",
       "      <td>3.0</td>\n",
       "      <td>18</td>\n",
       "      <td>0</td>\n",
       "      <td>0</td>\n",
       "      <td>1</td>\n",
       "      <td>0</td>\n",
       "      <td>0.3</td>\n",
       "      <td>89.6</td>\n",
       "      <td>0.4</td>\n",
       "      <td>6.62</td>\n",
       "      <td>1</td>\n",
       "      <td>Felix</td>\n",
       "    </tr>\n",
       "    <tr>\n",
       "      <th>Pulisic</th>\n",
       "      <td>12.0</td>\n",
       "      <td>12.0</td>\n",
       "      <td>18</td>\n",
       "      <td>3</td>\n",
       "      <td>6</td>\n",
       "      <td>1</td>\n",
       "      <td>0</td>\n",
       "      <td>1.0</td>\n",
       "      <td>73.1</td>\n",
       "      <td>0.7</td>\n",
       "      <td>6.84</td>\n",
       "      <td>3</td>\n",
       "      <td>Christian</td>\n",
       "    </tr>\n",
       "    <tr>\n",
       "      <th>Upamecano</th>\n",
       "      <td>5.0</td>\n",
       "      <td>5.0</td>\n",
       "      <td>18</td>\n",
       "      <td>0</td>\n",
       "      <td>0</td>\n",
       "      <td>3</td>\n",
       "      <td>0</td>\n",
       "      <td>0.1</td>\n",
       "      <td>77.3</td>\n",
       "      <td>2.8</td>\n",
       "      <td>6.78</td>\n",
       "      <td>1</td>\n",
       "      <td>Dayot</td>\n",
       "    </tr>\n",
       "  </tbody>\n",
       "</table>\n",
       "</div>"
      ],
      "text/plain": [
       "           value  valuemax  age  goals  assists  yellow  red  shotspergame  \\\n",
       "name                                                                         \n",
       "Havertz      5.0       5.0   17      2        5       2    0           1.2   \n",
       "Osimhen      1.0       1.0   18      0        0       1    0           1.0   \n",
       "Passlack     3.0       3.0   18      0        0       1    0           0.3   \n",
       "Pulisic     12.0      12.0   18      3        6       1    0           1.0   \n",
       "Upamecano    5.0       5.0   18      0        0       3    0           0.1   \n",
       "\n",
       "           passsuccess  aerialswon  rating  positioncode first_name  \n",
       "name                                                                 \n",
       "Havertz           72.9         3.6    6.86             2        Kai  \n",
       "Osimhen           72.7         1.0    6.26             3     Victor  \n",
       "Passlack          89.6         0.4    6.62             1      Felix  \n",
       "Pulisic           73.1         0.7    6.84             3  Christian  \n",
       "Upamecano         77.3         2.8    6.78             1      Dayot  "
      ]
     },
     "execution_count": 98,
     "metadata": {},
     "output_type": "execute_result"
    }
   ],
   "source": [
    "df.sort_values('age', inplace = True)\n",
    "df.head()"
   ]
  },
  {
   "cell_type": "code",
   "execution_count": 99,
   "metadata": {
    "collapsed": false
   },
   "outputs": [
    {
     "data": {
      "text/html": [
       "<div>\n",
       "<table border=\"1\" class=\"dataframe\">\n",
       "  <thead>\n",
       "    <tr style=\"text-align: right;\">\n",
       "      <th></th>\n",
       "      <th>value</th>\n",
       "      <th>valuemax</th>\n",
       "      <th>age</th>\n",
       "      <th>goals</th>\n",
       "      <th>assists</th>\n",
       "      <th>yellow</th>\n",
       "      <th>red</th>\n",
       "      <th>shotspergame</th>\n",
       "      <th>passsuccess</th>\n",
       "      <th>aerialswon</th>\n",
       "      <th>rating</th>\n",
       "      <th>positioncode</th>\n",
       "      <th>first_name</th>\n",
       "    </tr>\n",
       "    <tr>\n",
       "      <th>name</th>\n",
       "      <th></th>\n",
       "      <th></th>\n",
       "      <th></th>\n",
       "      <th></th>\n",
       "      <th></th>\n",
       "      <th></th>\n",
       "      <th></th>\n",
       "      <th></th>\n",
       "      <th></th>\n",
       "      <th></th>\n",
       "      <th></th>\n",
       "      <th></th>\n",
       "      <th></th>\n",
       "    </tr>\n",
       "  </thead>\n",
       "  <tbody>\n",
       "    <tr>\n",
       "      <th>Pizarro</th>\n",
       "      <td>1.0</td>\n",
       "      <td>12.5</td>\n",
       "      <td>38</td>\n",
       "      <td>1</td>\n",
       "      <td>1</td>\n",
       "      <td>1</td>\n",
       "      <td>0</td>\n",
       "      <td>1.1</td>\n",
       "      <td>65.6</td>\n",
       "      <td>1.6</td>\n",
       "      <td>6.51</td>\n",
       "      <td>3</td>\n",
       "      <td>Claudio</td>\n",
       "    </tr>\n",
       "    <tr>\n",
       "      <th>Alonso</th>\n",
       "      <td>3.5</td>\n",
       "      <td>35.0</td>\n",
       "      <td>35</td>\n",
       "      <td>3</td>\n",
       "      <td>1</td>\n",
       "      <td>6</td>\n",
       "      <td>0</td>\n",
       "      <td>0.9</td>\n",
       "      <td>89.3</td>\n",
       "      <td>1.6</td>\n",
       "      <td>7.20</td>\n",
       "      <td>2</td>\n",
       "      <td>Xabi</td>\n",
       "    </tr>\n",
       "    <tr>\n",
       "      <th>Ribery</th>\n",
       "      <td>8.0</td>\n",
       "      <td>50.0</td>\n",
       "      <td>34</td>\n",
       "      <td>4</td>\n",
       "      <td>11</td>\n",
       "      <td>2</td>\n",
       "      <td>0</td>\n",
       "      <td>1.0</td>\n",
       "      <td>83.7</td>\n",
       "      <td>0.4</td>\n",
       "      <td>7.39</td>\n",
       "      <td>2</td>\n",
       "      <td>Franck</td>\n",
       "    </tr>\n",
       "    <tr>\n",
       "      <th>Meier</th>\n",
       "      <td>2.0</td>\n",
       "      <td>4.5</td>\n",
       "      <td>34</td>\n",
       "      <td>5</td>\n",
       "      <td>2</td>\n",
       "      <td>1</td>\n",
       "      <td>0</td>\n",
       "      <td>2.1</td>\n",
       "      <td>65.0</td>\n",
       "      <td>3.4</td>\n",
       "      <td>6.78</td>\n",
       "      <td>3</td>\n",
       "      <td>Alexander</td>\n",
       "    </tr>\n",
       "    <tr>\n",
       "      <th>Naldo</th>\n",
       "      <td>2.5</td>\n",
       "      <td>12.5</td>\n",
       "      <td>34</td>\n",
       "      <td>1</td>\n",
       "      <td>0</td>\n",
       "      <td>1</td>\n",
       "      <td>1</td>\n",
       "      <td>1.4</td>\n",
       "      <td>85.1</td>\n",
       "      <td>3.4</td>\n",
       "      <td>7.25</td>\n",
       "      <td>1</td>\n",
       "      <td>None</td>\n",
       "    </tr>\n",
       "  </tbody>\n",
       "</table>\n",
       "</div>"
      ],
      "text/plain": [
       "         value  valuemax  age  goals  assists  yellow  red  shotspergame  \\\n",
       "name                                                                       \n",
       "Pizarro    1.0      12.5   38      1        1       1    0           1.1   \n",
       "Alonso     3.5      35.0   35      3        1       6    0           0.9   \n",
       "Ribery     8.0      50.0   34      4       11       2    0           1.0   \n",
       "Meier      2.0       4.5   34      5        2       1    0           2.1   \n",
       "Naldo      2.5      12.5   34      1        0       1    1           1.4   \n",
       "\n",
       "         passsuccess  aerialswon  rating  positioncode first_name  \n",
       "name                                                               \n",
       "Pizarro         65.6         1.6    6.51             3    Claudio  \n",
       "Alonso          89.3         1.6    7.20             2       Xabi  \n",
       "Ribery          83.7         0.4    7.39             2     Franck  \n",
       "Meier           65.0         3.4    6.78             3  Alexander  \n",
       "Naldo           85.1         3.4    7.25             1       None  "
      ]
     },
     "execution_count": 99,
     "metadata": {},
     "output_type": "execute_result"
    }
   ],
   "source": [
    "df.sort_values('age', ascending = False, inplace = True)\n",
    "df.head()"
   ]
  },
  {
   "cell_type": "markdown",
   "metadata": {},
   "source": [
    "#### groupby"
   ]
  },
  {
   "cell_type": "code",
   "execution_count": 101,
   "metadata": {
    "collapsed": false
   },
   "outputs": [
    {
     "data": {
      "text/html": [
       "<div>\n",
       "<table border=\"1\" class=\"dataframe\">\n",
       "  <thead>\n",
       "    <tr style=\"text-align: right;\">\n",
       "      <th></th>\n",
       "      <th>value</th>\n",
       "      <th>valuemax</th>\n",
       "      <th>age</th>\n",
       "      <th>goals</th>\n",
       "      <th>assists</th>\n",
       "      <th>yellow</th>\n",
       "      <th>red</th>\n",
       "      <th>shotspergame</th>\n",
       "      <th>passsuccess</th>\n",
       "      <th>aerialswon</th>\n",
       "      <th>rating</th>\n",
       "    </tr>\n",
       "    <tr>\n",
       "      <th>positioncode</th>\n",
       "      <th></th>\n",
       "      <th></th>\n",
       "      <th></th>\n",
       "      <th></th>\n",
       "      <th></th>\n",
       "      <th></th>\n",
       "      <th></th>\n",
       "      <th></th>\n",
       "      <th></th>\n",
       "      <th></th>\n",
       "      <th></th>\n",
       "    </tr>\n",
       "  </thead>\n",
       "  <tbody>\n",
       "    <tr>\n",
       "      <th>1</th>\n",
       "      <td>8.123656</td>\n",
       "      <td>10.419355</td>\n",
       "      <td>25.440860</td>\n",
       "      <td>0.978495</td>\n",
       "      <td>1.118280</td>\n",
       "      <td>3.430108</td>\n",
       "      <td>0.107527</td>\n",
       "      <td>0.560215</td>\n",
       "      <td>78.470968</td>\n",
       "      <td>2.019355</td>\n",
       "      <td>6.907419</td>\n",
       "    </tr>\n",
       "    <tr>\n",
       "      <th>2</th>\n",
       "      <td>7.911616</td>\n",
       "      <td>10.322727</td>\n",
       "      <td>25.606061</td>\n",
       "      <td>2.030303</td>\n",
       "      <td>2.141414</td>\n",
       "      <td>3.313131</td>\n",
       "      <td>0.151515</td>\n",
       "      <td>0.938384</td>\n",
       "      <td>77.601010</td>\n",
       "      <td>1.195960</td>\n",
       "      <td>6.839596</td>\n",
       "    </tr>\n",
       "    <tr>\n",
       "      <th>3</th>\n",
       "      <td>8.416667</td>\n",
       "      <td>11.463542</td>\n",
       "      <td>25.614583</td>\n",
       "      <td>4.854167</td>\n",
       "      <td>2.333333</td>\n",
       "      <td>2.135417</td>\n",
       "      <td>0.145833</td>\n",
       "      <td>1.451042</td>\n",
       "      <td>68.986458</td>\n",
       "      <td>1.479167</td>\n",
       "      <td>6.703854</td>\n",
       "    </tr>\n",
       "  </tbody>\n",
       "</table>\n",
       "</div>"
      ],
      "text/plain": [
       "                 value   valuemax        age     goals   assists    yellow  \\\n",
       "positioncode                                                                 \n",
       "1             8.123656  10.419355  25.440860  0.978495  1.118280  3.430108   \n",
       "2             7.911616  10.322727  25.606061  2.030303  2.141414  3.313131   \n",
       "3             8.416667  11.463542  25.614583  4.854167  2.333333  2.135417   \n",
       "\n",
       "                   red  shotspergame  passsuccess  aerialswon    rating  \n",
       "positioncode                                                             \n",
       "1             0.107527      0.560215    78.470968    2.019355  6.907419  \n",
       "2             0.151515      0.938384    77.601010    1.195960  6.839596  \n",
       "3             0.145833      1.451042    68.986458    1.479167  6.703854  "
      ]
     },
     "execution_count": 101,
     "metadata": {},
     "output_type": "execute_result"
    }
   ],
   "source": [
    "grouped_pos = df.groupby('positioncode')\n",
    "grouped_pos.mean()"
   ]
  },
  {
   "cell_type": "code",
   "execution_count": 350,
   "metadata": {
    "collapsed": false
   },
   "outputs": [
    {
     "data": {
      "text/plain": [
       "positioncode\n",
       "1      Guerreiro\n",
       "2         Gnabry\n",
       "3    Lewandowski\n",
       "Name: goals, dtype: object"
      ]
     },
     "execution_count": 350,
     "metadata": {},
     "output_type": "execute_result"
    }
   ],
   "source": [
    "grouped_pos['goals'].apply(np.argmax)"
   ]
  },
  {
   "cell_type": "markdown",
   "metadata": {},
   "source": [
    "### Plotting"
   ]
  },
  {
   "cell_type": "code",
   "execution_count": 105,
   "metadata": {
    "collapsed": false
   },
   "outputs": [
    {
     "data": {
      "text/plain": [
       "<matplotlib.axes._subplots.AxesSubplot at 0x11bcfef60>"
      ]
     },
     "execution_count": 105,
     "metadata": {},
     "output_type": "execute_result"
    },
    {
     "data": {
      "image/png": "[encoded data removed]",
      "text/plain": [
       "<matplotlib.figure.Figure at 0x11bd06f60>"
      ]
     },
     "metadata": {},
     "output_type": "display_data"
    }
   ],
   "source": [
    "df.plot(y ='value')"
   ]
  },
  {
   "cell_type": "code",
   "execution_count": 112,
   "metadata": {
    "collapsed": false
   },
   "outputs": [
    {
     "data": {
      "text/plain": [
       "<matplotlib.axes._subplots.AxesSubplot at 0x11c4a15c0>"
      ]
     },
     "execution_count": 112,
     "metadata": {},
     "output_type": "execute_result"
    },
    {
     "data": {
      "image/png": "[encoded data removed]",
      "text/plain": [
       "<matplotlib.figure.Figure at 0x11c7eb9e8>"
      ]
     },
     "metadata": {},
     "output_type": "display_data"
    }
   ],
   "source": [
    "fig, ax = plt.subplots()\n",
    "df.plot(y ='value', ax = ax)\n",
    "df.plot(y ='goals', ax = ax)"
   ]
  },
  {
   "cell_type": "code",
   "execution_count": 108,
   "metadata": {
    "collapsed": false
   },
   "outputs": [
    {
     "data": {
      "text/plain": [
       "positioncode\n",
       "1    Axes(0.125,0.125;0.775x0.755)\n",
       "2    Axes(0.125,0.125;0.775x0.755)\n",
       "3    Axes(0.125,0.125;0.775x0.755)\n",
       "dtype: object"
      ]
     },
     "execution_count": 108,
     "metadata": {},
     "output_type": "execute_result"
    },
    {
     "data": {
      "image/png": "[encoded data removed]",
      "text/plain": [
       "<matplotlib.figure.Figure at 0x11bff1a90>"
      ]
     },
     "metadata": {},
     "output_type": "display_data"
    },
    {
     "data": {
      "image/png": "[encoded data removed]",
      "text/plain": [
       "<matplotlib.figure.Figure at 0x11bff1940>"
      ]
     },
     "metadata": {},
     "output_type": "display_data"
    },
    {
     "data": {
      "image/png": "[encoded data removed]",
      "text/plain": [
       "<matplotlib.figure.Figure at 0x11c11dac8>"
      ]
     },
     "metadata": {},
     "output_type": "display_data"
    }
   ],
   "source": [
    "df.groupby('positioncode').plot(y ='value')"
   ]
  },
  {
   "cell_type": "code",
   "execution_count": 102,
   "metadata": {
    "collapsed": false
   },
   "outputs": [
    {
     "data": {
      "text/plain": [
       "<matplotlib.axes._subplots.AxesSubplot at 0x11b9304e0>"
      ]
     },
     "execution_count": 102,
     "metadata": {},
     "output_type": "execute_result"
    },
    {
     "data": {
      "image/png": "[encoded data removed]",
      "text/plain": [
       "<matplotlib.figure.Figure at 0x11b92d320>"
      ]
     },
     "metadata": {},
     "output_type": "display_data"
    }
   ],
   "source": [
    "df.plot('age', 'goals', kind='scatter', c = 'value', colormap = 'viridis')"
   ]
  },
  {
   "cell_type": "markdown",
   "metadata": {},
   "source": [
    "## Running Regressions: Statsmodel\n",
    "\n",
    "Pandas by itself does allow data analysis to the extent of descriptive statistics. For regressions analysis, you can combine it with another model, *statsmodel*. We use the following import statement: "
   ]
  },
  {
   "cell_type": "code",
   "execution_count": 113,
   "metadata": {
    "collapsed": true
   },
   "outputs": [],
   "source": [
    "import statsmodels.api as sm"
   ]
  },
  {
   "cell_type": "markdown",
   "metadata": {},
   "source": [
    "This package has a class, **OLS**, which takes data on dependent and explanatory variables and then uses its **fit()** method to perform ordinary least squares regression. "
   ]
  },
  {
   "cell_type": "code",
   "execution_count": 115,
   "metadata": {
    "collapsed": false
   },
   "outputs": [
    {
     "name": "stdout",
     "output_type": "stream",
     "text": [
      "                            OLS Regression Results                            \n",
      "==============================================================================\n",
      "Dep. Variable:                  value   R-squared:                       0.183\n",
      "Model:                            OLS   Adj. R-squared:                  0.180\n",
      "Method:                 Least Squares   F-statistic:                     63.99\n",
      "Date:                Sun, 28 May 2017   Prob (F-statistic):           3.14e-14\n",
      "Time:                        17:05:58   Log-Likelihood:                -1037.0\n",
      "No. Observations:                 288   AIC:                             2078.\n",
      "Df Residuals:                     286   BIC:                             2085.\n",
      "Df Model:                           1                                         \n",
      "Covariance Type:            nonrobust                                         \n",
      "==============================================================================\n",
      "                 coef    std err          t      P>|t|      [95.0% Conf. Int.]\n",
      "------------------------------------------------------------------------------\n",
      "const          5.4090      0.626      8.641      0.000         4.177     6.641\n",
      "goals          1.0408      0.130      7.999      0.000         0.785     1.297\n",
      "==============================================================================\n",
      "Omnibus:                      153.362   Durbin-Watson:                   1.850\n",
      "Prob(Omnibus):                  0.000   Jarque-Bera (JB):              803.365\n",
      "Skew:                           2.224   Prob(JB):                    3.56e-175\n",
      "Kurtosis:                       9.868   Cond. No.                         5.82\n",
      "==============================================================================\n",
      "\n",
      "Warnings:\n",
      "[1] Standard Errors assume that the covariance matrix of the errors is correctly specified.\n"
     ]
    }
   ],
   "source": [
    "## define regression matrix\n",
    "X = df['goals']\n",
    "y = df['value']\n",
    "\n",
    "## add constant\n",
    "X = sm.add_constant(X)\n",
    "## OLS \n",
    "res = sm.OLS(y, X).fit()\n",
    "print(res.summary())"
   ]
  },
  {
   "cell_type": "markdown",
   "metadata": {},
   "source": [
    "There is a second way of using the statsmodel module for running regressions, which is faster and more elegant, and works great with Pandas dataframes:"
   ]
  },
  {
   "cell_type": "code",
   "execution_count": 114,
   "metadata": {
    "collapsed": false
   },
   "outputs": [
    {
     "name": "stdout",
     "output_type": "stream",
     "text": [
      "                            OLS Regression Results                            \n",
      "==============================================================================\n",
      "Dep. Variable:                  value   R-squared:                       0.183\n",
      "Model:                            OLS   Adj. R-squared:                  0.180\n",
      "Method:                 Least Squares   F-statistic:                     63.99\n",
      "Date:                Sun, 28 May 2017   Prob (F-statistic):           3.14e-14\n",
      "Time:                        17:05:47   Log-Likelihood:                -1037.0\n",
      "No. Observations:                 288   AIC:                             2078.\n",
      "Df Residuals:                     286   BIC:                             2085.\n",
      "Df Model:                           1                                         \n",
      "Covariance Type:            nonrobust                                         \n",
      "==============================================================================\n",
      "                 coef    std err          t      P>|t|      [95.0% Conf. Int.]\n",
      "------------------------------------------------------------------------------\n",
      "Intercept      5.4090      0.626      8.641      0.000         4.177     6.641\n",
      "goals          1.0408      0.130      7.999      0.000         0.785     1.297\n",
      "==============================================================================\n",
      "Omnibus:                      153.362   Durbin-Watson:                   1.850\n",
      "Prob(Omnibus):                  0.000   Jarque-Bera (JB):              803.365\n",
      "Skew:                           2.224   Prob(JB):                    3.56e-175\n",
      "Kurtosis:                       9.868   Cond. No.                         5.82\n",
      "==============================================================================\n",
      "\n",
      "Warnings:\n",
      "[1] Standard Errors assume that the covariance matrix of the errors is correctly specified.\n"
     ]
    }
   ],
   "source": [
    "import statsmodels.formula.api as sm2\n",
    "res = sm2.ols(formula = \"value ~ goals\", data = df).fit()\n",
    "print(res.summary())"
   ]
  },
  {
   "cell_type": "code",
   "execution_count": null,
   "metadata": {
    "collapsed": true
   },
   "outputs": [],
   "source": [
    "Consider a more elaborate model: "
   ]
  },
  {
   "cell_type": "code",
   "execution_count": 118,
   "metadata": {
    "collapsed": false
   },
   "outputs": [
    {
     "name": "stdout",
     "output_type": "stream",
     "text": [
      "                            OLS Regression Results                            \n",
      "==============================================================================\n",
      "Dep. Variable:                  value   R-squared:                       0.343\n",
      "Model:                            OLS   Adj. R-squared:                  0.334\n",
      "Method:                 Least Squares   F-statistic:                     36.92\n",
      "Date:                Sun, 28 May 2017   Prob (F-statistic):           7.79e-25\n",
      "Time:                        17:07:12   Log-Likelihood:                -1005.6\n",
      "No. Observations:                 288   AIC:                             2021.\n",
      "Df Residuals:                     283   BIC:                             2040.\n",
      "Df Model:                           4                                         \n",
      "Covariance Type:            nonrobust                                         \n",
      "===============================================================================\n",
      "                  coef    std err          t      P>|t|      [95.0% Conf. Int.]\n",
      "-------------------------------------------------------------------------------\n",
      "Intercept     -15.4280      5.207     -2.963      0.003       -25.678    -5.178\n",
      "goals           1.2356      0.120     10.315      0.000         1.000     1.471\n",
      "age            -0.4580      0.135     -3.399      0.001        -0.723    -0.193\n",
      "passsuccess     0.4269      0.055      7.734      0.000         0.318     0.535\n",
      "aerialswon      0.0065      0.430      0.015      0.988        -0.840     0.853\n",
      "==============================================================================\n",
      "Omnibus:                      158.909   Durbin-Watson:                   1.858\n",
      "Prob(Omnibus):                  0.000   Jarque-Bera (JB):             1061.892\n",
      "Skew:                           2.205   Prob(JB):                    2.59e-231\n",
      "Kurtosis:                      11.309   Cond. No.                         879.\n",
      "==============================================================================\n",
      "\n",
      "Warnings:\n",
      "[1] Standard Errors assume that the covariance matrix of the errors is correctly specified.\n"
     ]
    }
   ],
   "source": [
    "import statsmodels.formula.api as sm2\n",
    "res = sm2.ols(formula = \"value ~ goals + age + passsuccess + aerialswon\", data = df).fit()\n",
    "print(res.summary())"
   ]
  },
  {
   "cell_type": "code",
   "execution_count": null,
   "metadata": {
    "collapsed": true
   },
   "outputs": [],
   "source": []
  }
 ],
 "metadata": {
  "kernelspec": {
   "display_name": "Python 3",
   "language": "python",
   "name": "python3"
  },
  "language_info": {
   "codemirror_mode": {
    "name": "ipython",
    "version": 3
   },
   "file_extension": ".py",
   "mimetype": "text/x-python",
   "name": "python",
   "nbconvert_exporter": "python",
   "pygments_lexer": "ipython3",
   "version": "3.5.3"
  }
 },
 "nbformat": 4,
 "nbformat_minor": 0
}
